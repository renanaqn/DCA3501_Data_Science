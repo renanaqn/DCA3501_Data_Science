{
 "cells": [
  {
   "cell_type": "markdown",
   "id": "d06d5960",
   "metadata": {},
   "source": [
    "# **CIÊNCIA DE DADOS** - DCA3501\n",
    "\n",
    "UNIVERSIDADE FEDERAL DO RIO GRANDE DO NORTE, NATAL/RN\n",
    "\n",
    "DEPARTAMENTO DE ENGENHARIA DE COMPUTAÇÃO E AUTOMAÇÃO\n",
    "\n",
    "(C) 2025-2026 CARLOS M D VIEGAS\n",
    "\n",
    "https://github.com/cmdviegas"
   ]
  },
  {
   "cell_type": "markdown",
   "id": "8ecd15bf",
   "metadata": {},
   "source": [
    "# I. Introdução à Programação em Python\n",
    "\n",
    "Este notebook aborda introdução ao Python, variáveis, tipos de dados (inteiros, floats e strings) e listas. \n",
    "> **Como usar:** Execute célula por célula (Shift+Enter). Se algo falhar, releia a explicação e ajuste o código."
   ]
  },
  {
   "cell_type": "markdown",
   "id": "22f3a575",
   "metadata": {},
   "source": [
    "\n",
    "## Sumário\n",
    "1. [O que é Python e como executar código](#sec1)\n",
    "2. [Variáveis](#sec2)\n",
    "3. [Tipos de dados: `int`, `float`, `str`](#sec3)\n",
    "4. [Listas](#sec4)"
   ]
  },
  {
   "cell_type": "markdown",
   "id": "a5ce24bd",
   "metadata": {},
   "source": [
    "\n",
    "## 1. O que é Python e como executar código <a id=\"sec1\"></a>\n",
    "\n",
    "Python é uma linguagem de programação de propósito geral, com sintaxe clara e ampla comunidade. Para ciência de dados, destaca-se por sua **legibilidade** e por um ecossistema rico de bibliotecas.\n",
    "\n",
    "### Como rodar Python\n",
    "- **Terminal**: digite `python` ou `python3` e experimente comandos interativos.\n",
    "- **Scripts**: salve seu código em `meu_script.py` e rode com `python meu_script.py`.\n",
    "- **Jupyter Notebook**: ambiente interativo como este, ideal para estudos e análises passo a passo.\n"
   ]
  },
  {
   "cell_type": "code",
   "execution_count": 1,
   "id": "77c71d0e",
   "metadata": {},
   "outputs": [
    {
     "name": "stdout",
     "output_type": "stream",
     "text": [
      "Olá, Python!\n"
     ]
    }
   ],
   "source": [
    "# Seu primeiro código Python: imprimir uma mensagem\n",
    "print(\"Olá, Python!\")"
   ]
  },
  {
   "cell_type": "markdown",
   "id": "9cd725eb",
   "metadata": {},
   "source": [
    "\n",
    "### Operações aritméticas básicas\n",
    "Você pode usar Python como uma calculadora. Veja alguns exemplos.\n"
   ]
  },
  {
   "cell_type": "code",
   "execution_count": 2,
   "id": "cdc3804a",
   "metadata": {},
   "outputs": [
    {
     "name": "stdout",
     "output_type": "stream",
     "text": [
      "20\n",
      "4\n",
      "96\n",
      "1.5\n"
     ]
    }
   ],
   "source": [
    "# Soma, subtração, multiplicação e divisão\n",
    "print(12 + 8)     # soma\n",
    "print(12 - 8)     # subtração\n",
    "print(12 * 8)     # multiplicação\n",
    "print(12 / 8)     # divisão (float)"
   ]
  },
  {
   "cell_type": "code",
   "execution_count": null,
   "id": "c42d979e",
   "metadata": {},
   "outputs": [],
   "source": [
    "# Potência e módulo (resto da divisão inteira)\n",
    "print(2 ** 10)   # 2 elevado a 10\n",
    "print(17 % 5)    # resto de 17 por 5"
   ]
  },
  {
   "cell_type": "markdown",
   "id": "5bcd0d94",
   "metadata": {},
   "source": [
    "\n",
    "### Comentários\n",
    "Use `#` para adicionar explicações/comentários no código — o Python ignora tudo após o `#` na mesma linha.\n"
   ]
  },
  {
   "cell_type": "code",
   "execution_count": null,
   "id": "3744566a",
   "metadata": {},
   "outputs": [],
   "source": [
    "# Este é um comentário explicativo\n",
    "resultado = (5 + 3) * 2  # parênteses ajudam a deixar a intenção clara\n",
    "print(resultado)"
   ]
  },
  {
   "cell_type": "code",
   "execution_count": null,
   "id": "75765bb8",
   "metadata": {},
   "outputs": [],
   "source": [
    "\"\"\"\n",
    "Este é um comentário de várias linhas.\n",
    "Você pode usar três aspas para criar comentários mais longos.\n",
    "\"\"\"\n",
    "resultado = (5 * 2)  # parênteses ajudam a deixar a intenção clara\n",
    "print(resultado)"
   ]
  },
  {
   "cell_type": "markdown",
   "id": "8e4c1850",
   "metadata": {},
   "source": [
    "\n",
    "#### Exercícios — Seção 1\n",
    "1. Imprima o resultado de `45 - 13`.\n",
    "2. Calcule `9 ** 3`.\n",
    "3. Mostre o resto da divisão de `123` por `7`.\n"
   ]
  },
  {
   "cell_type": "code",
   "execution_count": 2,
   "id": "9efa6a8c",
   "metadata": {},
   "outputs": [
    {
     "name": "stdout",
     "output_type": "stream",
     "text": [
      "32\n",
      "729\n",
      "4\n"
     ]
    }
   ],
   "source": [
    "# Espaço para respostas dos Exercícios propostos:\n",
    "print(45-13)\n",
    "print(9**3)\n",
    "print(123%7)\n"
   ]
  },
  {
   "cell_type": "markdown",
   "id": "524f0296",
   "metadata": {},
   "source": [
    "\n",
    "<details>\n",
    "<summary><strong>Respostas sugeridas (clique para expandir)</strong></summary>\n",
    "\n",
    "```python\n",
    "print(45 - 13)\n",
    "print(9 ** 3)\n",
    "print(123 % 7)\n",
    "```\n",
    "</details>\n"
   ]
  },
  {
   "cell_type": "markdown",
   "id": "5aec6eeb",
   "metadata": {},
   "source": [
    "\n",
    "## 2. Variáveis <a id=\"sec2\"></a>\n",
    "\n",
    "Variáveis são **nomes** que apontam para valores. Elas facilitam **reutilização**, **leitura** e **manutenção** do código.\n",
    "\n",
    "### Atribuição e atualização\n",
    "- Use `=` para atribuir um valor.\n",
    "- Reatribuir é só fazer uma nova atribuição ao mesmo nome.\n",
    "- Prefira nomes descritivos em `snake_case` (ou seja, com `_` separando nomes).\n"
   ]
  },
  {
   "cell_type": "code",
   "execution_count": null,
   "id": "3fa20267",
   "metadata": {},
   "outputs": [],
   "source": [
    "# Exemplo de variáveis\n",
    "preco_inicial = 39.90\n",
    "desconto = 0.15\n",
    "preco_final = preco_inicial * (1 - desconto)\n",
    "print(preco_final)"
   ]
  },
  {
   "cell_type": "code",
   "execution_count": null,
   "id": "fc983355",
   "metadata": {},
   "outputs": [],
   "source": [
    "# Reatribuição\n",
    "contador = 1\n",
    "print(\"antes:\", contador)\n",
    "contador = contador + 1\n",
    "print(\"depois:\", contador)"
   ]
  },
  {
   "cell_type": "markdown",
   "id": "f6a06cd3",
   "metadata": {},
   "source": [
    "\n",
    "### Boas práticas rápidas\n",
    "- Use nomes significativos: `total_vendas`, `media_tempo`, etc.\n",
    "- Evite nomes de uma letra (a menos que em laços muito curtos).\n",
    "- Comente trechos menos óbvios.\n"
   ]
  },
  {
   "cell_type": "markdown",
   "id": "6fd012d0",
   "metadata": {},
   "source": [
    "\n",
    "#### Exercícios — Seção 2\n",
    "1. Crie uma variável `temperatura_c` com valor `28`. Converta para Fahrenheit e guarde em `temperatura_f` usando a fórmula `F = C * 9/5 + 32`.\n",
    "2. Crie `valor` com `1000`, aplique um acréscimo de `8%` e salve em `valor_corrigido`.\n",
    "3. Dado `horas = 5` e `taxa_por_hora = 42.5`, calcule `pagamento_total`.\n"
   ]
  },
  {
   "cell_type": "code",
   "execution_count": 5,
   "id": "591f6837",
   "metadata": {},
   "outputs": [
    {
     "name": "stdout",
     "output_type": "stream",
     "text": [
      "Temperatura em Fº:  82.4\n",
      "Valor corrigido:  1080.0\n",
      "Valor do pagamento:  212.5\n"
     ]
    }
   ],
   "source": [
    "# Espaço para respostas dos Exercícios propostos:\n",
    "# Parte 1\n",
    "temperatura_c = 28\n",
    "temperatura_f = temperatura_c * (9/5) + 32\n",
    "print(\"Temperatura em Fº: \", temperatura_f)\n",
    "\n",
    "# Parte 2\n",
    "valor = 1000\n",
    "valor_corrigido = (valor + (valor)*0.08)\n",
    "print(\"Valor corrigido: \", valor_corrigido)\n",
    "\n",
    "#Parte 3\n",
    "horas = 5\n",
    "taxa_por_hora = 42.5\n",
    "pagamento_total = horas * taxa_por_hora\n",
    "print(\"Valor do pagamento: \", pagamento_total)"
   ]
  },
  {
   "cell_type": "markdown",
   "id": "7324fb44",
   "metadata": {},
   "source": [
    "\n",
    "<details>\n",
    "<summary><strong>Respostas sugeridas (clique para expandir)</strong></summary>\n",
    "\n",
    "```python\n",
    "temperatura_c = 28\n",
    "temperatura_f = temperatura_c * 9/5 + 32\n",
    "print(temperatura_f)\n",
    "\n",
    "valor = 1000\n",
    "valor_corrigido = valor * 1.08\n",
    "print(valor_corrigido)\n",
    "\n",
    "horas = 5\n",
    "taxa_por_hora = 42.5\n",
    "pagamento_total = horas * taxa_por_hora\n",
    "print(pagamento_total)\n",
    "```\n",
    "</details>\n"
   ]
  },
  {
   "cell_type": "markdown",
   "id": "b3989d4d",
   "metadata": {},
   "source": [
    "\n",
    "## 3. Tipos de dados: `int`, `float`, `str` <a id=\"sec3\"></a>\n",
    "\n",
    "Os tipos fundamentais do início:\n",
    "- **`int`**: números inteiros (…, -2, -1, 0, 1, 2, …)\n",
    "- **`float`**: números com ponto decimal (ex.: 3.14, 0.0, -2.5)\n",
    "- **`str`**: cadeias de caracteres (textos)\n",
    "\n",
    "Você pode inspecionar o tipo com `type(obj)` e converter entre tipos com `int()`, `float()` e `str()`.\n"
   ]
  },
  {
   "cell_type": "code",
   "execution_count": null,
   "id": "1708eeca",
   "metadata": {},
   "outputs": [],
   "source": [
    "# Inspecionando tipos\n",
    "print(type(10))     # int\n",
    "print(type(10.0))   # float\n",
    "print(type(\"10\"))   # str"
   ]
  },
  {
   "cell_type": "code",
   "execution_count": null,
   "id": "3694c656",
   "metadata": {},
   "outputs": [],
   "source": [
    "# Conversões\n",
    "idade_str = \"21\"\n",
    "idade_int = int(idade_str)\n",
    "altura = 1.79\n",
    "altura_str = str(altura)\n",
    "print(idade_int, type(idade_int))\n",
    "print(altura_str, type(altura_str))"
   ]
  },
  {
   "cell_type": "markdown",
   "id": "9761f652",
   "metadata": {},
   "source": [
    "\n",
    "### Precisão com ponto flutuante\n",
    "Devido à representação binária, `float` pode ter pequenas imprecisões. Para cálculos financeiros, considere `decimal`.\n"
   ]
  },
  {
   "cell_type": "code",
   "execution_count": null,
   "id": "547ed8ed",
   "metadata": {},
   "outputs": [],
   "source": [
    "from decimal import Decimal, getcontext\n",
    "\n",
    "getcontext().prec = 6\n",
    "a = Decimal(\"0.10\")\n",
    "b = Decimal(\"0.20\")\n",
    "print(a + b)  # 0.30 com precisão controlada"
   ]
  },
  {
   "cell_type": "markdown",
   "id": "358691a5",
   "metadata": {},
   "source": [
    "\n",
    "### Strings\n",
    "Strings representam texto. Você pode concatenar, fatiar e usar métodos úteis.\n"
   ]
  },
  {
   "cell_type": "code",
   "execution_count": null,
   "id": "021dd030",
   "metadata": {},
   "outputs": [],
   "source": [
    "# Concatenação e f-strings\n",
    "nome = \"Ana\"\n",
    "mensagem = f\"Olá, {nome}!\"\n",
    "print(mensagem)\n",
    "\n",
    "# Fatiamento (slicing)\n",
    "texto = \"Ciência de Dados\"\n",
    "print(texto[:7])   # \"Ciência\"\n",
    "print(texto[-5:])  # \"Dados\"\n",
    "\n",
    "# Métodos\n",
    "print(texto.lower())\n",
    "print(texto.upper())\n",
    "print(texto.replace(\"Dados\", \"Informação\"))"
   ]
  },
  {
   "cell_type": "markdown",
   "id": "8f985933",
   "metadata": {},
   "source": [
    "\n",
    "#### Exercícios — Seção 3\n",
    "1. Use `type()` para verificar os tipos de `42`, `3.0`, `\"42\"`.\n",
    "2. Converta a string `\"3.50\"` para `float` e some `1.25`.\n",
    "3. Dada a string `\"python para dados\"`, mostre:\n",
    "   - As 6 primeiras letras\n",
    "   - A palavra final usando fatiamento\n",
    "   - A mesma string em maiúsculas\n"
   ]
  },
  {
   "cell_type": "code",
   "execution_count": 20,
   "id": "d93b2098",
   "metadata": {},
   "outputs": [
    {
     "name": "stdout",
     "output_type": "stream",
     "text": [
      "Tipos de dados\n",
      "<class 'int'>\n",
      "<class 'float'>\n",
      "<class 'str'>\n",
      "\n",
      "Conversões\n",
      "4.75\n",
      "\n",
      "Manipulação de strings\n",
      "python\n",
      "dados\n",
      "PYTHON PARA DADOS\n"
     ]
    }
   ],
   "source": [
    "# Espaço para respostas dos Exercícios propostos:\n",
    "#Parte 1\n",
    "print(\"Tipos de dados\")\n",
    "print(type(42))\n",
    "print(type(3.0))\n",
    "print(type(\"42\"))\n",
    "\n",
    "#Parte 2\n",
    "print(\"\")\n",
    "print(\"Conversões\")\n",
    "valor_char = \"3.50\"\n",
    "valor_float = float(valor_char)\n",
    "valor_final = valor_float + 1.25\n",
    "print(valor_final)\n",
    "\n",
    "print(\"\")\n",
    "#Parte 3\n",
    "print(\"Manipulação de strings\")\n",
    "string = \"python para dados\"\n",
    "print(string[:6])\n",
    "print(string[-5:])\n",
    "print(string.upper())\n"
   ]
  },
  {
   "cell_type": "markdown",
   "id": "d0cc8730",
   "metadata": {},
   "source": [
    "\n",
    "<details>\n",
    "<summary><strong>Respostas sugeridas (clique para expandir)</strong></summary>\n",
    "\n",
    "```python\n",
    "print(type(42), type(3.0), type(\"42\"))\n",
    "\n",
    "valor = float(\"3.50\") + 1.25\n",
    "print(valor)\n",
    "\n",
    "s = \"python para dados\"\n",
    "print(s[:6])\n",
    "print(s[-5:])       # \"dados\"\n",
    "print(s.upper())\n",
    "```\n",
    "</details>\n"
   ]
  },
  {
   "cell_type": "markdown",
   "id": "73df6893",
   "metadata": {},
   "source": [
    "\n",
    "## 4. Listas <a id=\"sec4\"></a>\n",
    "\n",
    "Listas armazenam **múltiplos valores** (inclusive de tipos diferentes) em uma única estrutura, ordenada e **mutável**.\n",
    "\n",
    "### Criação e inspeção\n"
   ]
  },
  {
   "cell_type": "code",
   "execution_count": null,
   "id": "44f160fe",
   "metadata": {},
   "outputs": [],
   "source": [
    "# Exemplo de lista heterogênea\n",
    "linha = [\"AplicativoX\", 0.0, \"BRL\", 125_000, 4.2]\n",
    "print(linha)\n",
    "print(type(linha))\n",
    "print(len(linha))  # tamanho"
   ]
  },
  {
   "cell_type": "markdown",
   "id": "20652612",
   "metadata": {},
   "source": [
    "\n",
    "### Indexação, slicing e índices negativos\n",
    "A indexação começa em **0**. Índices negativos contam a partir do fim.\n"
   ]
  },
  {
   "cell_type": "code",
   "execution_count": null,
   "id": "e4cb8e4b",
   "metadata": {},
   "outputs": [],
   "source": [
    "# Indexação e slicing\n",
    "print(linha[0])   # primeiro elemento\n",
    "print(linha[-1])  # último elemento\n",
    "print(linha[1:4]) # fatia do índice 1 ao 3 (exclui o 4)"
   ]
  },
  {
   "cell_type": "markdown",
   "id": "a0fff25a",
   "metadata": {},
   "source": [
    "\n",
    "### Mutabilidade e métodos úteis\n",
    "Use `append`, `pop`, `insert`, `remove` para modificar o conteúdo. \n"
   ]
  },
  {
   "cell_type": "code",
   "execution_count": null,
   "id": "974f55e1",
   "metadata": {},
   "outputs": [],
   "source": [
    "# Mutabilidade\n",
    "valores = [10, 20, 30]\n",
    "valores.append(40)\n",
    "print(valores)\n",
    "\n",
    "ultimo = valores.pop()  # remove e retorna o último\n",
    "print(\"removido:\", ultimo, \"restante:\", valores)\n",
    "\n",
    "valores.insert(1, 15)   # insere no índice 1\n",
    "print(valores)\n",
    "\n",
    "valores.remove(15)      # remove a primeira ocorrência\n",
    "print(valores)"
   ]
  },
  {
   "cell_type": "markdown",
   "id": "d2f925d3",
   "metadata": {},
   "source": [
    "\n",
    "### List Comprehensions (Compreensão de Lista)\n",
    "Uma forma concisa de criar listas a partir de iteráveis.\n"
   ]
  },
  {
   "cell_type": "code",
   "execution_count": null,
   "id": "62deafa8",
   "metadata": {},
   "outputs": [],
   "source": [
    "# Quadrados de 0 a 9\n",
    "quadrados = [n**2 for n in range(10)]\n",
    "print(quadrados)"
   ]
  },
  {
   "cell_type": "markdown",
   "id": "8833df98",
   "metadata": {},
   "source": [
    "\n",
    "#### Exercícios — Seção 4\n",
    "1. Crie uma lista `notas = [7.5, 8.0, 6.5]`. Adicione `9.0`, remova o último, e depois insira `8.7` na posição 1.\n",
    "2. Dada `cidades = [\"Natal\", \"Recife\", \"Fortaleza\", \"Maceió\"]`, mostre a primeira e a última usando índice positivo e negativo.\n",
    "3. Gere uma lista com os **cubos** de `0` a `5` usando list comprehension.\n"
   ]
  },
  {
   "cell_type": "code",
   "execution_count": 28,
   "id": "83be4482",
   "metadata": {},
   "outputs": [
    {
     "name": "stdout",
     "output_type": "stream",
     "text": [
      "Manipulação de Listas\n",
      "[7.5, 8.0, 6.5, 9.0]\n",
      "Primeiro elemento de cidades:  Natal\n",
      "Último elemento de cidades:  Maceió\n",
      "[0, 1, 8, 27, 64, 125]\n"
     ]
    }
   ],
   "source": [
    "# Espaço para respostas dos Exercícios propostos:\n",
    "#Parte 1\n",
    "print(\"Manipulação de Listas\")\n",
    "notas = [7.5,8.0,6.5]\n",
    "notas.append(9.0)\n",
    "print(notas)\n",
    "\n",
    "#Parte 2\n",
    "cidades = [\"Natal\", \"Recife\", \"Fortaleza\", \"Maceió\"]\n",
    "print(\"Primeiro elemento de cidades: \", cidades[0])\n",
    "print(\"Último elemento de cidades: \", cidades[-1])\n",
    "\n",
    "#Parte 3\n",
    "cubos = [n**3 for n in range(6)]\n",
    "print(cubos)"
   ]
  },
  {
   "cell_type": "markdown",
   "id": "2b5d519c",
   "metadata": {},
   "source": [
    "\n",
    "<details>\n",
    "<summary><strong>Respostas sugeridas (clique para expandir)</strong></summary>\n",
    "\n",
    "```python\n",
    "notas = [7.5, 8.0, 6.5]\n",
    "notas.append(9.0)\n",
    "notas.pop()\n",
    "notas.insert(1, 8.7)\n",
    "print(notas)\n",
    "\n",
    "cidades = [\"Natal\", \"Recife\", \"Fortaleza\", \"Maceió\"]\n",
    "print(cidades[0], cidades[-1])\n",
    "\n",
    "cubos = [n**3 for n in range(6)]\n",
    "print(cubos)\n",
    "```\n",
    "</details>\n"
   ]
  }
 ],
 "metadata": {
  "kernelspec": {
   "display_name": ".venv",
   "language": "python",
   "name": "python3"
  },
  "language_info": {
   "codemirror_mode": {
    "name": "ipython",
    "version": 3
   },
   "file_extension": ".py",
   "mimetype": "text/x-python",
   "name": "python",
   "nbconvert_exporter": "python",
   "pygments_lexer": "ipython3",
   "version": "3.13.0"
  }
 },
 "nbformat": 4,
 "nbformat_minor": 5
}
