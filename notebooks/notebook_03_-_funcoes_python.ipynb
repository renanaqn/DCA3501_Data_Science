{
 "cells": [
  {
   "cell_type": "markdown",
   "id": "f72e9d41",
   "metadata": {},
   "source": [
    "# **CIÊNCIA DE DADOS** - DCA3501\n",
    "\n",
    "UNIVERSIDADE FEDERAL DO RIO GRANDE DO NORTE, NATAL/RN\n",
    "\n",
    "DEPARTAMENTO DE ENGENHARIA DE COMPUTAÇÃO E AUTOMAÇÃO\n",
    "\n",
    "(C) 2025-2026 CARLOS M D VIEGAS\n",
    "\n",
    "https://github.com/cmdviegas"
   ]
  },
  {
   "cell_type": "markdown",
   "id": "181d4dd2",
   "metadata": {},
   "source": [
    "# III. Funções em Python e Essenciais do Jupyter Notebook\n",
    "\n",
    "Este notebook aborda funções, parâmetros e argumentos, escopo de variáveis, bem como docstrings, anotações e dicas para Jupyter Notebook.\n",
    "> **Como usar:** Execute célula por célula (Shift+Enter). Se algo falhar, releia a explicação e ajuste o código."
   ]
  },
  {
   "cell_type": "markdown",
   "id": "5d93a8a9",
   "metadata": {},
   "source": [
    "\n",
    "## Sumário\n",
    "1. [Por que funções?](#why)\n",
    "2. [Definindo funções (`def` e `return`)](#def)\n",
    "3. [Parâmetros, argumentos e valores padrão](#params)\n",
    "4. [`*args` e `**kwargs`](#varargs)\n",
    "5. [Escopo: local e global](#scope)\n",
    "6. [Docstrings, tipos e `help()`](#docs)\n",
    "7. [Jupyter Notebook na prática](#jnb)\n",
    "8. [Mini-projeto: limpando e sumarizando dados](#mini)\n",
    "9. [Checklist e boas práticas](#bp)\n"
   ]
  },
  {
   "cell_type": "markdown",
   "id": "bb311d4a",
   "metadata": {},
   "source": [
    "\n",
    "## 1. Por que funções? <a id=\"why\"></a>\n",
    "\n",
    "Funções encapsulam **lógica reutilizável**: você escreve uma vez, chama várias. Elas:\n",
    "- Evitam **repetição** de código;\n",
    "- Tornam o programa mais **legível** e **testável**;\n",
    "- Permitem **composição** de soluções (funções pequenas que resolvem partes do problema).\n"
   ]
  },
  {
   "cell_type": "code",
   "execution_count": 3,
   "id": "b631b941",
   "metadata": {},
   "outputs": [
    {
     "data": {
      "text/plain": [
       "[1.29, 1.0, 0.75, 0.0, 2.1300000000000003]"
      ]
     },
     "execution_count": 3,
     "metadata": {},
     "output_type": "execute_result"
    }
   ],
   "source": [
    "# Exemplo sem função (código repetido)\n",
    "precos = [12.9, 10.0, 7.5, 0.0, 21.3]\n",
    "descontos = []\n",
    "for p in precos:\n",
    "    if p > 0:\n",
    "        descontos.append(p * 0.10)\n",
    "    else:\n",
    "        descontos.append(0.0)\n",
    "descontos"
   ]
  },
  {
   "cell_type": "code",
   "execution_count": 4,
   "id": "4f8519ed",
   "metadata": {},
   "outputs": [
    {
     "data": {
      "text/plain": [
       "[1.29, 1.0, 0.75, 0.0, 2.1300000000000003]"
      ]
     },
     "execution_count": 4,
     "metadata": {},
     "output_type": "execute_result"
    }
   ],
   "source": [
    "# Mesma ideia com função (reutilizável e testável)\n",
    "def calcula_desconto(preco: float, taxa: float = 0.10) -> float:\n",
    "    \"\"\"Retorna o desconto (>= 0).\"\"\"\n",
    "    if preco <= 0:\n",
    "        return 0.0\n",
    "    return preco * taxa\n",
    "\n",
    "descontos_func = [calcula_desconto(p) for p in [12.9, 10.0, 7.5, 0.0, 21.3]]\n",
    "descontos_func"
   ]
  },
  {
   "cell_type": "markdown",
   "id": "7e7b8dd0",
   "metadata": {},
   "source": [
    "\n",
    "**Exercício — Reuso**  \n",
    "Escreva uma função `preco_final(preco, taxa)` que retorne `preco * (1 - taxa)` quando `preco > 0`, caso contrário `0.0`. Use-a para calcular o preço final de `[10, 0, 25]` com taxa `0.15`.\n"
   ]
  },
  {
   "cell_type": "code",
   "execution_count": 11,
   "id": "c2384f3b",
   "metadata": {},
   "outputs": [
    {
     "data": {
      "text/plain": [
       "[8.5, 0.0, 21.25]"
      ]
     },
     "execution_count": 11,
     "metadata": {},
     "output_type": "execute_result"
    }
   ],
   "source": [
    "# Espaço para respostas dos Exercícios propostos:\n",
    "\n",
    "def preco_final(preco: float, taxa: float = 0.15) -> float:\n",
    "    if preco <=0:\n",
    "        return 0.0\n",
    "    return preco * (1 - taxa)\n",
    "\n",
    "analise_preco = [preco_final(p) for p in [10.0, 0.0, 25]]\n",
    "analise_preco\n"
   ]
  },
  {
   "cell_type": "markdown",
   "id": "272e61a0",
   "metadata": {},
   "source": [
    "\n",
    "<details>\n",
    "<summary><strong>Gabarito sugerido</strong></summary>\n",
    "\n",
    "```python\n",
    "def preco_final(preco, taxa):\n",
    "    if preco <= 0:\n",
    "        return 0.0\n",
    "    return preco * (1 - taxa)\n",
    "\n",
    "[preco_final(p, 0.15) for p in [10, 0, 25]]\n",
    "```\n",
    "</details>\n"
   ]
  },
  {
   "cell_type": "markdown",
   "id": "941cf299",
   "metadata": {},
   "source": [
    "\n",
    "## 2. Definindo funções (`def` e `return`) <a id=\"def\"></a>\n",
    "\n",
    "A sintaxe básica:\n",
    "```python\n",
    "def nome_funcao(param1, param2):\n",
    "    \"\"\"Docstring (opcional): descreva propósito, parâmetros e retorno.\"\"\"\n",
    "    # corpo da função\n",
    "    return resultado\n",
    "```\n",
    "Se você não usar `return`, a função retorna `None`.\n"
   ]
  },
  {
   "cell_type": "code",
   "execution_count": 13,
   "id": "3fdea50e",
   "metadata": {},
   "outputs": [
    {
     "data": {
      "text/plain": [
       "8.0"
      ]
     },
     "execution_count": 13,
     "metadata": {},
     "output_type": "execute_result"
    }
   ],
   "source": [
    "def media(a: float, b: float) -> float:\n",
    "    \"\"\"Retorna a média aritmética simples de dois números.\"\"\"\n",
    "    return (a + b) / 2\n",
    "\n",
    "media(10, 6)"
   ]
  },
  {
   "cell_type": "code",
   "execution_count": 14,
   "id": "8705a7ba",
   "metadata": {},
   "outputs": [
    {
     "name": "stdout",
     "output_type": "stream",
     "text": [
      "Bem-vindo(a), Carlos!\n"
     ]
    },
    {
     "data": {
      "text/plain": [
       "(NoneType, None)"
      ]
     },
     "execution_count": 14,
     "metadata": {},
     "output_type": "execute_result"
    }
   ],
   "source": [
    "# Retorno implícito de None\n",
    "def imprime_boas_vindas(nome: str):\n",
    "    print(f\"Bem-vindo(a), {nome}!\")\n",
    "\n",
    "r = imprime_boas_vindas(\"Carlos\")\n",
    "type(r), r  # retorna None"
   ]
  },
  {
   "cell_type": "markdown",
   "id": "06c0ce17",
   "metadata": {},
   "source": [
    "\n",
    "## 3. Parâmetros, argumentos e valores padrão <a id=\"params\"></a>\n",
    "\n",
    "- **Posicionais**: a ordem dos argumentos importa.  \n",
    "- **Nomeados** (keyword): você especifica `nome=valor`.  \n",
    "- **Valores padrão**: definidos na assinatura; úteis para tornar argumentos opcionais.\n"
   ]
  },
  {
   "cell_type": "code",
   "execution_count": 21,
   "id": "2a6fb781",
   "metadata": {},
   "outputs": [
    {
     "data": {
      "text/plain": [
       "'Olá, Dr. Bruno!'"
      ]
     },
     "execution_count": 21,
     "metadata": {},
     "output_type": "execute_result"
    }
   ],
   "source": [
    "def saudacao(nome: str, titulo: str = \"Sr./Sra.\", pontuacao: str = \"!\") -> str:\n",
    "    return f\"Olá, {titulo} {nome}{pontuacao}\"\n",
    "\n",
    "saudacao(\"Joana\")\n",
    "saudacao(\"Bruno\", titulo=\"Dr.\")\n",
    "#saudacao(nome=\"Lia\", pontuacao=\"!!!\")"
   ]
  },
  {
   "cell_type": "markdown",
   "id": "63711d6d",
   "metadata": {},
   "source": [
    "\n",
    "**Exercícios — Parâmetros**  \n",
    "1. Crie `potencia(base, expoente=2)` que eleva `base` a `expoente` (padrão 2).  \n",
    "2. Faça `preco_com_imposto(preco, aliquota=0.17)` retornando `preco * (1 + aliquota)`.\n"
   ]
  },
  {
   "cell_type": "code",
   "execution_count": null,
   "id": "9870e31c",
   "metadata": {},
   "outputs": [
    {
     "name": "stdout",
     "output_type": "stream",
     "text": [
      "Calculo de potências: 4 8 0.25\n",
      "Preço com imposto: 58.5 117.0 0.0\n"
     ]
    }
   ],
   "source": [
    "# Espaço para respostas dos Exercícios propostos:\n",
    "def potencia(base: float, expoente: int = 2) -> float:\n",
    "    if expoente < 0:\n",
    "        return 1 / (base ** abs(expoente))\n",
    "    return base ** expoente\n",
    "\n",
    "print(\"Calculo de potências:\", potencia(2), potencia(2, 3), potencia(2, -2))\n",
    "\n",
    "def preco_com_imposto(preco: float, aliquota: float = 0.17) -> float:\n",
    "    if preco <= 0:\n",
    "        return 0.0\n",
    "    return preco * (1 + aliquota)\n",
    "\n",
    "print(\"Preço com imposto:\",  preco_com_imposto(50),  preco_com_imposto(100),  preco_com_imposto(-10))"
   ]
  },
  {
   "cell_type": "markdown",
   "id": "028794cf",
   "metadata": {},
   "source": [
    "\n",
    "<details>\n",
    "<summary><strong>Gabarito sugerido</strong></summary>\n",
    "\n",
    "```python\n",
    "def potencia(base, expoente=2):\n",
    "    return base ** expoente\n",
    "\n",
    "def preco_com_imposto(preco, aliquota=0.17):\n",
    "    return preco * (1 + aliquota)\n",
    "\n",
    "potencia(3), potencia(3, 3), preco_com_imposto(100)\n",
    "```\n",
    "</details>\n"
   ]
  },
  {
   "cell_type": "markdown",
   "id": "b398753e",
   "metadata": {},
   "source": [
    "\n",
    "## 4. `*args` e `**kwargs` <a id=\"varargs\"></a>\n",
    "\n",
    "- `*args`: empacota argumentos **posicionais** variáveis em uma tupla;  \n",
    "- `**kwargs`: empacota argumentos **nomeados** variáveis em um dicionário.  \n",
    "Úteis quando não sabemos quantos argumentos serão passados.\n"
   ]
  },
  {
   "cell_type": "code",
   "execution_count": 32,
   "id": "6bcc6eea",
   "metadata": {},
   "outputs": [
    {
     "name": "stdout",
     "output_type": "stream",
     "text": [
      "modo = debug\n",
      "verbose = True\n"
     ]
    },
    {
     "data": {
      "text/plain": [
       "(10, None)"
      ]
     },
     "execution_count": 32,
     "metadata": {},
     "output_type": "execute_result"
    }
   ],
   "source": [
    "def soma_todos(*args):\n",
    "    total = 0\n",
    "    for n in args:\n",
    "        total += n\n",
    "    return total\n",
    "\n",
    "def mostrar_config(**kwargs):\n",
    "    for k, v in kwargs.items():\n",
    "        print(f\"{k} = {v}\")\n",
    "\n",
    "soma_todos(1, 2, 3, 4), mostrar_config(modo=\"debug\", verbose=True)"
   ]
  },
  {
   "cell_type": "markdown",
   "id": "30bf9a43",
   "metadata": {},
   "source": [
    "\n",
    "**Exercício — Variádicos**  \n",
    "Implemente `media_ponderada(*valores, **pesos)` onde `valores` são números e `pesos` tem uma chave `w` com uma lista dos pesos. Ex.: `media_ponderada(6, 8, 10, w=[1, 2, 3])`.\n"
   ]
  },
  {
   "cell_type": "code",
   "execution_count": null,
   "id": "61e01476",
   "metadata": {},
   "outputs": [
    {
     "name": "stdout",
     "output_type": "stream",
     "text": [
      "Média ponderada: 8.666666666666666\n"
     ]
    }
   ],
   "source": [
    "# Espaço para respostas dos Exercícios propostos:\n",
    "\n",
    "def media_ponderada(*valores, **pesos):\n",
    "    lista_pesos = pesos['w']\n",
    "    soma_pesos = sum(lista_pesos)\n",
    "    if soma_pesos == 0:\n",
    "        return 0.0\n",
    "    total_ponderado = sum(valor * peso for valor, peso in zip(valores, lista_pesos))\n",
    "\n",
    "    return total_ponderado / soma_pesos\n",
    "\n",
    "print(\"Média ponderada:\", media_ponderada(6, 8, 10, w=[1,2,3]))"
   ]
  },
  {
   "cell_type": "markdown",
   "id": "ba3a1e2b",
   "metadata": {},
   "source": [
    "\n",
    "<details>\n",
    "<summary><strong>Gabarito sugerido</strong></summary>\n",
    "\n",
    "```python\n",
    "def media_ponderada(*valores, **pesos):\n",
    "    w = pesos.get(\"w\", [1] * len(valores))\n",
    "    assert len(valores) == len(w), \"valores e pesos devem ter o mesmo tamanho\"\n",
    "    numerador = sum(v * wi for v, wi in zip(valores, w))\n",
    "    denominador = sum(w)\n",
    "    return numerador / denominador\n",
    "\n",
    "media_ponderada(6, 8, 10, w=[1, 2, 3])\n",
    "```\n",
    "</details>\n"
   ]
  },
  {
   "cell_type": "markdown",
   "id": "60858d72",
   "metadata": {},
   "source": [
    "\n",
    "## 5. Escopo: local e global <a id=\"scope\"></a>\n",
    "\n",
    "- **Local**: variáveis definidas dentro da função.  \n",
    "- **Global**: definidas no módulo (arquivo). Use `global` com moderação.  "
   ]
  },
  {
   "cell_type": "code",
   "execution_count": 37,
   "id": "bed8c935",
   "metadata": {},
   "outputs": [
    {
     "data": {
      "text/plain": [
       "99"
      ]
     },
     "execution_count": 37,
     "metadata": {},
     "output_type": "execute_result"
    }
   ],
   "source": [
    "x = 10  # global\n",
    "\n",
    "def f():\n",
    "    x = 5  # local\n",
    "    return x\n",
    "\n",
    "def g():\n",
    "    global x\n",
    "    x = 99  # altera a global (use com cuidado)\n",
    "\n",
    "f(), x\n",
    "g(); x"
   ]
  },
  {
   "cell_type": "code",
   "execution_count": 38,
   "id": "097acc97",
   "metadata": {},
   "outputs": [
    {
     "data": {
      "text/plain": [
       "(1, 2, 3)"
      ]
     },
     "execution_count": 38,
     "metadata": {},
     "output_type": "execute_result"
    }
   ],
   "source": [
    "def contador():\n",
    "    count = 0\n",
    "    def inc():\n",
    "        nonlocal count\n",
    "        count += 1\n",
    "        return count\n",
    "    return inc\n",
    "\n",
    "c = contador()\n",
    "c(), c(), c()  # 1, 2, 3"
   ]
  },
  {
   "cell_type": "markdown",
   "id": "35ddf739",
   "metadata": {},
   "source": [
    "\n",
    "## 6. Docstrings, anotações de tipos e `help()` <a id=\"docs\"></a>\n",
    "\n",
    "- **Docstrings** (`\"\"\"...\"\"\"`) explicam como usar a função.  \n",
    "- **Type hints** ajudam ferramentas e humanos; não são obrigatórios.  \n",
    "- Use `help(func)` ou `func.__doc__` para ver a documentação.\n"
   ]
  },
  {
   "cell_type": "code",
   "execution_count": 39,
   "id": "743c95a2",
   "metadata": {},
   "outputs": [
    {
     "name": "stdout",
     "output_type": "stream",
     "text": [
      "Help on function normaliza_texto in module __main__:\n",
      "\n",
      "normaliza_texto(s: str, remover_espacos: bool = True) -> str\n",
      "    Normaliza um texto:\n",
      "    - Converte para minúsculas\n",
      "    - (Opcional) remove espaços extras\n",
      "    Retorna a string normalizada.\n",
      "\n",
      "Docstring curta: Normaliza um texto:\n"
     ]
    }
   ],
   "source": [
    "def normaliza_texto(s: str, remover_espacos: bool = True) -> str:\n",
    "    \"\"\"Normaliza um texto:\n",
    "    - Converte para minúsculas\n",
    "    - (Opcional) remove espaços extras\n",
    "    Retorna a string normalizada.\n",
    "    \"\"\"\n",
    "    t = s.lower()\n",
    "    if remover_espacos:\n",
    "        t = \" \".join(t.split())\n",
    "    return t\n",
    "\n",
    "help(normaliza_texto)\n",
    "print(\"Docstring curta:\", normaliza_texto.__doc__.splitlines()[0])"
   ]
  },
  {
   "cell_type": "markdown",
   "id": "043f2102",
   "metadata": {},
   "source": [
    "\n",
    "## 7. Jupyter Notebook na prática <a id=\"jnb\"></a>\n",
    "\n",
    "**Células:**  \n",
    "- **Código** (executam Python) e **Markdown** (texto formatado).  \n",
    "- Altere o tipo da célula com: `Esc` → `M` (Markdown) ou `Esc` → `Y` (Código).\n",
    "\n",
    "**Atalhos úteis:**  \n",
    "- Executar célula: `Shift+Enter` (vai para a próxima) ou `Ctrl+Enter` (permanece).  \n",
    "- Inserir célula **acima**: `A`; **abaixo**: `B`.  \n",
    "- Deletar célula: `D` duas vezes (`D`, `D`).  \n",
    "- Desfazer exclusão de célula: `Z`.  \n",
    "- Alternar modo edição/command: `Enter` / `Esc`.\n",
    "\n",
    "**Kernel:**  \n",
    "- Reiniciar: Menu *Kernel* → *Restart* quando o ambiente “embolou”.  \n",
    "- Executar tudo: *Run* → *Run All Cells*.\n",
    "\n",
    "**Magics** (prefixo `%` ou `%%`):  \n",
    "- `%timeit expr` mede tempo de execução de uma expressão repetidas vezes.  \n",
    "- `%%time` mede tempo de execução de toda a célula.  \n",
    "- `%whos` lista variáveis definidas no ambiente.  \n",
    "- `%lsmagic` mostra todos os magics disponíveis.\n"
   ]
  },
  {
   "cell_type": "code",
   "execution_count": 40,
   "id": "30214db7",
   "metadata": {},
   "outputs": [],
   "source": [
    "# Exemplos de magics (podem variar conforme o ambiente Jupyter)\n",
    "# Remova o comentário e execute em um Jupyter local para testar.\n",
    "# %timeit sum(range(1000))\n",
    "# %%time\n",
    "# total = 0\n",
    "# for i in range(100000):\n",
    "#     total += i\n",
    "# total"
   ]
  },
  {
   "cell_type": "markdown",
   "id": "b359af89",
   "metadata": {},
   "source": [
    "\n",
    "## 8. Mini-projeto: limpando e sumarizando dados <a id=\"mini\"></a>\n",
    "\n",
    "Cenário: temos uma lista de registros de vendas (produto, preço e categoria).  \n",
    "Tarefas:\n",
    "1. Criar funções para **limpar** nomes (title case, remover espaços duplicados) e validar preços;\n",
    "2. Calcular **total por categoria**;\n",
    "3. Montar um **relatório** final com as métricas calculadas.\n",
    "\n",
    "**Desafio:**  \n",
    "- Adapte o mini-projeto para também calcular a **média de preço** por categoria (considere apenas preços válidos).  \n",
    "- Exiba as categorias ordenadas do maior para o menor total.\n"
   ]
  },
  {
   "cell_type": "code",
   "execution_count": 13,
   "id": "7c596576",
   "metadata": {},
   "outputs": [
    {
     "name": "stdout",
     "output_type": "stream",
     "text": [
      "Dados limpos: [('Caderno Universitário', 19.9, 'Papelaria'), ('Lapiseira 0.7', 12.5, 'Papelaria'), ('Café Expresso', 7.0, 'Alimentos'), ('Refri Lata', 5.5, 'Alimentos'), ('Caneta Azul', 3.2, 'Papelaria'), ('Chocolate', 0.0, 'Alimentos')]\n",
      "Totais por categoria: {'Papelaria': 35.6, 'Alimentos': 12.5}\n"
     ]
    }
   ],
   "source": [
    "dados = [\n",
    "    (\"  Caderno universitário  \", 19.9, \"Papelaria\"),\n",
    "    (\"lapiseira 0.7\", 12.5, \"papelaria\"),\n",
    "    (\"Café Expresso\", 7.0, \"Alimentos\"),\n",
    "    (\"refri lata\", 5.5, \"Alimentos\"),\n",
    "    (\"Caneta   azul\", 3.2, \"Papelaria\"),\n",
    "    (\"Chocolate\", -1.0, \"Alimentos\"),  # inválido (preço negativo)\n",
    "]\n",
    "\n",
    "# Complete as funções abaixo conforme os exercícios propostos\n",
    "\n",
    "def limpar_nome(nome: str) -> str:\n",
    "    return \" \".join(nome.title().split()) \n",
    "\n",
    "def limpar_categoria(categoria: str) -> str:\n",
    "    return categoria.title().strip()\n",
    "\n",
    "def validar_preco(preco: float) -> float:\n",
    "    return preco if preco > 0 else 0.0\n",
    "\n",
    "def total_por_categoria(dados):\n",
    "    totais = {}\n",
    "    for nome, preco, categoria in dados:\n",
    "        preco_valido = validar_preco(preco)\n",
    "        if categoria not in totais:\n",
    "            totais[categoria] = 0.0\n",
    "        totais[categoria] += preco_valido\n",
    "    return totais\n",
    "\n",
    "def media_por_categoria(dados):\n",
    "    soma = {}\n",
    "    contagem = {}\n",
    "    for nome, preco, categoria in dados:\n",
    "        preco_valido = validar_preco(preco)\n",
    "        if categoria not in soma:\n",
    "            soma[categoria] = 0.0\n",
    "            contagem[categoria] = 0\n",
    "        if preco_valido > 0:\n",
    "            soma[categoria] += preco_valido\n",
    "            contagem[categoria] += 1\n",
    "    medias = {cat: (soma[cat] / contagem[cat]) if contagem[cat] > 0 else 0.0 for cat in soma}\n",
    "    return medias\n",
    "\n",
    "def gerar_relatorio(dados):\n",
    "    dados_limpos = [(limpar_nome(nome), validar_preco(preco), limpar_categoria(categoria)) for nome, preco, categoria in dados]\n",
    "    totais = total_por_categoria(dados_limpos)\n",
    "    #medias = media_por_categoria(dados_limpos)\n",
    "    \n",
    "    return dados_limpos, totais\n",
    "\n",
    "\n",
    "#- Exiba as categorias ordenadas do maior para o menor total.\n",
    "\n",
    "\n",
    "dados_limpos, totais = gerar_relatorio(dados)\n",
    "print(\"Dados limpos:\", dados_limpos)\n",
    "print(\"Totais por categoria:\", totais) \n",
    "#print(\"Médias por categoria:\", medias)\n"
   ]
  },
  {
   "cell_type": "markdown",
   "id": "fd0c46c2",
   "metadata": {},
   "source": [
    "\n",
    "## 9. Boas práticas <a id=\"bp\"></a>\n",
    "\n",
    "- **Uma função = uma responsabilidade** clara;  \n",
    "- Prefira **nomes descritivos** e docstrings objetivas;  \n",
    "- Use **valores padrão** sensatos e evite `global` quando possível;  \n",
    "- Considere **anotações de tipo** para clareza e ferramentas;  \n",
    "- Em Jupyter, reinicie o kernel quando houver conflitos de estado;\n",
    "- **Teste** funções com casos simples e casos limite.\n"
   ]
  }
 ],
 "metadata": {
  "kernelspec": {
   "display_name": "Python 3",
   "language": "python",
   "name": "python3"
  },
  "language_info": {
   "codemirror_mode": {
    "name": "ipython",
    "version": 3
   },
   "file_extension": ".py",
   "mimetype": "text/x-python",
   "name": "python",
   "nbconvert_exporter": "python",
   "pygments_lexer": "ipython3",
   "version": "3.13.7"
  }
 },
 "nbformat": 4,
 "nbformat_minor": 5
}
