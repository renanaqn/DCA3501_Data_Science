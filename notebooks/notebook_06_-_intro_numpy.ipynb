{
 "cells": [
  {
   "cell_type": "markdown",
   "id": "9602e22b",
   "metadata": {},
   "source": [
    "# **CIÊNCIA DE DADOS** - DCA3501\n",
    "\n",
    "UNIVERSIDADE FEDERAL DO RIO GRANDE DO NORTE, NATAL/RN\n",
    "\n",
    "DEPARTAMENTO DE ENGENHARIA DE COMPUTAÇÃO E AUTOMAÇÃO\n",
    "\n",
    "(C) 2025-2026 CARLOS M D VIEGAS\n",
    "\n",
    "https://github.com/cmdviegas"
   ]
  },
  {
   "cell_type": "markdown",
   "id": "f77d4a12",
   "metadata": {},
   "source": [
    "# VI. Introdução ao `numpy`\n",
    "\n",
    "Este notebook é um guia **prático** para estudar a biblioteca `numpy`. O `numpy` (*numerical python*) é uma biblioteca do Python para cálculo numérico e computação científica. Serve como base para outras bibliotecas como pandas, scipy, scikit-learn e etc, pois fornece estruturas de dados e operações para lidar com arrays multidimensionais.\n",
    "\n",
    "Principais características do numpy:\n",
    "- Fornece array n-dimensional (**ndarray**): estrutura central do numpy, mais rápida e compacta que as listas do Python.\n",
    "- Operações vetorizadas: você pode aplicar operações matemáticas em todo um array de uma vez, sem precisar de laços **for**.\n",
    "- Funções matemáticas otimizadas: inclui soma, média, raiz quadrada, trigonometria, exponenciais, estatísticas e álgebra linear.\n",
    "- Base para dados científicos: usado em aprendizado de máquina, estatística, gráficos, simulações etc.\n",
    "\n",
    "Em aulas anteriores aprendemos a programação básica em Python: estudamos tipos de dados, condicionais, listas, dicionários, manipulação de arquivos, entre outros. A partir de agora, vamos abordar bibliotecas que facilitam e permitem a análise e manipulação de dados em larga escala, como o `numpy` (para trabalhar com arrays e operações numéricas de alto desempenho) e o `pandas` (para organizar, transformar e explorar dados de forma estruturada e eficiente)."
   ]
  },
  {
   "cell_type": "code",
   "execution_count": null,
   "id": "17b3c935",
   "metadata": {},
   "outputs": [],
   "source": [
    "# Importação da biblioteca\n",
    "\n",
    "#import numpy\n",
    "import numpy as np # mais prático\n",
    "\n",
    "np.__version__ # exibe a versão instalada (opcional)"
   ]
  },
  {
   "cell_type": "markdown",
   "id": "387b3ca4",
   "metadata": {},
   "source": [
    "## 1. Criando arrays com `numpy`\n",
    "\n",
    "Em **Python**, todas as variáveis são **tipadas dinamicamente**, ou seja, o tipo de dado associado a uma variável é definido no momento da atribuição e pode mudar ao longo da execução. Isso traz grande flexibilidade, mas também tem implicações importantes:\n",
    "\n",
    "- Como o Python é implementado em **C**, cada variável em Python é representada internamente como uma estrutura em C.  \n",
    "  - Essa abordagem traz **sobrecarga (overhead)** de desempenho.\n",
    "- Para tipos complexos, como **listas**, a eficiência pode ser bastante comprometida quando lidamos com grandes volumes de dados.\n",
    "\n",
    "Assim, surge um dilema entre **flexibilidade** e **desempenho**:\n",
    "\n",
    "- Se uma lista contém apenas elementos de um mesmo tipo, é possível otimizar seu armazenamento e manipulação.\n",
    "- É nesse ponto que entra o **NumPy**, oferecendo **arrays** altamente eficientes e homogêneos.\n",
    " - No NumPy, esses arrays são implementados através do objeto `ndarray`. Um `ndarray` é como uma lista do Python, mas mais eficiente para cálculos.\n",
    "\n",
    "- Vale lembrar que o **tipo `array` nativo do Python** não é o mesmo que o `ndarray` do `numpy`. \n"
   ]
  },
  {
   "cell_type": "code",
   "execution_count": null,
   "id": "ebd52530",
   "metadata": {},
   "outputs": [],
   "source": [
    "# Criando ndarrays\n",
    "a = np.array([1, 2, 3, 4, 5]) # no python seria uma lista comum a = [1, 2, 3, 4, 5]\n",
    "b = np.array([[1, 2, 3], [4, 5, 6]])\n",
    "\n",
    "print(\"Array de 1 dimensão:\", a)\n",
    "print(\"\\nArray de 2 dimensões:\\n\", b)"
   ]
  },
  {
   "cell_type": "code",
   "execution_count": null,
   "id": "6e7909e9",
   "metadata": {},
   "outputs": [],
   "source": [
    "# Verificando tipos de arrays (comparação lista, array e ndarray)\n",
    "# python list\n",
    "L = list(range(10))\n",
    "print(type(L), L)\n",
    "\n",
    "# python array\n",
    "from array import array\n",
    "A = array('i', L)\n",
    "print(type(A), A)\n",
    "\n",
    "# numpy array\n",
    "print(type(a), a)\n"
   ]
  },
  {
   "cell_type": "markdown",
   "id": "9e50a1d6",
   "metadata": {},
   "source": [
    "O `ndarray` possui algumas características que facilitam a conversão do tipo de dados."
   ]
  },
  {
   "cell_type": "code",
   "execution_count": null,
   "id": "33570826",
   "metadata": {},
   "outputs": [],
   "source": [
    "# O Numpy tentará transformar todos os elementos para um mesmo tipo de dados\n",
    "c = np.array([3.14, 4, 2, 3])\n",
    "print(c) # todos os elementos foram convertidos para float"
   ]
  },
  {
   "cell_type": "code",
   "execution_count": null,
   "id": "212882c3",
   "metadata": {},
   "outputs": [],
   "source": [
    "# É possível determinar/forçar o tipo do dado\n",
    "d = np.array([1.2, 2.0, 3.9, 4], dtype='int')\n",
    "print(d)"
   ]
  },
  {
   "cell_type": "markdown",
   "id": "bee8fb1c",
   "metadata": {},
   "source": [
    "## 2. Criação de `ndarrays` especiais"
   ]
  },
  {
   "cell_type": "code",
   "execution_count": null,
   "id": "99ba9d06",
   "metadata": {},
   "outputs": [],
   "source": [
    "print(\"Array de 0's\", np.zeros(4, dtype='int')) # array só de 0's (int)\n",
    "print(\"Array de 1's\", np.ones(4, dtype='float')) # array só de 1's (float)\n",
    "print()\n",
    "\n",
    "print(\"Matriz de 0's:\\n\", np.zeros((2, 3))) # matriz só de zeros\n",
    "print(\"Matriz de 1's:\\n\", np.ones((2, 3))) # matriz só de uns\n",
    "print()\n",
    "\n",
    "print(\"Matriz de identidade:\\n\", np.eye(3)) # matriz identidade NxN\n",
    "print(\"Matriz preenchida com todos os valores iguais:\\n\", np.full((3, 5), 3.14)) # matriz 3x5 preenchida com 3.14\n",
    "print()\n",
    "\n",
    "print(\"Sequências:\\n\", np.arange(0, 10, 2)) # sequência de 0 a 8, passo 2\n",
    "print(\"Valores igual espaçados em um intervalo:\\n\", np.linspace(0, 1, 5)) # 5 valores igualmente espaçados entre 0 e 1\n",
    "print()\n",
    "\n",
    "print(\"Array como lista de lista\", np.array([range(i, i + 3) for i in [2, 4, 6]])) # array a partir de uma lista de listas\n",
    "\n",
    "print()\n",
    "print(np.empty(4)) # cria um array vazio (com 4 posições) (aloca em memória)\n"
   ]
  },
  {
   "cell_type": "markdown",
   "id": "48f5a378",
   "metadata": {},
   "source": [
    "## 3. Lendo propriedades de um `ndarray`\n",
    "Um `ndarray` possui atributos que podem úteis para determinar algumas operações, como por exemplo:"
   ]
  },
  {
   "cell_type": "code",
   "execution_count": null,
   "id": "19c85456",
   "metadata": {},
   "outputs": [],
   "source": [
    "print(\"Shape:\", b.shape)  # formato do array (linhas, colunas)\n",
    "print(\"Dimensões:\", b.ndim) # número de dimensões (1D, 2D, 3D, ...)\n",
    "print(\"Tamanho:\", b.size)  # quantidade total de elementos\n",
    "print(\"Tipo:\", b.dtype)    # tipo dos elementos (int32, float64, etc.)\n",
    "print(\"Tipo estrutura:\", type(b))    # tipo da estrutura que contém os elementos do array\n",
    "print(\"Tamanho de cada elemento:\", b.itemsize, \"bytes\") # tamanho em bytes de cada elemento\n",
    "print(\"Tamanho total do array:\", b.nbytes, \"bytes\") # tamanho total em bytes do array"
   ]
  },
  {
   "cell_type": "markdown",
   "id": "f56983bc",
   "metadata": {},
   "source": [
    "## 4. Gerando números aleatórios com `np.random`\n",
    "\n",
    "O módulo `numpy.random` permite criar arrays com valores aleatórios de diferentes distribuições estatísticas.  \n",
    "Por exemplo, vamos gerar alguns arrays de números aleatórios:\n",
    "\n"
   ]
  },
  {
   "cell_type": "code",
   "execution_count": null,
   "id": "9e98d6e7",
   "metadata": {},
   "outputs": [],
   "source": [
    "# Números aleatórios entre 0 e 1 (distribuição uniforme)\n",
    "valores_uniformes = np.random.rand(5) # .rand() gera números entre 0 e 1\n",
    "print(\"Números aleatórios uniformes:\", valores_uniformes)\n",
    "\n",
    "# Inteiros aleatórios entre 0 e 10\n",
    "valores_inteiros = np.random.randint(0, 10, size=5) # .randint() gera inteiros em um intervalo [low, high)\n",
    "print(\"\\nInteiros aleatórios de 0 a 9:\", valores_inteiros)\n",
    "\n",
    "# Números aleatórios de uma distribuição normal (média=0, desvio padrão=1)\n",
    "valores_normais = np.random.randn(10) # .randn() gera números com média 0 e desvio padrão 1\n",
    "print(\"\\nNúmeros aleatórios (distribuição normal):\", valores_normais)\n",
    "\n",
    "# Matriz 3x3 com valores aleatórios entre 0 e 1\n",
    "matriz_random = np.random.random((3,3))\n",
    "print(\"\\nMatriz 3x3 com valores aleatórios:\\n\", matriz_random)"
   ]
  },
  {
   "cell_type": "code",
   "execution_count": null,
   "id": "90abae44",
   "metadata": {},
   "outputs": [],
   "source": [
    "# Gerando os gráficos das distribuições anteriores (exemplo para visualização)\n",
    "import matplotlib.pyplot as plt\n",
    "\n",
    "# ! pip install matplotlib # para instalar no colab, caso necessário\n",
    "\n",
    "# Criando a figura\n",
    "plt.figure(figsize=(15, 4)) # tamanho em polegadas\n",
    "\n",
    "# Distribuição Uniforme [0,1)\n",
    "# Todos os valores no intervalo têm a mesma probabilidade de ocorrer.\n",
    "plt.subplot(1, 3, 1) # Cria uma grade de 1 linha e 3 colunas e seleciona o primeiro eixo (o gráfico da esquerda) \n",
    "plt.hist(valores_uniformes, bins=20, color=\"skyblue\", edgecolor=\"black\")\n",
    "plt.title(\"Distribuição Uniforme [0,1)\")\n",
    "plt.xlabel(\"Valor\")\n",
    "plt.ylabel(\"Frequência\")\n",
    "\n",
    "# Distribuição Discreta de Inteiros [0,9]\n",
    "# Cada número inteiro no intervalo tem chance igual de ser sorteado.\n",
    "plt.subplot(1, 3, 2) # Cria uma grade de 1 linha e 3 colunas e seleciona o segundo eixo (o gráfico do centro) \n",
    "plt.hist(valores_inteiros, bins=np.arange(-0.5, 10.5, 1), rwidth=0.8,\n",
    "         color=\"lightgreen\", edgecolor=\"black\")\n",
    "plt.title(\"Distribuição Discreta de Inteiros [0,9]\")\n",
    "plt.xlabel(\"Inteiro\")\n",
    "plt.ylabel(\"Frequência\")\n",
    "\n",
    "# Distribuição Normal (Gaussiana)\n",
    "# Os valores se concentram em torno da média, seguindo o formato de sino, com menor probabilidade à medida que se afastam dela.\n",
    "plt.subplot(1, 3, 3) # Cria uma grade de 1 linha e 3 colunas e seleciona o terceiro eixo (o gráfico da direita) \n",
    "plt.hist(valores_normais, bins=30, color=\"salmon\", edgecolor=\"black\")\n",
    "plt.title(\"Distribuição Normal (média=0, σ=1)\")\n",
    "plt.xlabel(\"Valor\")\n",
    "plt.ylabel(\"Frequência\")\n",
    "\n",
    "# Ajustar espaçamento\n",
    "plt.tight_layout()\n",
    "plt.show()"
   ]
  },
  {
   "cell_type": "markdown",
   "id": "efbf2a29",
   "metadata": {},
   "source": [
    "### Exercícios de fixação: Criando *ndarrays* no NumPy\n",
    "\n",
    "Neste exercício, vamos praticar diferentes formas de criar **arrays** em NumPy.  \n",
    "\n",
    "#### 1. Criando arrays a partir de listas\n",
    "- Crie um array 1D a partir da lista `[1, 2, 3, 4, 5]`.\n",
    "- Crie um array 2D a partir da lista `[[1, 2, 3], [4, 5, 6]]`.\n",
    "- Verifique os atributos `.shape`, `.ndim` e `.dtype` de cada array.\n",
    "\n",
    "#### 2. Arrays de valores especiais\n",
    "- Crie um array de zeros com tamanho `10`.\n",
    "- Crie um array de uns com tamanho `5x5`.\n",
    "- Crie uma matriz identidade de dimensão `4x4`.\n",
    "- Crie um array preenchido com o valor `7`, de tamanho `3x3`.\n",
    "\n",
    "#### 3. Arrays com intervalos numéricos\n",
    "- Use `np.arange` para criar um array de `0` até `20`, pulando de `2` em `2`.\n",
    "- Use `np.linspace` para criar um array com **10 valores igualmente espaçados** entre `0` e `1`.\n",
    "\n",
    "#### 4. Arrays aleatórios\n",
    "- Gere um array `3x3` com valores aleatórios entre `0` e `1`.\n",
    "- Gere um array `5x5` de inteiros aleatórios entre `10` e `50`.\n",
    "\n",
    "Obs: explore funções como `np.array`, `np.zeros`, `np.ones`, `np.eye`, `np.full`, `np.arange`, `np.linspace` e `np.random`.\n"
   ]
  },
  {
   "cell_type": "code",
   "execution_count": null,
   "id": "f10d805f",
   "metadata": {},
   "outputs": [],
   "source": [
    "###\n",
    "# Espaço destinado para respostas do exercício proposto:\n"
   ]
  },
  {
   "cell_type": "markdown",
   "id": "a7f88042",
   "metadata": {},
   "source": [
    "##  5. Indexação e fatiamento (*slicing*)\n",
    "\n",
    "Similar ao Python puro (já estudamos anteriormente)."
   ]
  },
  {
   "cell_type": "code",
   "execution_count": null,
   "id": "8edc3e04",
   "metadata": {},
   "outputs": [],
   "source": [
    "# Indexação\n",
    "a = np.array([10, 20, 30, 40, 50])\n",
    "print(a[0])      # primeiro elemento\n",
    "print()\n",
    "print(a[-1])     # último elemento\n",
    "print()\n",
    "print(a[1:4])    # fatia\n",
    "\n",
    "# Slicing\n",
    "b = np.array([[1,2,3],[4,5,6],[7,8,9]])\n",
    "print(b[0, 1])   # elemento linha 0, coluna 1\n",
    "print()\n",
    "print(b[:, 1])   # toda a coluna 1\n",
    "print()\n",
    "print(b[1, :])   # toda a linha 1\n",
    "print()\n",
    "print(b[::2])      # de 2 em 2\n",
    "print()\n",
    "print(b[1:8:3])    # do 1 ao 7 pulando 3\n",
    "print()\n",
    "print(b[::-1])     # invertido"
   ]
  },
  {
   "cell_type": "code",
   "execution_count": null,
   "id": "ef43db9d",
   "metadata": {},
   "outputs": [],
   "source": [
    "# Indexação de sub-arrays (arrays multidimensionais)\n",
    "print(\"b[:2, :3] = \")\n",
    "print(b[:2, :3]) # primeiras 2 linhas e primeiras 3 colunas\n",
    "\n",
    "print(\"\\nb[:3, ::2] = \")\n",
    "print(b[:3, ::2]) # todas as linhas e colunas de 2 em 2\n",
    "\n",
    "b"
   ]
  },
  {
   "cell_type": "markdown",
   "id": "40b55856",
   "metadata": {},
   "source": [
    "## 6. Concatenação e separação de arrays\n",
    "\n",
    "É possível juntar ou separar arrays no `numpy` utilizando funções como:\n",
    "- `concatenate` → junta arrays ao longo de um eixo já existente.  \n",
    "- `hstack` → empilha arrays **horizontalmente** (colunas).  \n",
    "- `vstack` → empilha arrays **verticalmente** (linhas).  \n",
    "- `split` → divide um array em partes ao longo de um eixo.  \n",
    "- `hsplit` → divide arrays **horizontalmente** (colunas).  \n",
    "- `vsplit` → divide arrays **verticalmente** (linhas).  \n"
   ]
  },
  {
   "cell_type": "code",
   "execution_count": null,
   "id": "98e08254",
   "metadata": {},
   "outputs": [],
   "source": [
    "# Concatenação com .concatenate()\n",
    "\n",
    "# Arrays 1D\n",
    "a = np.array([1, 2, 3])\n",
    "b = np.array([4, 5, 6])\n",
    "\n",
    "print(\"Concatenando 1D:\", np.concatenate([a, b]))\n",
    "\n",
    "# Arrays 2D (matrizes)\n",
    "M1 = np.array([[1, 2],\n",
    "               [3, 4]])\n",
    "M2 = np.array([[5, 6]])\n",
    "print(\"\\nConcatenando ao longo das linhas (axis=0):\")\n",
    "print(np.concatenate([M1, M2], axis=0)) # M1 concat M2\n",
    "# une por baixo\n",
    "\n",
    "M3 = np.array([[7],\n",
    "               [8]])\n",
    "print(\"\\nConcatenando ao longo das colunas (axis=1):\")\n",
    "print(np.concatenate([M1, M3], axis=1)) # M1 concat M3\n",
    "# une pela direita\n"
   ]
  },
  {
   "cell_type": "code",
   "execution_count": null,
   "id": "b5ca7599",
   "metadata": {},
   "outputs": [],
   "source": [
    "# Concatenção com .vstack() e .hstack()\n",
    "\n",
    "A = np.array([1, 2, 3])\n",
    "B = np.array([4, 5, 6])\n",
    "\n",
    "print(\"Vertical stack (linhas):\")\n",
    "print(np.vstack([A, B]))\n",
    "# → [[1 2 3]\n",
    "#    [4 5 6]]\n",
    "\n",
    "print(\"\\nHorizontal stack (colunas):\")\n",
    "print(np.hstack([A, B]))\n",
    "# → [1 2 3 4 5 6]"
   ]
  },
  {
   "cell_type": "code",
   "execution_count": null,
   "id": "913da321",
   "metadata": {},
   "outputs": [],
   "source": [
    "# Separação / Divisão com .split()\n",
    "\n",
    "x = np.arange(1, 10)  # [1 2 3 4 5 6 7 8 9]\n",
    "\n",
    "# Dividir em 3 partes iguais\n",
    "partes = np.split(x, 3)\n",
    "print(\"Split em 3 partes iguais:\", partes)\n",
    "\n",
    "# Dividir em posições específicas\n",
    "partes2 = np.split(x, [3, 7])\n",
    "print(\"Split em posições [3,7]:\", partes2)\n"
   ]
  },
  {
   "cell_type": "code",
   "execution_count": null,
   "id": "7b7fc309",
   "metadata": {},
   "outputs": [],
   "source": [
    "# Separação / Divisão com .hsplit() e .vsplit()\n",
    "\n",
    "M = np.arange(16).reshape(4, 4)\n",
    "print(\"Matriz M:\\n\", M)\n",
    "\n",
    "# Dividir verticalmente em 2 partes\n",
    "print(\"\\nDividindo com vsplit:\")\n",
    "print(np.vsplit(M, 2))   # divide em 2 blocos de linhas\n",
    "\n",
    "# Dividir horizontalmente em 2 partes\n",
    "print(\"\\nDividindo com hsplit:\")\n",
    "print(np.hsplit(M, 2))   # divide em 2 blocos de colunas\n"
   ]
  },
  {
   "cell_type": "code",
   "execution_count": null,
   "id": "0529fe46",
   "metadata": {},
   "outputs": [],
   "source": [
    "# Exercício rápido:\n",
    "# Divida um array aleatório de 12 elementos em outros 3 arrays de mesmo tamanho e atribua cada um a variáveis.\n"
   ]
  },
  {
   "cell_type": "markdown",
   "id": "89f6b9fa",
   "metadata": {},
   "source": [
    "## 7. Operações vetorizadas\n",
    "\n",
    "Os operadores matemáticos em Numpy operam elemento-a-elemento."
   ]
  },
  {
   "cell_type": "code",
   "execution_count": null,
   "id": "9bb17a0f",
   "metadata": {},
   "outputs": [],
   "source": [
    "x = np.array([1, 2, 3, 4])\n",
    "print(x * 2) # multiplicação por escalar\n",
    "print(x + 10) # adição por escalar\n",
    "print(x ** 2) # potência por escalar\n",
    "print(np.sqrt(x)) # raiz quadrada\n",
    "print(np.log(x))  # logaritmo natural\n",
    "print(np.exp(x))  # exponencial"
   ]
  },
  {
   "cell_type": "markdown",
   "id": "663019b2",
   "metadata": {},
   "source": [
    "### Operadores matemáticos são chamadas de métodos em Numpy\n",
    "- Operador **adição (+)**, equivale a `np.add` (por exemplo, 1 + 1 = 2)\n",
    "- Operador **subtração (-)**, equivale a `np.subtract` (por exemplo, 3 - 2 = 1)\n",
    "- Operador **negativo unário (-)**, equivale a `np.negative` (por exemplo, -2)\n",
    "- Operador **multiplicação (*)**, equivale a `np.multiply` (por exemplo, 2 * 3 = 6)\n",
    "- Operador **divisão (/)**, equivale a `np.divide` (por exemplo, 3 / 2 = 1.5)\n",
    "- Operador **divisão inteira (//)**, equivale a `np.floor_divide` (por exemplo, 7 // 2 = 3)\n",
    "- Operador **exponenciação**, equivale a `np.power`\n",
    "- Operador **módulo (%)**, equivale a `np.mod` (por exemplo, 7 % 2 = 1)"
   ]
  },
  {
   "cell_type": "code",
   "execution_count": null,
   "id": "68dfb0b8",
   "metadata": {},
   "outputs": [],
   "source": [
    "# Exercício rápido 2:\n",
    "# Mostre exemplos comparativos de todas operações acima conforme o exemplo:\n",
    "print(np.add(x,10))\n",
    "print(x + 10)\n",
    "\n",
    "print(np.subtract(x,1))\n",
    "print(x - 1)\n",
    "\n",
    "print(np.negative(x))\n",
    "...\n",
    "# continue\n",
    "\n"
   ]
  },
  {
   "cell_type": "markdown",
   "id": "d7f704e0",
   "metadata": {},
   "source": [
    "## 8. Constantes matemáticas\n",
    "\n",
    "O `numpy` possui um rico suporte de funções e constantes matemáticas. Exemplos de funções de trigonometria:  \n",
    "- Valor de pi --> `np.pi`  \n",
    "- Valor de e --> `np.e`  \n",
    "- Função seno --> `np.sin(radiano)`  \n",
    "- Função cosseno --> `np.cos(radiano)`  \n",
    "- Função tangente --> `np.tan(radiano)`  \n",
    "- Função arcoseno -->  `np.arcsin(radiano)`  \n",
    "- Função arcocosseno -->  `np.arccos(radiano)`  \n",
    "- Função arcotangente --> `np.arctan(radiano)`  "
   ]
  },
  {
   "cell_type": "code",
   "execution_count": null,
   "id": "7f8b4993",
   "metadata": {},
   "outputs": [],
   "source": [
    "# Exemplos de uso de funções trigonométricas em numpy\n",
    "\n",
    "# Constantes matemáticas\n",
    "print(\"Valor de pi:\", np.pi) # π\n",
    "print(\"Valor de e:\", np.e) # exponencial (base do logaritmo natural)\n",
    "\n",
    "# Funções trigonométricas básicas\n",
    "angulo = np.pi / 4  # 45 graus em radianos\n",
    "print(\"\\nSeno(π/4):\", np.sin(angulo)) # seno\n",
    "print(\"Cosseno(π/4):\", np.cos(angulo)) # cosseno\n",
    "print(\"Tangente(π/4):\", np.tan(angulo)) # tangente\n",
    "\n",
    "# Funções trigonométricas inversas\n",
    "valor = 1 / np.sqrt(2)  # seno de 45 graus\n",
    "print(\"\\nArcoseno(1/√2):\", np.arcsin(valor))  # arcseno\n",
    "print(\"Arcocosseno(1/√2):\", np.arccos(valor)) # arccosseno\n",
    "print(\"Arcotangente(1):\", np.arctan(1))  # arctangente"
   ]
  },
  {
   "cell_type": "markdown",
   "id": "b07bddb3",
   "metadata": {},
   "source": [
    "## 9. Estatísticas básicas sobre arrays\n",
    "\n",
    "O `numpy` fornece várias funções para cálculos estatísticos sobre arrays:\n",
    "- `sum()` → soma dos elementos  \n",
    "- `mean()` → média aritmética  \n",
    "- `std()` → desvio padrão  \n",
    "- `var()` → variância\n",
    "- `cov()` → co-variância\n",
    "- `min()` / `max()` → valor mínimo e máximo  \n",
    "- `argmin()` / `argmax()` → índices do valor mínimo e máximo  \n",
    "- `median()` → mediana  \n",
    "- `percentile()` → percentis (ex.: quartis, mediana)  \n",
    "- `cumsum()` → soma acumulada  \n",
    "- `cumprod()` → produto acumulado  \n"
   ]
  },
  {
   "cell_type": "code",
   "execution_count": null,
   "id": "21a48cce",
   "metadata": {},
   "outputs": [],
   "source": [
    "# Exemplos:\n",
    "dados = np.array([5, 10, 15, 20, 25])\n",
    "print(\"Soma:\", dados.sum())\n",
    "print(\"Média:\", dados.mean())\n",
    "print(\"Mediana:\", np.median(dados))\n",
    "print(\"Variância:\", np.var(dados))\n",
    "print(\"Co-variância:\", np.cov(dados))\n",
    "print(\"Desvio padrão:\", dados.std())\n",
    "print(\"Mínimo:\", dados.min())\n",
    "print(\"Máximo:\", dados.max())\n",
    "print(\"Índice do valor mínimo:\", dados.argmin())\n",
    "print(\"Índice do valor máximo:\", dados.argmax())\n",
    "print(\"Ordenação (decrescente):\", np.sort(dados)[::-1])\n",
    "print(\"Percentil 25%:\", np.percentile(dados, 25))\n",
    "print(\"percentil 75%:\", np.percentile(dados, 75))"
   ]
  },
  {
   "cell_type": "markdown",
   "id": "2e3e72b4",
   "metadata": {},
   "source": [
    "## 8. Reshape e flatten\n",
    "Mudar a forma de um array sem alterar os dados."
   ]
  },
  {
   "cell_type": "code",
   "execution_count": null,
   "id": "d75ecfbe",
   "metadata": {},
   "outputs": [],
   "source": [
    "arr = np.arange(1, 13) # cria um array com valores de 1 a 12\n",
    "print(\"Array original:\\n\", arr)\n",
    "print(\"\\nArray rearranjado para 3x4:\\n\", arr.reshape(3, 4)) # reshape para 3 linhas e 4 colunas\n",
    "print(\"\\nArray rearranjado para 2x6:\\n\", arr.reshape(2, 6)) # reshape para 2 linhas e 6 colunas\n",
    "print(\"\\nArray 'achatado' em 1 dimensão:\\n\", arr.flatten()) # transforma em array 1D"
   ]
  },
  {
   "cell_type": "markdown",
   "id": "fbc6e216",
   "metadata": {},
   "source": [
    "## 9. Operações entre arrays de tamanhos diferentes (broadcasting)\n",
    "O `numpy` permite operações entre arrays de tamanhos diferentes automaticamente. Esta técnica é conhecida como broadcasting."
   ]
  },
  {
   "cell_type": "code",
   "execution_count": null,
   "id": "fdaa13aa",
   "metadata": {},
   "outputs": [],
   "source": [
    "# Exemplo de broadcasting\n",
    "matriz = np.ones((3, 3)) # matriz 3x3\n",
    "vetor = np.array([1, 2, 3]) # array 1d\n",
    "print(matriz + vetor) # broadcasting (soma o vetor 'a' a cada linha da matriz 'M')"
   ]
  },
  {
   "cell_type": "markdown",
   "id": "8dbd7951",
   "metadata": {},
   "source": [
    "#### Regras do broadcasting\n",
    "\n",
    "O broadcasting no `numpy` segue um conjunto de regras para determinar a interação entre dois arrays:\n",
    "\n",
    "- Regra 1: Se os dois arrays diferirem no número de dimensões, a forma (shape) daquele com menos dimensões é preenchida com 1's no início (lado esquerdo).\n",
    "\n",
    "- Regra 2: Se as formas dos dois arrays não coincidirem em alguma dimensão, o array cuja forma nessa dimensão seja igual a 1 é expandido para coincidir com a outra forma.\n",
    "\n",
    "- Regra 3: Se em qualquer dimensão os tamanhos forem diferentes e nenhum deles for igual a 1, ocorre um erro."
   ]
  },
  {
   "cell_type": "markdown",
   "id": "f0a0a786",
   "metadata": {},
   "source": [
    "#### Exemplo de broadcasting\n",
    "\n",
    "Vamos supor que precisamos de somar um array 2D a um array 1D:"
   ]
  },
  {
   "cell_type": "code",
   "execution_count": null,
   "id": "d5d0d2a2",
   "metadata": {},
   "outputs": [],
   "source": [
    "M = np.ones((2, 3))\n",
    "print(M)\n",
    "print()\n",
    "a = np.arange(3)\n",
    "print(a)"
   ]
  },
  {
   "cell_type": "markdown",
   "id": "4ca5184e",
   "metadata": {},
   "source": [
    "Vamos considerar uma operação sobre estes dois arrays, que possuem as seguintes formas (shapes):\n",
    "\n",
    "- `M.shape` é `(2, 3)`\n",
    "- `a.shape` é `(3,)`\n",
    "\n",
    "Pela **regra 1**, vemos que o array `a` tem menos dimensões, então o preenchemos à esquerda com 1's:\n",
    "\n",
    "- `M.shape` continua sendo `(2, 3)`\n",
    "- `a.shape` se torna `(1, 3)`\n",
    "\n",
    "Pela **regra 2**, agora vemos que a primeira dimensão não coincide, então expandimos essa dimensão para corresponder:\n",
    "\n",
    "- `M.shape` continua sendo `(2, 3)`\n",
    "- `a.shape` se torna `(2, 3)`\n",
    "\n",
    "Agora as formas coincidem, e vemos que a forma final será `(2, 3)`"
   ]
  },
  {
   "cell_type": "code",
   "execution_count": null,
   "id": "2909f37c",
   "metadata": {},
   "outputs": [],
   "source": [
    "M + a"
   ]
  },
  {
   "cell_type": "markdown",
   "id": "2c14730d",
   "metadata": {},
   "source": [
    "O broadcasting:\n",
    "- Simplifica o código, evitando laços (for) explícitos.\n",
    "- Economiza memória, porque não cria cópias completas, só “finge” expandir os dados.\n",
    "- Acelera cálculos, aproveitando operações vetorizadas do `numpy`."
   ]
  },
  {
   "cell_type": "markdown",
   "id": "c0937bff",
   "metadata": {},
   "source": [
    "## 10. Álgebra linear\n",
    "`numpy` tem módulo `np.linalg` para operações matriciais."
   ]
  },
  {
   "cell_type": "code",
   "execution_count": null,
   "id": "4f23c3a6",
   "metadata": {},
   "outputs": [],
   "source": [
    "A = np.array([[1, 2], [3, 4]])\n",
    "B = np.array([[5, 6], [7, 8]])\n",
    "\n",
    "print(\"Produto matricial:\\n\", A @ B)\n",
    "print(\"Determinante:\", np.linalg.det(A))\n",
    "print(\"Inversa:\\n\", np.linalg.inv(A))\n",
    "print(\"\\nTransposta de A:\\n\", A.T)\n",
    "\n",
    "# Produto escalar (dot product)\n",
    "v = np.array([1, 2])\n",
    "w = np.array([3, 4])\n",
    "print(\"\\nProduto escalar v·w:\", np.dot(v, w))\n",
    "\n",
    "# Norma (tamanho do vetor)\n",
    "print(\"Norma de v:\", np.linalg.norm(v))\n",
    "\n",
    "# Autovalores e autovetores\n",
    "vals, vecs = np.linalg.eig(A)\n",
    "print(\"\\nAutovalores de A:\\n\", vals)\n",
    "print(\"Autovetores de A:\\n\", vecs)\n",
    "\n",
    "# Sistema linear Ax = b\n",
    "b_vec = np.array([5, 6])\n",
    "x = np.linalg.solve(A, b_vec)\n",
    "print(\"\\nSolução de Ax=b:\", x)"
   ]
  },
  {
   "cell_type": "markdown",
   "id": "207269d1",
   "metadata": {},
   "source": [
    "## 11. Mini-projeto: Analisando Notas de uma Turma com NumPy\n",
    "\n",
    "*Objetivo*: praticar os conceitos básicos de `numpy` aplicando-os na análise de notas de uma turma fictícia.  \n",
    "\n",
    "*Contexto*: você é responsável por analisar o desempenho de uma turma de **5 alunos** em **4 disciplinas**: **Matemática, Física, Química e Programação**. Cada aluno fez uma prova em cada disciplina, e suas notas estão em um array `numpy`. As notas foram registradas em uma escala de **0 a 10**.\n",
    "\n",
    "#### Dados\n",
    "Crie a matriz de notas a seguir (cada linha representa um aluno e cada coluna uma disciplina).\n",
    "Execute a célula abaixo para carregar os dados iniciais."
   ]
  },
  {
   "cell_type": "code",
   "execution_count": null,
   "id": "55740097",
   "metadata": {},
   "outputs": [],
   "source": [
    "import numpy as np\n",
    "\n",
    "# Linhas = alunos, colunas = [Matemática, Física, Química, Programação]\n",
    "notas = np.array([\n",
    "    [7.5, 8.0, 6.5, 9.0],   # Aluno 1\n",
    "    [6.0, 7.0, 8.0, 7.5],   # Aluno 2\n",
    "    [9.0, 8.5, 9.5, 10.0],  # Aluno 3\n",
    "    [5.5, 6.0, 5.0, 6.5],   # Aluno 4\n",
    "    [8.0, 7.5, 8.5, 9.0]    # Aluno 5\n",
    "], dtype=float)\n",
    "\n",
    "disciplinas = np.array([\"Matemática\", \"Física\", \"Química\", \"Programação\"])\n",
    "alunos = np.array([f\"Aluno {i}\" for i in range(1, 6)])\n",
    "\n",
    "print(\"Matriz de Notas (5x4):\\n\", notas)\n",
    "print(\"\\nDisciplinas:\", disciplinas)\n",
    "print(\"Alunos:\", alunos)\n"
   ]
  },
  {
   "cell_type": "markdown",
   "id": "a3cd6fbb",
   "metadata": {},
   "source": [
    "\n",
    "### Exercício 1 – Estatísticas da turma\n",
    "**Tarefas:**\n",
    "1. Calcule:\n",
    "   - **Soma** de todas as notas (`sum`)\n",
    "   - **Média** da turma (`mean`)\n",
    "   - **Desvio padrão** (`std`)\n",
    "   - **Variância** (`var`)\n",
    "   - **Mínimo** e **máximo** (`min`, `max`)\n",
    "2. Descubra:\n",
    "   - O **índice do aluno com maior nota média** (`argmax` sobre as médias por aluno)\n",
    "   - A **média por aluno** (`axis=1`)\n",
    "   - A **média por disciplina** (`axis=0`)\n",
    "   - A **mediana** (`np.median`)\n",
    "   - Os **percentis 25% e 75%** (`np.percentile`)\n"
   ]
  },
  {
   "cell_type": "code",
   "execution_count": null,
   "id": "18ad77c7",
   "metadata": {},
   "outputs": [],
   "source": [
    "\n",
    "###\n",
    "# Espaço destinado para respostas do exercício proposto:\n",
    "\n",
    "# Dica: use notas.sum(), notas.mean(), etc.\n",
    "\n"
   ]
  },
  {
   "cell_type": "markdown",
   "id": "963d9fa6",
   "metadata": {},
   "source": [
    "\n",
    "### Exercício 2 – Broadcasting e operações\n",
    "Considere novamente a matriz `notas`.\n",
    "\n",
    "1. Crie o vetor de bonificação para cada disciplina:\n",
    "```python\n",
    "bonus = np.array([0.5, 1.0, 0.0, 0.5])\n",
    "```\n",
    "2. Some esse vetor a todas as linhas da matriz usando **broadcasting**.\n",
    "3. Explique o que aconteceu com cada elemento da matriz.\n",
    "4. Calcule a **nota final de cada aluno** considerando os pesos:\n",
    "   - Matemática: `0.3` — Física: `0.2` — Química: `0.2` — Programação: `0.3` (use produto matricial)\n",
    "5. Descubra:\n",
    "   - Qual aluno obteve a **maior nota final**\n",
    "   - A **média das notas finais**\n",
    "   - Quantos alunos ficaram **acima da média da turma** (das notas finais)\n"
   ]
  },
  {
   "cell_type": "code",
   "execution_count": null,
   "id": "1d9d1c58",
   "metadata": {},
   "outputs": [],
   "source": [
    "###\n",
    "# Espaço destinado para respostas do exercício proposto:\n"
   ]
  }
 ],
 "metadata": {
  "kernelspec": {
   "display_name": "Python 3 (ipykernel)",
   "language": "python",
   "name": "python3"
  },
  "language_info": {
   "codemirror_mode": {
    "name": "ipython",
    "version": 3
   },
   "file_extension": ".py",
   "mimetype": "text/x-python",
   "name": "python",
   "nbconvert_exporter": "python",
   "pygments_lexer": "ipython3",
   "version": "3.12.3"
  }
 },
 "nbformat": 4,
 "nbformat_minor": 5
}
