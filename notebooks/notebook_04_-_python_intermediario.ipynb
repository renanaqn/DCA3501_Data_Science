{
 "cells": [
  {
   "cell_type": "markdown",
   "id": "1bd33de2",
   "metadata": {},
   "source": [
    "# **CIÊNCIA DE DADOS** - DCA3501\n",
    "\n",
    "UNIVERSIDADE FEDERAL DO RIO GRANDE DO NORTE, NATAL/RN\n",
    "\n",
    "DEPARTAMENTO DE ENGENHARIA DE COMPUTAÇÃO E AUTOMAÇÃO\n",
    "\n",
    "(C) 2025-2026 CARLOS M D VIEGAS\n",
    "\n",
    "https://github.com/cmdviegas"
   ]
  },
  {
   "cell_type": "markdown",
   "id": "9c6738ad",
   "metadata": {},
   "source": [
    "\n",
    "# IV. Python Intermediário para Ciência de Dados\n",
    "\n",
    "Este notebook apresenta algumas operações aplicadas à Ciência de Dados, tais como slicing de sequências, tuplas, conjuntos e operações, funções de ordem, erros e exceções, manipulação de arquivos e datas.\n",
    "> **Como usar:** Execute célula por célula (Shift+Enter). Se algo falhar, releia a explicação e ajuste o código."
   ]
  },
  {
   "cell_type": "markdown",
   "id": "e9c01839",
   "metadata": {},
   "source": [
    "\n",
    "## Pré-requisitos\n",
    "- Você deve saber executar células em Jupyter;  \n",
    "- Conhecer tipos básicos (`int`, `float`, `str`) e estruturas (`list`, `dict`);  \n",
    "- Estar confortável com `for` e condicionais.\n"
   ]
  },
  {
   "cell_type": "markdown",
   "id": "16a3885d",
   "metadata": {},
   "source": [
    "\n",
    "## Sumário\n",
    "1. [Slicing avançado em sequências](#sec1)\n",
    "2. [Tuplas e desempacotamento](#sec2)\n",
    "3. [Conjuntos](#sec3)\n",
    "4. [Comprehensions e condições](#sec4)\n",
    "5. [Funções de ordem superior e utilitários úteis](#sec5)\n",
    "6. [Erros e exceções](#sec6)\n",
    "7. [Arquivos e CSV (sem pandas)](#sec7)\n",
    "8. [Datas e horas com `datetime`](#sec8)\n",
    "9. [Expressões regulares com `re`](#sec9)\n",
    "10. [Mini-projeto: análise de vendas em CSV (Python puro)](#sec10)"
   ]
  },
  {
   "cell_type": "markdown",
   "id": "c6f579fe",
   "metadata": {},
   "source": [
    "## 1. Slicing avançado em sequências <a id=\"sec1\"></a>\n",
    "\n",
    "O slicing permite pegar **fatias** de sequências (`list`, `str`, etc.). Sintaxe geral: `seq[inicio:fim:passo]`.\n"
   ]
  },
  {
   "cell_type": "code",
   "execution_count": null,
   "id": "9bbeac08",
   "metadata": {},
   "outputs": [],
   "source": [
    "s = list(range(10))  # 0..9\n",
    "print(s[:])        # cópia superficial\n",
    "print(s[2:7])      # índices 2..6\n",
    "print(s[::2])      # de 2 em 2\n",
    "print(s[1:8:3])    # do 1 ao 7 pulando 3\n",
    "print(s[::-1])     # invertido"
   ]
  },
  {
   "cell_type": "markdown",
   "id": "e1269bb1",
   "metadata": {},
   "source": [
    "\n",
    "**Exercícios — Slicing**  \n",
    "1. Dada `t = \"ciência-de-dados\"`, obtenha: (a) os 7 primeiros caracteres; (b) os 5 últimos; (c) a string invertida.  \n",
    "2. Em `nums = list(range(1, 21))`, selecione apenas os múltiplos de 3 com slicing e *comprehension*.\n"
   ]
  },
  {
   "cell_type": "code",
   "execution_count": null,
   "id": "dfff90cf",
   "metadata": {},
   "outputs": [],
   "source": [
    "# Espaço para respostas dos Exercícios propostos:\n"
   ]
  },
  {
   "cell_type": "markdown",
   "id": "6017540c",
   "metadata": {},
   "source": [
    "\n",
    "<details>\n",
    "<summary><strong>Gabarito sugerido</strong></summary>\n",
    "\n",
    "```python\n",
    "t = \"ciência-de-dados\"\n",
    "t[:7], t[-5:], t[::-1]\n",
    "\n",
    "nums = list(range(1, 21))\n",
    "[n for n in nums if n % 3 == 0]\n",
    "```\n",
    "</details>\n"
   ]
  },
  {
   "cell_type": "markdown",
   "id": "7f46bf52",
   "metadata": {},
   "source": [
    "\n",
    "## 2. Tuplas e desempacotamento <a id=\"sec2\"></a>\n",
    "\n",
    "Tuplas são **imutáveis** e úteis para agrupar valores. O desempacotamento facilita atribuir múltiplas variáveis de uma vez.\n"
   ]
  },
  {
   "cell_type": "code",
   "execution_count": null,
   "id": "0528c915",
   "metadata": {},
   "outputs": [],
   "source": [
    "ponto = (3, 4)\n",
    "x, y = ponto\n",
    "print(x, y)\n",
    "\n",
    "# troca de valores\n",
    "a, b = 10, 20\n",
    "a, b = b, a\n",
    "a, b"
   ]
  },
  {
   "cell_type": "code",
   "execution_count": null,
   "id": "c8aebbd8",
   "metadata": {},
   "outputs": [],
   "source": [
    "# Desempacotamento com 'starred'\n",
    "a, *meio, z = [1, 2, 3, 4, 5]\n",
    "a, meio, z"
   ]
  },
  {
   "cell_type": "markdown",
   "id": "680bfca7",
   "metadata": {},
   "source": [
    "\n",
    "**Exercício — Tuplas**  \n",
    "Receba uma lista de pares `(nome, nota)` e crie duas listas: `nomes` e `notas` usando desempacotamento e *comprehension*.\n"
   ]
  },
  {
   "cell_type": "code",
   "execution_count": null,
   "id": "a964c3cf",
   "metadata": {},
   "outputs": [],
   "source": [
    "# Espaço para respostas dos Exercícios propostos:\n"
   ]
  },
  {
   "cell_type": "markdown",
   "id": "8a7088d8",
   "metadata": {},
   "source": [
    "\n",
    "<details>\n",
    "<summary><strong>Gabarito sugerido</strong></summary>\n",
    "\n",
    "```python\n",
    "dados = [(\"Ana\", 8.5), (\"Lia\", 7.2), (\"Bruno\", 9.1)]\n",
    "nomes = [n for (n, _) in dados]\n",
    "notas = [x for (_, x) in dados]\n",
    "nomes, notas\n",
    "```\n",
    "</details>\n"
   ]
  },
  {
   "cell_type": "markdown",
   "id": "2a7c321a",
   "metadata": {},
   "source": [
    "\n",
    "## 3. Conjuntos (*sets*) <a id=\"sec3\"></a>\n",
    "\n",
    "`set` armazena elementos **únicos** e suporta operações de conjunto.\n"
   ]
  },
  {
   "cell_type": "code",
   "execution_count": null,
   "id": "a2b12851",
   "metadata": {},
   "outputs": [],
   "source": [
    "a = {1, 2, 3, 3, 2}\n",
    "b = {3, 4, 5}\n",
    "print(a)                 # {1,2,3}\n",
    "print(a | b)             # união\n",
    "print(a & b)             # interseção\n",
    "print(a - b)             # diferença\n",
    "print(a ^ b)             # diferença simétrica"
   ]
  },
  {
   "cell_type": "markdown",
   "id": "75c60366",
   "metadata": {},
   "source": [
    "\n",
    "**Exercício — Sets**  \n",
    "Dada a lista `valores = [1,2,2,3,4,4,5]`, remova duplicatas e conte quantos únicos existem.\n"
   ]
  },
  {
   "cell_type": "code",
   "execution_count": null,
   "id": "229a9c2f",
   "metadata": {},
   "outputs": [],
   "source": [
    "# Espaço para respostas dos Exercícios propostos:\n"
   ]
  },
  {
   "cell_type": "markdown",
   "id": "150e3bda",
   "metadata": {},
   "source": [
    "\n",
    "<details>\n",
    "<summary><strong>Gabarito sugerido</strong></summary>\n",
    "\n",
    "```python\n",
    "valores = [1,2,2,3,4,4,5]\n",
    "unicos = set(valores)\n",
    "len(unicos), unicos\n",
    "```\n",
    "</details>\n"
   ]
  },
  {
   "cell_type": "markdown",
   "id": "774822b9",
   "metadata": {},
   "source": [
    "\n",
    "## 4. Comprehensions (lista, dicionário, conjunto) e condições <a id=\"sec4\"></a>\n",
    "\n",
    "Comprehensions tornam o código conciso e expressivo.\n"
   ]
  },
  {
   "cell_type": "code",
   "execution_count": null,
   "id": "9bb13fcd",
   "metadata": {},
   "outputs": [],
   "source": [
    "# Lista: quadrados pares de 0..10\n",
    "quadrados_pares = [n*n for n in range(11) if n % 2 == 0]\n",
    "quadrados_pares"
   ]
  },
  {
   "cell_type": "code",
   "execution_count": null,
   "id": "f68f798a",
   "metadata": {},
   "outputs": [],
   "source": [
    "# Dicionário: palavra -> tamanho\n",
    "palavras = [\"dados\", \"python\", \"ciência\"]\n",
    "tam = {p: len(p) for p in palavras}\n",
    "tam"
   ]
  },
  {
   "cell_type": "code",
   "execution_count": null,
   "id": "409b4d0b",
   "metadata": {},
   "outputs": [],
   "source": [
    "# Conjunto: letras únicas (ignorando espaços)\n",
    "frase = \"dado e dado não é dado\"  # contém 'não é'\n",
    "letras = {ch for ch in frase if ch != \" \"}\n",
    "letras"
   ]
  },
  {
   "cell_type": "markdown",
   "id": "1cd8329a",
   "metadata": {},
   "source": [
    "\n",
    "**Exercício — Comprehensions**  \n",
    "Crie uma lista com os **cubes** de 1..20 apenas para números múltiplos de 4 e um dicionário `{n: n%3}` para `n` em 0..9.\n"
   ]
  },
  {
   "cell_type": "code",
   "execution_count": null,
   "id": "8b908ae9",
   "metadata": {},
   "outputs": [],
   "source": [
    "# Espaço para respostas dos Exercícios propostos:\n"
   ]
  },
  {
   "cell_type": "markdown",
   "id": "97fcddb0",
   "metadata": {},
   "source": [
    "\n",
    "<details>\n",
    "<summary><strong>Gabarito sugerido</strong></summary>\n",
    "\n",
    "```python\n",
    "cubes = [n**3 for n in range(1, 21) if n % 4 == 0]\n",
    "restos = {n: n % 3 for n in range(10)}\n",
    "cubes, restos\n",
    "```\n",
    "</details>\n"
   ]
  },
  {
   "cell_type": "markdown",
   "id": "63aa7c5e",
   "metadata": {},
   "source": [
    "\n",
    "## 5. Funções de ordem superior e utilitários úteis <a id=\"sec5\"></a>\n",
    "\n",
    "- `map(func, iter)`: aplica `func` a cada item;\n",
    "- `filter(func, iter)`: seleciona itens onde `func(item)` é verdadeiro;\n",
    "- `sorted(iter, key=...)`: ordena com função-chave;\n",
    "- `zip`, `enumerate`: iteração conveniente;\n",
    "- `any`, `all`: reduções booleanas;\n",
    "- **Geradores**: memória eficiente.\n"
   ]
  },
  {
   "cell_type": "code",
   "execution_count": null,
   "id": "e60f5717",
   "metadata": {},
   "outputs": [],
   "source": [
    "# map, filter, sorted\n",
    "nums = [5, 2, 7, 1, 0, -3]\n",
    "dobrados = list(map(lambda x: x*2, nums))\n",
    "positivos = list(filter(lambda x: x > 0, nums))\n",
    "ordenados_por_abs = sorted(nums, key=abs)\n",
    "dobrados, positivos, ordenados_por_abs"
   ]
  },
  {
   "cell_type": "code",
   "execution_count": null,
   "id": "9b3ea68d",
   "metadata": {},
   "outputs": [],
   "source": [
    "# zip e enumerate\n",
    "alunos = [\"Ana\", \"Bruno\", \"Lia\"]\n",
    "notas = [8.7, 6.5, 9.0]\n",
    "for i, (nome, nota) in enumerate(zip(alunos, notas), start=1):\n",
    "    print(i, nome, nota)"
   ]
  },
  {
   "cell_type": "code",
   "execution_count": null,
   "id": "92575a8c",
   "metadata": {},
   "outputs": [],
   "source": [
    "# any / all, geradores\n",
    "tem_negativo = any(x < 0 for x in nums)\n",
    "todos_inteiros = all(isinstance(x, int) for x in nums)\n",
    "tem_negativo, todos_inteiros"
   ]
  },
  {
   "cell_type": "markdown",
   "id": "2881d2b6",
   "metadata": {},
   "source": [
    "\n",
    "**Exercícios — Ordem superior**  \n",
    "1. Ordene `palavras = [\"maçã\", \"banana\", \"abacaxi\", \"uva\"]` por **tamanho** (crescente).  \n",
    "2. Use `filter` para pegar apenas itens com 4 letras ou mais.  \n",
    "3. Verifique com `all` se todos os preços em `[9.9, 0, 3.5]` são **não negativos**.\n"
   ]
  },
  {
   "cell_type": "code",
   "execution_count": null,
   "id": "59746a15",
   "metadata": {},
   "outputs": [],
   "source": [
    "# Espaço para respostas dos Exercícios propostos:\n"
   ]
  },
  {
   "cell_type": "markdown",
   "id": "b257935b",
   "metadata": {},
   "source": [
    "\n",
    "<details>\n",
    "<summary><strong>Gabarito sugerido</strong></summary>\n",
    "\n",
    "```python\n",
    "palavras = [\"maçã\", \"banana\", \"abacaxi\", \"uva\"]\n",
    "ordenadas = sorted(palavras, key=len)\n",
    "filtradas = list(filter(lambda p: len(p) >= 4, palavras))\n",
    "precos = [9.9, 0, 3.5]\n",
    "todos_ok = all(p >= 0 for p in precos)\n",
    "ordenadas, filtradas, todos_ok\n",
    "```\n",
    "</details>\n"
   ]
  },
  {
   "cell_type": "markdown",
   "id": "6c2e178c",
   "metadata": {},
   "source": [
    "\n",
    "## 6. Erros e exceções <a id=\"sec6\"></a>\n",
    "\n",
    "Use `try`/`except` para tratar erros previstos. `else` roda se **não** ocorreu exceção; `finally` roda sempre.\n"
   ]
  },
  {
   "cell_type": "code",
   "execution_count": null,
   "id": "3c67e0b0",
   "metadata": {},
   "outputs": [],
   "source": [
    "def divide(a, b):\n",
    "    try:\n",
    "        r = a / b\n",
    "    except ZeroDivisionError:\n",
    "        return float(\"inf\")\n",
    "    else:\n",
    "        return r\n",
    "    finally:\n",
    "        pass  # útil para fechar recursos\n",
    "divide(8, 2), divide(5, 0)"
   ]
  },
  {
   "cell_type": "code",
   "execution_count": null,
   "id": "16dd1d6d",
   "metadata": {},
   "outputs": [],
   "source": [
    "# Lançando exceções e criando uma personalizada\n",
    "class PrecoInvalidoError(Exception):\n",
    "    pass\n",
    "\n",
    "def aplicar_desconto(preco, taxa):\n",
    "    if preco < 0 or not (0 <= taxa <= 1):\n",
    "        raise PrecoInvalidoError(\"Parâmetros inválidos.\")\n",
    "    return preco * (1 - taxa)\n",
    "\n",
    "try:\n",
    "    aplicar_desconto(-10, 0.1)\n",
    "except PrecoInvalidoError as e:\n",
    "    print(\"Erro:\", e)"
   ]
  },
  {
   "cell_type": "markdown",
   "id": "5b19aa2f",
   "metadata": {},
   "source": [
    "\n",
    "**Exercício — Exceções**  \n",
    "Implemente `to_float(s)` que retorna `float(s)` e, se falhar, retorna `None` **sem** interromper o programa.\n"
   ]
  },
  {
   "cell_type": "code",
   "execution_count": null,
   "id": "1865a331",
   "metadata": {},
   "outputs": [],
   "source": [
    "# Espaço para respostas dos Exercícios propostos:\n"
   ]
  },
  {
   "cell_type": "markdown",
   "id": "63ed8618",
   "metadata": {},
   "source": [
    "\n",
    "<details>\n",
    "<summary><strong>Gabarito sugerido</strong></summary>\n",
    "\n",
    "```python\n",
    "def to_float(s):\n",
    "    try:\n",
    "        return float(s)\n",
    "    except (TypeError, ValueError):\n",
    "        return None\n",
    "```\n",
    "</details>\n"
   ]
  },
  {
   "cell_type": "markdown",
   "id": "a4d952b2",
   "metadata": {},
   "source": [
    "\n",
    "## 7. Arquivos e CSV (sem pandas) <a id=\"sec7\"></a>\n",
    "\n",
    "Use o gerenciador de contexto `with` para abrir/fechar arquivos automaticamente. Para CSV, use o módulo padrão `csv`.\n"
   ]
  },
  {
   "cell_type": "code",
   "execution_count": null,
   "id": "18136eb9",
   "metadata": {},
   "outputs": [],
   "source": [
    "# Gravando um CSV de exemplo\n",
    "import csv, os\n",
    "caminho = \"/mnt/data/vendas_exemplo.csv\"\n",
    "linhas = [\n",
    "    [\"produto\", \"categoria\", \"preco\"],\n",
    "    [\"Caderno\", \"papelaria\", \"19.90\"],\n",
    "    [\"Caneta\", \"papelaria\", \"3.20\"],\n",
    "    [\"Café\", \"alimentos\", \"7.00\"],\n",
    "    [\"Refri\", \"alimentos\", \"5.50\"],\n",
    "]\n",
    "with open(caminho, \"w\", newline=\"\", encoding=\"utf-8\") as f:\n",
    "    writer = csv.writer(f)\n",
    "    writer.writerows(linhas)\n",
    "os.path.exists(caminho)"
   ]
  },
  {
   "cell_type": "code",
   "execution_count": null,
   "id": "9f7175bf",
   "metadata": {},
   "outputs": [],
   "source": [
    "# Lendo e sumarizando\n",
    "import csv\n",
    "totais = {}\n",
    "with open(caminho, newline=\"\", encoding=\"utf-8\") as f:\n",
    "    reader = csv.DictReader(f)\n",
    "    for row in reader:\n",
    "        cat = row[\"categoria\"].lower()\n",
    "        preco = float(row[\"preco\"])\n",
    "        totais[cat] = totais.get(cat, 0.0) + preco\n",
    "totais"
   ]
  },
  {
   "cell_type": "markdown",
   "id": "d898ebd6",
   "metadata": {},
   "source": [
    "\n",
    "**Exercícios — Arquivos**  \n",
    "1. Crie um CSV com colunas `data, valor` e leia somando `valor` apenas quando `data` começar por `\"2025-\"`.  \n",
    "2. Gere um novo arquivo com os totais por categoria (uma linha por categoria).\n"
   ]
  },
  {
   "cell_type": "code",
   "execution_count": null,
   "id": "929be5ec",
   "metadata": {},
   "outputs": [],
   "source": [
    "# Espaço para respostas dos Exercícios propostos:\n"
   ]
  },
  {
   "cell_type": "markdown",
   "id": "7e74dbcb",
   "metadata": {},
   "source": [
    "\n",
    "<details>\n",
    "<summary><strong>Dica</strong></summary>\n",
    "\n",
    "Use `str.startswith(\"2025-\")` no filtro de data e `csv.DictWriter` para gravar o resultado agregado.\n",
    "</details>\n"
   ]
  },
  {
   "cell_type": "markdown",
   "id": "de0e37db",
   "metadata": {},
   "source": [
    "\n",
    "## 8. Datas e horas com `datetime` <a id=\"sec8\"></a>\n",
    "\n",
    "Conversões comuns: `strptime` (string → data) e `strftime` (data → string). Trabalhe com deltas de tempo usando `timedelta`.\n"
   ]
  },
  {
   "cell_type": "code",
   "execution_count": null,
   "id": "2744df67",
   "metadata": {},
   "outputs": [],
   "source": [
    "from datetime import datetime, timedelta\n",
    "\n",
    "agora = datetime.now()\n",
    "ontem = agora - timedelta(days=1)\n",
    "fmt = \"%Y-%m-%d %H:%M:%S\"\n",
    "agora.strftime(fmt), ontem.strftime(fmt)"
   ]
  },
  {
   "cell_type": "code",
   "execution_count": null,
   "id": "f1bdc4ed",
   "metadata": {},
   "outputs": [],
   "source": [
    "# Parse e formatação\n",
    "s = \"2025-08-19 09:30:00\"\n",
    "dt = datetime.strptime(s, \"%Y-%m-%d %H:%M:%S\")\n",
    "dt, dt.strftime(\"%d/%m/%Y %H:%M\")"
   ]
  },
  {
   "cell_type": "markdown",
   "id": "f793bbf2",
   "metadata": {},
   "source": [
    "\n",
    "**Exercício — Datetime**  \n",
    "Dada uma lista de strings `[\"2025-08-19\", \"2025-08-01\", \"2025-07-31\"]`, converta para `datetime` e ordene da mais antiga para a mais recente.\n"
   ]
  },
  {
   "cell_type": "code",
   "execution_count": null,
   "id": "a676bbc6",
   "metadata": {},
   "outputs": [],
   "source": [
    "# Espaço para respostas dos Exercícios propostos:\n"
   ]
  },
  {
   "cell_type": "markdown",
   "id": "2d91fd9d",
   "metadata": {},
   "source": [
    "\n",
    "<details>\n",
    "<summary><strong>Gabarito sugerido</strong></summary>\n",
    "\n",
    "```python\n",
    "datas = [\"2025-08-19\", \"2025-08-01\", \"2025-07-31\"]\n",
    "dts = [datetime.strptime(d, \"%Y-%m-%d\") for d in datas]\n",
    "sorted(dts)\n",
    "```\n",
    "</details>\n"
   ]
  },
  {
   "cell_type": "markdown",
   "id": "431f30f6",
   "metadata": {},
   "source": [
    "\n",
    "## 9. Expressões regulares com `re` <a id=\"sec9\"></a>\n",
    "\n",
    "Úteis para validar/parsear strings. Ex.: extrair números, validar e-mails.\n",
    "\n",
    "Sintaxe essencial (mini-guia):\n",
    "- Classes: \\d (dígito), \\w (caractere de palavra, inclui acentos), \\s (espaço).\n",
    "- Quantificadores: * (0+), + (1+), ? (0 ou 1), {m,n} (faixa).\n",
    "- Âncoras: ^ (início), $ (fim), \\b (fronteira de palavra).\n",
    "- Grupos: (...) captura; (?:...) não captura; (?P<nome>...) nomeia.\n",
    "- Alternância: A|B (ou).\n",
    "- Ganância: .* pega \"o máximo\"; .*? é preguiçoso (o mínimo)."
   ]
  },
  {
   "cell_type": "code",
   "execution_count": null,
   "id": "358d36a2",
   "metadata": {},
   "outputs": [],
   "source": [
    "import re\n",
    "\n",
    "texto = \"Pedido #123 entregue em 19/08/2025. Código: AB-42.\"\n",
    "nums = re.findall(r\"\\d+\", texto) # retorna todas as sequências numéricas que encontrar como lista de strings\n",
    "datas = re.findall(r\"\\d{2}/\\d{2}/\\d{4}\", texto) # retorna uma lista com cada data encontrada \"(dois dígitos, barra, dois dígitos, barra, quatro dígitos)\"\n",
    "codigo = re.search(r\"[A-Z]{2}-\\d{2}\", texto) # procura a primeira ocorrência do padrão \"duas letras maiúsculas, hífen, dois dígitos\"\n",
    "print(nums)\n",
    "print(datas)\n",
    "print(codigo.group(0))"
   ]
  },
  {
   "cell_type": "markdown",
   "id": "45882aba",
   "metadata": {},
   "source": [
    "\n",
    "**Exercício — Regex**  \n",
    "Dada a string `\"contato: fulano@example.com, suporte: help@empresa.com.br\"`, capture todos os e-mails.\n"
   ]
  },
  {
   "cell_type": "code",
   "execution_count": null,
   "id": "7e80b00e",
   "metadata": {},
   "outputs": [],
   "source": [
    "# Espaço para respostas dos Exercícios propostos:\n"
   ]
  },
  {
   "cell_type": "markdown",
   "id": "4c77beeb",
   "metadata": {},
   "source": [
    "\n",
    "<details>\n",
    "<summary><strong>Gabarito sugerido</strong></summary>\n",
    "\n",
    "```python\n",
    "s = \"contato: fulano@example.com, suporte: help@empresa.com.br\"\n",
    "re.findall(r\"[\\w\\.-]+@[\\w\\.-]+\", s)\n",
    "```\n",
    "</details>\n"
   ]
  },
  {
   "cell_type": "markdown",
   "id": "289a76d9",
   "metadata": {},
   "source": [
    "\n",
    "## 10. Mini-projeto: análise de vendas em CSV (Python puro) <a id=\"sec10\"></a>\n",
    "\n",
    "**Objetivo:** Ler um CSV de vendas, **validar** registros, agregar métricas e **classificar** itens por regras simples, sem usar pandas.\n",
    "\n",
    "**Tarefas:**\n",
    "1. Ler CSV com colunas: `data`, `produto`, `categoria`, `preco`.\n",
    "2. **Validar**: descartar preços negativos e datas inválidas.\n",
    "3. Agregar **total por categoria** e **ticket médio** por categoria.\n",
    "4. Listar **top 3** produtos por **preço**.\n",
    "\n",
    "**Desafio extra:** Grave um novo CSV `resumo.csv` com colunas `categoria,total,ticket_medio` e depois leia e imprima ordenado do maior para o menor `total`."
   ]
  },
  {
   "cell_type": "code",
   "execution_count": null,
   "id": "c361c40e",
   "metadata": {},
   "outputs": [],
   "source": [
    "import csv\n",
    "from datetime import datetime\n",
    "\n",
    "# Cria um CSV de exemplo\n",
    "caminho2 = \"vendas_full.csv\"\n",
    "rows = [\n",
    "    [\"data\",\"produto\",\"categoria\",\"preco\"],\n",
    "    [\"2025-08-01\",\"Caderno\",\"papelaria\",\"19.90\"],\n",
    "    [\"2025-08-02\",\"Caneta\",\"papelaria\",\"3.20\"],\n",
    "    [\"2025-08-03\",\"Café Expresso\",\"alimentos\",\"7.00\"],\n",
    "    [\"2025-08-03\",\"Refri Lata\",\"alimentos\",\"5.50\"],\n",
    "    [\"2025-08-05\",\"Mouse\",\"eletronicos\",\"79.90\"],\n",
    "    [\"2025-08-06\",\"Cabo USB\",\"eletronicos\",\"-1.00\"],   # inválido\n",
    "    [\"2025-13-40\",\"Algo\",\"bug\",\"10.00\"],               # data inválida\n",
    "    [\"2025-08-07\",\"Teclado\",\"eletronicos\",\"119.90\"],\n",
    "]\n",
    "\n",
    "with open(caminho2, \"w\", newline=\"\", encoding=\"utf-8\") as f:\n",
    "    csv.writer(f).writerows(rows)\n",
    "\n",
    "# Complete as funções abaixo conforme os exercícios propostos\n",
    "\n",
    "\n"
   ]
  }
 ],
 "metadata": {
  "kernelspec": {
   "display_name": "Python 3",
   "language": "python",
   "name": "python3"
  },
  "language_info": {
   "name": "python",
   "version": "3.x"
  }
 },
 "nbformat": 4,
 "nbformat_minor": 5
}
