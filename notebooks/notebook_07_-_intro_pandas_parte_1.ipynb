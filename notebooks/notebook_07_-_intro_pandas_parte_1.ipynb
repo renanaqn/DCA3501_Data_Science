{
 "cells": [
  {
   "cell_type": "markdown",
   "id": "9602e22b",
   "metadata": {},
   "source": [
    "# **CIÊNCIA DE DADOS** - DCA3501\n",
    "\n",
    "UNIVERSIDADE FEDERAL DO RIO GRANDE DO NORTE, NATAL/RN\n",
    "\n",
    "DEPARTAMENTO DE ENGENHARIA DE COMPUTAÇÃO E AUTOMAÇÃO\n",
    "\n",
    "(C) 2025-2026 CARLOS M D VIEGAS\n",
    "\n",
    "https://github.com/cmdviegas"
   ]
  },
  {
   "cell_type": "markdown",
   "id": "f77d4a12",
   "metadata": {},
   "source": [
    "# VII. Introdução ao **pandas** (parte 1)\n",
    "\n",
    "Este notebook é um guia **prático** para estudar a biblioteca **pandas**."
   ]
  },
  {
   "cell_type": "markdown",
   "id": "4409116e",
   "metadata": {},
   "source": [
    "O **pandas** é uma biblioteca do Python voltada para análise e manipulação de dados. Fornece estruturas de dados rápidas e flexíveis que facilitam trabalhar com tabelas, planilhas e séries temporais.\n",
    "\n",
    "Principais estruturas do **pandas**:\n",
    "- `Series`: é como uma coluna de uma planilha ou uma lista com rótulos (índices).\n",
    "- `DataFrame`: é como uma tabela, formada por linhas e colunas, similar a uma planilha do Excel ou uma tabela de banco de dados.\n",
    "\n",
    "O que dá para fazer com **pandas**?\n",
    "- Carregar dados de várias fontes: CSV, Excel, SQL, JSON, Parquet, etc.\n",
    "- Limpar e transformar dados: remover valores nulos, filtrar linhas, renomear colunas, alterar tipos de dados.\n",
    "- Analisar dados: calcular médias, somas, contagens, estatísticas descritivas.\n",
    "- Agrupar e combinar dados: juntar várias tabelas, agrupar por categorias e resumir valores.\n",
    "- Trabalhar com datas e séries temporais: muito usado em dados financeiros e científicos.\n",
    "- Exportar dados: salvar resultados em diferentes formatos."
   ]
  },
  {
   "cell_type": "markdown",
   "id": "7b880e24",
   "metadata": {},
   "source": [
    "Conforme vimos anteriormente, o **numpy** é uma biblioteca para computação numérica em Python, oferecendo arrays eficientes e operações vetorizadas rápidas. No entanto, sua flexibilidade para manipular dados é limitada: arrays do **numpy** exigem tipos **homogêneos** e não possuem rótulos para linhas e colunas, o que dificulta operações como seleção por nome, manipulação de dados e integração com fontes de dados variadas. Por isso, o **pandas** se destaca ao facilitar o trabalho com tabelas e dados heterogêneos. O **pandas** utiliza o **numpy** para armazenar e processar dados de forma eficiente, aproveitando a velocidade dos arrays do **numpy**, mas adicionando rótulos e funcionalidades avançadas para manipulação de tabelas."
   ]
  },
  {
   "cell_type": "code",
   "execution_count": 24,
   "id": "f92e4890",
   "metadata": {},
   "outputs": [
    {
     "name": "stdout",
     "output_type": "stream",
     "text": [
      "Requirement already satisfied: pandas in c:\\users\\renan\\appdata\\local\\programs\\python\\python312\\lib\\site-packages (2.3.2)\n",
      "Requirement already satisfied: numpy in c:\\users\\renan\\appdata\\local\\programs\\python\\python312\\lib\\site-packages (2.0.1)\n",
      "Requirement already satisfied: python-dateutil>=2.8.2 in c:\\users\\renan\\appdata\\local\\programs\\python\\python312\\lib\\site-packages (from pandas) (2.9.0.post0)\n",
      "Requirement already satisfied: pytz>=2020.1 in c:\\users\\renan\\appdata\\local\\programs\\python\\python312\\lib\\site-packages (from pandas) (2024.1)\n",
      "Requirement already satisfied: tzdata>=2022.7 in c:\\users\\renan\\appdata\\local\\programs\\python\\python312\\lib\\site-packages (from pandas) (2025.2)\n",
      "Requirement already satisfied: six>=1.5 in c:\\users\\renan\\appdata\\local\\programs\\python\\python312\\lib\\site-packages (from python-dateutil>=2.8.2->pandas) (1.16.0)\n"
     ]
    },
    {
     "name": "stderr",
     "output_type": "stream",
     "text": [
      "\n",
      "[notice] A new release of pip is available: 24.2 -> 25.2\n",
      "[notice] To update, run: C:\\Users\\renan\\AppData\\Local\\Programs\\Python\\Python312\\python.exe -m pip install --upgrade pip\n"
     ]
    },
    {
     "data": {
      "text/plain": [
       "'2.3.2'"
      ]
     },
     "execution_count": 24,
     "metadata": {},
     "output_type": "execute_result"
    }
   ],
   "source": [
    "# Importação das bibliotecas\n",
    "!pip install pandas numpy\n",
    "import pandas as pd\n",
    "import numpy as np\n",
    "\n",
    "pd.__version__ # exibe a versão instalada (opcional)"
   ]
  },
  {
   "cell_type": "markdown",
   "id": "072a705f",
   "metadata": {},
   "source": [
    "## 1. Series <a id=\"sec1\"></a>\n",
    "Uma `Series` é um vetor 1D, similar ao `ndarrays` do **numpy**, porém com a possibilidade de definição de **rótulos** (índices). `Series` podem ser vistas como equivalentes aos dicionários python, porém mais eficientes.\n",
    "\n",
    "Pense em `Series` como uma tabela de duas colunas invisíveis com:\n",
    "- Índice (rótulos)\n",
    "- Valores (dados)"
   ]
  },
  {
   "cell_type": "code",
   "execution_count": 25,
   "id": "ca0b0396",
   "metadata": {},
   "outputs": [
    {
     "name": "stdout",
     "output_type": "stream",
     "text": [
      "ndarray do numpy: [10 20 30]\n",
      "\n",
      "Series do pandas:\n",
      " 0    10\n",
      "1    20\n",
      "2    30\n",
      "dtype: int64\n",
      "\n",
      "Series do pandas:\n",
      " a    10\n",
      "b    20\n",
      "c    30\n",
      "Name: valores, dtype: int64\n"
     ]
    }
   ],
   "source": [
    "# ndarray\n",
    "a = np.array([10, 20, 30])\n",
    "print(\"ndarray do numpy:\", a)\n",
    "\n",
    "# series sem definição do índice\n",
    "s = pd.Series([10, 20, 30])\n",
    "print(\"\\nSeries do pandas:\\n\", s)\n",
    "\n",
    "# series com definição do índice\n",
    "s = pd.Series([10, 20, 30], index=[\"a\",\"b\",\"c\"], name=\"valores\")\n",
    "print(\"\\nSeries do pandas:\\n\", s)"
   ]
  },
  {
   "cell_type": "markdown",
   "id": "6f446f7f",
   "metadata": {},
   "source": [
    "A partir das `Series` é possível consultar os **dados** por meio dos *índices* e *posições*."
   ]
  },
  {
   "cell_type": "code",
   "execution_count": 26,
   "id": "a80f151e",
   "metadata": {},
   "outputs": [
    {
     "name": "stdout",
     "output_type": "stream",
     "text": [
      "20\n",
      "a    10\n",
      "c    30\n",
      "Name: valores, dtype: int64\n",
      "20\n",
      "20\n"
     ]
    }
   ],
   "source": [
    "print(s['b'])   # consulta o índice 'b'\n",
    "#print(s[1])       # consulta pelo número da posição (1 = segunda posição)\n",
    "\n",
    "print(s[['a','c']])  # consulta múltiplos índices\n",
    "\n",
    "print(s.iloc[1])  # consulta pelo número da posição (1 = segunda posição)\n",
    "print(s.loc['b'])  # consulta pelo rótulo do índice ('b')"
   ]
  },
  {
   "cell_type": "markdown",
   "id": "c56ec935",
   "metadata": {},
   "source": [
    "A principal diferença entre `.loc` e `.iloc` está na forma como selecionam dados em uma `Series` (ou `Dataframe`):\n",
    "\n",
    "- `.loc` seleciona **por rótulo** (nome do índice ou coluna). \n",
    "  - Por exemplo: `s.loc[0]` acessa o valor cujo índice é `0`, enquanto `s.loc[3]` acessa o valor cujo índice é `3`, mesmo que os índices não estejam em ordem.\n",
    "- `.iloc` seleciona **por posição** (inteiro baseado na ordem). \n",
    "  - Por exemplo: `s.iloc[0]` acessa o **primeiro** elemento da `Series`, `s.iloc[3]` acessa o **quarto** elemento, independentemente do nome do índice."
   ]
  },
  {
   "cell_type": "markdown",
   "id": "177c02df",
   "metadata": {},
   "source": [
    "É possível também consultar todos os valores ou todos os índices, chamando os métodos *values* ou *index* sobre a `Series`."
   ]
  },
  {
   "cell_type": "code",
   "execution_count": 27,
   "id": "443659f6",
   "metadata": {},
   "outputs": [
    {
     "name": "stdout",
     "output_type": "stream",
     "text": [
      "[10 20 30]\n",
      "Index(['a', 'b', 'c'], dtype='object')\n",
      "valores\n",
      "(3,)\n",
      "int64\n",
      "3\n",
      "1\n"
     ]
    }
   ],
   "source": [
    "print(s.values) # retorna os valores em forma de ndarray\n",
    "# s.values.tolist() # converte para lista (opcional)\n",
    "\n",
    "print(s.index) # retorna os índices\n",
    "# s.index.tolist() # converte para lista (opcional)\n",
    "\n",
    "# É possível consultar propriedades adicionais da Series:\n",
    "print(s.name) # retorna o nome da Series\n",
    "print(s.shape) # retorna o shape da Series\n",
    "print(s.dtype) # retorna o dtype dos elementos da Series\n",
    "print(s.size) # retorna o tamanho da Series\n",
    "print(s.ndim) # retorna o número de dimensões da Series"
   ]
  },
  {
   "cell_type": "markdown",
   "id": "216547fa",
   "metadata": {},
   "source": [
    "Como a `Series` é baseada no `ndarray` do **numpy**, é possível realizar operações vetorizadas diretamente sobre ela:"
   ]
  },
  {
   "cell_type": "code",
   "execution_count": 28,
   "id": "05863c30",
   "metadata": {},
   "outputs": [
    {
     "data": {
      "text/plain": [
       "(a    15\n",
       " b    25\n",
       " c    35\n",
       " Name: valores, dtype: int64,\n",
       " a    20\n",
       " b    40\n",
       " c    60\n",
       " Name: valores, dtype: int64,\n",
       " a    2.397895\n",
       " b    3.044522\n",
       " c    3.433987\n",
       " Name: valores, dtype: float64)"
      ]
     },
     "execution_count": 28,
     "metadata": {},
     "output_type": "execute_result"
    }
   ],
   "source": [
    "# Operações vetorizadas\n",
    "s + 5, s * 2, np.log1p(s)"
   ]
  },
  {
   "cell_type": "markdown",
   "id": "81e4910a",
   "metadata": {},
   "source": [
    "Uma `Series` pode conter qualquer tipo de dado: **números, strings, objetos Python, até listas ou dicionários**.\n",
    "Mas, internamente, o **pandas** tenta sempre otimizar (por exemplo, usar int64, float64, datetime64, category etc.)."
   ]
  },
  {
   "cell_type": "code",
   "execution_count": 29,
   "id": "9990f42e",
   "metadata": {},
   "outputs": [
    {
     "name": "stdout",
     "output_type": "stream",
     "text": [
      "0       10\n",
      "1    texto\n",
      "2     3.14\n",
      "3     True\n",
      "dtype: object\n"
     ]
    }
   ],
   "source": [
    "# Exemplo de Series com tipos heterogêneos\n",
    "s = pd.Series([10, \"texto\", 3.14, True])\n",
    "print(s)"
   ]
  },
  {
   "cell_type": "markdown",
   "id": "e5baeb0c",
   "metadata": {},
   "source": [
    "É possível realizar operações entre `Series`. Ao realizar operações entre duas `Series`, o **pandas** alinha pelos *índices*, não pela posição, diferentemente do **numpy** que considera apenas a posição."
   ]
  },
  {
   "cell_type": "code",
   "execution_count": 30,
   "id": "a363d124",
   "metadata": {},
   "outputs": [
    {
     "name": "stdout",
     "output_type": "stream",
     "text": [
      "a     NaN\n",
      "b    12.0\n",
      "c    23.0\n",
      "d     NaN\n",
      "dtype: float64\n"
     ]
    }
   ],
   "source": [
    "# Exemplo de alinhamento de índices em operações entre Series\n",
    "s1 = pd.Series([1, 2, 3], index=[\"a\", \"b\", \"c\"])\n",
    "s2 = pd.Series([10, 20, 30], index=[\"b\", \"c\", \"d\"])\n",
    "\n",
    "print(s1 + s2)"
   ]
  },
  {
   "cell_type": "markdown",
   "id": "b8d29f55",
   "metadata": {},
   "source": [
    "Uma `Series` aceita valores nulos `(NaN, None)` e possui métodos específicos para lidar com esse tipo de dados:\n",
    "- `s.isna()`: retorna True para valores nulos\n",
    "- `s.notna()`: retorna True para valores não nulos\n",
    "- `s.fillna(valor)`: substitui valores nulos por 'valor'\n",
    "- `s.dropna()`: remove valores nulos"
   ]
  },
  {
   "cell_type": "code",
   "execution_count": 31,
   "id": "cceebe89",
   "metadata": {},
   "outputs": [
    {
     "name": "stdout",
     "output_type": "stream",
     "text": [
      "0    10.0\n",
      "1     NaN\n",
      "2    30.0\n",
      "3     NaN\n",
      "4    50.0\n",
      "dtype: float64\n"
     ]
    },
    {
     "data": {
      "text/plain": [
       "0    10.0\n",
       "2    30.0\n",
       "4    50.0\n",
       "dtype: float64"
      ]
     },
     "execution_count": 31,
     "metadata": {},
     "output_type": "execute_result"
    }
   ],
   "source": [
    "s = pd.Series([10, np.nan, 30, None, 50])\n",
    "print(s)\n",
    "\n",
    "# s.isna() # retorna True para valores nulos (.isnull() é equivalente)\n",
    "# s.notna() # retorna True para valores não nulos (.notnull() é equivalente)\n",
    "# s.fillna(0.0) # substitui valores nulos por 'valor'\n",
    "s.dropna() # remove valores nulos"
   ]
  },
  {
   "cell_type": "markdown",
   "id": "a2469a93",
   "metadata": {},
   "source": [
    "## 2. `Dataframe` <a id=\"sec2\"></a>\n",
    "Um `Dataframe` do **pandas** é uma estrutura de dados 2D (tabela), composta por linhas e colunas, onde cada coluna pode ter um tipo diferente (números, textos, datas, etc.). Isto é, um `Dataframe` é uma tabela com linhas e colunas nomeadas. Ele é similar a uma planilha do Excel ou uma tabela de banco de dados.\n",
    "\n",
    "Principais características:\n",
    "- **Colunas nomeadas**: cada coluna tem um nome único.\n",
    "- **Índice**: cada linha possui um rótulo (índice), que pode ser numérico ou personalizado.\n",
    "- **Flexibilidade**: permite seleção, filtragem, ordenação, agregação, junção e transformação dos dados de forma eficiente.\n",
    "- **Integração**: pode importar/exportar dados de diversos formatos (CSV, Excel, SQL, JSON, Parquet).\n",
    "\n",
    "Exemplo de criação:"
   ]
  },
  {
   "cell_type": "code",
   "execution_count": 32,
   "id": "55371457",
   "metadata": {},
   "outputs": [
    {
     "data": {
      "text/html": [
       "<div>\n",
       "<style scoped>\n",
       "    .dataframe tbody tr th:only-of-type {\n",
       "        vertical-align: middle;\n",
       "    }\n",
       "\n",
       "    .dataframe tbody tr th {\n",
       "        vertical-align: top;\n",
       "    }\n",
       "\n",
       "    .dataframe thead th {\n",
       "        text-align: right;\n",
       "    }\n",
       "</style>\n",
       "<table border=\"1\" class=\"dataframe\">\n",
       "  <thead>\n",
       "    <tr style=\"text-align: right;\">\n",
       "      <th></th>\n",
       "      <th>produto</th>\n",
       "      <th>categoria</th>\n",
       "      <th>preco</th>\n",
       "      <th>qtd</th>\n",
       "    </tr>\n",
       "  </thead>\n",
       "  <tbody>\n",
       "    <tr>\n",
       "      <th>0</th>\n",
       "      <td>Caderno</td>\n",
       "      <td>Papelaria</td>\n",
       "      <td>19.9</td>\n",
       "      <td>3</td>\n",
       "    </tr>\n",
       "    <tr>\n",
       "      <th>1</th>\n",
       "      <td>Caneta</td>\n",
       "      <td>Papelaria</td>\n",
       "      <td>3.5</td>\n",
       "      <td>10</td>\n",
       "    </tr>\n",
       "    <tr>\n",
       "      <th>2</th>\n",
       "      <td>Mouse</td>\n",
       "      <td>Eletrônicos</td>\n",
       "      <td>120.0</td>\n",
       "      <td>2</td>\n",
       "    </tr>\n",
       "    <tr>\n",
       "      <th>3</th>\n",
       "      <td>Teclado</td>\n",
       "      <td>Eletrônicos</td>\n",
       "      <td>180.0</td>\n",
       "      <td>1</td>\n",
       "    </tr>\n",
       "    <tr>\n",
       "      <th>4</th>\n",
       "      <td>Café</td>\n",
       "      <td>Alimentos</td>\n",
       "      <td>7.0</td>\n",
       "      <td>5</td>\n",
       "    </tr>\n",
       "    <tr>\n",
       "      <th>5</th>\n",
       "      <td>Refri</td>\n",
       "      <td>Alimentos</td>\n",
       "      <td>5.5</td>\n",
       "      <td>8</td>\n",
       "    </tr>\n",
       "  </tbody>\n",
       "</table>\n",
       "</div>"
      ],
      "text/plain": [
       "   produto    categoria  preco  qtd\n",
       "0  Caderno    Papelaria   19.9    3\n",
       "1   Caneta    Papelaria    3.5   10\n",
       "2    Mouse  Eletrônicos  120.0    2\n",
       "3  Teclado  Eletrônicos  180.0    1\n",
       "4     Café    Alimentos    7.0    5\n",
       "5    Refri    Alimentos    5.5    8"
      ]
     },
     "execution_count": 32,
     "metadata": {},
     "output_type": "execute_result"
    }
   ],
   "source": [
    "# Dados em formato de dicionário\n",
    "dados = {\n",
    "    \"produto\": [\"Caderno\", \"Caneta\", \"Mouse\", \"Teclado\", \"Café\", \"Refri\"],\n",
    "    \"categoria\": [\"Papelaria\", \"Papelaria\", \"Eletrônicos\", \"Eletrônicos\", \"Alimentos\", \"Alimentos\"],\n",
    "    \"preco\": [19.9, 3.5, 120.0, 180.0, 7.0, 5.5],\n",
    "    \"qtd\": [3, 10, 2, 1, 5, 8],\n",
    "} \n",
    "\n",
    "# Criação do DataFrame\n",
    "df = pd.DataFrame(dados)\n",
    "\n",
    "df # exibe o DataFrame"
   ]
  },
  {
   "cell_type": "code",
   "execution_count": 33,
   "id": "059c22ce",
   "metadata": {},
   "outputs": [
    {
     "data": {
      "text/plain": [
       "RangeIndex(start=0, stop=3, step=1)"
      ]
     },
     "execution_count": 33,
     "metadata": {},
     "output_type": "execute_result"
    }
   ],
   "source": [
    "# df.shape # (número de linhas, número de colunas)\n",
    "\n",
    "# df.columns.tolist() # lista com os nomes das colunas\n",
    "\n",
    "# TODO: pq nao está mostrando as linhas?\n",
    "\n",
    "df.index[:3] # exibe os primeiros 3 índices (linhas)"
   ]
  },
  {
   "cell_type": "code",
   "execution_count": 34,
   "id": "9be4ca7d",
   "metadata": {},
   "outputs": [
    {
     "name": "stdout",
     "output_type": "stream",
     "text": [
      "<class 'pandas.core.frame.DataFrame'>\n",
      "RangeIndex: 6 entries, 0 to 5\n",
      "Data columns (total 4 columns):\n",
      " #   Column     Non-Null Count  Dtype  \n",
      "---  ------     --------------  -----  \n",
      " 0   produto    6 non-null      object \n",
      " 1   categoria  6 non-null      object \n",
      " 2   preco      6 non-null      float64\n",
      " 3   qtd        6 non-null      int64  \n",
      "dtypes: float64(1), int64(1), object(2)\n",
      "memory usage: 324.0+ bytes\n"
     ]
    }
   ],
   "source": [
    "df.info() # resumo do DataFrame"
   ]
  },
  {
   "cell_type": "code",
   "execution_count": 35,
   "id": "d3990dec",
   "metadata": {},
   "outputs": [
    {
     "data": {
      "text/html": [
       "<div>\n",
       "<style scoped>\n",
       "    .dataframe tbody tr th:only-of-type {\n",
       "        vertical-align: middle;\n",
       "    }\n",
       "\n",
       "    .dataframe tbody tr th {\n",
       "        vertical-align: top;\n",
       "    }\n",
       "\n",
       "    .dataframe thead th {\n",
       "        text-align: right;\n",
       "    }\n",
       "</style>\n",
       "<table border=\"1\" class=\"dataframe\">\n",
       "  <thead>\n",
       "    <tr style=\"text-align: right;\">\n",
       "      <th></th>\n",
       "      <th>preco</th>\n",
       "      <th>qtd</th>\n",
       "    </tr>\n",
       "  </thead>\n",
       "  <tbody>\n",
       "    <tr>\n",
       "      <th>count</th>\n",
       "      <td>6.000000</td>\n",
       "      <td>6.000000</td>\n",
       "    </tr>\n",
       "    <tr>\n",
       "      <th>mean</th>\n",
       "      <td>55.983333</td>\n",
       "      <td>4.833333</td>\n",
       "    </tr>\n",
       "    <tr>\n",
       "      <th>std</th>\n",
       "      <td>75.475438</td>\n",
       "      <td>3.544949</td>\n",
       "    </tr>\n",
       "    <tr>\n",
       "      <th>min</th>\n",
       "      <td>3.500000</td>\n",
       "      <td>1.000000</td>\n",
       "    </tr>\n",
       "    <tr>\n",
       "      <th>25%</th>\n",
       "      <td>5.875000</td>\n",
       "      <td>2.250000</td>\n",
       "    </tr>\n",
       "    <tr>\n",
       "      <th>50%</th>\n",
       "      <td>13.450000</td>\n",
       "      <td>4.000000</td>\n",
       "    </tr>\n",
       "    <tr>\n",
       "      <th>75%</th>\n",
       "      <td>94.975000</td>\n",
       "      <td>7.250000</td>\n",
       "    </tr>\n",
       "    <tr>\n",
       "      <th>max</th>\n",
       "      <td>180.000000</td>\n",
       "      <td>10.000000</td>\n",
       "    </tr>\n",
       "  </tbody>\n",
       "</table>\n",
       "</div>"
      ],
      "text/plain": [
       "            preco        qtd\n",
       "count    6.000000   6.000000\n",
       "mean    55.983333   4.833333\n",
       "std     75.475438   3.544949\n",
       "min      3.500000   1.000000\n",
       "25%      5.875000   2.250000\n",
       "50%     13.450000   4.000000\n",
       "75%     94.975000   7.250000\n",
       "max    180.000000  10.000000"
      ]
     },
     "execution_count": 35,
     "metadata": {},
     "output_type": "execute_result"
    }
   ],
   "source": [
    "df.describe() # estatísticas descritivas das colunas numéricas"
   ]
  },
  {
   "cell_type": "markdown",
   "id": "90a668a7",
   "metadata": {},
   "source": [
    "O método `.describe()` do **pandas** gera um resumo estatístico das colunas numéricas de um `Dataframe` ou `Series`. Ele retorna métricas como contagem (`count`), média (`mean`), desvio padrão (`std`), valores mínimo e máximo (`min`, `max`), além dos quartis (`25%`, `50%`, `75%`). Essas estatísticas ajudam a entender a distribuição e as características dos dados, facilitando a análise exploratória."
   ]
  },
  {
   "cell_type": "markdown",
   "id": "78ccb12b",
   "metadata": {},
   "source": [
    "## 3. Criação, importação e exportação de `Dataframe` e `Series`<a id=\"sec3\"></a>\n",
    "\n",
    "`Dataframes` **pandas** podem ser criados de diversas formas:\n",
    "\n",
    "- A partir de `Series`: cada coluna pode ser uma `Series`, alinhadas pelo índice.\n",
    "- A partir de listas de dicionários: cada dicionário representa uma linha, com chaves como nomes das colunas.\n",
    "- A partir de dicionários de listas ou arrays: cada chave é o nome da coluna e o valor é a lista/array de dados.\n",
    "- A partir de arrays **numpy**: arrays com nomes de campos podem ser convertidos diretamente.\n",
    "- A partir de arquivos externos: como CSV, Excel, JSON, Parquet, SQL, entre outros formatos.\n",
    "- A partir de outros `Dataframes`: por cópia, seleção ou transformação.\n",
    "\n",
    "Essa flexibilidade permite importar, combinar e manipular dados de diversas fontes e formatos."
   ]
  },
  {
   "cell_type": "code",
   "execution_count": 36,
   "id": "10f865ea",
   "metadata": {},
   "outputs": [
    {
     "name": "stdout",
     "output_type": "stream",
     "text": [
      "   valores  taxa\n",
      "a       10   1.5\n",
      "b       20   2.5\n",
      "c       30   3.5\n"
     ]
    }
   ],
   "source": [
    "# Dataframe a partir de Series\n",
    "s1 = pd.Series([10, 20, 30], index=[\"a\", \"b\", \"c\"])\n",
    "s2 = pd.Series([1.5, 2.5, 3.5], index=[\"a\", \"b\", \"c\"])\n",
    "df = pd.DataFrame({\"valores\": s1, \"taxa\": s2})\n",
    "print(df)"
   ]
  },
  {
   "cell_type": "code",
   "execution_count": 37,
   "id": "83f37861",
   "metadata": {},
   "outputs": [
    {
     "name": "stdout",
     "output_type": "stream",
     "text": [
      "     nome  idade cidade\n",
      "0     Ana   23.0    NaN\n",
      "1    Beto   34.0     RJ\n",
      "2  Carlos    NaN    NaN\n"
     ]
    }
   ],
   "source": [
    "# Dataframe a partir de listas de dicionários\n",
    "dados = [\n",
    "    {\"nome\": \"Ana\", \"idade\": 23},\n",
    "    {\"nome\": \"Beto\", \"idade\": 34, \"cidade\": \"RJ\"},\n",
    "    {\"nome\": \"Carlos\"}  # pode faltar coluna\n",
    "]\n",
    "\n",
    "df = pd.DataFrame(dados)\n",
    "print(df)"
   ]
  },
  {
   "cell_type": "code",
   "execution_count": 38,
   "id": "053b20b5",
   "metadata": {},
   "outputs": [
    {
     "name": "stdout",
     "output_type": "stream",
     "text": [
      "     nome  idade cidade\n",
      "0     Ana     23     SP\n",
      "1    Beto     34     RJ\n",
      "2  Carlos     45     BH\n"
     ]
    }
   ],
   "source": [
    "# Dataframe a partir de dicionários de listas ou arrays\n",
    "df = pd.DataFrame({\n",
    "    \"nome\": [\"Ana\", \"Beto\", \"Carlos\"],\n",
    "    \"idade\": [23, 34, 45],\n",
    "    \"cidade\": [\"SP\", \"RJ\", \"BH\"]\n",
    "})\n",
    "print(df)"
   ]
  },
  {
   "cell_type": "code",
   "execution_count": 39,
   "id": "036c9509",
   "metadata": {},
   "outputs": [
    {
     "name": "stdout",
     "output_type": "stream",
     "text": [
      "   A  B  C\n",
      "0  1  2  3\n",
      "1  4  5  6\n",
      "   id  nome\n",
      "0   1   Ana\n",
      "1   2  Beto\n"
     ]
    }
   ],
   "source": [
    "# Dataframe a partir de arrays NumPy bidimensionais\n",
    "arr = np.array([[1, 2, 3],\n",
    "                [4, 5, 6]])\n",
    "\n",
    "df = pd.DataFrame(arr, columns=[\"A\", \"B\", \"C\"])\n",
    "print(df)\n",
    "\n",
    "# Dataframe a partir de arrays NumPy estruturados\n",
    "arr = np.array([(1, \"Ana\"), (2, \"Beto\")],\n",
    "               dtype=[(\"id\", \"i4\"), (\"nome\", \"U10\")]) # i4 = int32, U10 = string de até 10 caracteres\n",
    "\n",
    "df = pd.DataFrame(arr)\n",
    "print(df)"
   ]
  },
  {
   "cell_type": "code",
   "execution_count": 40,
   "id": "48298ff3",
   "metadata": {},
   "outputs": [
    {
     "name": "stdout",
     "output_type": "stream",
     "text": [
      "   id   nome       cidade data_cadastro\n",
      "0   1    Ana        Natal    2024-05-01\n",
      "1   3  Carla    Fortaleza    2024-06-10\n",
      "2   4  Diego  João Pessoa    2024-07-02\n",
      "\n",
      "   id   nome       cidade data_cadastro\n",
      "0   1    Ana        Natal    2024-05-01\n",
      "1   2  Bruno       Recife    2024-05-03\n",
      "2   3  Carla    Fortaleza    2024-06-10\n",
      "3   4  Diego  João Pessoa    2024-07-02\n",
      "\n",
      "   pedido_id  cliente_id  valor                      itens\n",
      "0        101           1  123.5          [caderno, caneta]\n",
      "1        102           2   55.9                    [mouse]\n",
      "2        103           1  310.0  [teclado, mouse, hub usb]\n"
     ]
    }
   ],
   "source": [
    "# Dataframe a partir de arquivos externos\n",
    "# CSV\n",
    "df_csv = pd.read_csv(\"files/clientes_filtrados.csv\") # Método .read_csv()\n",
    "print(df_csv)\n",
    "print()\n",
    "# Excel\n",
    "df_excel = pd.read_excel(\"files/planilha_clientes.xlsx\") # Método .read_excel()\n",
    "print(df_excel)\n",
    "print()\n",
    "# JSON\n",
    "df_json = pd.read_json(\"files/pedidos.json\") # Método .read_json()\n",
    "print(df_json)"
   ]
  },
  {
   "cell_type": "markdown",
   "id": "0ed0423b",
   "metadata": {},
   "source": [
    "## Exercício proposto: \n",
    "\n",
    "Procure na Internet arquivos .csv, .json e .xlsx para que sejam carregados pelos métodos acima. Responda abaixo:"
   ]
  },
  {
   "cell_type": "code",
   "execution_count": 41,
   "id": "d434e4ff",
   "metadata": {},
   "outputs": [
    {
     "data": {
      "text/html": [
       "<div>\n",
       "<style scoped>\n",
       "    .dataframe tbody tr th:only-of-type {\n",
       "        vertical-align: middle;\n",
       "    }\n",
       "\n",
       "    .dataframe tbody tr th {\n",
       "        vertical-align: top;\n",
       "    }\n",
       "\n",
       "    .dataframe thead th {\n",
       "        text-align: right;\n",
       "    }\n",
       "</style>\n",
       "<table border=\"1\" class=\"dataframe\">\n",
       "  <thead>\n",
       "    <tr style=\"text-align: right;\">\n",
       "      <th></th>\n",
       "      <th>siape</th>\n",
       "      <th>nome</th>\n",
       "      <th>sexo</th>\n",
       "      <th>formacao</th>\n",
       "      <th>tipo_jornada_trabalho</th>\n",
       "      <th>vinculo</th>\n",
       "      <th>categoria</th>\n",
       "      <th>classe_funcional</th>\n",
       "      <th>id_unidade_lotacao</th>\n",
       "      <th>lotacao</th>\n",
       "      <th>admissao</th>\n",
       "    </tr>\n",
       "  </thead>\n",
       "  <tbody>\n",
       "    <tr>\n",
       "      <th>0</th>\n",
       "      <td>1543339</td>\n",
       "      <td>ADELE GUIMARAES UBARANA SANTOS</td>\n",
       "      <td>F</td>\n",
       "      <td>MESTRADO</td>\n",
       "      <td>Dedicação exclusiva</td>\n",
       "      <td>Ativo Permanente</td>\n",
       "      <td>PROFESSOR DE ENSINO BASICO TECNICO E TECNOLOGICO</td>\n",
       "      <td>Classe C                                      ...</td>\n",
       "      <td>1452</td>\n",
       "      <td>NÚCLEO DE EDUCAÇÃO DA INFÂNCIA</td>\n",
       "      <td>2006/07/24 00:00:00.000000000</td>\n",
       "    </tr>\n",
       "    <tr>\n",
       "      <th>1</th>\n",
       "      <td>1554468</td>\n",
       "      <td>AFRANIO CESAR DE ARAUJO</td>\n",
       "      <td>M</td>\n",
       "      <td>DOUTORADO</td>\n",
       "      <td>Dedicação exclusiva</td>\n",
       "      <td>Ativo Permanente</td>\n",
       "      <td>PROFESSOR DE ENSINO BASICO TECNICO E TECNOLOGICO</td>\n",
       "      <td>Titular                                       ...</td>\n",
       "      <td>351</td>\n",
       "      <td>ESCOLA AGRÍCOLA DE JUNDIAÍ</td>\n",
       "      <td>2008/09/12 00:00:00.000000000</td>\n",
       "    </tr>\n",
       "    <tr>\n",
       "      <th>2</th>\n",
       "      <td>1177821</td>\n",
       "      <td>AIRTON FERNANDES GUIMARAES FILHO</td>\n",
       "      <td>M</td>\n",
       "      <td>MESTRADO</td>\n",
       "      <td>Dedicação exclusiva</td>\n",
       "      <td>Ativo Permanente</td>\n",
       "      <td>PROFESSOR DE ENSINO BASICO TECNICO E TECNOLOGICO</td>\n",
       "      <td>Classe C                                      ...</td>\n",
       "      <td>284</td>\n",
       "      <td>ESCOLA DE MÚSICA</td>\n",
       "      <td>1998/04/28 00:00:00.000000000</td>\n",
       "    </tr>\n",
       "    <tr>\n",
       "      <th>3</th>\n",
       "      <td>2360824</td>\n",
       "      <td>ALDAIR RODRIGUES DA SILVA</td>\n",
       "      <td>M</td>\n",
       "      <td>MESTRADO</td>\n",
       "      <td>Dedicação exclusiva</td>\n",
       "      <td>Ativo Permanente</td>\n",
       "      <td>PROFESSOR DE ENSINO BASICO TECNICO E TECNOLOGICO</td>\n",
       "      <td>Classe B                                      ...</td>\n",
       "      <td>351</td>\n",
       "      <td>ESCOLA AGRÍCOLA DE JUNDIAÍ</td>\n",
       "      <td>2017/01/25 00:00:00.000000000</td>\n",
       "    </tr>\n",
       "    <tr>\n",
       "      <th>4</th>\n",
       "      <td>2364334</td>\n",
       "      <td>ALESSANDRA MENDES PACHECO</td>\n",
       "      <td>F</td>\n",
       "      <td>DOUTORADO</td>\n",
       "      <td>Dedicação exclusiva</td>\n",
       "      <td>Ativo Permanente</td>\n",
       "      <td>PROFESSOR DE ENSINO BASICO TECNICO E TECNOLOGICO</td>\n",
       "      <td>Titular                                       ...</td>\n",
       "      <td>351</td>\n",
       "      <td>ESCOLA AGRÍCOLA DE JUNDIAÍ</td>\n",
       "      <td>2009/10/13 00:00:00.000000000</td>\n",
       "    </tr>\n",
       "  </tbody>\n",
       "</table>\n",
       "</div>"
      ],
      "text/plain": [
       "     siape                              nome sexo   formacao  \\\n",
       "0  1543339    ADELE GUIMARAES UBARANA SANTOS    F   MESTRADO   \n",
       "1  1554468           AFRANIO CESAR DE ARAUJO    M  DOUTORADO   \n",
       "2  1177821  AIRTON FERNANDES GUIMARAES FILHO    M   MESTRADO   \n",
       "3  2360824         ALDAIR RODRIGUES DA SILVA    M   MESTRADO   \n",
       "4  2364334         ALESSANDRA MENDES PACHECO    F  DOUTORADO   \n",
       "\n",
       "            tipo_jornada_trabalho           vinculo  \\\n",
       "0  Dedicação exclusiva             Ativo Permanente   \n",
       "1  Dedicação exclusiva             Ativo Permanente   \n",
       "2  Dedicação exclusiva             Ativo Permanente   \n",
       "3  Dedicação exclusiva             Ativo Permanente   \n",
       "4  Dedicação exclusiva             Ativo Permanente   \n",
       "\n",
       "                                          categoria  \\\n",
       "0  PROFESSOR DE ENSINO BASICO TECNICO E TECNOLOGICO   \n",
       "1  PROFESSOR DE ENSINO BASICO TECNICO E TECNOLOGICO   \n",
       "2  PROFESSOR DE ENSINO BASICO TECNICO E TECNOLOGICO   \n",
       "3  PROFESSOR DE ENSINO BASICO TECNICO E TECNOLOGICO   \n",
       "4  PROFESSOR DE ENSINO BASICO TECNICO E TECNOLOGICO   \n",
       "\n",
       "                                    classe_funcional  id_unidade_lotacao  \\\n",
       "0  Classe C                                      ...                1452   \n",
       "1  Titular                                       ...                 351   \n",
       "2  Classe C                                      ...                 284   \n",
       "3  Classe B                                      ...                 351   \n",
       "4  Titular                                       ...                 351   \n",
       "\n",
       "                          lotacao                       admissao  \n",
       "0  NÚCLEO DE EDUCAÇÃO DA INFÂNCIA  2006/07/24 00:00:00.000000000  \n",
       "1      ESCOLA AGRÍCOLA DE JUNDIAÍ  2008/09/12 00:00:00.000000000  \n",
       "2                ESCOLA DE MÚSICA  1998/04/28 00:00:00.000000000  \n",
       "3      ESCOLA AGRÍCOLA DE JUNDIAÍ  2017/01/25 00:00:00.000000000  \n",
       "4      ESCOLA AGRÍCOLA DE JUNDIAÍ  2009/10/13 00:00:00.000000000  "
      ]
     },
     "execution_count": 41,
     "metadata": {},
     "output_type": "execute_result"
    }
   ],
   "source": [
    "# Espaço para respostas do exercícios proposto:\n",
    "\n",
    "url = \"https://dados.ufrn.br/dataset/8bf1a468-48ff-4f4d-95ee-b17b7a3a5592/resource/6a8e5461-e748-45c6-aac6-432188d88dde/download/docentes.csv\"\n",
    "\n",
    "docentes = pd.read_csv(url, sep=';')\n",
    "docentes.head()"
   ]
  },
  {
   "cell_type": "code",
   "execution_count": 42,
   "id": "e99acfd6",
   "metadata": {},
   "outputs": [
    {
     "name": "stdout",
     "output_type": "stream",
     "text": [
      "0    23\n",
      "1    34\n",
      "2    45\n",
      "Name: idade, dtype: int64\n"
     ]
    }
   ],
   "source": [
    "# Criação de Series a partir de DataFrames\n",
    "df = pd.DataFrame({\n",
    "    \"nome\": [\"Ana\", \"Beto\", \"Carlos\"],\n",
    "    \"idade\": [23, 34, 45],\n",
    "    \"cidade\": [\"SP\", \"RJ\", \"BH\"]\n",
    "})\n",
    "\n",
    "s = df[\"idade\"]   # pega a coluna \"idade\"\n",
    "print(s)\n",
    "#print(type(s))"
   ]
  },
  {
   "cell_type": "markdown",
   "id": "5ac2e913",
   "metadata": {},
   "source": [
    "## 4. Seleção e indexação\n",
    "\n",
    "A seleção e indexação de `Dataframes` no **pandas** permite acessar, filtrar e manipular dados de forma eficiente. \n",
    "\n",
    "Os principais métodos são:\n",
    "- **Colunas**: Para selecionar uma coluna, use `df[\"coluna\"]` ou `df.coluna`. \n",
    "    - Para múltiplas colunas, use `df[[\"col1\", \"col2\"]]`.\n",
    "- **Linhas por índice**: Use `df.loc[]` para selecionar por rótulo (nome do índice) e `df.iloc[]` para selecionar por posição (inteiro).\n",
    "    - Exemplo: `df.loc[0]` retorna a linha com índice 0; `df.iloc[0]` retorna a primeira linha.\n",
    "- **Linhas e colunas**: Combine seleção de linhas e colunas: `df.loc[linhas, colunas]` ou `df.iloc[linhas, colunas]`.\n",
    "    - Exemplo: `df.loc[0:2, [\"nome\", \"idade\"]]` retorna as linhas de 0 a 2 das colunas \"nome\" e \"idade\".\n",
    "- **Filtragem condicional**: Use expressões booleanas para filtrar linhas, como `df[df[\"idade\"] > 30]`.\n",
    "- **Atributos auxiliares**: Métodos como `.head()`, `.tail()`, `.sample()` e `.query()` facilitam a visualização e seleção de dados."
   ]
  },
  {
   "cell_type": "code",
   "execution_count": 43,
   "id": "5c6dbf2c",
   "metadata": {},
   "outputs": [
    {
     "name": "stdout",
     "output_type": "stream",
     "text": [
      "     nome  idade cidade\n",
      "0     Ana     23     SP\n",
      "1    Beto     34     RJ\n",
      "2  Carlos     45     BH\n",
      "3   Diana     29     SP\n",
      "4     Edu     40     RS\n"
     ]
    }
   ],
   "source": [
    "# DataFrame simples para trabalhar os conceitos\n",
    "df = pd.DataFrame({\n",
    "    \"nome\": [\"Ana\", \"Beto\", \"Carlos\", \"Diana\", \"Edu\"],\n",
    "    \"idade\": [23, 34, 45, 29, 40],\n",
    "    \"cidade\": [\"SP\", \"RJ\", \"BH\", \"SP\", \"RS\"]\n",
    "})\n",
    "\n",
    "print(df)"
   ]
  },
  {
   "cell_type": "code",
   "execution_count": 44,
   "id": "ef13e044",
   "metadata": {},
   "outputs": [
    {
     "name": "stdout",
     "output_type": "stream",
     "text": [
      "0       Ana\n",
      "1      Beto\n",
      "2    Carlos\n",
      "3     Diana\n",
      "4       Edu\n",
      "Name: nome, dtype: object\n",
      "0       Ana\n",
      "1      Beto\n",
      "2    Carlos\n",
      "3     Diana\n",
      "4       Edu\n",
      "Name: nome, dtype: object\n",
      "     nome  idade\n",
      "0     Ana     23\n",
      "1    Beto     34\n",
      "2  Carlos     45\n",
      "3   Diana     29\n",
      "4     Edu     40\n"
     ]
    }
   ],
   "source": [
    "# Seleção de colunas\n",
    "\n",
    "# Selecionar uma única coluna\n",
    "print(df[\"nome\"])\n",
    "print(df.nome)   # funciona se o nome da coluna não tiver espaços\n",
    "\n",
    "# Selecionar múltiplas colunas\n",
    "print(df[[\"nome\", \"idade\"]])\n"
   ]
  },
  {
   "cell_type": "code",
   "execution_count": 45,
   "id": "11307765",
   "metadata": {},
   "outputs": [
    {
     "name": "stdout",
     "output_type": "stream",
     "text": [
      "nome      Ana\n",
      "idade      23\n",
      "cidade     SP\n",
      "Name: 0, dtype: object\n",
      "\n",
      "     nome  idade cidade\n",
      "0     Ana     23     SP\n",
      "1    Beto     34     RJ\n",
      "2  Carlos     45     BH\n",
      "\n",
      "nome      Ana\n",
      "idade      23\n",
      "cidade     SP\n",
      "Name: 0, dtype: object\n",
      "\n",
      "     nome  idade cidade\n",
      "0     Ana     23     SP\n",
      "1    Beto     34     RJ\n",
      "2  Carlos     45     BH\n"
     ]
    }
   ],
   "source": [
    "# Seleção de linhas por índice\n",
    "\n",
    "# Selecionar por rótulo do índice (loc)\n",
    "print(df.loc[0])   # retorna a linha com índice 0\n",
    "print()\n",
    "print(df.loc[0:2]) # linhas de 0 a 2 (inclusive)\n",
    "print()\n",
    "\n",
    "# Selecionar por posição numérica (iloc)\n",
    "print(df.iloc[0])   # primeira linha\n",
    "print()\n",
    "print(df.iloc[0:3]) # linhas de 0 até 2\n"
   ]
  },
  {
   "cell_type": "code",
   "execution_count": 46,
   "id": "2263542d",
   "metadata": {},
   "outputs": [
    {
     "name": "stdout",
     "output_type": "stream",
     "text": [
      "     nome  idade\n",
      "0     Ana     23\n",
      "1    Beto     34\n",
      "2  Carlos     45\n",
      "\n",
      "     nome  idade\n",
      "0     Ana     23\n",
      "1    Beto     34\n",
      "2  Carlos     45\n",
      "\n",
      "   idade cidade\n",
      "0     23     SP\n",
      "1     34     RJ\n",
      "2     45     BH\n"
     ]
    }
   ],
   "source": [
    "# Seleção de linhas e colunas\n",
    " \n",
    "# Usando loc: linhas de 0 a 2 e apenas colunas \"nome\" e \"idade\"\n",
    "print(df.loc[0:2, [\"nome\", \"idade\"]])\n",
    "print()\n",
    "# Usando iloc: linhas de 0 a 2 e primeiras duas colunas\n",
    "print(df.iloc[0:3, 0:2])\n",
    "print()\n",
    "print(df.iloc[0:3, 1:3])"
   ]
  },
  {
   "cell_type": "code",
   "execution_count": 47,
   "id": "99b1ae1f",
   "metadata": {},
   "outputs": [
    {
     "name": "stdout",
     "output_type": "stream",
     "text": [
      "     nome  idade cidade\n",
      "1    Beto     34     RJ\n",
      "2  Carlos     45     BH\n",
      "4     Edu     40     RS\n",
      "    nome  idade cidade\n",
      "0    Ana     23     SP\n",
      "3  Diana     29     SP\n"
     ]
    }
   ],
   "source": [
    "# Filtragem condicional\n",
    "\n",
    "# Selecionar apenas pessoas com idade maior que 30\n",
    "print(df[df[\"idade\"] > 30])\n",
    "\n",
    "# Selecionar apenas pessoas da cidade de SP\n",
    "print(df[df[\"cidade\"] == \"SP\"])"
   ]
  },
  {
   "cell_type": "code",
   "execution_count": 48,
   "id": "d8729a16",
   "metadata": {},
   "outputs": [
    {
     "name": "stdout",
     "output_type": "stream",
     "text": [
      "     nome  idade cidade\n",
      "0     Ana     23     SP\n",
      "1    Beto     34     RJ\n",
      "2  Carlos     45     BH\n",
      "    nome  idade cidade\n",
      "3  Diana     29     SP\n",
      "4    Edu     40     RS\n",
      "     nome  idade cidade\n",
      "2  Carlos     45     BH\n",
      "4     Edu     40     RS\n",
      "Empty DataFrame\n",
      "Columns: [nome, idade, cidade]\n",
      "Index: []\n"
     ]
    }
   ],
   "source": [
    "# Atributos auxiliares\n",
    "print(df.head(3))    # primeiras 3 linhas\n",
    "print(df.tail(2))    # últimas 2 linhas\n",
    "print(df.sample(2))  # 2 linhas aleatórias\n",
    "print(df.query(\"idade > 30 and cidade == 'SP'\"))"
   ]
  },
  {
   "cell_type": "code",
   "execution_count": 49,
   "id": "fe7b0e4c",
   "metadata": {},
   "outputs": [
    {
     "name": "stdout",
     "output_type": "stream",
     "text": [
      "\n",
      "Idade > 30 E cidade == SP:\n",
      "Empty DataFrame\n",
      "Columns: [nome, idade, cidade]\n",
      "Index: []\n",
      "\n",
      "Idade < 30 OU cidade == RJ:\n",
      "    nome  idade cidade\n",
      "0    Ana     23     SP\n",
      "1   Beto     34     RJ\n",
      "3  Diana     29     SP\n",
      "\n",
      "Cidade diferente de SP:\n",
      "     nome  idade cidade\n",
      "1    Beto     34     RJ\n",
      "2  Carlos     45     BH\n",
      "4     Edu     40     RS\n"
     ]
    }
   ],
   "source": [
    "# Condições compostas\n",
    "\n",
    "# Pessoas com idade > 30 e cidade SP\n",
    "filtro1 = (df[\"idade\"] > 30) & (df[\"cidade\"] == \"SP\")\n",
    "print(\"\\nIdade > 30 E cidade == SP:\")\n",
    "print(df[filtro1])\n",
    "\n",
    "# Pessoas com idade < 30 ou cidade RJ\n",
    "filtro2 = (df[\"idade\"] < 30) | (df[\"cidade\"] == \"RJ\")\n",
    "print(\"\\nIdade < 30 OU cidade == RJ:\")\n",
    "print(df[filtro2])\n",
    "\n",
    "# Pessoas que NÃO são de SP\n",
    "filtro3 = ~(df[\"cidade\"] == \"SP\")\n",
    "print(\"\\nCidade diferente de SP:\")\n",
    "print(df[filtro3])"
   ]
  },
  {
   "cell_type": "markdown",
   "id": "1a5e3913",
   "metadata": {},
   "source": [
    "## 5. Valores ausentes ou nulos <a id=\"sec5\"></a>\n",
    "\n",
    "Valores ausentes ou nulos em `Dataframes` do **pandas** representam dados faltantes, incompletos ou desconhecidos. Eles são indicados principalmente por `NaN` (*Not a Number*) para dados numéricos e `None` para objetos. A presença de valores nulos é comum em bases de dados reais, seja por erros de coleta, falhas de preenchimento ou ausência natural de informações.\n",
    "\n",
    "O **pandas** oferece métodos eficientes para identificar, tratar e manipular esses valores (similar ao que já vimos com as `Series`):\n",
    "- `isna()` ou `isnull()`: identificam valores nulos, retornando um `Dataframe` booleano.\n",
    "- `notna()` ou `notnull()`: identificam valores não nulos.\n",
    "- `fillna(valor)`: preenche valores nulos com um valor específico.\n",
    "- `dropna()`: remove linhas ou colunas que contenham valores nulos.\n",
    "\n",
    "O tratamento adequado de valores ausentes é fundamental para garantir a qualidade das análises, evitar erros em operações matemáticas e estatísticas."
   ]
  },
  {
   "cell_type": "code",
   "execution_count": 50,
   "id": "91f9608d",
   "metadata": {},
   "outputs": [
    {
     "name": "stdout",
     "output_type": "stream",
     "text": [
      "     nome  idade cidade\n",
      "0     Ana   23.0     SP\n",
      "1    Beto    NaN     RJ\n",
      "2  Carlos   45.0   None\n",
      "3    None   29.0     BH\n",
      "Identificar valores nulos (isna):\n",
      "    nome  idade  cidade\n",
      "0  False  False   False\n",
      "1  False   True   False\n",
      "2  False  False    True\n",
      "3   True  False   False\n",
      "Identificar valores não nulos (notna):\n",
      "    nome  idade  cidade\n",
      "0   True   True    True\n",
      "1   True  False    True\n",
      "2   True   True   False\n",
      "3  False   True    True\n"
     ]
    }
   ],
   "source": [
    "# DataFrame com valores ausentes (NaN)\n",
    "df = pd.DataFrame({\n",
    "    \"nome\": [\"Ana\", \"Beto\", \"Carlos\", None],\n",
    "    \"idade\": [23, np.nan, 45, 29],\n",
    "    \"cidade\": [\"SP\", \"RJ\", None, \"BH\"]\n",
    "})\n",
    "print(df)\n",
    "\n",
    "print(\"Identificar valores nulos (isna):\")\n",
    "print(df.isna())\n",
    "\n",
    "print(\"Identificar valores não nulos (notna):\")\n",
    "print(df.notna())"
   ]
  },
  {
   "cell_type": "code",
   "execution_count": 51,
   "id": "c6700729",
   "metadata": {},
   "outputs": [
    {
     "name": "stdout",
     "output_type": "stream",
     "text": [
      "Preencher nulos com valor fixo:\n",
      "           nome         idade        cidade\n",
      "0           Ana          23.0            SP\n",
      "1          Beto  Desconhecido            RJ\n",
      "2        Carlos          45.0  Desconhecido\n",
      "3  Desconhecido          29.0            BH\n",
      "\n",
      "Preencher nulos na coluna idade com média:\n",
      "     nome      idade cidade\n",
      "0     Ana  23.000000     SP\n",
      "1    Beto  32.333333     RJ\n",
      "2  Carlos  45.000000   None\n",
      "3    None  29.000000     BH\n"
     ]
    }
   ],
   "source": [
    "# Preenchimento (fillna)\n",
    "print(\"Preencher nulos com valor fixo:\")\n",
    "print(df.fillna(\"Desconhecido\"))\n",
    "\n",
    "print(\"\\nPreencher nulos na coluna idade com média:\")\n",
    "print(df.assign(idade=df[\"idade\"].fillna(df[\"idade\"].mean())))\n"
   ]
  },
  {
   "cell_type": "code",
   "execution_count": 52,
   "id": "572cfd7e",
   "metadata": {},
   "outputs": [
    {
     "name": "stdout",
     "output_type": "stream",
     "text": [
      "Remover linhas com valores nulos:\n",
      "  nome  idade cidade\n",
      "0  Ana   23.0     SP\n",
      "\n",
      "Remover colunas com valores nulos:\n",
      "Empty DataFrame\n",
      "Columns: []\n",
      "Index: [0, 1, 2, 3]\n"
     ]
    }
   ],
   "source": [
    "# Remoção (dropna)\n",
    "print(\"Remover linhas com valores nulos:\")\n",
    "print(df.dropna())\n",
    "\n",
    "print(\"\\nRemover colunas com valores nulos:\")\n",
    "print(df.dropna(axis=1))"
   ]
  },
  {
   "cell_type": "markdown",
   "id": "07b0c5ee",
   "metadata": {},
   "source": [
    "## 6. Tipos, conversões e categóricos (`category`) <a id=\"sec6\"></a>\n",
    "\n",
    "No **pandas**, cada coluna de um `Dataframe` possui um tipo de dado (`dtype`), como `int64`, `float64`, `object` (para strings), entre outros. É possível converter tipos usando métodos como `.astype()` e `pd.to_numeric()`, facilitando o tratamento e análise dos dados. \n",
    "\n",
    "Colunas categóricas (`category`) são um tipo de dado úteis para representar dados com poucos valores distintos (dados que variam pouco), otimizando memória e desempenho em operações estatísticas e agrupamentos."
   ]
  },
  {
   "cell_type": "code",
   "execution_count": 53,
   "id": "92c36403",
   "metadata": {},
   "outputs": [
    {
     "data": {
      "text/html": [
       "<div>\n",
       "<style scoped>\n",
       "    .dataframe tbody tr th:only-of-type {\n",
       "        vertical-align: middle;\n",
       "    }\n",
       "\n",
       "    .dataframe tbody tr th {\n",
       "        vertical-align: top;\n",
       "    }\n",
       "\n",
       "    .dataframe thead th {\n",
       "        text-align: right;\n",
       "    }\n",
       "</style>\n",
       "<table border=\"1\" class=\"dataframe\">\n",
       "  <thead>\n",
       "    <tr style=\"text-align: right;\">\n",
       "      <th></th>\n",
       "      <th>idade</th>\n",
       "      <th>altura</th>\n",
       "      <th>cidade</th>\n",
       "    </tr>\n",
       "  </thead>\n",
       "  <tbody>\n",
       "    <tr>\n",
       "      <th>0</th>\n",
       "      <td>23</td>\n",
       "      <td>1.65</td>\n",
       "      <td>SP</td>\n",
       "    </tr>\n",
       "    <tr>\n",
       "      <th>1</th>\n",
       "      <td>34</td>\n",
       "      <td>1.80</td>\n",
       "      <td>RJ</td>\n",
       "    </tr>\n",
       "    <tr>\n",
       "      <th>2</th>\n",
       "      <td>45</td>\n",
       "      <td>1.75</td>\n",
       "      <td>SP</td>\n",
       "    </tr>\n",
       "  </tbody>\n",
       "</table>\n",
       "</div>"
      ],
      "text/plain": [
       "  idade  altura cidade\n",
       "0    23    1.65     SP\n",
       "1    34    1.80     RJ\n",
       "2    45    1.75     SP"
      ]
     },
     "execution_count": 53,
     "metadata": {},
     "output_type": "execute_result"
    }
   ],
   "source": [
    "# Criando um DataFrame de exemplo\n",
    "df = pd.DataFrame({\n",
    "    \"idade\": [\"23\", \"34\", \"45\"],   # armazenado como string\n",
    "    \"altura\": [1.65, 1.80, 1.75],  # float\n",
    "    \"cidade\": [\"SP\", \"RJ\", \"SP\"]   # texto\n",
    "})\n",
    "\n",
    "df"
   ]
  },
  {
   "cell_type": "code",
   "execution_count": 54,
   "id": "154d1481",
   "metadata": {},
   "outputs": [
    {
     "name": "stdout",
     "output_type": "stream",
     "text": [
      "idade      object\n",
      "altura    float64\n",
      "cidade     object\n",
      "dtype: object\n",
      "idade       int64\n",
      "altura    float64\n",
      "cidade     object\n",
      "dtype: object\n"
     ]
    }
   ],
   "source": [
    "# Exemplo de conversão de tipos\n",
    "\n",
    "print(df.dtypes) # tipos atuais das colunas\n",
    "\n",
    "# Convertendo a coluna 'idade' de string para inteiro\n",
    "df[\"idade\"] = df[\"idade\"].astype(\"int64\")\n",
    "\n",
    "print(df.dtypes) # tipos após conversão"
   ]
  },
  {
   "cell_type": "code",
   "execution_count": 55,
   "id": "78e31a7d",
   "metadata": {},
   "outputs": [
    {
     "name": "stdout",
     "output_type": "stream",
     "text": [
      "idade       int64\n",
      "altura    float64\n",
      "cidade     object\n",
      "dtype: object\n",
      "idade        int64\n",
      "altura     float64\n",
      "cidade    category\n",
      "dtype: object\n"
     ]
    },
    {
     "data": {
      "text/html": [
       "<div>\n",
       "<style scoped>\n",
       "    .dataframe tbody tr th:only-of-type {\n",
       "        vertical-align: middle;\n",
       "    }\n",
       "\n",
       "    .dataframe tbody tr th {\n",
       "        vertical-align: top;\n",
       "    }\n",
       "\n",
       "    .dataframe thead th {\n",
       "        text-align: right;\n",
       "    }\n",
       "</style>\n",
       "<table border=\"1\" class=\"dataframe\">\n",
       "  <thead>\n",
       "    <tr style=\"text-align: right;\">\n",
       "      <th></th>\n",
       "      <th>idade</th>\n",
       "      <th>altura</th>\n",
       "      <th>cidade</th>\n",
       "    </tr>\n",
       "  </thead>\n",
       "  <tbody>\n",
       "    <tr>\n",
       "      <th>0</th>\n",
       "      <td>23</td>\n",
       "      <td>1.65</td>\n",
       "      <td>SP</td>\n",
       "    </tr>\n",
       "    <tr>\n",
       "      <th>1</th>\n",
       "      <td>34</td>\n",
       "      <td>1.80</td>\n",
       "      <td>RJ</td>\n",
       "    </tr>\n",
       "    <tr>\n",
       "      <th>2</th>\n",
       "      <td>45</td>\n",
       "      <td>1.75</td>\n",
       "      <td>SP</td>\n",
       "    </tr>\n",
       "  </tbody>\n",
       "</table>\n",
       "</div>"
      ],
      "text/plain": [
       "   idade  altura cidade\n",
       "0     23    1.65     SP\n",
       "1     34    1.80     RJ\n",
       "2     45    1.75     SP"
      ]
     },
     "execution_count": 55,
     "metadata": {},
     "output_type": "execute_result"
    }
   ],
   "source": [
    "# Conversões\n",
    "\n",
    "print(df.dtypes) # tipos atuais das colunas\n",
    "\n",
    "# Converter 'idade' para numérico, transformando erros em NaN\n",
    "df[\"idade\"] = pd.to_numeric(df[\"idade\"], errors=\"coerce\")\n",
    "\n",
    "# Converter 'cidade' para categoria\n",
    "df[\"cidade\"] = df[\"cidade\"].astype(\"category\")\n",
    "\n",
    "print(df.dtypes) # tipos após conversão\n",
    "\n",
    "df # exibe o Dataframe convertido\n"
   ]
  },
  {
   "cell_type": "markdown",
   "id": "33c8fff3",
   "metadata": {},
   "source": [
    "## 7. Cópias de `Dataframes` <a id=\"sec7\"></a>\n",
    "\n",
    "É possível fazer cópias de `Dataframes`. No entando, ao manipular `Dataframes` no **pandas**, é importante distinguir entre cópia rasa (*shallow copy*) e cópia profunda (*deep copy*). Alterações feitas em uma cópia rasa afetam o `Dataframe` original, pois ambos compartilham os mesmos dados em memória. Para evitar efeitos colaterais indesejados e garantir que modificações não alterem o objeto original, utilize sempre `df.copy()` ao criar cópias para processamento ou análise independente. Essa prática aumenta a segurança e previsibilidade do seu código."
   ]
  },
  {
   "cell_type": "code",
   "execution_count": 56,
   "id": "19a5c1eb",
   "metadata": {},
   "outputs": [
    {
     "name": "stdout",
     "output_type": "stream",
     "text": [
      "df após alteração via df_ref:\n",
      "    idade  altura cidade\n",
      "0     99    1.65     SP\n",
      "1     34    1.80     RJ\n",
      "2     45    1.75     SP\n",
      "df_copia após alteração:\n",
      "    idade  altura cidade\n",
      "0     23    1.65     SP\n",
      "1     34    1.80     RJ\n",
      "2     45    1.75     SP\n"
     ]
    }
   ],
   "source": [
    "# Cópia rasa (shallow copy): apenas referência, alterações afetam ambos\n",
    "df_ref = df\n",
    "\n",
    "# Cópia profunda (deep copy): cria uma nova cópia independente\n",
    "df_copia = df.copy()\n",
    "\n",
    "# Exemplo de alteração para mostrar a diferença\n",
    "df_ref.loc[0, \"idade\"] = 99  # altera também em df\n",
    "print(\"df após alteração via df_ref:\\n\", df)\n",
    "\n",
    "df_copia.loc[0, \"idade\"] = 23  # não altera df original\n",
    "print(\"df_copia após alteração:\\n\", df_copia)"
   ]
  },
  {
   "cell_type": "markdown",
   "id": "5664de40",
   "metadata": {},
   "source": [
    "## 8. Operações com `Dataframes`\n",
    "\n",
    "Operações com dataframes permitem manipular, transformar e analisar dados de forma eficiente, facilitando tarefas como cálculos, filtragens, agrupamentos e combinações de informações em tabelas."
   ]
  },
  {
   "cell_type": "code",
   "execution_count": 57,
   "id": "dfcec602",
   "metadata": {},
   "outputs": [
    {
     "data": {
      "text/html": [
       "<div>\n",
       "<style scoped>\n",
       "    .dataframe tbody tr th:only-of-type {\n",
       "        vertical-align: middle;\n",
       "    }\n",
       "\n",
       "    .dataframe tbody tr th {\n",
       "        vertical-align: top;\n",
       "    }\n",
       "\n",
       "    .dataframe thead th {\n",
       "        text-align: right;\n",
       "    }\n",
       "</style>\n",
       "<table border=\"1\" class=\"dataframe\">\n",
       "  <thead>\n",
       "    <tr style=\"text-align: right;\">\n",
       "      <th></th>\n",
       "      <th>A</th>\n",
       "      <th>B</th>\n",
       "      <th>C</th>\n",
       "    </tr>\n",
       "  </thead>\n",
       "  <tbody>\n",
       "    <tr>\n",
       "      <th>0</th>\n",
       "      <td>1</td>\n",
       "      <td>10</td>\n",
       "      <td>5</td>\n",
       "    </tr>\n",
       "    <tr>\n",
       "      <th>1</th>\n",
       "      <td>2</td>\n",
       "      <td>20</td>\n",
       "      <td>6</td>\n",
       "    </tr>\n",
       "    <tr>\n",
       "      <th>2</th>\n",
       "      <td>3</td>\n",
       "      <td>30</td>\n",
       "      <td>7</td>\n",
       "    </tr>\n",
       "    <tr>\n",
       "      <th>3</th>\n",
       "      <td>4</td>\n",
       "      <td>40</td>\n",
       "      <td>8</td>\n",
       "    </tr>\n",
       "  </tbody>\n",
       "</table>\n",
       "</div>"
      ],
      "text/plain": [
       "   A   B  C\n",
       "0  1  10  5\n",
       "1  2  20  6\n",
       "2  3  30  7\n",
       "3  4  40  8"
      ]
     },
     "execution_count": 57,
     "metadata": {},
     "output_type": "execute_result"
    }
   ],
   "source": [
    "# Dataframe original\n",
    "df = pd.DataFrame({\n",
    "    \"A\": [1, 2, 3, 4],\n",
    "    \"B\": [10, 20, 30, 40],\n",
    "    \"C\": [5, 6, 7, 8]\n",
    "})\n",
    "\n",
    "df"
   ]
  },
  {
   "cell_type": "code",
   "execution_count": 58,
   "id": "c5df40d8",
   "metadata": {},
   "outputs": [
    {
     "name": "stdout",
     "output_type": "stream",
     "text": [
      "   A   B  C  A_plus_10  B_times_2  C_minus_A  Expr    sqrt_B     log_C\n",
      "0  1  10  5         11         20          4    15  3.162278  1.609438\n",
      "1  2  20  6         12         40          4    46  4.472136  1.791759\n",
      "2  3  30  7         13         60          4    97  5.477226  1.945910\n",
      "3  4  40  8         14         80          4   168  6.324555  2.079442\n",
      "     A    B    C\n",
      "0  101  110  105\n",
      "1  102  120  106\n",
      "2  103  130  107\n",
      "3  104  140  108\n",
      "   A   B   C\n",
      "0  2  20  10\n",
      "1  4  40  12\n",
      "2  6  60  14\n",
      "3  8  80  16\n"
     ]
    }
   ],
   "source": [
    "# Operações sobre colunas específicas do DataFrame\n",
    "\n",
    "# Soma 10 a todos os valores da coluna A\n",
    "df[\"A_plus_10\"] = df[\"A\"] + 10\n",
    "\n",
    "# Multiplica a coluna B por 2\n",
    "df[\"B_times_2\"] = df[\"B\"] * 2\n",
    "\n",
    "# Subtração entre colunas\n",
    "df[\"C_minus_A\"] = df[\"C\"] - df[\"A\"]\n",
    "\n",
    "# Operações combinadas\n",
    "df[\"Expr\"] = (df[\"A\"] * df[\"B\"]) + df[\"C\"]\n",
    "\n",
    "# Raiz quadrada dos valores da coluna B\n",
    "df[\"sqrt_B\"] = np.sqrt(df[\"B\"])\n",
    "\n",
    "# Logaritmo natural da coluna C\n",
    "df[\"log_C\"] = np.log(df[\"C\"])\n",
    "\n",
    "print(df)\n",
    "\n",
    "# Operações sobre todos os elementos do DataFrame\n",
    "\n",
    "# Soma 100 a todos os elementos\n",
    "df_plus_100 = df[[\"A\",\"B\",\"C\"]] + 100\n",
    "\n",
    "# Multiplica todas as colunas numéricas por 2\n",
    "df_times_2 = df[[\"A\",\"B\",\"C\"]] * 2\n",
    "\n",
    "print(df_plus_100)\n",
    "print(df_times_2)"
   ]
  },
  {
   "cell_type": "markdown",
   "id": "a1768583",
   "metadata": {},
   "source": [
    "## 9. Agrupamentos (`groupby`) <a id=\"9-groupby\"></a>\n",
    "\n",
    "O método `groupby` do **pandas** permite agrupar dados de um `Dataframe` com base nos valores de uma ou mais colunas, facilitando a realização de operações agregadas, como soma, média, contagem, mínimo, máximo, entre outras. Esse recurso é muito útil para análises estatísticas e sumarização de grandes conjuntos de dados.\n",
    "\n",
    "**Como funciona:**\n",
    "- Primeiro, escolhe-se uma ou mais colunas para agrupar os dados.\n",
    "- Em seguida, aplica-se uma função de agregação (como `sum()`, `mean()`, `count()`, `agg()`, etc.) sobre as demais colunas.\n",
    "- O resultado é um novo `Dataframe`, onde cada linha representa um grupo distinto.\n",
    "\n",
    "**Exemplo prático:**\n",
    "Se você tem um `Dataframe` de vendas com colunas como `categoria`, `preco` e `qtd`, pode agrupar por `categoria` e calcular o total vendido e o preço médio por categoria:"
   ]
  },
  {
   "cell_type": "code",
   "execution_count": 59,
   "id": "3c18457b",
   "metadata": {},
   "outputs": [
    {
     "data": {
      "text/html": [
       "<div>\n",
       "<style scoped>\n",
       "    .dataframe tbody tr th:only-of-type {\n",
       "        vertical-align: middle;\n",
       "    }\n",
       "\n",
       "    .dataframe tbody tr th {\n",
       "        vertical-align: top;\n",
       "    }\n",
       "\n",
       "    .dataframe thead th {\n",
       "        text-align: right;\n",
       "    }\n",
       "</style>\n",
       "<table border=\"1\" class=\"dataframe\">\n",
       "  <thead>\n",
       "    <tr style=\"text-align: right;\">\n",
       "      <th></th>\n",
       "      <th>produto</th>\n",
       "      <th>categoria</th>\n",
       "      <th>preco</th>\n",
       "      <th>qtd</th>\n",
       "      <th>total</th>\n",
       "    </tr>\n",
       "  </thead>\n",
       "  <tbody>\n",
       "    <tr>\n",
       "      <th>0</th>\n",
       "      <td>Caderno</td>\n",
       "      <td>Papelaria</td>\n",
       "      <td>19.9</td>\n",
       "      <td>3</td>\n",
       "      <td>59.7</td>\n",
       "    </tr>\n",
       "    <tr>\n",
       "      <th>1</th>\n",
       "      <td>Caneta</td>\n",
       "      <td>Papelaria</td>\n",
       "      <td>3.5</td>\n",
       "      <td>10</td>\n",
       "      <td>35.0</td>\n",
       "    </tr>\n",
       "    <tr>\n",
       "      <th>2</th>\n",
       "      <td>Mouse</td>\n",
       "      <td>Eletrônicos</td>\n",
       "      <td>120.0</td>\n",
       "      <td>2</td>\n",
       "      <td>240.0</td>\n",
       "    </tr>\n",
       "    <tr>\n",
       "      <th>3</th>\n",
       "      <td>Teclado</td>\n",
       "      <td>Eletrônicos</td>\n",
       "      <td>180.0</td>\n",
       "      <td>1</td>\n",
       "      <td>180.0</td>\n",
       "    </tr>\n",
       "    <tr>\n",
       "      <th>4</th>\n",
       "      <td>Café</td>\n",
       "      <td>Alimentos</td>\n",
       "      <td>7.0</td>\n",
       "      <td>5</td>\n",
       "      <td>35.0</td>\n",
       "    </tr>\n",
       "    <tr>\n",
       "      <th>5</th>\n",
       "      <td>Refri</td>\n",
       "      <td>Alimentos</td>\n",
       "      <td>5.5</td>\n",
       "      <td>8</td>\n",
       "      <td>44.0</td>\n",
       "    </tr>\n",
       "  </tbody>\n",
       "</table>\n",
       "</div>"
      ],
      "text/plain": [
       "   produto    categoria  preco  qtd  total\n",
       "0  Caderno    Papelaria   19.9    3   59.7\n",
       "1   Caneta    Papelaria    3.5   10   35.0\n",
       "2    Mouse  Eletrônicos  120.0    2  240.0\n",
       "3  Teclado  Eletrônicos  180.0    1  180.0\n",
       "4     Café    Alimentos    7.0    5   35.0\n",
       "5    Refri    Alimentos    5.5    8   44.0"
      ]
     },
     "execution_count": 59,
     "metadata": {},
     "output_type": "execute_result"
    }
   ],
   "source": [
    "df = pd.DataFrame({\n",
    "    \"produto\": [\"Caderno\", \"Caneta\", \"Mouse\", \"Teclado\", \"Café\", \"Refri\"],\n",
    "    \"categoria\": [\"Papelaria\", \"Papelaria\", \"Eletrônicos\", \"Eletrônicos\", \"Alimentos\", \"Alimentos\"],\n",
    "    \"preco\": [19.9, 3.5, 120.0, 180.0, 7.0, 5.5],\n",
    "    \"qtd\": [3, 10, 2, 1, 5, 8],\n",
    "})\n",
    "df[\"total\"] = df[\"preco\"] * df[\"qtd\"]\n",
    "df"
   ]
  },
  {
   "cell_type": "code",
   "execution_count": 60,
   "id": "3fa85bbe",
   "metadata": {},
   "outputs": [
    {
     "data": {
      "text/html": [
       "<div>\n",
       "<style scoped>\n",
       "    .dataframe tbody tr th:only-of-type {\n",
       "        vertical-align: middle;\n",
       "    }\n",
       "\n",
       "    .dataframe tbody tr th {\n",
       "        vertical-align: top;\n",
       "    }\n",
       "\n",
       "    .dataframe thead th {\n",
       "        text-align: right;\n",
       "    }\n",
       "</style>\n",
       "<table border=\"1\" class=\"dataframe\">\n",
       "  <thead>\n",
       "    <tr style=\"text-align: right;\">\n",
       "      <th></th>\n",
       "      <th>categoria</th>\n",
       "      <th>qtd_total</th>\n",
       "      <th>receita</th>\n",
       "      <th>preco_medio</th>\n",
       "    </tr>\n",
       "  </thead>\n",
       "  <tbody>\n",
       "    <tr>\n",
       "      <th>1</th>\n",
       "      <td>Eletrônicos</td>\n",
       "      <td>3</td>\n",
       "      <td>420.0</td>\n",
       "      <td>150.00</td>\n",
       "    </tr>\n",
       "    <tr>\n",
       "      <th>2</th>\n",
       "      <td>Papelaria</td>\n",
       "      <td>13</td>\n",
       "      <td>94.7</td>\n",
       "      <td>11.70</td>\n",
       "    </tr>\n",
       "    <tr>\n",
       "      <th>0</th>\n",
       "      <td>Alimentos</td>\n",
       "      <td>13</td>\n",
       "      <td>79.0</td>\n",
       "      <td>6.25</td>\n",
       "    </tr>\n",
       "  </tbody>\n",
       "</table>\n",
       "</div>"
      ],
      "text/plain": [
       "     categoria  qtd_total  receita  preco_medio\n",
       "1  Eletrônicos          3    420.0       150.00\n",
       "2    Papelaria         13     94.7        11.70\n",
       "0    Alimentos         13     79.0         6.25"
      ]
     },
     "execution_count": 60,
     "metadata": {},
     "output_type": "execute_result"
    }
   ],
   "source": [
    "(df\n",
    " .groupby(\"categoria\", as_index=False)\n",
    " .agg(qtd_total=(\"qtd\",\"sum\"), receita=(\"total\",\"sum\"), preco_medio=(\"preco\",\"mean\"))\n",
    " .sort_values(\"receita\", ascending=False))"
   ]
  },
  {
   "cell_type": "markdown",
   "id": "8a1af034",
   "metadata": {},
   "source": [
    "Complicou? :)\n",
    "\n",
    "Vamos por partes... "
   ]
  },
  {
   "cell_type": "code",
   "execution_count": 61,
   "id": "a4823dfc",
   "metadata": {},
   "outputs": [
    {
     "data": {
      "text/html": [
       "<div>\n",
       "<style scoped>\n",
       "    .dataframe tbody tr th:only-of-type {\n",
       "        vertical-align: middle;\n",
       "    }\n",
       "\n",
       "    .dataframe tbody tr th {\n",
       "        vertical-align: top;\n",
       "    }\n",
       "\n",
       "    .dataframe thead th {\n",
       "        text-align: right;\n",
       "    }\n",
       "</style>\n",
       "<table border=\"1\" class=\"dataframe\">\n",
       "  <thead>\n",
       "    <tr style=\"text-align: right;\">\n",
       "      <th></th>\n",
       "      <th>produto</th>\n",
       "      <th>categoria</th>\n",
       "      <th>preco</th>\n",
       "      <th>qtd</th>\n",
       "      <th>total</th>\n",
       "    </tr>\n",
       "  </thead>\n",
       "  <tbody>\n",
       "    <tr>\n",
       "      <th>0</th>\n",
       "      <td>Caderno</td>\n",
       "      <td>Papelaria</td>\n",
       "      <td>19.9</td>\n",
       "      <td>3</td>\n",
       "      <td>59.7</td>\n",
       "    </tr>\n",
       "    <tr>\n",
       "      <th>1</th>\n",
       "      <td>Caneta</td>\n",
       "      <td>Papelaria</td>\n",
       "      <td>3.5</td>\n",
       "      <td>10</td>\n",
       "      <td>35.0</td>\n",
       "    </tr>\n",
       "    <tr>\n",
       "      <th>2</th>\n",
       "      <td>Mouse</td>\n",
       "      <td>Eletrônicos</td>\n",
       "      <td>120.0</td>\n",
       "      <td>2</td>\n",
       "      <td>240.0</td>\n",
       "    </tr>\n",
       "    <tr>\n",
       "      <th>3</th>\n",
       "      <td>Teclado</td>\n",
       "      <td>Eletrônicos</td>\n",
       "      <td>180.0</td>\n",
       "      <td>1</td>\n",
       "      <td>180.0</td>\n",
       "    </tr>\n",
       "    <tr>\n",
       "      <th>4</th>\n",
       "      <td>Café</td>\n",
       "      <td>Alimentos</td>\n",
       "      <td>7.0</td>\n",
       "      <td>5</td>\n",
       "      <td>35.0</td>\n",
       "    </tr>\n",
       "    <tr>\n",
       "      <th>5</th>\n",
       "      <td>Refri</td>\n",
       "      <td>Alimentos</td>\n",
       "      <td>5.5</td>\n",
       "      <td>8</td>\n",
       "      <td>44.0</td>\n",
       "    </tr>\n",
       "  </tbody>\n",
       "</table>\n",
       "</div>"
      ],
      "text/plain": [
       "   produto    categoria  preco  qtd  total\n",
       "0  Caderno    Papelaria   19.9    3   59.7\n",
       "1   Caneta    Papelaria    3.5   10   35.0\n",
       "2    Mouse  Eletrônicos  120.0    2  240.0\n",
       "3  Teclado  Eletrônicos  180.0    1  180.0\n",
       "4     Café    Alimentos    7.0    5   35.0\n",
       "5    Refri    Alimentos    5.5    8   44.0"
      ]
     },
     "execution_count": 61,
     "metadata": {},
     "output_type": "execute_result"
    }
   ],
   "source": [
    "df.groupby(\"categoria\") # isso diz ao pandas: \"agrupe os dados por categoria\"\n",
    "df"
   ]
  },
  {
   "cell_type": "code",
   "execution_count": 62,
   "id": "d45639da",
   "metadata": {},
   "outputs": [
    {
     "data": {
      "text/html": [
       "<div>\n",
       "<style scoped>\n",
       "    .dataframe tbody tr th:only-of-type {\n",
       "        vertical-align: middle;\n",
       "    }\n",
       "\n",
       "    .dataframe tbody tr th {\n",
       "        vertical-align: top;\n",
       "    }\n",
       "\n",
       "    .dataframe thead th {\n",
       "        text-align: right;\n",
       "    }\n",
       "</style>\n",
       "<table border=\"1\" class=\"dataframe\">\n",
       "  <thead>\n",
       "    <tr style=\"text-align: right;\">\n",
       "      <th></th>\n",
       "      <th>categoria</th>\n",
       "      <th>qtd_total</th>\n",
       "      <th>receita</th>\n",
       "      <th>preco_medio</th>\n",
       "    </tr>\n",
       "  </thead>\n",
       "  <tbody>\n",
       "    <tr>\n",
       "      <th>0</th>\n",
       "      <td>Alimentos</td>\n",
       "      <td>13</td>\n",
       "      <td>79.0</td>\n",
       "      <td>6.25</td>\n",
       "    </tr>\n",
       "    <tr>\n",
       "      <th>1</th>\n",
       "      <td>Eletrônicos</td>\n",
       "      <td>3</td>\n",
       "      <td>420.0</td>\n",
       "      <td>150.00</td>\n",
       "    </tr>\n",
       "    <tr>\n",
       "      <th>2</th>\n",
       "      <td>Papelaria</td>\n",
       "      <td>13</td>\n",
       "      <td>94.7</td>\n",
       "      <td>11.70</td>\n",
       "    </tr>\n",
       "  </tbody>\n",
       "</table>\n",
       "</div>"
      ],
      "text/plain": [
       "     categoria  qtd_total  receita  preco_medio\n",
       "0    Alimentos         13     79.0         6.25\n",
       "1  Eletrônicos          3    420.0       150.00\n",
       "2    Papelaria         13     94.7        11.70"
      ]
     },
     "execution_count": 62,
     "metadata": {},
     "output_type": "execute_result"
    }
   ],
   "source": [
    "(\n",
    " df.groupby(\"categoria\", as_index=False) # agrupa por categoria, sem usar a categoria como índice\n",
    "   .agg( # agregações\n",
    "       qtd_total=(\"qtd\",\"sum\"),         # soma das quantidades\n",
    "       receita=(\"total\",\"sum\"),         # soma da receita\n",
    "       preco_medio=(\"preco\",\"mean\")     # média dos preços\n",
    "   )\n",
    ")"
   ]
  },
  {
   "cell_type": "code",
   "execution_count": 63,
   "id": "5daf9377",
   "metadata": {},
   "outputs": [
    {
     "data": {
      "text/html": [
       "<div>\n",
       "<style scoped>\n",
       "    .dataframe tbody tr th:only-of-type {\n",
       "        vertical-align: middle;\n",
       "    }\n",
       "\n",
       "    .dataframe tbody tr th {\n",
       "        vertical-align: top;\n",
       "    }\n",
       "\n",
       "    .dataframe thead th {\n",
       "        text-align: right;\n",
       "    }\n",
       "</style>\n",
       "<table border=\"1\" class=\"dataframe\">\n",
       "  <thead>\n",
       "    <tr style=\"text-align: right;\">\n",
       "      <th></th>\n",
       "      <th>categoria</th>\n",
       "      <th>qtd_total</th>\n",
       "      <th>receita</th>\n",
       "      <th>preco_medio</th>\n",
       "    </tr>\n",
       "  </thead>\n",
       "  <tbody>\n",
       "    <tr>\n",
       "      <th>1</th>\n",
       "      <td>Eletrônicos</td>\n",
       "      <td>3</td>\n",
       "      <td>420.0</td>\n",
       "      <td>150.00</td>\n",
       "    </tr>\n",
       "    <tr>\n",
       "      <th>2</th>\n",
       "      <td>Papelaria</td>\n",
       "      <td>13</td>\n",
       "      <td>94.7</td>\n",
       "      <td>11.70</td>\n",
       "    </tr>\n",
       "    <tr>\n",
       "      <th>0</th>\n",
       "      <td>Alimentos</td>\n",
       "      <td>13</td>\n",
       "      <td>79.0</td>\n",
       "      <td>6.25</td>\n",
       "    </tr>\n",
       "  </tbody>\n",
       "</table>\n",
       "</div>"
      ],
      "text/plain": [
       "     categoria  qtd_total  receita  preco_medio\n",
       "1  Eletrônicos          3    420.0       150.00\n",
       "2    Papelaria         13     94.7        11.70\n",
       "0    Alimentos         13     79.0         6.25"
      ]
     },
     "execution_count": 63,
     "metadata": {},
     "output_type": "execute_result"
    }
   ],
   "source": [
    "(\n",
    " df.groupby(\"categoria\", as_index=False)\n",
    "   .agg(\n",
    "       qtd_total=(\"qtd\",\"sum\"),\n",
    "       receita=(\"total\",\"sum\"),\n",
    "       preco_medio=(\"preco\",\"mean\")\n",
    "   )\n",
    "   .sort_values(\"receita\", ascending=False) # ordena pela receita (decrescente)\n",
    ")"
   ]
  },
  {
   "cell_type": "markdown",
   "id": "719bc27f",
   "metadata": {},
   "source": [
    "Outros exemplos:"
   ]
  },
  {
   "cell_type": "code",
   "execution_count": 64,
   "id": "efe4c4bd",
   "metadata": {},
   "outputs": [
    {
     "name": "stdout",
     "output_type": "stream",
     "text": [
      "categoria\n",
      "Alimentos      2\n",
      "Eletrônicos    2\n",
      "Papelaria      2\n",
      "Name: produto, dtype: int64\n",
      "categoria\n",
      "Alimentos        7.0\n",
      "Eletrônicos    180.0\n",
      "Papelaria       19.9\n",
      "Name: preco, dtype: float64\n",
      "categoria\n",
      "Alimentos        5.5\n",
      "Eletrônicos    120.0\n",
      "Papelaria        3.5\n",
      "Name: preco, dtype: float64\n",
      "               mean        std\n",
      "categoria                     \n",
      "Alimentos      6.25   1.060660\n",
      "Eletrônicos  150.00  42.426407\n",
      "Papelaria     11.70  11.596551\n",
      "categoria\n",
      "Alimentos       79.0\n",
      "Papelaria       94.7\n",
      "Eletrônicos    420.0\n",
      "Name: total, dtype: float64\n"
     ]
    }
   ],
   "source": [
    "print(df.groupby(\"categoria\")[\"produto\"].count()) # agrupa por categoria e conta os produtos\n",
    "print(df.groupby(\"categoria\")[\"preco\"].max()) # agrupa por categoria e encontra o preço máximo\n",
    "print(df.groupby(\"categoria\")[\"preco\"].min()) # agrupa por categoria e encontra o preço mínimo\n",
    "print(df.groupby(\"categoria\")[\"preco\"].agg([\"mean\", \"std\"])) # agrupa por categoria e calcula média e desvio padrão do preço\n",
    "\n",
    "print(df.groupby(\"categoria\")[\"total\"]\n",
    "   .sum()\n",
    "   .sort_values(ascending=True)) # soma o total por categoria e ordena de forma crescente"
   ]
  },
  {
   "cell_type": "markdown",
   "id": "7410f600",
   "metadata": {},
   "source": [
    "## 10. Combinações de dados (`merge`, `join`, `concat`) <a id=\"sec10\"></a>\n",
    "\n",
    "No **pandas**, combinar dados de diferentes fontes ou tabelas é uma tarefa comum e essencial para análises mais completas. As principais formas de combinação são:\n",
    "\n",
    "- **merge**: Permite juntar dois ou mais `Dataframes` com base em colunas comuns (chaves), semelhante ao `JOIN` em bancos de dados relacionais. É possível realizar diferentes tipos de junção, como `inner`, `left`, `right` e `outer`, controlando como os dados são combinados quando há correspondências ou não entre as chaves.\n",
    "\n",
    "- **join**: Método simplificado para juntar `Dataframes` usando o *índice* como chave de junção. É útil quando os índices dos `Dataframes` já representam a relação entre eles.\n",
    "\n",
    "- **concat**: Permite empilhar ou concatenar `Dataframes` ao longo de um eixo (linhas ou colunas). Pode ser usado para unir tabelas com as mesmas colunas (empilhar linhas) ou para adicionar novas colunas a partir de tabelas diferentes (empilhar colunas).\n",
    "\n",
    "Essas operações são fundamentais para integrar, enriquecer e preparar conjuntos de dados para análises mais avançadas, facilitando a manipulação de dados em diferentes formatos e estruturas."
   ]
  },
  {
   "cell_type": "code",
   "execution_count": 65,
   "id": "b270b629",
   "metadata": {},
   "outputs": [
    {
     "name": "stdout",
     "output_type": "stream",
     "text": [
      "   cliente_id   nome segmento\n",
      "0           1    Ana       PF\n",
      "1           2  Bruno       PF\n",
      "2           3  Carla       PJ\n",
      "3           4  Diego       PF\n",
      "   pedido_id  cliente_id  valor\n",
      "0        101           1    150\n",
      "1        102           2     30\n",
      "2        103           2     60\n",
      "3        104           5    200\n",
      "4        105           3    500\n"
     ]
    }
   ],
   "source": [
    "# Dataframes para mostrar exemplos de combinações (merge/join/concat)\n",
    "\n",
    "clientes = pd.DataFrame({\n",
    "    \"cliente_id\": [1,2,3,4],\n",
    "    \"nome\": [\"Ana\",\"Bruno\",\"Carla\",\"Diego\"],\n",
    "    \"segmento\": [\"PF\",\"PF\",\"PJ\",\"PF\"]\n",
    "})\n",
    "\n",
    "pedidos = pd.DataFrame({\n",
    "    \"pedido_id\": [101,102,103,104,105],\n",
    "    \"cliente_id\": [1,2,2,5,3],\n",
    "    \"valor\": [150, 30, 60, 200, 500]\n",
    "})\n",
    "\n",
    "print(clientes)\n",
    "print(pedidos)"
   ]
  },
  {
   "cell_type": "code",
   "execution_count": 66,
   "id": "bbff0e6c",
   "metadata": {},
   "outputs": [
    {
     "name": "stdout",
     "output_type": "stream",
     "text": [
      "Inner join:\n",
      "    cliente_id   nome segmento  pedido_id  valor\n",
      "0           1    Ana       PF        101    150\n",
      "1           2  Bruno       PF        102     30\n",
      "2           2  Bruno       PF        103     60\n",
      "3           3  Carla       PJ        105    500\n",
      "\n",
      "Left join:\n",
      "    cliente_id   nome segmento  pedido_id  valor     _merge\n",
      "0           1    Ana       PF      101.0  150.0       both\n",
      "1           2  Bruno       PF      102.0   30.0       both\n",
      "2           2  Bruno       PF      103.0   60.0       both\n",
      "3           3  Carla       PJ      105.0  500.0       both\n",
      "4           4  Diego       PF        NaN    NaN  left_only\n",
      "\n",
      "Right join:\n",
      "    cliente_id   nome segmento  pedido_id  valor\n",
      "0           1    Ana       PF        101    150\n",
      "1           2  Bruno       PF        102     30\n",
      "2           2  Bruno       PF        103     60\n",
      "3           5    NaN      NaN        104    200\n",
      "4           3  Carla       PJ        105    500\n",
      "\n",
      "Full outer join:\n",
      "    cliente_id   nome segmento  pedido_id  valor      _merge\n",
      "0           1    Ana       PF      101.0  150.0        both\n",
      "1           2  Bruno       PF      102.0   30.0        both\n",
      "2           2  Bruno       PF      103.0   60.0        both\n",
      "3           3  Carla       PJ      105.0  500.0        both\n",
      "4           4  Diego       PF        NaN    NaN   left_only\n",
      "5           5    NaN      NaN      104.0  200.0  right_only\n"
     ]
    }
   ],
   "source": [
    "# Inner join (somente correspondências)\n",
    "df_inner = pd.merge(clientes, pedidos, on=\"cliente_id\", how=\"inner\")\n",
    "print(\"Inner join:\\n\", df_inner)\n",
    "# O inner join mantém apenas os registros que têm correspondência em AMBOS os Dataframes.\n",
    "# No caso: o 'cliente 4' some (pois não tem pedido) e o pedido 104 (do cliente 5) também some (pois não tem cliente).\n",
    "# Resultado: só clientes 1, 2 e 3 aparecem, com seus pedidos correspondentes.\n",
    "\n",
    "# Left join (todos os clientes, pedidos quando existir)\n",
    "df_left = pd.merge(clientes, pedidos, on=\"cliente_id\", how=\"left\", indicator=True)\n",
    "print(\"\\nLeft join:\\n\", df_left)\n",
    "# O left join mantém TODOS os clientes.\n",
    "# - Clientes 1, 2 e 3 aparecem com seus pedidos.\n",
    "# - Cliente 2 aparece duas vezes (porque tem dois pedidos).\n",
    "# - Cliente 4 aparece com valores NaN em pedido_id/valor, porque não fez pedido.\n",
    "# A coluna \"_merge\" mostra a origem: \"both\" (tem correspondência) ou \"left_only\" (sem pedido).\n",
    "# indicator=True adiciona essa coluna extra \"_merge\" para indicar a origem dos registros.\n",
    "\n",
    "# Right join (todos os pedidos, clientes quando existir)\n",
    "df_right = pd.merge(clientes, pedidos, on=\"cliente_id\", how=\"right\")\n",
    "print(\"\\nRight join:\\n\", df_right)\n",
    "# O right join mantém TODOS os pedidos.\n",
    "# - Pedidos 101, 102, 103, 105 aparecem junto com seus clientes correspondentes.\n",
    "# - Pedido 104 (cliente_id=5) aparece, mas como não existe cliente 5, as colunas de cliente ficam NaN.\n",
    "# Ou seja, preserva todos os pedidos, mesmo sem cliente válido.\n",
    "\n",
    "# Full outer join (todos os clientes e todos os pedidos)\n",
    "df_outer = pd.merge(clientes, pedidos, on=\"cliente_id\", how=\"outer\", indicator=True)\n",
    "print(\"\\nFull outer join:\\n\", df_outer)\n",
    "# O outer join mantém TODOS os registros, tanto de clientes quanto de pedidos.\n",
    "# - Clientes 1, 2 e 3 aparecem com seus pedidos correspondentes.\n",
    "# - Cliente 2 aparece duas vezes (porque tem dois pedidos).\n",
    "# - Cliente 4 aparece, mas como não tem pedido, as colunas de pedido_id/valor ficam NaN.\n",
    "# - Pedido 104 (cliente_id=5) aparece, mas como não existe cliente 5, as colunas de cliente ficam NaN.\n",
    "# Ou seja: é a união completa, preservando todos os registros dos dois DataFrames."
   ]
  },
  {
   "cell_type": "markdown",
   "id": "41af1a6a",
   "metadata": {},
   "source": [
    "O método `pd.merge()` implementa **junções relacionais** entre `DataFrames`, semelhantes às do SQL.  \n",
    "Ele combina registros a partir de uma chave comum. O parâmetro `how` define o tipo de join:\n",
    "\n",
    "- **Inner join**  \n",
    "  Mantém apenas as chaves que aparecem em **ambos** os `DataFrames`.  \n",
    "  ➝ Equivalente à interseção (`Clientes ∩ Pedidos`).  \n",
    "\n",
    "- **Left join**  \n",
    "  Mantém todas as linhas do `DataFrame` da **esquerda** e adiciona dados da direita quando houver correspondência.  \n",
    "  ➝ Clientes sem pedidos terão colunas de pedidos preenchidas com `NaN`.\n",
    "\n",
    "- **Right join**  \n",
    "  Mantém todas as linhas do DataFrame da **direita** e adiciona dados da esquerda quando houver correspondência.  \n",
    "  ➝ Pedidos sem cliente terão colunas de cliente preenchidas com `NaN`.\n",
    "\n",
    "- **Outer join (Full join)**  \n",
    "  Mantém todas as chaves de ambos os `DataFrames`.  \n",
    "  ➝ Onde não houver correspondência, o lado ausente será preenchido com `NaN`.  \n",
    "  ➝ Equivalente à união (`Clientes ∪ Pedidos`)."
   ]
  },
  {
   "cell_type": "markdown",
   "id": "a280dfd0",
   "metadata": {},
   "source": [
    "## Material complementar sobre **INNER JOIN, LEFT JOIN, RIGHT JOIN e FULL JOIN**\n",
    "\n",
    "### INNER JOIN\n",
    "\n",
    "**INNER JOIN** entre duas tabelas retorna apenas as linhas em que existe correspondência entre elas, ou seja, quando os valores do campo em comum são iguais. O resultado será uma nova tabela contendo somente os registros que atendem a essa condição.\n",
    "\n",
    "A imagem a seguir ilustra uma tabela resultante da combinação de duas tabelas *LEFT_TABLE* e *RIGHT_TABLE* em que há correspondência entre elas:\n",
    "\n",
    "![inner-join](https://cmdviegas.github.io/joins/join-inner.png)\n",
    "\n",
    "### LEFT JOIN\n",
    "\n",
    "**LEFT JOIN** retorna todas as linhas da tabela do lado esquerdo e apenas as linhas correspondentes da tabela do lado direito. Quando não há correspondência, os campos da tabela do lado direito são preenchidos com **NULL**. Esse comando também é conhecido como **LEFT OUTER JOIN**.\n",
    "\n",
    "A imagem a seguir ilustra a tabela resultante com todas as linhas da *LEFT_TABLE* da seguinte forma:\n",
    "- Quando **há correspondência** dos valores de interesse (ou seja, da coluna em comum) com a *RIGHT_TABLE*, os valores são combinados. Neste exemplo, os valores associados aos `id 1` e `id 3` em ambas as tabelas são combinados.\n",
    "- Quando **não há correspondência** (como no caso de `id 2` e `id 4` que não possuem correspondência em *RIGHT_TABLE*), os campos da direita ficam **NULL**.\n",
    "\n",
    "![left-join](https://cmdviegas.github.io/joins/join-left.png)\n",
    "\n",
    "E o que acontece se houver mais de uma linha de dados na tabela do lado direito para o mesmo `id` correspondente na tabela do lado esquerdo? Neste caso, todos os valores correspondentes da tabela do lado direito serão exibidos. A figura abaixo ilustra essa situação.\n",
    "\n",
    "![left-join2](https://cmdviegas.github.io/joins/join-left2.png)\n",
    "\n",
    "### RIGHT JOIN\n",
    "\n",
    "**RIGHT JOIN** retorna todas as linhas da tabela do lado direito e apenas as linhas correspondentes da tabela do lado esquerdo. Quando não há correspondência, os campos da tabela do lado esquerdo são preenchidos com **NULL**. Esse comando também é conhecido como **RIGHT OUTER JOIN**.\n",
    "\n",
    "A imagem a seguir ilustra a mesma lógica do **LEFT JOIN** mas de maneira invertida: a tabela resultante traz todas as linhas da *RIGHT_TABLE* da seguinte forma:\n",
    "- Quando **há correspondência** dos valores de interesse (ou seja, da coluna em comum) com a *LEFT_TABLE*, os valores são combinados.\n",
    "- Quando **não há correspondência** com a *LEFT_TABLE*, os campos da esquerda ficam **NULL**.\n",
    "\n",
    "![right-join](https://cmdviegas.github.io/joins/join-right.png)\n",
    "\n",
    "E o que acontece se houver mais de uma linha de dados na tabela do lado esquerdo para o mesmo `id` correspondente na tabela do lado direito? De forma semelhante à explicação anterior para o caso do **LEFT JOIN**, todos os valores correspondentes da tabela do lado esquerdo serão exibidos, conforme ilustrado abaixo:\n",
    "\n",
    "![right-join2](https://cmdviegas.github.io/joins/join-right2.png)\n",
    "\n",
    "### FULL JOIN\n",
    "\n",
    "**FULL JOIN** combina os resultados de um **LEFT JOIN** e um **RIGHT JOIN**. Ele retorna todas as linhas de ambas as tabelas e, quando não há correspondência, os campos sem par são preenchidos com **NULL**. Esse comando também é conhecido como **FULL OUTER JOIN**.\n",
    "\n",
    "A imagem a seguir ilustra a tabela resultante com todas as linhas de ambas as tabelas, da seguinte forma:\n",
    "- Quando **há correspondência**, as linhas são combinadas.\n",
    "- Quando **não há correspondência**, os campos do lado faltante ficam **NULL**.\n",
    "\n",
    "![full-join](https://cmdviegas.github.io/joins/join-full.png)\n",
    "\n",
    "Adaptado de: https://spardhax.medium.com/all-the-joins-in-sql-visualised-and-simplified-3df0687a8624\n",
    "\n",
    "## Resumo visual de combinações\n",
    "\n",
    "![join-resumo](https://cmdviegas.github.io/joins/join-resumo.png)\n",
    "\n",
    "Fonte: https://www.w3schools.com/sql/sql_join.asp"
   ]
  },
  {
   "cell_type": "code",
   "execution_count": 67,
   "id": "b1137c8d",
   "metadata": {},
   "outputs": [
    {
     "data": {
      "text/html": [
       "<div>\n",
       "<style scoped>\n",
       "    .dataframe tbody tr th:only-of-type {\n",
       "        vertical-align: middle;\n",
       "    }\n",
       "\n",
       "    .dataframe tbody tr th {\n",
       "        vertical-align: top;\n",
       "    }\n",
       "\n",
       "    .dataframe thead th {\n",
       "        text-align: right;\n",
       "    }\n",
       "</style>\n",
       "<table border=\"1\" class=\"dataframe\">\n",
       "  <thead>\n",
       "    <tr style=\"text-align: right;\">\n",
       "      <th></th>\n",
       "      <th>cliente_id</th>\n",
       "      <th>nome</th>\n",
       "      <th>segmento</th>\n",
       "      <th>pedido_id</th>\n",
       "      <th>valor</th>\n",
       "      <th>_merge</th>\n",
       "    </tr>\n",
       "  </thead>\n",
       "  <tbody>\n",
       "    <tr>\n",
       "      <th>4</th>\n",
       "      <td>4</td>\n",
       "      <td>Diego</td>\n",
       "      <td>PF</td>\n",
       "      <td>NaN</td>\n",
       "      <td>NaN</td>\n",
       "      <td>left_only</td>\n",
       "    </tr>\n",
       "  </tbody>\n",
       "</table>\n",
       "</div>"
      ],
      "text/plain": [
       "   cliente_id   nome segmento  pedido_id  valor     _merge\n",
       "4           4  Diego       PF        NaN    NaN  left_only"
      ]
     },
     "execution_count": 67,
     "metadata": {},
     "output_type": "execute_result"
    }
   ],
   "source": [
    "# Anti-join: quais clientes não têm pedido correspondente?\n",
    "anti = df_left[df_left[\"_merge\"] == \"left_only\"]\n",
    "anti"
   ]
  },
  {
   "cell_type": "code",
   "execution_count": 80,
   "id": "63ee3c9e",
   "metadata": {},
   "outputs": [
    {
     "data": {
      "text/html": [
       "<div>\n",
       "<style scoped>\n",
       "    .dataframe tbody tr th:only-of-type {\n",
       "        vertical-align: middle;\n",
       "    }\n",
       "\n",
       "    .dataframe tbody tr th {\n",
       "        vertical-align: top;\n",
       "    }\n",
       "\n",
       "    .dataframe thead th {\n",
       "        text-align: right;\n",
       "    }\n",
       "</style>\n",
       "<table border=\"1\" class=\"dataframe\">\n",
       "  <thead>\n",
       "    <tr style=\"text-align: right;\">\n",
       "      <th></th>\n",
       "      <th>A</th>\n",
       "      <th>B</th>\n",
       "    </tr>\n",
       "  </thead>\n",
       "  <tbody>\n",
       "    <tr>\n",
       "      <th>w</th>\n",
       "      <td>NaN</td>\n",
       "      <td>30.0</td>\n",
       "    </tr>\n",
       "    <tr>\n",
       "      <th>x</th>\n",
       "      <td>1.0</td>\n",
       "      <td>10.0</td>\n",
       "    </tr>\n",
       "    <tr>\n",
       "      <th>y</th>\n",
       "      <td>2.0</td>\n",
       "      <td>20.0</td>\n",
       "    </tr>\n",
       "    <tr>\n",
       "      <th>z</th>\n",
       "      <td>3.0</td>\n",
       "      <td>NaN</td>\n",
       "    </tr>\n",
       "  </tbody>\n",
       "</table>\n",
       "</div>"
      ],
      "text/plain": [
       "     A     B\n",
       "w  NaN  30.0\n",
       "x  1.0  10.0\n",
       "y  2.0  20.0\n",
       "z  3.0   NaN"
      ]
     },
     "execution_count": 80,
     "metadata": {},
     "output_type": "execute_result"
    }
   ],
   "source": [
    "# Existe ainda o .join(), porém é diferente do .merge()\n",
    "\n",
    "# O .join() é um atalho pensado para juntar DataFrames pelos índices (ou colunas específicas se indicar).\n",
    "# Por padrão, junta o DataFrame da esquerda com outro DataFrame, alinhando pelo índice.\n",
    "# Também suporta \"inner\", \"left\", \"right\", \"outer\".\n",
    "\n",
    "df1 = pd.DataFrame({\"A\": [1, 2, 3]}, index=[\"x\", \"y\", \"z\"])\n",
    "df2 = pd.DataFrame({\"B\": [10, 20, 30]}, index=[\"x\", \"y\", \"w\"])\n",
    "\n",
    "df1.join(df2, how=\"outer\") # concatena df1 com df2 usando outer join, alinhando pelos índices"
   ]
  },
  {
   "cell_type": "markdown",
   "id": "af671886",
   "metadata": {},
   "source": [
    "Dica:\n",
    "- Use `merge()` quando precisa controlar colunas de junção.\n",
    "- Use `join()` quando já tem os índices alinhados ou quer uma sintaxe mais curta."
   ]
  },
  {
   "cell_type": "code",
   "execution_count": 81,
   "id": "63d303ec",
   "metadata": {},
   "outputs": [
    {
     "name": "stdout",
     "output_type": "stream",
     "text": [
      "   cliente_id   nome segmento   ano\n",
      "0           1    Ana       PF  2023\n",
      "1           2  Bruno       PF  2023\n",
      "2           3  Carla       PJ  2023\n",
      "3           4  Diego       PF  2023\n",
      "0           1    Ana       PF  2023\n",
      "1           2  Bruno       PF  2023\n",
      "2           3  Carla       PJ  2023\n",
      "3           4  Diego       PF  2023\n",
      "   cliente_id   nome segmento     ano  pedido_id  cliente_id  valor\n",
      "0         1.0    Ana       PF  2023.0        101           1    150\n",
      "1         2.0  Bruno       PF  2023.0        102           2     30\n",
      "2         3.0  Carla       PJ  2023.0        103           7     60\n",
      "3         4.0  Diego       PF  2023.0        104           5    200\n",
      "4         NaN    NaN      NaN     NaN        105           3    500\n",
      "          cliente_id   nome segmento   ano\n",
      "Loja A 0           1    Ana       PF  2023\n",
      "       1           2  Bruno       PF  2023\n",
      "       2           3  Carla       PJ  2023\n",
      "       3           4  Diego       PF  2023\n",
      "Loja B 0           1    Ana       PF  2023\n",
      "       1           2  Bruno       PF  2023\n",
      "       2           3  Carla       PJ  2023\n",
      "       3           4  Diego       PF  2023\n"
     ]
    }
   ],
   "source": [
    "# Concatenação de Dataframes\n",
    "\n",
    "# Concat vertical (axis=0) -> empilha linhas\n",
    "df_concat_rows = pd.concat([clientes, clientes], axis=0)\n",
    "print(df_concat_rows)\n",
    "# Aqui, estamos empilhando os DataFrames linha sobre linha. Como ambos os DataFrames são iguais e possuem as mesmas colunas, o resultado é a duplicação das linhas do DataFrame original. O índice é mantido por padrão, então ele será repetido.\n",
    "# Para evitar repetição de índice, podemos usar ignore_index=True para resetar os índices.\n",
    "\n",
    "\n",
    "# Concat horizontal (axis=1) -> adiciona/empilha colunas\n",
    "df_concat_cols = pd.concat([clientes, pedidos], axis=1)\n",
    "print(df_concat_cols)\n",
    "# Aqui, estamos empilhando os DataFrames coluna ao lado de coluna, alinhando-os com base nos índices (0, 1, 2, ...).\n",
    "# Como 'clientes' tem 4 linhas e 'pedidos' tem 5 linhas, o Pandas expande para 5 linhas (maior número de linhas entre os dois).\n",
    "# Onde não houver correspondência de índice, será preenchido com NaN.\n",
    "# Importante: como as colunas têm nomes repetidos ('cliente_id'), elas não são combinadas, apenas adicionadas lado a lado como estão.\n",
    "#\n",
    "# Neste exemplo, a concatenação horizontal (axis=1) não faz sentido, pois estamos apenas juntando os DataFrames lado a lado com base nos índices, sem considerar a chave de relacionamento entre eles ('cliente_id'). Isso pode gerar combinações incorretas entre clientes e pedidos, sem uma correspondência lógica. A abordagem correta aqui seria usar merge() com base em 'cliente_id'.\n",
    "\n",
    "\n",
    "# Concat com chave (key)\n",
    "# Adiciona rótulos hierárquicos para identificar a origem\n",
    "df_concat_keys = pd.concat([clientes, clientes], keys=[\"Loja A\", \"Loja B\"])\n",
    "print(df_concat_keys)"
   ]
  },
  {
   "cell_type": "markdown",
   "id": "fa279310",
   "metadata": {},
   "source": [
    "# Exercícios finais propostos\n",
    "\n",
    "## Objetivos\n",
    "- Praticar seleção/indexação, operações vetorizadas e tratamento de nulos.\n",
    "- Consolidar `groupby` com agregações múltiplas.\n",
    "- Exercitar `merge/join`, *anti-join* e `concat`.\n",
    "- Resolver um mini–estudo de caso."
   ]
  },
  {
   "cell_type": "markdown",
   "id": "a7c80098",
   "metadata": {},
   "source": [
    "### Dados-base para os exercícios"
   ]
  },
  {
   "cell_type": "code",
   "execution_count": 69,
   "id": "0adfd1b5",
   "metadata": {},
   "outputs": [
    {
     "data": {
      "text/html": [
       "<div>\n",
       "<style scoped>\n",
       "    .dataframe tbody tr th:only-of-type {\n",
       "        vertical-align: middle;\n",
       "    }\n",
       "\n",
       "    .dataframe tbody tr th {\n",
       "        vertical-align: top;\n",
       "    }\n",
       "\n",
       "    .dataframe thead th {\n",
       "        text-align: right;\n",
       "    }\n",
       "</style>\n",
       "<table border=\"1\" class=\"dataframe\">\n",
       "  <thead>\n",
       "    <tr style=\"text-align: right;\">\n",
       "      <th></th>\n",
       "      <th>produto</th>\n",
       "      <th>categoria</th>\n",
       "      <th>preco</th>\n",
       "      <th>qtd</th>\n",
       "      <th>total</th>\n",
       "    </tr>\n",
       "  </thead>\n",
       "  <tbody>\n",
       "    <tr>\n",
       "      <th>0</th>\n",
       "      <td>Caderno</td>\n",
       "      <td>Papelaria</td>\n",
       "      <td>19.9</td>\n",
       "      <td>3</td>\n",
       "      <td>59.7</td>\n",
       "    </tr>\n",
       "    <tr>\n",
       "      <th>1</th>\n",
       "      <td>Caneta</td>\n",
       "      <td>Papelaria</td>\n",
       "      <td>3.5</td>\n",
       "      <td>10</td>\n",
       "      <td>35.0</td>\n",
       "    </tr>\n",
       "    <tr>\n",
       "      <th>2</th>\n",
       "      <td>Mouse</td>\n",
       "      <td>Eletrônicos</td>\n",
       "      <td>120.0</td>\n",
       "      <td>2</td>\n",
       "      <td>240.0</td>\n",
       "    </tr>\n",
       "    <tr>\n",
       "      <th>3</th>\n",
       "      <td>Teclado</td>\n",
       "      <td>Eletrônicos</td>\n",
       "      <td>180.0</td>\n",
       "      <td>1</td>\n",
       "      <td>180.0</td>\n",
       "    </tr>\n",
       "    <tr>\n",
       "      <th>4</th>\n",
       "      <td>Café</td>\n",
       "      <td>Alimentos</td>\n",
       "      <td>7.0</td>\n",
       "      <td>5</td>\n",
       "      <td>35.0</td>\n",
       "    </tr>\n",
       "    <tr>\n",
       "      <th>5</th>\n",
       "      <td>Refri</td>\n",
       "      <td>Alimentos</td>\n",
       "      <td>5.5</td>\n",
       "      <td>8</td>\n",
       "      <td>44.0</td>\n",
       "    </tr>\n",
       "  </tbody>\n",
       "</table>\n",
       "</div>"
      ],
      "text/plain": [
       "   produto    categoria  preco  qtd  total\n",
       "0  Caderno    Papelaria   19.9    3   59.7\n",
       "1   Caneta    Papelaria    3.5   10   35.0\n",
       "2    Mouse  Eletrônicos  120.0    2  240.0\n",
       "3  Teclado  Eletrônicos  180.0    1  180.0\n",
       "4     Café    Alimentos    7.0    5   35.0\n",
       "5    Refri    Alimentos    5.5    8   44.0"
      ]
     },
     "execution_count": 69,
     "metadata": {},
     "output_type": "execute_result"
    }
   ],
   "source": [
    "# Produtos (com categoria) — usado em groupby/agg\n",
    "df_prod = pd.DataFrame({\n",
    "    \"produto\": [\"Caderno\", \"Caneta\", \"Mouse\", \"Teclado\", \"Café\", \"Refri\"],\n",
    "    \"categoria\": [\"Papelaria\", \"Papelaria\", \"Eletrônicos\", \"Eletrônicos\", \"Alimentos\", \"Alimentos\"],\n",
    "    \"preco\": [19.9, 3.5, 120.0, 180.0, 7.0, 5.5],\n",
    "    \"qtd\": [3, 10, 2, 1, 5, 8],\n",
    "})\n",
    "df_prod[\"total\"] = df_prod[\"preco\"] * df_prod[\"qtd\"]\n",
    "df_prod"
   ]
  },
  {
   "cell_type": "code",
   "execution_count": 70,
   "id": "affc0cc0",
   "metadata": {},
   "outputs": [
    {
     "data": {
      "text/plain": [
       "(   cliente_id   nome segmento\n",
       " 0           1    Ana       PF\n",
       " 1           2  Bruno       PF\n",
       " 2           3  Carla       PJ\n",
       " 3           4  Diego       PF,\n",
       "    pedido_id  cliente_id  valor\n",
       " 0        101           1    150\n",
       " 1        102           2     30\n",
       " 2        103           7     60\n",
       " 3        104           5    200\n",
       " 4        105           3    500)"
      ]
     },
     "execution_count": 70,
     "metadata": {},
     "output_type": "execute_result"
    }
   ],
   "source": [
    "# Clientes e pedidos — para merge/join/anti-join/concat\n",
    "clientes = pd.DataFrame({\n",
    "    \"cliente_id\": [1, 2, 3, 4],\n",
    "    \"nome\": [\"Ana\", \"Bruno\", \"Carla\", \"Diego\"],\n",
    "    \"segmento\": [\"PF\", \"PF\", \"PJ\", \"PF\"]\n",
    "})\n",
    "\n",
    "pedidos = pd.DataFrame({\n",
    "    \"pedido_id\": [101, 102, 103, 104, 105],\n",
    "    \"cliente_id\": [1, 2, 7, 5, 3],\n",
    "    \"valor\": [150, 30, 60, 200, 500]\n",
    "})\n",
    "\n",
    "clientes, pedidos"
   ]
  },
  {
   "cell_type": "markdown",
   "id": "780ab8fb",
   "metadata": {},
   "source": [
    "## Exercício 1 — Resumo por categoria\n",
    "**Tarefas**\n",
    "1) Calcule, para cada `categoria`, a **quantidade total vendida** (`sum(qtd)`) e a **receita total** (`sum(total)`).  \n",
    "2) Adicione o **preço médio** dos produtos (`mean(preco)`).  \n",
    "3) Ordene da **maior para a menor receita**.\n",
    "\n",
    "**Dica**: use `groupby(..., as_index=False).agg(...)` e `sort_values`."
   ]
  },
  {
   "cell_type": "code",
   "execution_count": 71,
   "id": "ed1705fb",
   "metadata": {},
   "outputs": [
    {
     "data": {
      "text/html": [
       "<div>\n",
       "<style scoped>\n",
       "    .dataframe tbody tr th:only-of-type {\n",
       "        vertical-align: middle;\n",
       "    }\n",
       "\n",
       "    .dataframe tbody tr th {\n",
       "        vertical-align: top;\n",
       "    }\n",
       "\n",
       "    .dataframe thead th {\n",
       "        text-align: right;\n",
       "    }\n",
       "</style>\n",
       "<table border=\"1\" class=\"dataframe\">\n",
       "  <thead>\n",
       "    <tr style=\"text-align: right;\">\n",
       "      <th></th>\n",
       "      <th>categoria</th>\n",
       "      <th>qtd_total</th>\n",
       "      <th>receita</th>\n",
       "      <th>preco_medio</th>\n",
       "    </tr>\n",
       "  </thead>\n",
       "  <tbody>\n",
       "    <tr>\n",
       "      <th>1</th>\n",
       "      <td>Eletrônicos</td>\n",
       "      <td>3</td>\n",
       "      <td>420.0</td>\n",
       "      <td>150.00</td>\n",
       "    </tr>\n",
       "    <tr>\n",
       "      <th>2</th>\n",
       "      <td>Papelaria</td>\n",
       "      <td>13</td>\n",
       "      <td>94.7</td>\n",
       "      <td>11.70</td>\n",
       "    </tr>\n",
       "    <tr>\n",
       "      <th>0</th>\n",
       "      <td>Alimentos</td>\n",
       "      <td>13</td>\n",
       "      <td>79.0</td>\n",
       "      <td>6.25</td>\n",
       "    </tr>\n",
       "  </tbody>\n",
       "</table>\n",
       "</div>"
      ],
      "text/plain": [
       "     categoria  qtd_total  receita  preco_medio\n",
       "1  Eletrônicos          3    420.0       150.00\n",
       "2    Papelaria         13     94.7        11.70\n",
       "0    Alimentos         13     79.0         6.25"
      ]
     },
     "execution_count": 71,
     "metadata": {},
     "output_type": "execute_result"
    }
   ],
   "source": [
    "# Espaço para respostas dos Exercícios propostos:\n",
    "(df_prod\n",
    " .groupby(\"categoria\", as_index=False)\n",
    " .agg(qtd_total=(\"qtd\",\"sum\"), receita=(\"total\",\"sum\"), preco_medio=(\"preco\",\"mean\"))\n",
    " .sort_values(\"receita\", ascending=False))"
   ]
  },
  {
   "cell_type": "markdown",
   "id": "b1cec810",
   "metadata": {},
   "source": [
    "## Exercício 2 — Clientes sem pedidos (*anti-join*)\n",
    "**Tarefa**: encontre **quais clientes não realizaram nenhum pedido**. Mostre `cliente_id`, `nome`, `segmento`.\n",
    "\n",
    "**Dicas**:  \n",
    "- `merge(..., how=\"left\", indicator=True)` e filtre `\"_merge\" == \"left_only\"`."
   ]
  },
  {
   "cell_type": "code",
   "execution_count": 72,
   "id": "513ad4c0",
   "metadata": {},
   "outputs": [
    {
     "name": "stdout",
     "output_type": "stream",
     "text": [
      "Inner join:\n",
      "    cliente_id   nome segmento  pedido_id  valor     _merge\n",
      "0           1    Ana       PF      101.0  150.0       both\n",
      "1           2  Bruno       PF      102.0   30.0       both\n",
      "2           3  Carla       PJ      105.0  500.0       both\n",
      "3           4  Diego       PF        NaN    NaN  left_only\n",
      "Anti join:\n",
      "    cliente_id   nome segmento  pedido_id  valor     _merge\n",
      "3           4  Diego       PF        NaN    NaN  left_only\n"
     ]
    }
   ],
   "source": [
    "# Espaço para respostas dos Exercícios propostos:\n",
    "df_cliente_pedido = pd.merge(clientes, pedidos, on=\"cliente_id\", how=\"left\", indicator=True)\n",
    "print(\"Inner join:\\n\", df_cliente_pedido)\n",
    "\n",
    "df_cliente_sem_pedido = df_cliente_pedido[df_cliente_pedido[\"_merge\"] == \"left_only\"]\n",
    "print(\"Anti join:\\n\", df_cliente_sem_pedido)"
   ]
  },
  {
   "cell_type": "markdown",
   "id": "9dfa5680",
   "metadata": {},
   "source": [
    "## Exercício 3 — Pedidos sem cliente válido (*anti-join inverso*)\n",
    "**Tarefa**: liste os **pedidos** cujo `cliente_id` **não existe** em `clientes`. Mostre `pedido_id` e `valor`."
   ]
  },
  {
   "cell_type": "code",
   "execution_count": 73,
   "id": "f0f2712d",
   "metadata": {},
   "outputs": [
    {
     "name": "stdout",
     "output_type": "stream",
     "text": [
      "Inner join:\n",
      "    cliente_id   nome segmento  pedido_id  valor      _merge\n",
      "0           1    Ana       PF        101    150        both\n",
      "1           2  Bruno       PF        102     30        both\n",
      "2           7    NaN      NaN        103     60  right_only\n",
      "3           5    NaN      NaN        104    200  right_only\n",
      "4           3  Carla       PJ        105    500        both\n",
      "Anti join:\n",
      "    cliente_id nome segmento  pedido_id  valor      _merge\n",
      "2           7  NaN      NaN        103     60  right_only\n",
      "3           5  NaN      NaN        104    200  right_only\n"
     ]
    }
   ],
   "source": [
    "# Espaço para respostas dos Exercícios propostos:\n",
    "df_cliente_pedido2 = pd.merge(clientes, pedidos, on=\"cliente_id\", how=\"right\", indicator=True)\n",
    "print(\"Inner join:\\n\", df_cliente_pedido2)\n",
    "\n",
    "df_pedido_sem_cliente = df_cliente_pedido2[df_cliente_pedido2[\"_merge\"] == \"right_only\"]\n",
    "print(\"Anti join:\\n\", df_pedido_sem_cliente)"
   ]
  },
  {
   "cell_type": "markdown",
   "id": "8c222fa4",
   "metadata": {},
   "source": [
    "## Exercício 4 — Concatenação de históricos\n",
    "**Cenário**: chegaram novos clientes (ano 2024). Una tudo e crie análises por ano/segmento."
   ]
  },
  {
   "cell_type": "code",
   "execution_count": 74,
   "id": "35e3dea2",
   "metadata": {},
   "outputs": [
    {
     "data": {
      "text/html": [
       "<div>\n",
       "<style scoped>\n",
       "    .dataframe tbody tr th:only-of-type {\n",
       "        vertical-align: middle;\n",
       "    }\n",
       "\n",
       "    .dataframe tbody tr th {\n",
       "        vertical-align: top;\n",
       "    }\n",
       "\n",
       "    .dataframe thead th {\n",
       "        text-align: right;\n",
       "    }\n",
       "</style>\n",
       "<table border=\"1\" class=\"dataframe\">\n",
       "  <thead>\n",
       "    <tr style=\"text-align: right;\">\n",
       "      <th></th>\n",
       "      <th>cliente_id</th>\n",
       "      <th>nome</th>\n",
       "      <th>segmento</th>\n",
       "    </tr>\n",
       "  </thead>\n",
       "  <tbody>\n",
       "    <tr>\n",
       "      <th>0</th>\n",
       "      <td>5</td>\n",
       "      <td>Erick</td>\n",
       "      <td>PJ</td>\n",
       "    </tr>\n",
       "    <tr>\n",
       "      <th>1</th>\n",
       "      <td>6</td>\n",
       "      <td>Fabio</td>\n",
       "      <td>PF</td>\n",
       "    </tr>\n",
       "  </tbody>\n",
       "</table>\n",
       "</div>"
      ],
      "text/plain": [
       "   cliente_id   nome segmento\n",
       "0           5  Erick       PJ\n",
       "1           6  Fabio       PF"
      ]
     },
     "execution_count": 74,
     "metadata": {},
     "output_type": "execute_result"
    }
   ],
   "source": [
    "clientes_novos = pd.DataFrame({\n",
    "    \"cliente_id\": [5, 6],\n",
    "    \"nome\": [\"Erick\", \"Fabio\"],\n",
    "    \"segmento\": [\"PJ\", \"PF\"]\n",
    "})\n",
    "clientes_novos"
   ]
  },
  {
   "cell_type": "markdown",
   "id": "d50ea88d",
   "metadata": {},
   "source": [
    "**Tarefas**  \n",
    "1) Faça `concat` de `clientes` (2023) com `clientes_novos` (2024).  \n",
    "2) Adicione `ano`.  \n",
    "3) Mostre o **número de clientes por ano e segmento**."
   ]
  },
  {
   "cell_type": "code",
   "execution_count": 75,
   "id": "22b32ca8",
   "metadata": {},
   "outputs": [
    {
     "name": "stdout",
     "output_type": "stream",
     "text": [
      "   cliente_id   nome segmento   ano\n",
      "0           1    Ana       PF  2023\n",
      "1           2  Bruno       PF  2023\n",
      "2           3  Carla       PJ  2023\n",
      "3           4  Diego       PF  2023\n",
      "4           5  Erick       PJ  2024\n",
      "5           6  Fabio       PF  2024\n",
      "\n",
      "    ano  qtd_total  seg_qtd\n",
      "0  2023          4        4\n",
      "1  2024          2        2\n"
     ]
    }
   ],
   "source": [
    "# Espaço para respostas dos Exercícios propostos:\n",
    "\n",
    "clientes[\"ano\"] = 2023\n",
    "clientes_novos[\"ano\"] = 2024\n",
    "clientes_completos = pd.concat([clientes, clientes_novos], ignore_index=True)\n",
    "print(clientes_completos)\n",
    "print()\n",
    "\n",
    "clientes_cat = (clientes_completos.groupby(\"ano\", as_index=False)\n",
    " .agg(qtd_total=(\"nome\",\"count\"), seg_qtd=(\"segmento\", \"count\")))\n",
    "print(clientes_cat)\n"
   ]
  },
  {
   "cell_type": "markdown",
   "id": "0b51e9bd",
   "metadata": {},
   "source": [
    "## Exercício 5 — Tratamento de nulos e tipos\n",
    "**Dados**:"
   ]
  },
  {
   "cell_type": "code",
   "execution_count": 76,
   "id": "9e89b3e6",
   "metadata": {},
   "outputs": [
    {
     "data": {
      "text/html": [
       "<div>\n",
       "<style scoped>\n",
       "    .dataframe tbody tr th:only-of-type {\n",
       "        vertical-align: middle;\n",
       "    }\n",
       "\n",
       "    .dataframe tbody tr th {\n",
       "        vertical-align: top;\n",
       "    }\n",
       "\n",
       "    .dataframe thead th {\n",
       "        text-align: right;\n",
       "    }\n",
       "</style>\n",
       "<table border=\"1\" class=\"dataframe\">\n",
       "  <thead>\n",
       "    <tr style=\"text-align: right;\">\n",
       "      <th></th>\n",
       "      <th>produto</th>\n",
       "      <th>preco</th>\n",
       "      <th>qtd</th>\n",
       "    </tr>\n",
       "  </thead>\n",
       "  <tbody>\n",
       "    <tr>\n",
       "      <th>0</th>\n",
       "      <td>Caderno</td>\n",
       "      <td>19.9</td>\n",
       "      <td>3.0</td>\n",
       "    </tr>\n",
       "    <tr>\n",
       "      <th>1</th>\n",
       "      <td>Caneta</td>\n",
       "      <td>3.5</td>\n",
       "      <td>NaN</td>\n",
       "    </tr>\n",
       "    <tr>\n",
       "      <th>2</th>\n",
       "      <td>Mouse</td>\n",
       "      <td>None</td>\n",
       "      <td>2.0</td>\n",
       "    </tr>\n",
       "    <tr>\n",
       "      <th>3</th>\n",
       "      <td>None</td>\n",
       "      <td>10.0</td>\n",
       "      <td>5.0</td>\n",
       "    </tr>\n",
       "  </tbody>\n",
       "</table>\n",
       "</div>"
      ],
      "text/plain": [
       "   produto preco  qtd\n",
       "0  Caderno  19.9  3.0\n",
       "1   Caneta   3.5  NaN\n",
       "2    Mouse  None  2.0\n",
       "3     None  10.0  5.0"
      ]
     },
     "execution_count": 76,
     "metadata": {},
     "output_type": "execute_result"
    }
   ],
   "source": [
    "df_nulos = pd.DataFrame({\n",
    "    \"produto\": [\"Caderno\", \"Caneta\", \"Mouse\", None],\n",
    "    \"preco\": [\"19.9\", \"3.5\", None, \"10.0\"],\n",
    "    \"qtd\": [3, None, 2, 5]\n",
    "})\n",
    "df_nulos"
   ]
  },
  {
   "cell_type": "markdown",
   "id": "89c671b7",
   "metadata": {},
   "source": [
    "**Tarefas**  \n",
    "1) Converta `preco` e `qtd` para **numérico**.  \n",
    "2) Preencha `qtd` nulos com **0** e `preco` nulos com a **média**.  \n",
    "3) Crie `total = preco * qtd`.  \n",
    "4) Calcule o **faturamento total**."
   ]
  },
  {
   "cell_type": "code",
   "execution_count": 77,
   "id": "f579d125",
   "metadata": {},
   "outputs": [
    {
     "name": "stdout",
     "output_type": "stream",
     "text": [
      "   produto      preco  qtd\n",
      "0  Caderno  19.900000  3.0\n",
      "1   Caneta   3.500000    0\n",
      "2    Mouse  11.133333  2.0\n",
      "3     None  10.000000  5.0\n"
     ]
    }
   ],
   "source": [
    "# Espaço para respostas dos Exercícios propostos:\n",
    "df_nulos[\"preco\"] = df_nulos[\"preco\"].astype(\"float64\")\n",
    "df_nulos[\"qtd\"] = df_nulos[\"qtd\"].astype(\"float64\")\n",
    "\n",
    "df_nulos = df_nulos.assign(qtd=df_nulos[\"qtd\"].fillna(\"0\"))\n",
    "df_nulos = df_nulos.assign(preco=df_nulos[\"preco\"].fillna(df_nulos[\"preco\"].mean()))\n",
    "print(df_nulos)\n"
   ]
  },
  {
   "cell_type": "markdown",
   "id": "32d7581f",
   "metadata": {},
   "source": [
    "## Exercício 6 — Relatório por segmento\n",
    "**Tarefas**  \n",
    "1) Faça `merge` entre `pedidos` e `clientes`.  \n",
    "2) Agrupe por `segmento` e calcule:\n",
    "   - `n_clientes` (distintos)\n",
    "   - `n_pedidos` (contagem)\n",
    "   - `receita_total` (soma de `valor`)\n",
    "   - `ticket_medio` = `receita_total / n_pedidos`  \n",
    "3) Ordene do segmento mais rentável para o menos rentável."
   ]
  },
  {
   "cell_type": "code",
   "execution_count": 78,
   "id": "a5368448",
   "metadata": {},
   "outputs": [
    {
     "name": "stdout",
     "output_type": "stream",
     "text": [
      "   cliente_id   nome segmento   ano  pedido_id  valor\n",
      "0           1    Ana       PF  2023        101    150\n",
      "1           2  Bruno       PF  2023        102     30\n",
      "2           3  Carla       PJ  2023        105    500\n",
      "\n",
      "Análises por segmento:\n",
      "\n",
      "          n_clientes  n_pedidos  receita_total  ticket_medio\n",
      "segmento                                                    \n",
      "PJ                 1          1            500         500.0\n",
      "PF                 2          2            180          90.0\n",
      "\n"
     ]
    }
   ],
   "source": [
    "# Espaço para respostas dos Exercícios propostos:\n",
    "df_cliente_pedido3 = pd.merge(clientes, pedidos, on=\"cliente_id\", how=\"inner\")\n",
    "print(df_cliente_pedido3)\n",
    "print()\n",
    "\n",
    "df_clientes_analises = df_cliente_pedido3.groupby(\"segmento\").agg(\n",
    "    n_clientes=(\"cliente_id\", \"nunique\"),\n",
    "    n_pedidos=(\"pedido_id\", \"count\"),\n",
    "    receita_total=(\"valor\",\"sum\")\n",
    ")\n",
    "df_clientes_analises[\"ticket_medio\"] = df_clientes_analises[\"receita_total\"]/df_clientes_analises[\"n_pedidos\"]\n",
    "\n",
    "df_clientes_analises = df_clientes_analises.sort_values(by=\"receita_total\", ascending=False)\n",
    "print(\"Análises por segmento:\\n\")\n",
    "print(df_clientes_analises)\n",
    "print()\n"
   ]
  },
  {
   "cell_type": "markdown",
   "id": "9c432ae8",
   "metadata": {},
   "source": [
    "## Desafio — Ranking de clientes por segmento\n",
    "**Tarefas**  \n",
    "1) Crie `full = pedidos.merge(clientes, on=\"cliente_id\", how=\"left\")`.  \n",
    "2) Para cada cliente, calcule: `qtd_pedidos`, `receita_total`, `ticket_medio`.  \n",
    "3) Crie um **ranking por segmento** (1 = maior receita).  \n",
    "4) Mostre o **Top 3 por segmento**."
   ]
  },
  {
   "cell_type": "code",
   "execution_count": 79,
   "id": "4f18f0b3",
   "metadata": {},
   "outputs": [
    {
     "name": "stdout",
     "output_type": "stream",
     "text": [
      "Valores para cada cliente:\n",
      "\n",
      "                           qtd_pedidos  receita_total  ticket_medio\n",
      "cliente_id nome  segmento                                          \n",
      "1          Ana   PF                  1            150         150.0\n",
      "2          Bruno PF                  1             30          30.0\n",
      "3          Carla PJ                  1            500         500.0\n",
      "\n",
      "Top clientes por segmento:\n",
      "\n",
      "                           qtd_pedidos  receita_total  ticket_medio  \\\n",
      "cliente_id nome  segmento                                             \n",
      "1          Ana   PF                  1            150         150.0   \n",
      "2          Bruno PF                  1             30          30.0   \n",
      "3          Carla PJ                  1            500         500.0   \n",
      "\n",
      "                           ranking_segmento  \n",
      "cliente_id nome  segmento                    \n",
      "1          Ana   PF                     1.0  \n",
      "2          Bruno PF                     2.0  \n",
      "3          Carla PJ                     1.0  \n",
      "\n"
     ]
    }
   ],
   "source": [
    "# Espaço para respostas dos Exercícios propostos:\n",
    "full = pedidos.merge(clientes, on=\"cliente_id\", how=\"left\")\n",
    "# print(full)\n",
    "# print()\n",
    "df_full_clientes=full.groupby([\"cliente_id\", \"nome\", \"segmento\"]).agg(\n",
    "    qtd_pedidos=(\"pedido_id\", \"count\"),\n",
    "    receita_total=(\"valor\", \"sum\"),\n",
    ")\n",
    "# print(df_full_clientes)\n",
    "# print()\n",
    "\n",
    "\n",
    "df_full_clientes[\"ticket_medio\"] = df_full_clientes[\"receita_total\"]/df_full_clientes[\"qtd_pedidos\"]\n",
    "print(\"Valores para cada cliente:\\n\")\n",
    "print(df_full_clientes)\n",
    "print()\n",
    "\n",
    "df_full_clientes[\"ranking_segmento\"] = df_full_clientes.groupby(\"segmento\")[\"receita_total\"].rank(method=\"dense\", ascending=False)\n",
    "# print(df_full_clientes)\n",
    "\n",
    "top_clientes_segmento = df_full_clientes.sort_values(by=['segmento', 'ranking_segmento'])\n",
    "\n",
    "print(\"Top clientes por segmento:\\n\")\n",
    "print(top_clientes_segmento)\n",
    "print()\n"
   ]
  }
 ],
 "metadata": {
  "kernelspec": {
   "display_name": "Python 3",
   "language": "python",
   "name": "python3"
  },
  "language_info": {
   "codemirror_mode": {
    "name": "ipython",
    "version": 3
   },
   "file_extension": ".py",
   "mimetype": "text/x-python",
   "name": "python",
   "nbconvert_exporter": "python",
   "pygments_lexer": "ipython3",
   "version": "3.13.7"
  }
 },
 "nbformat": 4,
 "nbformat_minor": 5
}
