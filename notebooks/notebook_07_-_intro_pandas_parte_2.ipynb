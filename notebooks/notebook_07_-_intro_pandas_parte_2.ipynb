{
 "cells": [
  {
   "cell_type": "markdown",
   "id": "9602e22b",
   "metadata": {},
   "source": [
    "# **CIÊNCIA DE DADOS** - DCA3501\n",
    "\n",
    "UNIVERSIDADE FEDERAL DO RIO GRANDE DO NORTE, NATAL/RN\n",
    "\n",
    "DEPARTAMENTO DE ENGENHARIA DE COMPUTAÇÃO E AUTOMAÇÃO\n",
    "\n",
    "(C) 2025-2026 CARLOS M D VIEGAS\n",
    "\n",
    "https://github.com/cmdviegas"
   ]
  },
  {
   "cell_type": "markdown",
   "id": "f77d4a12",
   "metadata": {},
   "source": [
    "# VII. Introdução ao **pandas** (parte 2)\n",
    "\n",
    "Este notebook é a continuação do guia **prático** para estudar a biblioteca **pandas**.\n",
    "\n",
    "Como vimos anteriormente na parte 1, trabalhamos os **fundamentos do pandas**, aprendendo a:\n",
    "\n",
    "- Criar e manipular `Series` e `DataFrames`;\n",
    "- Selecionar e filtrar dados com indexação;\n",
    "- Tratar valores nulos;\n",
    "- Converter e ajustar tipos de dados;\n",
    "- Realizar operações vetorizadas sobre colunas;\n",
    "- Agrupar e combinar tabelas.\n",
    "\n",
    "Agora, neste notebook parte 2 sobre o **pandas**, vamos estudar **operações avançadas**, explorando recursos que permitem:\n",
    "\n",
    "- Aplicar funções personalizadas com `.apply()`;\n",
    "- Executar transformações em `DataFrames`;\n",
    "- Trabalhar com hierarquias de índices (*MultiIndex*);\n",
    "- Introdução a séries temporais;\n",
    "- Técnicas para otimizar performance e memória."
   ]
  },
  {
   "cell_type": "code",
   "execution_count": 1,
   "id": "7dcf4f17",
   "metadata": {},
   "outputs": [
    {
     "data": {
      "text/plain": [
       "'2.3.2'"
      ]
     },
     "execution_count": 1,
     "metadata": {},
     "output_type": "execute_result"
    }
   ],
   "source": [
    "# Importação das bibliotecas\n",
    "\n",
    "import pandas as pd\n",
    "import numpy as np\n",
    "\n",
    "pd.__version__ # exibe a versão instalada (opcional)"
   ]
  },
  {
   "cell_type": "markdown",
   "id": "5fe1bf03",
   "metadata": {},
   "source": [
    "## 1. Aplicando funções personalizadas com `.apply()` <a id=\"sec1\"></a>\n",
    "\n",
    "\n",
    "O método `.apply()` permite aplicar funções às colunas ou linhas de um `DataFrame`.\n",
    "Isso é útil quando precisamos de maior flexibilidade além das operações vetorizadas.\n",
    "\n",
    "- `df.apply(func, axis=0)` → aplica a função a cada **coluna**.\n",
    "- `df.apply(func, axis=1)` → aplica a função a cada **linha**.\n",
    "\n",
    "**LEMBRETE**: Embora o uso de funções personalizadas com `.apply()` seja útil em situações específicas, é importante lembrar que as operações vetorizadas são, em geral, muito mais rápidas e devem ser a primeira escolha sempre que possível."
   ]
  },
  {
   "cell_type": "code",
   "execution_count": 14,
   "id": "32bde07e",
   "metadata": {},
   "outputs": [
    {
     "data": {
      "text/html": [
       "<div>\n",
       "<style scoped>\n",
       "    .dataframe tbody tr th:only-of-type {\n",
       "        vertical-align: middle;\n",
       "    }\n",
       "\n",
       "    .dataframe tbody tr th {\n",
       "        vertical-align: top;\n",
       "    }\n",
       "\n",
       "    .dataframe thead th {\n",
       "        text-align: right;\n",
       "    }\n",
       "</style>\n",
       "<table border=\"1\" class=\"dataframe\">\n",
       "  <thead>\n",
       "    <tr style=\"text-align: right;\">\n",
       "      <th></th>\n",
       "      <th>A</th>\n",
       "      <th>B</th>\n",
       "      <th>C</th>\n",
       "    </tr>\n",
       "  </thead>\n",
       "  <tbody>\n",
       "    <tr>\n",
       "      <th>0</th>\n",
       "      <td>10</td>\n",
       "      <td>5</td>\n",
       "      <td>2</td>\n",
       "    </tr>\n",
       "    <tr>\n",
       "      <th>1</th>\n",
       "      <td>20</td>\n",
       "      <td>15</td>\n",
       "      <td>4</td>\n",
       "    </tr>\n",
       "    <tr>\n",
       "      <th>2</th>\n",
       "      <td>30</td>\n",
       "      <td>25</td>\n",
       "      <td>6</td>\n",
       "    </tr>\n",
       "    <tr>\n",
       "      <th>3</th>\n",
       "      <td>40</td>\n",
       "      <td>35</td>\n",
       "      <td>8</td>\n",
       "    </tr>\n",
       "  </tbody>\n",
       "</table>\n",
       "</div>"
      ],
      "text/plain": [
       "    A   B  C\n",
       "0  10   5  2\n",
       "1  20  15  4\n",
       "2  30  25  6\n",
       "3  40  35  8"
      ]
     },
     "execution_count": 14,
     "metadata": {},
     "output_type": "execute_result"
    }
   ],
   "source": [
    "# Exemplo de DataFrame\n",
    "df = pd.DataFrame({\n",
    "    \"A\": [10, 20, 30, 40],\n",
    "    \"B\": [5, 15, 25, 35],\n",
    "    \"C\": [2, 4, 6, 8]\n",
    "})\n",
    "\n",
    "df"
   ]
  },
  {
   "cell_type": "code",
   "execution_count": 15,
   "id": "5ccbf87e",
   "metadata": {},
   "outputs": [
    {
     "data": {
      "text/plain": [
       "A    25.0\n",
       "B    20.0\n",
       "C     5.0\n",
       "dtype: float64"
      ]
     },
     "execution_count": 15,
     "metadata": {},
     "output_type": "execute_result"
    }
   ],
   "source": [
    "# Aplicando uma função em cada coluna (axis=0)\n",
    "df.apply(np.mean)"
   ]
  },
  {
   "cell_type": "code",
   "execution_count": 16,
   "id": "81c385ed",
   "metadata": {},
   "outputs": [
    {
     "data": {
      "text/plain": [
       "0    13\n",
       "1    31\n",
       "2    49\n",
       "3    67\n",
       "dtype: int64"
      ]
     },
     "execution_count": 16,
     "metadata": {},
     "output_type": "execute_result"
    }
   ],
   "source": [
    "# Aplicando função em cada linha (axis=1)\n",
    "df.apply(lambda row: row[\"A\"] + row[\"B\"] - row[\"C\"], axis=1)"
   ]
  },
  {
   "cell_type": "code",
   "execution_count": 17,
   "id": "c76b52ec",
   "metadata": {},
   "outputs": [
    {
     "data": {
      "text/html": [
       "<div>\n",
       "<style scoped>\n",
       "    .dataframe tbody tr th:only-of-type {\n",
       "        vertical-align: middle;\n",
       "    }\n",
       "\n",
       "    .dataframe tbody tr th {\n",
       "        vertical-align: top;\n",
       "    }\n",
       "\n",
       "    .dataframe thead th {\n",
       "        text-align: right;\n",
       "    }\n",
       "</style>\n",
       "<table border=\"1\" class=\"dataframe\">\n",
       "  <thead>\n",
       "    <tr style=\"text-align: right;\">\n",
       "      <th></th>\n",
       "      <th>A</th>\n",
       "      <th>B</th>\n",
       "      <th>C</th>\n",
       "      <th>categoria_B</th>\n",
       "    </tr>\n",
       "  </thead>\n",
       "  <tbody>\n",
       "    <tr>\n",
       "      <th>0</th>\n",
       "      <td>10</td>\n",
       "      <td>5</td>\n",
       "      <td>2</td>\n",
       "      <td>baixo</td>\n",
       "    </tr>\n",
       "    <tr>\n",
       "      <th>1</th>\n",
       "      <td>20</td>\n",
       "      <td>15</td>\n",
       "      <td>4</td>\n",
       "      <td>médio</td>\n",
       "    </tr>\n",
       "    <tr>\n",
       "      <th>2</th>\n",
       "      <td>30</td>\n",
       "      <td>25</td>\n",
       "      <td>6</td>\n",
       "      <td>médio</td>\n",
       "    </tr>\n",
       "    <tr>\n",
       "      <th>3</th>\n",
       "      <td>40</td>\n",
       "      <td>35</td>\n",
       "      <td>8</td>\n",
       "      <td>alto</td>\n",
       "    </tr>\n",
       "  </tbody>\n",
       "</table>\n",
       "</div>"
      ],
      "text/plain": [
       "    A   B  C categoria_B\n",
       "0  10   5  2       baixo\n",
       "1  20  15  4       médio\n",
       "2  30  25  6       médio\n",
       "3  40  35  8        alto"
      ]
     },
     "execution_count": 17,
     "metadata": {},
     "output_type": "execute_result"
    }
   ],
   "source": [
    "# Usando .apply() com funções externas\n",
    "\n",
    "# Definindo uma função separada\n",
    "def categorizar_valor(x):\n",
    "    if x < 15:\n",
    "        return \"baixo\"\n",
    "    elif x < 30:\n",
    "        return \"médio\"\n",
    "    else:\n",
    "        return \"alto\"\n",
    "\n",
    "df[\"categoria_B\"] = df[\"B\"].apply(categorizar_valor)\n",
    "df\n"
   ]
  },
  {
   "cell_type": "markdown",
   "id": "aaf064d3",
   "metadata": {},
   "source": [
    "#### Funções Lambda no Python\n",
    "\n",
    "As **funções `lambda`** são funções **anônimas** (sem nome) em Python, úteis para criar operações simples e rápidas.\n",
    "- Não precisam de def nem de nome.\n",
    "- Normalmente usadas em operações rápidas, quando não vale a pena criar uma função completa.\n",
    "- Retornam automaticamente o valor da expressão (não é necessário return).\n",
    "\n",
    "> Sintaxe: \n",
    "> ```python\n",
    "> lambda argumentos: expressão\n",
    "> ```"
   ]
  },
  {
   "cell_type": "code",
   "execution_count": 6,
   "id": "07923a75",
   "metadata": {},
   "outputs": [],
   "source": [
    "# Exemplo de função lambda\n",
    "\n",
    "# Função tradicional\n",
    "def quadrado(x):\n",
    "    return x ** 2\n",
    "\n",
    "# Equivalente com lambda\n",
    "quadrado_lambda = lambda x: x ** 2"
   ]
  },
  {
   "cell_type": "markdown",
   "id": "434fea42",
   "metadata": {},
   "source": [
    "O **pandas** oferece também métodos semelhantes ao `.apply()` para aplicar funções personalizadas:\n",
    "\n",
    "- **`.map()`** → usado em **Series** (coluna única). Aplica função a cada elemento.  \n",
    "- **`.applymap()`** → usado em **DataFrames**. Aplica função a cada elemento da tabela (**em deuso**).  \n",
    "- **`.apply()`** → já vimos, é o mais flexível (funciona em `Series` e `DataFrames`, por linha ou coluna).\n",
    "\n",
    "Em resumo:  \n",
    "- Use `.map()` quando trabalhar com uma única **Series**.  \n",
    "- Use `.applymap()` quando quiser aplicar função **elemento a elemento** em um **DataFrame**.  \n",
    "- Use `.apply()` quando precisar de mais flexibilidade (linhas, colunas, funções complexas).\n"
   ]
  },
  {
   "cell_type": "code",
   "execution_count": 9,
   "id": "05a4a222",
   "metadata": {},
   "outputs": [
    {
     "name": "stdout",
     "output_type": "stream",
     "text": [
      "0     100\n",
      "1     400\n",
      "2     900\n",
      "3    1600\n",
      "Name: A, dtype: int64\n"
     ]
    }
   ],
   "source": [
    "# .map() em Series → atua elemento por elemento em uma única coluna (Series)\n",
    "# Cada valor é passado para a função e substituído pelo retorno\n",
    "print(df[\"A\"].map(lambda x: x**2))\n",
    "\n",
    "# .applymap() em DataFrame → atua elemento por elemento em todo o DataFrame\n",
    "# Cada célula é passada para a função e substituída pelo retorno\n",
    "# print(df.applymap(lambda x: f\"[{x}]\"))\n",
    "\n",
    "# .apply() em DataFrame → atua em colunas inteiras (padrão, axis=0) ou em linhas inteiras (axis=1)\n",
    "# print(df.apply(sum, axis=0))"
   ]
  },
  {
   "cell_type": "code",
   "execution_count": null,
   "id": "8a7bb6f6",
   "metadata": {},
   "outputs": [
    {
     "name": "stdout",
     "output_type": "stream",
     "text": [
      "1.95 ms ± 226 μs per loop (mean ± std. dev. of 7 runs, 100 loops each)\n",
      "397 ms ± 23.7 ms per loop (mean ± std. dev. of 7 runs, 1 loop each)\n"
     ]
    }
   ],
   "source": [
    "# TODO: rever melhor sobre as diferenças de aplicação entre o cálculo vetorizado e o uso de .apply()\n",
    "\n",
    "# Comparação de desempenho entre operações vetorizadas e apply\n",
    "\n",
    "# Criando um DataFrame grande\n",
    "n = 1_000_000 # 1 milhão de linhas\n",
    "df = pd.DataFrame({\"A\": np.random.randint(1, 100, size=n)})\n",
    "\n",
    "# 1. Operação vetorizada\n",
    "%timeit df[\"A\"] ** 2\n",
    "\n",
    "# 2. Usando .apply()\n",
    "%timeit df[\"A\"].apply(lambda x: x ** 2)"
   ]
  },
  {
   "cell_type": "markdown",
   "id": "32c2a087",
   "metadata": {},
   "source": [
    "## 2. Transformações em DataFrames\n",
    "\n",
    "Transformações permitem modificar dados **mantendo a estrutura do DataFrame**.\n",
    "\n",
    "- `.transform(func)` → retorna um objeto do mesmo tamanho do original (mantém o mesmo **número de linhas**)\n",
    "- Diferença para `.apply()`: `transform` é usado quando queremos retornar valores \"transformados\" mantendo alinhamento\n"
   ]
  },
  {
   "cell_type": "code",
   "execution_count": 18,
   "id": "e224b7e4",
   "metadata": {},
   "outputs": [
    {
     "data": {
      "text/html": [
       "<div>\n",
       "<style scoped>\n",
       "    .dataframe tbody tr th:only-of-type {\n",
       "        vertical-align: middle;\n",
       "    }\n",
       "\n",
       "    .dataframe tbody tr th {\n",
       "        vertical-align: top;\n",
       "    }\n",
       "\n",
       "    .dataframe thead th {\n",
       "        text-align: right;\n",
       "    }\n",
       "</style>\n",
       "<table border=\"1\" class=\"dataframe\">\n",
       "  <thead>\n",
       "    <tr style=\"text-align: right;\">\n",
       "      <th></th>\n",
       "      <th>A</th>\n",
       "      <th>B</th>\n",
       "    </tr>\n",
       "  </thead>\n",
       "  <tbody>\n",
       "    <tr>\n",
       "      <th>0</th>\n",
       "      <td>-1.161895</td>\n",
       "      <td>-1.161895</td>\n",
       "    </tr>\n",
       "    <tr>\n",
       "      <th>1</th>\n",
       "      <td>-0.387298</td>\n",
       "      <td>-0.387298</td>\n",
       "    </tr>\n",
       "    <tr>\n",
       "      <th>2</th>\n",
       "      <td>0.387298</td>\n",
       "      <td>0.387298</td>\n",
       "    </tr>\n",
       "    <tr>\n",
       "      <th>3</th>\n",
       "      <td>1.161895</td>\n",
       "      <td>1.161895</td>\n",
       "    </tr>\n",
       "  </tbody>\n",
       "</table>\n",
       "</div>"
      ],
      "text/plain": [
       "          A         B\n",
       "0 -1.161895 -1.161895\n",
       "1 -0.387298 -0.387298\n",
       "2  0.387298  0.387298\n",
       "3  1.161895  1.161895"
      ]
     },
     "execution_count": 18,
     "metadata": {},
     "output_type": "execute_result"
    }
   ],
   "source": [
    "# Exemplo com transform: padronizando colunas (z-score)\n",
    "df[[\"A\", \"B\"]].transform(lambda x: (x - x.mean()) / x.std())"
   ]
  },
  {
   "cell_type": "code",
   "execution_count": 19,
   "id": "35e68ed0",
   "metadata": {},
   "outputs": [
    {
     "data": {
      "text/html": [
       "<div>\n",
       "<style scoped>\n",
       "    .dataframe tbody tr th:only-of-type {\n",
       "        vertical-align: middle;\n",
       "    }\n",
       "\n",
       "    .dataframe tbody tr th {\n",
       "        vertical-align: top;\n",
       "    }\n",
       "\n",
       "    .dataframe thead th {\n",
       "        text-align: right;\n",
       "    }\n",
       "</style>\n",
       "<table border=\"1\" class=\"dataframe\">\n",
       "  <thead>\n",
       "    <tr style=\"text-align: right;\">\n",
       "      <th></th>\n",
       "      <th>A</th>\n",
       "      <th>B</th>\n",
       "    </tr>\n",
       "  </thead>\n",
       "  <tbody>\n",
       "    <tr>\n",
       "      <th>0</th>\n",
       "      <td>100</td>\n",
       "      <td>1.0</td>\n",
       "    </tr>\n",
       "    <tr>\n",
       "      <th>1</th>\n",
       "      <td>200</td>\n",
       "      <td>3.0</td>\n",
       "    </tr>\n",
       "    <tr>\n",
       "      <th>2</th>\n",
       "      <td>300</td>\n",
       "      <td>5.0</td>\n",
       "    </tr>\n",
       "    <tr>\n",
       "      <th>3</th>\n",
       "      <td>400</td>\n",
       "      <td>7.0</td>\n",
       "    </tr>\n",
       "  </tbody>\n",
       "</table>\n",
       "</div>"
      ],
      "text/plain": [
       "     A    B\n",
       "0  100  1.0\n",
       "1  200  3.0\n",
       "2  300  5.0\n",
       "3  400  7.0"
      ]
     },
     "execution_count": 19,
     "metadata": {},
     "output_type": "execute_result"
    }
   ],
   "source": [
    "# Usando transform com dicionário\n",
    "df_scaled = df.transform({\"A\": lambda x: x * 10, \"B\": lambda x: x / 5})\n",
    "df_scaled #.astype(\"int64\")"
   ]
  },
  {
   "cell_type": "code",
   "execution_count": 20,
   "id": "464314ce",
   "metadata": {},
   "outputs": [
    {
     "name": "stdout",
     "output_type": "stream",
     "text": [
      "grupo\n",
      "X    11.000000\n",
      "Y    22.333333\n",
      "Name: valor, dtype: float64\n"
     ]
    },
    {
     "data": {
      "text/html": [
       "<div>\n",
       "<style scoped>\n",
       "    .dataframe tbody tr th:only-of-type {\n",
       "        vertical-align: middle;\n",
       "    }\n",
       "\n",
       "    .dataframe tbody tr th {\n",
       "        vertical-align: top;\n",
       "    }\n",
       "\n",
       "    .dataframe thead th {\n",
       "        text-align: right;\n",
       "    }\n",
       "</style>\n",
       "<table border=\"1\" class=\"dataframe\">\n",
       "  <thead>\n",
       "    <tr style=\"text-align: right;\">\n",
       "      <th></th>\n",
       "      <th>grupo</th>\n",
       "      <th>valor</th>\n",
       "      <th>valor_centralizado</th>\n",
       "    </tr>\n",
       "  </thead>\n",
       "  <tbody>\n",
       "    <tr>\n",
       "      <th>0</th>\n",
       "      <td>X</td>\n",
       "      <td>10</td>\n",
       "      <td>-1.000000</td>\n",
       "    </tr>\n",
       "    <tr>\n",
       "      <th>1</th>\n",
       "      <td>X</td>\n",
       "      <td>12</td>\n",
       "      <td>1.000000</td>\n",
       "    </tr>\n",
       "    <tr>\n",
       "      <th>2</th>\n",
       "      <td>Y</td>\n",
       "      <td>20</td>\n",
       "      <td>-2.333333</td>\n",
       "    </tr>\n",
       "    <tr>\n",
       "      <th>3</th>\n",
       "      <td>Y</td>\n",
       "      <td>22</td>\n",
       "      <td>-0.333333</td>\n",
       "    </tr>\n",
       "    <tr>\n",
       "      <th>4</th>\n",
       "      <td>Y</td>\n",
       "      <td>25</td>\n",
       "      <td>2.666667</td>\n",
       "    </tr>\n",
       "  </tbody>\n",
       "</table>\n",
       "</div>"
      ],
      "text/plain": [
       "  grupo  valor  valor_centralizado\n",
       "0     X     10           -1.000000\n",
       "1     X     12            1.000000\n",
       "2     Y     20           -2.333333\n",
       "3     Y     22           -0.333333\n",
       "4     Y     25            2.666667"
      ]
     },
     "execution_count": 20,
     "metadata": {},
     "output_type": "execute_result"
    }
   ],
   "source": [
    "df2 = pd.DataFrame({\n",
    "    \"grupo\": [\"X\", \"X\", \"Y\", \"Y\", \"Y\"],\n",
    "    \"valor\": [10, 12, 20, 22, 25]\n",
    "})\n",
    "\n",
    "print(df2.groupby(\"grupo\")[\"valor\"].mean())  # média geral\n",
    "\n",
    "# Subtraindo a média de cada grupo (centralização)\n",
    "df2[\"valor_centralizado\"] = df2.groupby(\"grupo\")[\"valor\"].transform(lambda x: x - x.mean())\n",
    "df2\n"
   ]
  },
  {
   "cell_type": "markdown",
   "id": "5bd0d808",
   "metadata": {},
   "source": [
    "## 3. Reshape: `pivot`, `melt`, `stack`/`unstack` <a id=\"12-reshape\"></a>\n",
    "\n",
    "No pandas, **reshape** significa **mudar o formato da tabela** — reorganizando linhas, colunas e índices.\n",
    "\n",
    "Operações mais comuns:\n",
    "- `.pivot()` / `.pivot_table()` → transforma dados de formato **longo → largo** (cria colunas novas a partir de valores).\n",
    "- `.melt()` → transforma dados de formato **largo → longo** (desfaz pivot, \"achatando\" dados).\n",
    "- `.stack()` → move colunas para o índice (empilha colunas no índice).\n",
    "- `.unstack()` → move índices para colunas (faz o oposto, trazendo níveis do índice para colunas).\n"
   ]
  },
  {
   "cell_type": "code",
   "execution_count": 21,
   "id": "d8bec5fe",
   "metadata": {},
   "outputs": [
    {
     "data": {
      "text/html": [
       "<div>\n",
       "<style scoped>\n",
       "    .dataframe tbody tr th:only-of-type {\n",
       "        vertical-align: middle;\n",
       "    }\n",
       "\n",
       "    .dataframe tbody tr th {\n",
       "        vertical-align: top;\n",
       "    }\n",
       "\n",
       "    .dataframe thead th {\n",
       "        text-align: right;\n",
       "    }\n",
       "</style>\n",
       "<table border=\"1\" class=\"dataframe\">\n",
       "  <thead>\n",
       "    <tr style=\"text-align: right;\">\n",
       "      <th></th>\n",
       "      <th>País</th>\n",
       "      <th>Ano</th>\n",
       "      <th>PIB</th>\n",
       "      <th>População</th>\n",
       "    </tr>\n",
       "  </thead>\n",
       "  <tbody>\n",
       "    <tr>\n",
       "      <th>0</th>\n",
       "      <td>Brasil</td>\n",
       "      <td>2020</td>\n",
       "      <td>2100</td>\n",
       "      <td>212</td>\n",
       "    </tr>\n",
       "    <tr>\n",
       "      <th>1</th>\n",
       "      <td>Brasil</td>\n",
       "      <td>2021</td>\n",
       "      <td>2200</td>\n",
       "      <td>213</td>\n",
       "    </tr>\n",
       "    <tr>\n",
       "      <th>2</th>\n",
       "      <td>Argentina</td>\n",
       "      <td>2020</td>\n",
       "      <td>450</td>\n",
       "      <td>45</td>\n",
       "    </tr>\n",
       "    <tr>\n",
       "      <th>3</th>\n",
       "      <td>Argentina</td>\n",
       "      <td>2021</td>\n",
       "      <td>470</td>\n",
       "      <td>46</td>\n",
       "    </tr>\n",
       "  </tbody>\n",
       "</table>\n",
       "</div>"
      ],
      "text/plain": [
       "        País   Ano   PIB  População\n",
       "0     Brasil  2020  2100        212\n",
       "1     Brasil  2021  2200        213\n",
       "2  Argentina  2020   450         45\n",
       "3  Argentina  2021   470         46"
      ]
     },
     "execution_count": 21,
     "metadata": {},
     "output_type": "execute_result"
    }
   ],
   "source": [
    "# Dataframe de referência\n",
    "df = pd.DataFrame({\n",
    "    \"País\": [\"Brasil\", \"Brasil\", \"Argentina\", \"Argentina\"],\n",
    "    \"Ano\": [2020, 2021, 2020, 2021],\n",
    "    \"PIB\": [2100, 2200, 450, 470],\n",
    "    \"População\": [212, 213, 45, 46]\n",
    "})\n",
    "df"
   ]
  },
  {
   "cell_type": "code",
   "execution_count": 24,
   "id": "eadb5839",
   "metadata": {},
   "outputs": [
    {
     "data": {
      "text/html": [
       "<div>\n",
       "<style scoped>\n",
       "    .dataframe tbody tr th:only-of-type {\n",
       "        vertical-align: middle;\n",
       "    }\n",
       "\n",
       "    .dataframe tbody tr th {\n",
       "        vertical-align: top;\n",
       "    }\n",
       "\n",
       "    .dataframe thead th {\n",
       "        text-align: right;\n",
       "    }\n",
       "</style>\n",
       "<table border=\"1\" class=\"dataframe\">\n",
       "  <thead>\n",
       "    <tr style=\"text-align: right;\">\n",
       "      <th>Ano</th>\n",
       "      <th>2020</th>\n",
       "      <th>2021</th>\n",
       "    </tr>\n",
       "    <tr>\n",
       "      <th>País</th>\n",
       "      <th></th>\n",
       "      <th></th>\n",
       "    </tr>\n",
       "  </thead>\n",
       "  <tbody>\n",
       "    <tr>\n",
       "      <th>Argentina</th>\n",
       "      <td>450</td>\n",
       "      <td>470</td>\n",
       "    </tr>\n",
       "    <tr>\n",
       "      <th>Brasil</th>\n",
       "      <td>2100</td>\n",
       "      <td>2200</td>\n",
       "    </tr>\n",
       "  </tbody>\n",
       "</table>\n",
       "</div>"
      ],
      "text/plain": [
       "Ano        2020  2021\n",
       "País                 \n",
       "Argentina   450   470\n",
       "Brasil     2100  2200"
      ]
     },
     "execution_count": 24,
     "metadata": {},
     "output_type": "execute_result"
    }
   ],
   "source": [
    "# Reorganiza os anos em colunas (pivot)\n",
    "df_pivot = df.pivot(index=\"País\", columns=\"Ano\", values=\"PIB\") # Queremos ver o PIB por País, organizado o ano como colunas\n",
    "df_pivot"
   ]
  },
  {
   "cell_type": "code",
   "execution_count": 25,
   "id": "53a27f0e",
   "metadata": {},
   "outputs": [
    {
     "data": {
      "text/html": [
       "<div>\n",
       "<style scoped>\n",
       "    .dataframe tbody tr th:only-of-type {\n",
       "        vertical-align: middle;\n",
       "    }\n",
       "\n",
       "    .dataframe tbody tr th {\n",
       "        vertical-align: top;\n",
       "    }\n",
       "\n",
       "    .dataframe thead th {\n",
       "        text-align: right;\n",
       "    }\n",
       "</style>\n",
       "<table border=\"1\" class=\"dataframe\">\n",
       "  <thead>\n",
       "    <tr style=\"text-align: right;\">\n",
       "      <th>País</th>\n",
       "      <th>Argentina</th>\n",
       "      <th>Brasil</th>\n",
       "    </tr>\n",
       "    <tr>\n",
       "      <th>Ano</th>\n",
       "      <th></th>\n",
       "      <th></th>\n",
       "    </tr>\n",
       "  </thead>\n",
       "  <tbody>\n",
       "    <tr>\n",
       "      <th>2020</th>\n",
       "      <td>45</td>\n",
       "      <td>212</td>\n",
       "    </tr>\n",
       "    <tr>\n",
       "      <th>2021</th>\n",
       "      <td>46</td>\n",
       "      <td>213</td>\n",
       "    </tr>\n",
       "  </tbody>\n",
       "</table>\n",
       "</div>"
      ],
      "text/plain": [
       "País  Argentina  Brasil\n",
       "Ano                    \n",
       "2020         45     212\n",
       "2021         46     213"
      ]
     },
     "execution_count": 25,
     "metadata": {},
     "output_type": "execute_result"
    }
   ],
   "source": [
    "# Outro exemplo de pivot\n",
    "df_pivot2 = df.pivot(index=\"Ano\", columns=\"País\", values=\"População\") # Queremos ver a População por Ano, organizando os países como colunas\n",
    "df_pivot2"
   ]
  },
  {
   "cell_type": "code",
   "execution_count": 26,
   "id": "549f7457",
   "metadata": {},
   "outputs": [
    {
     "data": {
      "text/html": [
       "<div>\n",
       "<style scoped>\n",
       "    .dataframe tbody tr th:only-of-type {\n",
       "        vertical-align: middle;\n",
       "    }\n",
       "\n",
       "    .dataframe tbody tr th {\n",
       "        vertical-align: top;\n",
       "    }\n",
       "\n",
       "    .dataframe thead th {\n",
       "        text-align: right;\n",
       "    }\n",
       "</style>\n",
       "<table border=\"1\" class=\"dataframe\">\n",
       "  <thead>\n",
       "    <tr style=\"text-align: right;\">\n",
       "      <th></th>\n",
       "      <th>País</th>\n",
       "      <th>Ano</th>\n",
       "      <th>Indicador</th>\n",
       "      <th>Valor</th>\n",
       "    </tr>\n",
       "  </thead>\n",
       "  <tbody>\n",
       "    <tr>\n",
       "      <th>0</th>\n",
       "      <td>Brasil</td>\n",
       "      <td>2020</td>\n",
       "      <td>PIB</td>\n",
       "      <td>2100</td>\n",
       "    </tr>\n",
       "    <tr>\n",
       "      <th>1</th>\n",
       "      <td>Brasil</td>\n",
       "      <td>2021</td>\n",
       "      <td>PIB</td>\n",
       "      <td>2200</td>\n",
       "    </tr>\n",
       "    <tr>\n",
       "      <th>2</th>\n",
       "      <td>Argentina</td>\n",
       "      <td>2020</td>\n",
       "      <td>PIB</td>\n",
       "      <td>450</td>\n",
       "    </tr>\n",
       "    <tr>\n",
       "      <th>3</th>\n",
       "      <td>Argentina</td>\n",
       "      <td>2021</td>\n",
       "      <td>PIB</td>\n",
       "      <td>470</td>\n",
       "    </tr>\n",
       "    <tr>\n",
       "      <th>4</th>\n",
       "      <td>Brasil</td>\n",
       "      <td>2020</td>\n",
       "      <td>População</td>\n",
       "      <td>212</td>\n",
       "    </tr>\n",
       "    <tr>\n",
       "      <th>5</th>\n",
       "      <td>Brasil</td>\n",
       "      <td>2021</td>\n",
       "      <td>População</td>\n",
       "      <td>213</td>\n",
       "    </tr>\n",
       "    <tr>\n",
       "      <th>6</th>\n",
       "      <td>Argentina</td>\n",
       "      <td>2020</td>\n",
       "      <td>População</td>\n",
       "      <td>45</td>\n",
       "    </tr>\n",
       "    <tr>\n",
       "      <th>7</th>\n",
       "      <td>Argentina</td>\n",
       "      <td>2021</td>\n",
       "      <td>População</td>\n",
       "      <td>46</td>\n",
       "    </tr>\n",
       "  </tbody>\n",
       "</table>\n",
       "</div>"
      ],
      "text/plain": [
       "        País   Ano  Indicador  Valor\n",
       "0     Brasil  2020        PIB   2100\n",
       "1     Brasil  2021        PIB   2200\n",
       "2  Argentina  2020        PIB    450\n",
       "3  Argentina  2021        PIB    470\n",
       "4     Brasil  2020  População    212\n",
       "5     Brasil  2021  População    213\n",
       "6  Argentina  2020  População     45\n",
       "7  Argentina  2021  População     46"
      ]
     },
     "execution_count": 26,
     "metadata": {},
     "output_type": "execute_result"
    }
   ],
   "source": [
    "# Desfaz o pivot: indicadores em uma única coluna (melt)\n",
    "df_melt = df.melt(id_vars=[\"País\", \"Ano\"],\n",
    "                  value_vars=[\"PIB\", \"População\"],\n",
    "                  var_name=\"Indicador\",\n",
    "                  value_name=\"Valor\")\n",
    "df_melt"
   ]
  },
  {
   "cell_type": "code",
   "execution_count": 30,
   "id": "a67dbdc3",
   "metadata": {},
   "outputs": [
    {
     "data": {
      "text/plain": [
       "País       Ano            \n",
       "Brasil     2020  PIB          2100\n",
       "                 População     212\n",
       "           2021  PIB          2200\n",
       "                 População     213\n",
       "Argentina  2020  PIB           450\n",
       "                 População      45\n",
       "           2021  PIB           470\n",
       "                 População      46\n",
       "dtype: int64"
      ]
     },
     "execution_count": 30,
     "metadata": {},
     "output_type": "execute_result"
    }
   ],
   "source": [
    "# Stack (colunas → índice)\n",
    "df_stacked = df.set_index([\"País\", \"Ano\"]).stack()\n",
    "df_stacked"
   ]
  },
  {
   "cell_type": "code",
   "execution_count": 34,
   "id": "c1be450e",
   "metadata": {},
   "outputs": [
    {
     "data": {
      "text/html": [
       "<div>\n",
       "<style scoped>\n",
       "    .dataframe tbody tr th:only-of-type {\n",
       "        vertical-align: middle;\n",
       "    }\n",
       "\n",
       "    .dataframe tbody tr th {\n",
       "        vertical-align: top;\n",
       "    }\n",
       "\n",
       "    .dataframe thead th {\n",
       "        text-align: right;\n",
       "    }\n",
       "</style>\n",
       "<table border=\"1\" class=\"dataframe\">\n",
       "  <thead>\n",
       "    <tr style=\"text-align: right;\">\n",
       "      <th></th>\n",
       "      <th></th>\n",
       "      <th>PIB</th>\n",
       "      <th>População</th>\n",
       "    </tr>\n",
       "    <tr>\n",
       "      <th>País</th>\n",
       "      <th>Ano</th>\n",
       "      <th></th>\n",
       "      <th></th>\n",
       "    </tr>\n",
       "  </thead>\n",
       "  <tbody>\n",
       "    <tr>\n",
       "      <th rowspan=\"2\" valign=\"top\">Argentina</th>\n",
       "      <th>2020</th>\n",
       "      <td>450</td>\n",
       "      <td>45</td>\n",
       "    </tr>\n",
       "    <tr>\n",
       "      <th>2021</th>\n",
       "      <td>470</td>\n",
       "      <td>46</td>\n",
       "    </tr>\n",
       "    <tr>\n",
       "      <th rowspan=\"2\" valign=\"top\">Brasil</th>\n",
       "      <th>2020</th>\n",
       "      <td>2100</td>\n",
       "      <td>212</td>\n",
       "    </tr>\n",
       "    <tr>\n",
       "      <th>2021</th>\n",
       "      <td>2200</td>\n",
       "      <td>213</td>\n",
       "    </tr>\n",
       "  </tbody>\n",
       "</table>\n",
       "</div>"
      ],
      "text/plain": [
       "                 PIB  População\n",
       "País      Ano                  \n",
       "Argentina 2020   450         45\n",
       "          2021   470         46\n",
       "Brasil    2020  2100        212\n",
       "          2021  2200        213"
      ]
     },
     "execution_count": 34,
     "metadata": {},
     "output_type": "execute_result"
    }
   ],
   "source": [
    "# Unstack (índice → colunas)\n",
    "df_unstacked = df_stacked.unstack()\n",
    "df_unstacked"
   ]
  },
  {
   "cell_type": "markdown",
   "id": "a2e59cf1",
   "metadata": {},
   "source": [
    "## 4. Tabelas dinâmicas (`pivot_table`) <a id=\"10-pivot\"></a>\n",
    "\n",
    "O `.pivot_table()` funciona de forma semelhante ao `.pivot()`, mas com duas diferenças principais:\n",
    "\n",
    "- Pode lidar com **valores duplicados**, aplicando uma **função de agregação** (`aggfunc`).\n",
    "- Por padrão, a função de agregação é a **média** (`mean`).\n",
    "\n",
    "> Sintaxe básica:\n",
    "> ```python\n",
    "> df.pivot_table(index=..., columns=..., values=..., aggfunc=...)\n",
    "> ```\n",
    "\n",
    "Em resumo:\n",
    "- `.pivot()` → reorganiza os dados (não aceita duplicados).\n",
    "- `.pivot_table()` → além de reorganizar, permite **agregações** sobre dados duplicados.\n",
    "- `aggfunc` pode ser:\n",
    "  - Funções simples: `\"mean\"`, `\"sum\"`, `\"max\"`, `\"min\"`;\n",
    "  - Uma lista de funções: `[\"mean\", \"sum\"]`;\n",
    "  - Ou até uma função customizada.\n"
   ]
  },
  {
   "cell_type": "code",
   "execution_count": 39,
   "id": "62fed19c",
   "metadata": {},
   "outputs": [
    {
     "data": {
      "text/html": [
       "<div>\n",
       "<style scoped>\n",
       "    .dataframe tbody tr th:only-of-type {\n",
       "        vertical-align: middle;\n",
       "    }\n",
       "\n",
       "    .dataframe tbody tr th {\n",
       "        vertical-align: top;\n",
       "    }\n",
       "\n",
       "    .dataframe thead th {\n",
       "        text-align: right;\n",
       "    }\n",
       "</style>\n",
       "<table border=\"1\" class=\"dataframe\">\n",
       "  <thead>\n",
       "    <tr style=\"text-align: right;\">\n",
       "      <th>Ano</th>\n",
       "      <th>2020</th>\n",
       "      <th>2021</th>\n",
       "    </tr>\n",
       "    <tr>\n",
       "      <th>País</th>\n",
       "      <th></th>\n",
       "      <th></th>\n",
       "    </tr>\n",
       "  </thead>\n",
       "  <tbody>\n",
       "    <tr>\n",
       "      <th>Argentina</th>\n",
       "      <td>450.0</td>\n",
       "      <td>470.0</td>\n",
       "    </tr>\n",
       "    <tr>\n",
       "      <th>Brasil</th>\n",
       "      <td>2100.0</td>\n",
       "      <td>2200.0</td>\n",
       "    </tr>\n",
       "  </tbody>\n",
       "</table>\n",
       "</div>"
      ],
      "text/plain": [
       "Ano          2020    2021\n",
       "País                     \n",
       "Argentina   450.0   470.0\n",
       "Brasil     2100.0  2200.0"
      ]
     },
     "execution_count": 39,
     "metadata": {},
     "output_type": "execute_result"
    }
   ],
   "source": [
    "# Calculando média do PIB (se houver duplicatas)\n",
    "pivot_pib = df.pivot_table(index=\"País\", columns=\"Ano\", values=\"PIB\", aggfunc=\"mean\")\n",
    "pivot_pib"
   ]
  },
  {
   "cell_type": "code",
   "execution_count": 36,
   "id": "5733de69",
   "metadata": {},
   "outputs": [
    {
     "data": {
      "text/html": [
       "<div>\n",
       "<style scoped>\n",
       "    .dataframe tbody tr th:only-of-type {\n",
       "        vertical-align: middle;\n",
       "    }\n",
       "\n",
       "    .dataframe tbody tr th {\n",
       "        vertical-align: top;\n",
       "    }\n",
       "\n",
       "    .dataframe thead th {\n",
       "        text-align: right;\n",
       "    }\n",
       "</style>\n",
       "<table border=\"1\" class=\"dataframe\">\n",
       "  <thead>\n",
       "    <tr style=\"text-align: right;\">\n",
       "      <th></th>\n",
       "      <th>População</th>\n",
       "    </tr>\n",
       "    <tr>\n",
       "      <th>País</th>\n",
       "      <th></th>\n",
       "    </tr>\n",
       "  </thead>\n",
       "  <tbody>\n",
       "    <tr>\n",
       "      <th>Argentina</th>\n",
       "      <td>91</td>\n",
       "    </tr>\n",
       "    <tr>\n",
       "      <th>Brasil</th>\n",
       "      <td>425</td>\n",
       "    </tr>\n",
       "  </tbody>\n",
       "</table>\n",
       "</div>"
      ],
      "text/plain": [
       "           População\n",
       "País                \n",
       "Argentina         91\n",
       "Brasil           425"
      ]
     },
     "execution_count": 36,
     "metadata": {},
     "output_type": "execute_result"
    }
   ],
   "source": [
    "# Soma da População por País\n",
    "pivot_pop = df.pivot_table(index=\"País\", values=\"População\", aggfunc=\"sum\")\n",
    "pivot_pop"
   ]
  },
  {
   "cell_type": "code",
   "execution_count": 37,
   "id": "d3776d48",
   "metadata": {},
   "outputs": [
    {
     "data": {
      "text/html": [
       "<div>\n",
       "<style scoped>\n",
       "    .dataframe tbody tr th:only-of-type {\n",
       "        vertical-align: middle;\n",
       "    }\n",
       "\n",
       "    .dataframe tbody tr th {\n",
       "        vertical-align: top;\n",
       "    }\n",
       "\n",
       "    .dataframe thead tr th {\n",
       "        text-align: left;\n",
       "    }\n",
       "\n",
       "    .dataframe thead tr:last-of-type th {\n",
       "        text-align: right;\n",
       "    }\n",
       "</style>\n",
       "<table border=\"1\" class=\"dataframe\">\n",
       "  <thead>\n",
       "    <tr>\n",
       "      <th></th>\n",
       "      <th colspan=\"2\" halign=\"left\">mean</th>\n",
       "      <th colspan=\"2\" halign=\"left\">max</th>\n",
       "      <th colspan=\"2\" halign=\"left\">min</th>\n",
       "    </tr>\n",
       "    <tr>\n",
       "      <th>Ano</th>\n",
       "      <th>2020</th>\n",
       "      <th>2021</th>\n",
       "      <th>2020</th>\n",
       "      <th>2021</th>\n",
       "      <th>2020</th>\n",
       "      <th>2021</th>\n",
       "    </tr>\n",
       "    <tr>\n",
       "      <th>País</th>\n",
       "      <th></th>\n",
       "      <th></th>\n",
       "      <th></th>\n",
       "      <th></th>\n",
       "      <th></th>\n",
       "      <th></th>\n",
       "    </tr>\n",
       "  </thead>\n",
       "  <tbody>\n",
       "    <tr>\n",
       "      <th>Argentina</th>\n",
       "      <td>450.0</td>\n",
       "      <td>470.0</td>\n",
       "      <td>450</td>\n",
       "      <td>470</td>\n",
       "      <td>450</td>\n",
       "      <td>470</td>\n",
       "    </tr>\n",
       "    <tr>\n",
       "      <th>Brasil</th>\n",
       "      <td>2100.0</td>\n",
       "      <td>2200.0</td>\n",
       "      <td>2100</td>\n",
       "      <td>2200</td>\n",
       "      <td>2100</td>\n",
       "      <td>2200</td>\n",
       "    </tr>\n",
       "  </tbody>\n",
       "</table>\n",
       "</div>"
      ],
      "text/plain": [
       "             mean           max         min      \n",
       "Ano          2020    2021  2020  2021  2020  2021\n",
       "País                                             \n",
       "Argentina   450.0   470.0   450   470   450   470\n",
       "Brasil     2100.0  2200.0  2100  2200  2100  2200"
      ]
     },
     "execution_count": 37,
     "metadata": {},
     "output_type": "execute_result"
    }
   ],
   "source": [
    "# Mais de uma agregação com mais de uma função\n",
    "pivot_multi = df.pivot_table(index=\"País\", columns=\"Ano\",\n",
    "                             values=\"PIB\", aggfunc=[\"mean\", \"max\", \"min\"])\n",
    "pivot_multi"
   ]
  },
  {
   "cell_type": "markdown",
   "id": "4ac0ad00",
   "metadata": {},
   "source": [
    "## 5. Hierarquia de Índices (**MultiIndex**)\n",
    "\n",
    "Um **MultiIndex** (ou índice hierárquico) permite organizar os dados em **várias dimensões de índice**, não apenas uma.  \n",
    "Isso é útil quando os dados têm **níveis de hierarquia** — por exemplo, `países → estados → cidades`.\n",
    "\n",
    "Características principais:\n",
    "- Um índice pode ter **dois ou mais níveis**.\n",
    "- Facilita a representação de dados em formato de tabela **multi-dimensional** sem precisar de pivôs complexos.\n",
    "- Permite operações de seleção e agregação."
   ]
  },
  {
   "cell_type": "code",
   "execution_count": 41,
   "id": "33ef2fa5",
   "metadata": {},
   "outputs": [
    {
     "name": "stdout",
     "output_type": "stream",
     "text": [
      "MultiIndex([(   'Brasil',      'São Paulo'),\n",
      "            (   'Brasil', 'Rio de Janeiro'),\n",
      "            ('Argentina',   'Buenos Aires'),\n",
      "            ('Argentina',        'Córdoba')],\n",
      "           names=['País', 'Cidade'])\n"
     ]
    },
    {
     "data": {
      "text/html": [
       "<div>\n",
       "<style scoped>\n",
       "    .dataframe tbody tr th:only-of-type {\n",
       "        vertical-align: middle;\n",
       "    }\n",
       "\n",
       "    .dataframe tbody tr th {\n",
       "        vertical-align: top;\n",
       "    }\n",
       "\n",
       "    .dataframe thead th {\n",
       "        text-align: right;\n",
       "    }\n",
       "</style>\n",
       "<table border=\"1\" class=\"dataframe\">\n",
       "  <thead>\n",
       "    <tr style=\"text-align: right;\">\n",
       "      <th></th>\n",
       "      <th></th>\n",
       "      <th>População (milhões)</th>\n",
       "      <th>PIB (bilhões)</th>\n",
       "    </tr>\n",
       "    <tr>\n",
       "      <th>País</th>\n",
       "      <th>Cidade</th>\n",
       "      <th></th>\n",
       "      <th></th>\n",
       "    </tr>\n",
       "  </thead>\n",
       "  <tbody>\n",
       "    <tr>\n",
       "      <th rowspan=\"2\" valign=\"top\">Brasil</th>\n",
       "      <th>São Paulo</th>\n",
       "      <td>12.3</td>\n",
       "      <td>699</td>\n",
       "    </tr>\n",
       "    <tr>\n",
       "      <th>Rio de Janeiro</th>\n",
       "      <td>6.7</td>\n",
       "      <td>415</td>\n",
       "    </tr>\n",
       "    <tr>\n",
       "      <th rowspan=\"2\" valign=\"top\">Argentina</th>\n",
       "      <th>Buenos Aires</th>\n",
       "      <td>15.0</td>\n",
       "      <td>92</td>\n",
       "    </tr>\n",
       "    <tr>\n",
       "      <th>Córdoba</th>\n",
       "      <td>1.3</td>\n",
       "      <td>20</td>\n",
       "    </tr>\n",
       "  </tbody>\n",
       "</table>\n",
       "</div>"
      ],
      "text/plain": [
       "                          População (milhões)  PIB (bilhões)\n",
       "País      Cidade                                            \n",
       "Brasil    São Paulo                      12.3            699\n",
       "          Rio de Janeiro                  6.7            415\n",
       "Argentina Buenos Aires                   15.0             92\n",
       "          Córdoba                         1.3             20"
      ]
     },
     "execution_count": 41,
     "metadata": {},
     "output_type": "execute_result"
    }
   ],
   "source": [
    "# Duas listas de índices\n",
    "arrays = [\n",
    "    [\"Brasil\", \"Brasil\", \"Argentina\", \"Argentina\"],\n",
    "    [\"São Paulo\", \"Rio de Janeiro\", \"Buenos Aires\", \"Córdoba\"]\n",
    "]\n",
    "\n",
    "index = pd.MultiIndex.from_arrays(arrays, names=(\"País\", \"Cidade\")) # cria o MultiIndex\n",
    "print(index)\n",
    "# Criando DataFrame com MultiIndex\n",
    "df_multi = pd.DataFrame({\n",
    "    \"População (milhões)\": [12.3, 6.7, 15.0, 1.3],\n",
    "    \"PIB (bilhões)\": [699, 415, 92, 20]\n",
    "}, index=index)\n",
    "# Neste caso, o índice tem dois níveis: País e Cidade\n",
    "\n",
    "df_multi"
   ]
  },
  {
   "cell_type": "code",
   "execution_count": 43,
   "id": "447f0192",
   "metadata": {},
   "outputs": [
    {
     "name": "stdout",
     "output_type": "stream",
     "text": [
      "                População (milhões)  PIB (bilhões)\n",
      "Cidade                                            \n",
      "São Paulo                      12.3            699\n",
      "Rio de Janeiro                  6.7            415\n",
      "\n",
      "População (milhões)     12.3\n",
      "PIB (bilhões)          699.0\n",
      "Name: (Brasil, São Paulo), dtype: float64\n"
     ]
    }
   ],
   "source": [
    "# Seleção em MultiIndex com .loc()\n",
    "\n",
    "# Todas as cidades do Brasil\n",
    "print(df_multi.loc[\"Brasil\"])\n",
    "print()\n",
    "# Apenas São Paulo\n",
    "print(df_multi.loc[(\"Brasil\", \"São Paulo\")])"
   ]
  },
  {
   "cell_type": "code",
   "execution_count": 45,
   "id": "4291c979",
   "metadata": {},
   "outputs": [
    {
     "name": "stdout",
     "output_type": "stream",
     "text": [
      "        População (milhões)  PIB (bilhões)\n",
      "País                                      \n",
      "Brasil                 12.3            699\n",
      "\n",
      "              População (milhões)  PIB (bilhões)\n",
      "Cidade                                          \n",
      "Buenos Aires                 15.0             92\n",
      "Córdoba                       1.3             20\n"
     ]
    }
   ],
   "source": [
    "# Seleção por \"níveis\" do índice com .xs()\n",
    "\n",
    "# Todas as populações, pegando apenas o nível 'Cidade'\n",
    "print(df_multi.xs(\"São Paulo\", level=\"Cidade\"))\n",
    "print()\n",
    "# Todas as cidades da Argentina, selecionando por nível 'País'\n",
    "print(df_multi.xs(\"Argentina\", level=\"País\"))"
   ]
  },
  {
   "cell_type": "code",
   "execution_count": 47,
   "id": "36a7a914",
   "metadata": {},
   "outputs": [
    {
     "name": "stdout",
     "output_type": "stream",
     "text": [
      "                          População (milhões)  PIB (bilhões)\n",
      "País      Cidade                                            \n",
      "Brasil    São Paulo                      12.3            699\n",
      "          Rio de Janeiro                  6.7            415\n",
      "Argentina Buenos Aires                   15.0             92\n",
      "          Córdoba                         1.3             20\n",
      "\n",
      "                          População (milhões)  PIB (bilhões)\n",
      "Cidade         País                                         \n",
      "São Paulo      Brasil                    12.3            699\n",
      "Rio de Janeiro Brasil                     6.7            415\n",
      "Buenos Aires   Argentina                 15.0             92\n",
      "Córdoba        Argentina                  1.3             20\n",
      "\n",
      "                          População (milhões)  PIB (bilhões)\n",
      "País      Cidade                                            \n",
      "Argentina Buenos Aires                   15.0             92\n",
      "          Córdoba                         1.3             20\n",
      "Brasil    Rio de Janeiro                  6.7            415\n",
      "          São Paulo                      12.3            699\n"
     ]
    }
   ],
   "source": [
    "# Manipulação de MultiIndex\n",
    "\n",
    "# Exibindo o DataFrame original\n",
    "print(df_multi)\n",
    "print()\n",
    "# Trocar a ordem dos níveis\n",
    "df_multi_swapped = df_multi.swaplevel(\"País\", \"Cidade\")\n",
    "print(df_multi_swapped)\n",
    "print()\n",
    "# Ordenar o índice para facilitar consultas\n",
    "df_multi_sorted = df_multi.sort_index()\n",
    "print(df_multi_sorted)\n"
   ]
  },
  {
   "cell_type": "markdown",
   "id": "5e3ac961",
   "metadata": {},
   "source": [
    "## 6. Séries Temporais\n",
    "\n",
    "O **pandas** possui suporte nativo para manipulação de **datas e tempos**:\n",
    "\n",
    "- Criação de faixas de datas com `pd.date_range()`;\n",
    "- Indexação temporal (ou seja, índices com datas);\n",
    "- Reamostragem (`resample`) e janelas móveis (`rolling`).\n"
   ]
  },
  {
   "cell_type": "code",
   "execution_count": 55,
   "id": "95f487c1",
   "metadata": {},
   "outputs": [
    {
     "data": {
      "text/plain": [
       "2023-01-01    33\n",
       "2023-01-02    26\n",
       "2023-01-03    49\n",
       "2023-01-04    17\n",
       "2023-01-05    34\n",
       "2023-01-06    26\n",
       "2023-01-07    81\n",
       "2023-01-08    14\n",
       "2023-01-09    38\n",
       "2023-01-10    11\n",
       "Freq: D, dtype: int32"
      ]
     },
     "execution_count": 55,
     "metadata": {},
     "output_type": "execute_result"
    }
   ],
   "source": [
    "# Criando uma série com datas diárias\n",
    "datas = pd.date_range(\"2023-01-01\", periods=10, freq=\"D\") # 10 dias a partir de 2023-01-01, freq=\"D\" significa frequência diária\n",
    "serie = pd.Series(np.random.randint(10, 100, size=10), index=datas) \n",
    "serie"
   ]
  },
  {
   "cell_type": "code",
   "execution_count": 56,
   "id": "8eda9c22",
   "metadata": {},
   "outputs": [
    {
     "name": "stdout",
     "output_type": "stream",
     "text": [
      "49\n",
      "2023-01-03    49\n",
      "2023-01-04    17\n",
      "2023-01-05    34\n",
      "2023-01-06    26\n",
      "Freq: D, dtype: int32\n"
     ]
    }
   ],
   "source": [
    "# Selecionar um dia específico\n",
    "print(serie[\"2023-01-03\"])\n",
    "\n",
    "# Selecionar um intervalo\n",
    "print(serie[\"2023-01-03\":\"2023-01-06\"])"
   ]
  },
  {
   "cell_type": "code",
   "execution_count": 57,
   "id": "bd851c3e",
   "metadata": {},
   "outputs": [
    {
     "data": {
      "text/plain": [
       "2023-01-01    33.000000\n",
       "2023-01-08    35.285714\n",
       "2023-01-15    24.500000\n",
       "Freq: W-SUN, dtype: float64"
      ]
     },
     "execution_count": 57,
     "metadata": {},
     "output_type": "execute_result"
    }
   ],
   "source": [
    "# Reamostragem para frequência semanal (média)\n",
    "serie.resample(\"W\").mean()"
   ]
  },
  {
   "cell_type": "code",
   "execution_count": 51,
   "id": "ff1c026f",
   "metadata": {},
   "outputs": [
    {
     "data": {
      "text/plain": [
       "2023-01-01          NaN\n",
       "2023-01-02          NaN\n",
       "2023-01-03    42.333333\n",
       "2023-01-04    48.666667\n",
       "2023-01-05    39.666667\n",
       "2023-01-06    47.000000\n",
       "2023-01-07    52.333333\n",
       "2023-01-08    68.333333\n",
       "2023-01-09    85.333333\n",
       "2023-01-10    92.000000\n",
       "Freq: D, dtype: float64"
      ]
     },
     "execution_count": 51,
     "metadata": {},
     "output_type": "execute_result"
    }
   ],
   "source": [
    "# Média móvel de 3 dias\n",
    "serie.rolling(window=3).mean()\n"
   ]
  },
  {
   "cell_type": "code",
   "execution_count": 58,
   "id": "e66f629a",
   "metadata": {},
   "outputs": [
    {
     "data": {
      "text/html": [
       "<div>\n",
       "<style scoped>\n",
       "    .dataframe tbody tr th:only-of-type {\n",
       "        vertical-align: middle;\n",
       "    }\n",
       "\n",
       "    .dataframe tbody tr th {\n",
       "        vertical-align: top;\n",
       "    }\n",
       "\n",
       "    .dataframe thead th {\n",
       "        text-align: right;\n",
       "    }\n",
       "</style>\n",
       "<table border=\"1\" class=\"dataframe\">\n",
       "  <thead>\n",
       "    <tr style=\"text-align: right;\">\n",
       "      <th></th>\n",
       "      <th>vendas</th>\n",
       "      <th>custos</th>\n",
       "    </tr>\n",
       "  </thead>\n",
       "  <tbody>\n",
       "    <tr>\n",
       "      <th>2022-01-31</th>\n",
       "      <td>204</td>\n",
       "      <td>120</td>\n",
       "    </tr>\n",
       "    <tr>\n",
       "      <th>2022-02-28</th>\n",
       "      <td>144</td>\n",
       "      <td>169</td>\n",
       "    </tr>\n",
       "    <tr>\n",
       "      <th>2022-03-31</th>\n",
       "      <td>390</td>\n",
       "      <td>249</td>\n",
       "    </tr>\n",
       "    <tr>\n",
       "      <th>2022-04-30</th>\n",
       "      <td>115</td>\n",
       "      <td>54</td>\n",
       "    </tr>\n",
       "    <tr>\n",
       "      <th>2022-05-31</th>\n",
       "      <td>257</td>\n",
       "      <td>162</td>\n",
       "    </tr>\n",
       "    <tr>\n",
       "      <th>2022-06-30</th>\n",
       "      <td>414</td>\n",
       "      <td>276</td>\n",
       "    </tr>\n",
       "    <tr>\n",
       "      <th>2022-07-31</th>\n",
       "      <td>422</td>\n",
       "      <td>117</td>\n",
       "    </tr>\n",
       "    <tr>\n",
       "      <th>2022-08-31</th>\n",
       "      <td>181</td>\n",
       "      <td>196</td>\n",
       "    </tr>\n",
       "    <tr>\n",
       "      <th>2022-09-30</th>\n",
       "      <td>150</td>\n",
       "      <td>221</td>\n",
       "    </tr>\n",
       "    <tr>\n",
       "      <th>2022-10-31</th>\n",
       "      <td>334</td>\n",
       "      <td>97</td>\n",
       "    </tr>\n",
       "    <tr>\n",
       "      <th>2022-11-30</th>\n",
       "      <td>110</td>\n",
       "      <td>88</td>\n",
       "    </tr>\n",
       "    <tr>\n",
       "      <th>2022-12-31</th>\n",
       "      <td>473</td>\n",
       "      <td>275</td>\n",
       "    </tr>\n",
       "  </tbody>\n",
       "</table>\n",
       "</div>"
      ],
      "text/plain": [
       "            vendas  custos\n",
       "2022-01-31     204     120\n",
       "2022-02-28     144     169\n",
       "2022-03-31     390     249\n",
       "2022-04-30     115      54\n",
       "2022-05-31     257     162\n",
       "2022-06-30     414     276\n",
       "2022-07-31     422     117\n",
       "2022-08-31     181     196\n",
       "2022-09-30     150     221\n",
       "2022-10-31     334      97\n",
       "2022-11-30     110      88\n",
       "2022-12-31     473     275"
      ]
     },
     "execution_count": 58,
     "metadata": {},
     "output_type": "execute_result"
    }
   ],
   "source": [
    "# Criando um DataFrame com frequência mensal\n",
    "datas = pd.date_range(\"2022-01-01\", periods=12, freq=\"ME\")\n",
    "df_temporal = pd.DataFrame({\n",
    "    \"vendas\": np.random.randint(100, 500, size=12),\n",
    "    \"custos\": np.random.randint(50, 300, size=12)\n",
    "}, index=datas)\n",
    "\n",
    "df_temporal"
   ]
  },
  {
   "cell_type": "markdown",
   "id": "652df6aa",
   "metadata": {},
   "source": [
    "#### Operações comuns em Séries Temporais\n",
    "\n",
    "O pandas oferece métodos poderosos para manipulação e análise de dados temporais.  \n",
    "\n",
    "- **`resample()`** → muda a granularidade dos dados (ex: diário → semanal, aplicando média, soma etc.).  \n",
    "- **`diff()`** → calcula a diferença entre períodos consecutivos (ex: crescimento dia a dia).  \n",
    "- **`shift()`** → desloca valores no tempo (cria defasagens/“lags” ou antecipa valores).  \n",
    "- **`asfreq()`** → ajusta a frequência da série, inserindo `NaN` ou preenchendo com `ffill` / `bfill`.  \n"
   ]
  },
  {
   "cell_type": "code",
   "execution_count": null,
   "id": "c382a04a",
   "metadata": {},
   "outputs": [],
   "source": [
    "# Operações em séries temporais\n",
    "\n",
    "# Reamostrando para trimestre (soma)\n",
    "print(df_temporal.resample(\"QE\").sum())\n",
    "\n",
    "# Diferença mês a mês\n",
    "print(df_temporal.diff())"
   ]
  },
  {
   "cell_type": "markdown",
   "id": "b2f419c1",
   "metadata": {},
   "source": [
    "LEGENDA: Frequências no `resample()`\n",
    "\n",
    "| Código  | Descrição                          |\n",
    "|---------|------------------------------------|\n",
    "| D       | Diário                             |\n",
    "| B       | Dia útil (business day)            |\n",
    "| W       | Semanal (final de semana)          |\n",
    "| ME      | Fim do mês                         |\n",
    "| MS      | Início do mês                      |\n",
    "| QE      | Fim do trimestre                   |\n",
    "| QS      | Início do trimestre                |\n",
    "| YE      | Fim do ano                         |\n",
    "| YS      | Início do ano                      |\n",
    "| H       | Horário (hora em hora)             |\n",
    "| T, min  | Minuto                             |\n",
    "| S       | Segundo                            |\n",
    "| L, ms   | Milissegundo                       |\n",
    "| U       | Microssegundo                      |\n",
    "| N       | Nanossegundo                       |\n"
   ]
  },
  {
   "cell_type": "code",
   "execution_count": 59,
   "id": "2f59e0f7",
   "metadata": {},
   "outputs": [
    {
     "name": "stdout",
     "output_type": "stream",
     "text": [
      "Série original:\n",
      "2023-01-01    10\n",
      "2023-01-02    20\n",
      "2023-01-03    15\n",
      "2023-01-04    25\n",
      "2023-01-05    30\n",
      "2023-01-06    40\n",
      "Freq: D, dtype: int64\n",
      "\n",
      "Valor do dia anterior (shift):\n",
      "2023-01-01     NaN\n",
      "2023-01-02    10.0\n",
      "2023-01-03    20.0\n",
      "2023-01-04    15.0\n",
      "2023-01-05    25.0\n",
      "2023-01-06    30.0\n",
      "Freq: D, dtype: float64\n",
      "\n",
      "Diferença em relação ao dia anterior:\n",
      "2023-01-01     NaN\n",
      "2023-01-02    10.0\n",
      "2023-01-03    -5.0\n",
      "2023-01-04    10.0\n",
      "2023-01-05     5.0\n",
      "2023-01-06    10.0\n",
      "Freq: D, dtype: float64\n"
     ]
    }
   ],
   "source": [
    "# Deslocamento temporal com .shift()\n",
    "\n",
    "# Série temporal diária\n",
    "datas = pd.date_range(\"2023-01-01\", periods=6, freq=\"D\")\n",
    "serie = pd.Series([10, 20, 15, 25, 30, 40], index=datas)\n",
    "print(\"Série original:\")\n",
    "print(serie)\n",
    "\n",
    "print(\"\\nValor do dia anterior (shift):\")\n",
    "print(serie.shift(1))  # desloca 1 dia para baixo\n",
    "\n",
    "print(\"\\nDiferença em relação ao dia anterior:\")\n",
    "print(serie - serie.shift(1))"
   ]
  },
  {
   "cell_type": "code",
   "execution_count": 60,
   "id": "568df560",
   "metadata": {},
   "outputs": [
    {
     "name": "stdout",
     "output_type": "stream",
     "text": [
      "Série mensal:\n",
      "2023-01-31    10\n",
      "2023-02-28    20\n",
      "2023-03-31    30\n",
      "2023-04-30    40\n",
      "2023-05-31    50\n",
      "2023-06-30    60\n",
      "Freq: ME, dtype: int64\n",
      "\n",
      "Reamostrada para frequência semanal, sem preenchimento:\n",
      "2023-02-05     NaN\n",
      "2023-02-12     NaN\n",
      "2023-02-19     NaN\n",
      "2023-02-26     NaN\n",
      "2023-03-05     NaN\n",
      "2023-03-12     NaN\n",
      "2023-03-19     NaN\n",
      "2023-03-26     NaN\n",
      "2023-04-02     NaN\n",
      "2023-04-09     NaN\n",
      "2023-04-16     NaN\n",
      "2023-04-23     NaN\n",
      "2023-04-30    40.0\n",
      "2023-05-07     NaN\n",
      "2023-05-14     NaN\n",
      "2023-05-21     NaN\n",
      "2023-05-28     NaN\n",
      "2023-06-04     NaN\n",
      "2023-06-11     NaN\n",
      "2023-06-18     NaN\n",
      "2023-06-25     NaN\n",
      "Freq: W-SUN, dtype: float64\n",
      "\n",
      "Reamostrada para semanal, preenchendo para frente:\n",
      "2023-02-05    10\n",
      "2023-02-12    10\n",
      "2023-02-19    10\n",
      "2023-02-26    10\n",
      "2023-03-05    20\n",
      "2023-03-12    20\n",
      "2023-03-19    20\n",
      "2023-03-26    20\n",
      "2023-04-02    30\n",
      "2023-04-09    30\n",
      "2023-04-16    30\n",
      "2023-04-23    30\n",
      "2023-04-30    40\n",
      "2023-05-07    40\n",
      "2023-05-14    40\n",
      "2023-05-21    40\n",
      "2023-05-28    40\n",
      "2023-06-04    50\n",
      "2023-06-11    50\n",
      "2023-06-18    50\n",
      "2023-06-25    50\n",
      "Freq: W-SUN, dtype: int64\n"
     ]
    }
   ],
   "source": [
    "# Frequência com asfreq()\n",
    "\n",
    "# Criando série mensal\n",
    "datas_mensais = pd.date_range(\"2023-01-01\", periods=6, freq=\"ME\")\n",
    "serie_mensal = pd.Series(np.arange(10, 70, 10), index=datas_mensais)\n",
    "print(\"Série mensal:\")\n",
    "print(serie_mensal)\n",
    "\n",
    "# Convertendo para frequência semanal\n",
    "print(\"\\nReamostrada para frequência semanal, sem preenchimento:\")\n",
    "print(serie_mensal.asfreq(\"W\"))\n",
    "\n",
    "# Preenchendo valores ausentes para frente (forward fill)\n",
    "print(\"\\nReamostrada para semanal, preenchendo para frente:\")\n",
    "print(serie_mensal.asfreq(\"W\", method=\"ffill\"))\n"
   ]
  },
  {
   "cell_type": "markdown",
   "id": "d72037cc",
   "metadata": {},
   "source": [
    "Resumo:\n",
    "- `DatetimeIndex` permite usar datas como índice.\n",
    "- `.resample()` → muda a granularidade temporal (ex: diário → semanal).\n",
    "- `.rolling()` → janelas móveis (médias móveis, somas acumuladas).\n",
    "- Métodos como `.shift()`, `.diff()`, `.asfreq()` ampliam a análise temporal."
   ]
  },
  {
   "cell_type": "markdown",
   "id": "7b0a436d",
   "metadata": {},
   "source": [
    "## 7. Otimizando performance e memória\n",
    "\n",
    "Algumas dicas importantes para trabalhar com grandes volumes de dados:\n",
    "\n",
    "- **Tipos de dados mais leves**: converter `int64` → `int32`, `float64` → `float32`.\n",
    "- **Categorias**: usar `category` para colunas com valores repetidos.\n",
    "- **Leitura em chunks**: processar arquivos grandes em pedaços.\n"
   ]
  },
  {
   "cell_type": "code",
   "execution_count": null,
   "id": "9e54fa18",
   "metadata": {},
   "outputs": [
    {
     "name": "stdout",
     "output_type": "stream",
     "text": [
      "Primeiro DF:\n",
      "       id categoria\n",
      "0       1         A\n",
      "1       2         B\n",
      "2       3         A\n",
      "3       4         C\n",
      "4       5         B\n",
      "..    ...       ...\n",
      "995   996         A\n",
      "996   997         B\n",
      "997   998         A\n",
      "998   999         C\n",
      "999  1000         B\n",
      "\n",
      "[1000 rows x 2 columns]\n",
      "id            int64\n",
      "categoria    object\n",
      "dtype: object\n",
      "\n",
      "Otimizado DF:\n",
      "       id categoria\n",
      "0       1         A\n",
      "1       2         B\n",
      "2       3         A\n",
      "3       4         C\n",
      "4       5         B\n",
      "..    ...       ...\n",
      "995   996         A\n",
      "996   997         B\n",
      "997   998         A\n",
      "998   999         C\n",
      "999  1000         B\n",
      "\n",
      "[1000 rows x 2 columns]\n",
      "id              int32\n",
      "categoria    category\n",
      "dtype: object\n",
      "\n",
      "Comparação:\n",
      "58132 5390 redução=90.7%\n"
     ]
    }
   ],
   "source": [
    "n = 1000  # número de linhas desejado\n",
    "df_opt = pd.DataFrame({\n",
    "    \"id\": range(1, n + 1),\n",
    "    \"categoria\": np.tile([\"A\", \"B\", \"A\", \"C\", \"B\"], n // 5)\n",
    "})\n",
    "print(\"Primeiro DF:\")\n",
    "print(df_opt)\n",
    "\n",
    "print(df_opt.dtypes)\n",
    "print()\n",
    "\n",
    "# Criando uma cópia para otimização\n",
    "df_opt_copia = df_opt.copy()\n",
    "before = df_opt_copia.memory_usage(deep=True).sum() # Uso de memória antes\n",
    "\n",
    "# Otimizando\n",
    "df_opt_copia[\"id\"] = df_opt_copia[\"id\"].astype(\"int32\") # Redução de 64 para 32 bits\n",
    "df_opt_copia[\"categoria\"] = df_opt_copia[\"categoria\"].astype(\"category\") # Redução com category \n",
    "#TODO: procurar pelo tamanho de category\n",
    "\n",
    "print(\"Otimizado DF:\")\n",
    "print(df_opt_copia)\n",
    "print(df_opt_copia.dtypes)\n",
    "print()\n",
    "print(\"Comparação:\")\n",
    "after = df_opt_copia.memory_usage(deep=True).sum() # Uso de memória depois\n",
    "print(before, after, f\"redução={(before-after)/before:.1%}\") # Mostra a redução de memória"
   ]
  },
  {
   "cell_type": "code",
   "execution_count": null,
   "id": "854a4db5",
   "metadata": {},
   "outputs": [
    {
     "name": "stdout",
     "output_type": "stream",
     "text": [
      "Chunk 0: (8, 4)\n"
     ]
    }
   ],
   "source": [
    "# Leitura em chunks (pedaços)\n",
    "\n",
    "# Caminho para um arquivo CSV grande\n",
    "#TODO: criar o arquivo\n",
    "caminho = \"dados_vendas.csv\" # precisa criar o arquivo\n",
    "\n",
    "# Lê em pedaços de 1 mil linhas (por exemplo)\n",
    "for i, chunk in enumerate(pd.read_csv(caminho, chunksize=1000)):\n",
    "    print(f\"Chunk {i}: {chunk.shape}\")\n",
    "    \n",
    "    # Exemplo: calcular receita nesse pedaço\n",
    "    if {\"quantidade\", \"preco_unit\"}.issubset(chunk.columns):\n",
    "        chunk[\"receita\"] = chunk[\"quantidade\"] * chunk[\"preco_unit\"]\n",
    "        print(chunk[[\"quantidade\", \"preco_unit\", \"receita\"]].head())\n",
    "    \n",
    "    # Para o exemplo, processa só os 2 primeiros pedaços\n",
    "    #if i == 1:\n",
    "    #    break"
   ]
  },
  {
   "cell_type": "markdown",
   "id": "b93884e5",
   "metadata": {},
   "source": [
    "## 8. `assign` e `pipe`\n",
    "\n",
    "Até agora aprendemos a aplicar funções customizadas (`apply`, `map`, `transform`), a reorganizar dados (`pivot`, `melt`, `stack`, `unstack`), a trabalhar com **MultiIndex** e com **séries temporais**.  \n",
    "\n",
    "Agora, vamos ver duas ferramentas que ajudam a **organizar pipelines de transformação** de forma mais legível:\n",
    "\n",
    "- **`.assign()`** → cria ou modifica colunas no DataFrame.  \n",
    "- **`.pipe()`** → permite encadear funções externas de forma a estruturar pipelines de transformação.  "
   ]
  },
  {
   "cell_type": "code",
   "execution_count": null,
   "id": "46fe2561",
   "metadata": {},
   "outputs": [],
   "source": [
    "# Usando assign para criar colunas derivadas\n",
    "\n",
    "# Exemplo de DataFrame\n",
    "df = pd.DataFrame({\n",
    "    \"produto\": [\"A\", \"B\", \"C\", \"D\"],\n",
    "    \"preço\": [100, 250, 80, 150],\n",
    "    \"quantidade\": [10, 5, 20, 8]\n",
    "})\n",
    "print(df)\n",
    "\n",
    "# Usando assign para criar novas colunas\n",
    "df2 = (\n",
    "    df\n",
    "    .assign(\n",
    "        receita=lambda x: x[\"preço\"] * x[\"quantidade\"],\n",
    "        imposto=lambda x: x[\"preço\"] * 0.2,\n",
    "        receita_liquida=lambda x: x[\"preço\"] * x[\"quantidade\"] - x[\"preço\"] * 0.2\n",
    "    )\n",
    ")\n",
    "\n",
    "print(df2)"
   ]
  },
  {
   "cell_type": "code",
   "execution_count": null,
   "id": "7f981d54",
   "metadata": {},
   "outputs": [],
   "source": [
    "# Usando pipe para organizar transformações\n",
    "\n",
    "# Funções externas que transformam o DataFrame\n",
    "def aplicar_desconto(df, taxa=0.1):\n",
    "    df = df.copy()\n",
    "    df[\"preço_desc\"] = df[\"preço\"] * (1 - taxa)\n",
    "    return df\n",
    "\n",
    "def filtrar_produtos(df, preco_min=100):\n",
    "    return df[df[\"preço\"] > preco_min]\n",
    "\n",
    "# Pipeline com pipe\n",
    "df_pipe = (\n",
    "    df\n",
    "    .pipe(aplicar_desconto, taxa=0.15)\n",
    "    .pipe(filtrar_produtos, preco_min=90)\n",
    ")\n",
    "\n",
    "df_pipe"
   ]
  },
  {
   "cell_type": "code",
   "execution_count": null,
   "id": "64a99774",
   "metadata": {},
   "outputs": [],
   "source": [
    "# Pipeline realista combinando assign + pipe + groupby\n",
    "\n",
    "# Exemplo de vendas mensais\n",
    "datas = pd.date_range(\"2023-01-01\", periods=6, freq=\"ME\")\n",
    "df_vendas = pd.DataFrame({\n",
    "    \"data\": datas,\n",
    "    \"produto\": [\"A\", \"A\", \"B\", \"B\", \"A\", \"B\"],\n",
    "    \"vendas\": [100, 120, 200, 210, 130, 250],\n",
    "    \"preço_unit\": [10, 10, 8, 8, 10, 8]\n",
    "})\n",
    "\n",
    "# Função externa que agrupa e resume\n",
    "def resumo_vendas(df):\n",
    "    return df.groupby(\"produto\").agg(\n",
    "        receita_total=(\"receita\", \"sum\"),\n",
    "        vendas_totais=(\"vendas\", \"sum\")\n",
    "    )\n",
    "\n",
    "# Pipeline completo\n",
    "df_resultado = (\n",
    "    df_vendas\n",
    "    .assign(receita=lambda x: x[\"vendas\"] * x[\"preço_unit\"])\n",
    "    .pipe(resumo_vendas)\n",
    ")\n",
    "\n",
    "df_resultado"
   ]
  },
  {
   "cell_type": "markdown",
   "id": "fe752733",
   "metadata": {},
   "source": [
    "# Mini-Projeto: Análise de Vendas\n",
    "\n",
    "Você recebeu um conjunto de dados de vendas de uma rede varejista, contendo:\n",
    "\n",
    "- **data** → data da venda  \n",
    "- **loja** → cidade da loja  \n",
    "- **categoria** → categoria do produto (ex: Eletrônicos, Alimentos, Vestuário)  \n",
    "- **produto** → nome do produto  \n",
    "- **quantidade** → quantidade vendida  \n",
    "- **preço_unit** → preço unitário  \n",
    "\n",
    "## Objetivo\n",
    "\n",
    "Responder às seguintes questões usando **pandas** e os conceitos estudados:\n",
    "\n",
    "1. **Pré-processamento e otimização**  \n",
    "   - Converter colunas para tipos de dados adequados (`int32`, `category`, `datetime`).  \n",
    "   - Medir a memória antes e depois (`memory_usage`).  \n",
    "\n",
    "2. **Criação de colunas derivadas**  \n",
    "   - Calcular o **faturamento (quantidade × preço_unit)** usando `.assign()`.  \n",
    "   - Criar uma coluna de **imposto (10% do faturamento)** com `.apply()` ou `.assign()`.  \n",
    "\n",
    "3. **Transformações e funções customizadas**  \n",
    "   - Usar `.apply()` para classificar os produtos em \"alto ticket\" ou \"baixo ticket\".  \n",
    "   - Usar `.transform()` para calcular a participação percentual de cada venda dentro da loja.  \n",
    "\n",
    "4. **Reshape e pivot**  \n",
    "   - Criar uma tabela **pivot** com o faturamento mensal por categoria.  \n",
    "   - Usar `.melt()` para voltar ao formato longo.  \n",
    "   - Explorar `.stack()` e `.unstack()` para reorganizar.  \n",
    "\n",
    "5. **MultiIndex**  \n",
    "   - Agrupar os dados por `loja` e `categoria`, calcular o total de faturamento e vendas.  \n",
    "   - Trabalhar o resultado com índices hierárquicos (selecionar uma loja específica).  \n",
    "\n",
    "6. **Séries temporais**  \n",
    "   - Converter `data` para índice (`DatetimeIndex`).  \n",
    "   - Calcular o faturamento mensal total (`resample(\"ME\").sum()`).  \n",
    "   - Calcular a variação mês a mês (`diff`) e a média móvel de 3 meses (`rolling`).  \n",
    "   - Usar `.shift()` para criar uma coluna com o faturamento do mês anterior.  \n",
    "   - Usar `.asfreq(\"D\")` para converter a série para frequência diária e preencher faltantes (`ffill`).  \n",
    "\n",
    "7. **Pipeline funcional (`assign` + `pipe`)**  \n",
    "   - Criar um pipeline que:  \n",
    "     - Adicione coluna de faturamento,  \n",
    "     - Filtre apenas a categoria `\"Eletrônicos\"`,  \n",
    "     - Resuma os dados por mês,  \n",
    "     - Retorne um DataFrame final com receita e quantidade mensal. \n",
    "\n",
    ">OBSERVAÇÃO: Cada item acima deverá ser respondido em células separadas.  \n",
    ">OBSERVAÇÃO 2: O código com os dados iniciais é fornecido abaixo."
   ]
  },
  {
   "cell_type": "code",
   "execution_count": null,
   "id": "ad1c5fa6",
   "metadata": {},
   "outputs": [],
   "source": [
    "import pandas as pd\n",
    "import numpy as np\n",
    "\n",
    "np.random.seed(42) # para reprodutibilidade (semente fixa de números aleatórios)\n",
    "\n",
    "datas = pd.date_range(\"2023-01-01\", periods=180, freq=\"D\") # 180 dias\n",
    "lojas = [\"São Paulo\", \"Rio de Janeiro\", \"Belo Horizonte\"] \n",
    "categorias = [\"Eletrônicos\", \"Alimentos\", \"Vestuário\"]\n",
    "produtos = {\n",
    "    \"Eletrônicos\": [\"Notebook\", \"Smartphone\", \"TV\"],\n",
    "    \"Alimentos\": [\"Arroz\", \"Feijão\", \"Macarrão\"],\n",
    "    \"Vestuário\": [\"Camiseta\", \"Calça\", \"Tênis\"]\n",
    "}\n",
    "\n",
    "# Criando DataFrame simulado\n",
    "df = pd.DataFrame({\n",
    "    \"data\": np.random.choice(datas, 1000),\n",
    "    \"loja\": np.random.choice(lojas, 1000),\n",
    "    \"categoria\": np.random.choice(categorias, 1000),\n",
    "})\n",
    "\n",
    "# Preenche produtos de acordo com a categoria\n",
    "df[\"produto\"] = df[\"categoria\"].map(lambda c: np.random.choice(produtos[c]))\n",
    "df[\"quantidade\"] = np.random.randint(1, 20, size=1000)\n",
    "df[\"preço_unit\"] = np.random.randint(20, 2000, size=1000)\n",
    "\n",
    "# Exibindo as primeiras linhas do DataFrame\n",
    "df.head()"
   ]
  }
 ],
 "metadata": {
  "kernelspec": {
   "display_name": "Python 3",
   "language": "python",
   "name": "python3"
  },
  "language_info": {
   "codemirror_mode": {
    "name": "ipython",
    "version": 3
   },
   "file_extension": ".py",
   "mimetype": "text/x-python",
   "name": "python",
   "nbconvert_exporter": "python",
   "pygments_lexer": "ipython3",
   "version": "3.13.7"
  }
 },
 "nbformat": 4,
 "nbformat_minor": 5
}
