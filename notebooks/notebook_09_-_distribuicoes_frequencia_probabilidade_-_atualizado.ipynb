{
  "cells": [
    {
      "cell_type": "markdown",
      "id": "7ad86b10",
      "metadata": {
        "id": "7ad86b10"
      },
      "source": [
        "# **CIÊNCIA DE DADOS** - DCA3501\n",
        "\n",
        "UNIVERSIDADE FEDERAL DO RIO GRANDE DO NORTE, NATAL/RN\n",
        "\n",
        "DEPARTAMENTO DE ENGENHARIA DE COMPUTAÇÃO E AUTOMAÇÃO\n",
        "\n",
        "(C) 2025-2026 CARLOS M D VIEGAS\n",
        "\n",
        "https://github.com/cmdviegas"
      ]
    },
    {
      "cell_type": "markdown",
      "id": "8b151828",
      "metadata": {
        "id": "8b151828"
      },
      "source": [
        "\n",
        "# Distribuições de Frequência e Probabilidade\n",
        "\n",
        "Este notebook apresenta conceitos fundamentais sobre distribuições de frequência e probabilidade, aplicados a dados discretos e contínuos.\n",
        "\n",
        "Vamos seguir as seguintes etapas:\n",
        "1. Distribuições de Frequência\n",
        "2. Distribuições Discretas  \n",
        "2.1. Bernoulli  \n",
        "2.2. Binomial  \n",
        "2.3. Poisson  \n",
        "3. Distribuições Contínuas  \n",
        "3.1. Normal  \n",
        "3.2. Exponencial  \n",
        "3.3. Uniforme\n",
        "4. Função de Distribuição Acumulada (CDF)"
      ]
    },
    {
      "cell_type": "markdown",
      "id": "e6da3cd0",
      "metadata": {
        "id": "e6da3cd0"
      },
      "source": [
        "## Importação das bibliotecas"
      ]
    },
    {
      "cell_type": "code",
      "execution_count": null,
      "id": "096de997",
      "metadata": {
        "id": "096de997"
      },
      "outputs": [],
      "source": [
        "import pandas as pd\n",
        "import numpy as np\n",
        "import matplotlib.pyplot as plt\n",
        "from scipy import stats as st\n",
        "\n",
        "np.random.seed(42) # fixa a aleatoriedade para que os resultados sejam sempre os mesmos"
      ]
    },
    {
      "cell_type": "markdown",
      "id": "36f19ea6",
      "metadata": {
        "id": "36f19ea6"
      },
      "source": [
        "\n",
        "## 1. Distribuições de Frequência\n",
        "\n",
        "As distribuições de frequência organizam e resumem dados mostrando quantas vezes cada valor aparece.\n",
        "\n",
        "Vamos criar um conjunto de notas de alunos e calcular:\n",
        "\n",
        "- Frequência Absoluta (*`fi`*): número de ocorrências;\n",
        "- Frequência Relativa (*`fri`*): proporção em relação ao total;\n",
        "- Frequência Acumulada (*`Fi`*): soma progressiva das frequências;\n",
        "- Frequência Relativa Acumulada (*`Fri`*): soma progressiva das proporções.\n"
      ]
    },
    {
      "cell_type": "code",
      "execution_count": null,
      "id": "4c616c63",
      "metadata": {
        "id": "4c616c63"
      },
      "outputs": [],
      "source": [
        "# Exemplo: notas obtidas por 30 alunos\n",
        "notas = [5, 6, 7, 8, 8, 8, 9, 5, 6, 7, 7, 7, 9, 10, 6, 8, 9, 10, 5, 6, 6, 7, 8, 9, 5, 6, 7, 7, 8, 9]\n",
        "df = pd.DataFrame({'nota': notas})\n",
        "df.head()"
      ]
    },
    {
      "cell_type": "markdown",
      "id": "OxQukMZ8VRJj",
      "metadata": {
        "id": "OxQukMZ8VRJj"
      },
      "source": [
        "Frequência Absoluta (*`fi`*)"
      ]
    },
    {
      "cell_type": "code",
      "execution_count": null,
      "id": "5be506f9",
      "metadata": {
        "id": "5be506f9"
      },
      "outputs": [],
      "source": [
        "# Quantos alunos tiraram tal nota?\n",
        "freq_abs = df['nota'].value_counts().sort_index()\n",
        "freq_abs\n",
        "\n",
        "# .value_counts() -> Conta quantas vezes cada valor distinto aparece nessa coluna (gera uma tabela de frequência absoluta)\n",
        "# .sort_index() -> Ordena o resultado pelo índice — ou seja, pelas notas (valores), não pela frequência"
      ]
    },
    {
      "cell_type": "code",
      "execution_count": null,
      "id": "2e4ed9a1",
      "metadata": {
        "id": "2e4ed9a1"
      },
      "outputs": [],
      "source": [
        "# Gráfico de barras - Frequência Absoluta\n",
        "freq_abs.plot(kind='bar', title='Frequência Absoluta das Notas', xlabel='Nota', ylabel='Frequência', color='orange')"
      ]
    },
    {
      "cell_type": "markdown",
      "id": "MbIEPw7eVypY",
      "metadata": {
        "id": "MbIEPw7eVypY"
      },
      "source": [
        "Frequência Relativa (*`fri`*)"
      ]
    },
    {
      "cell_type": "code",
      "execution_count": null,
      "id": "1a74c844",
      "metadata": {
        "id": "1a74c844"
      },
      "outputs": [],
      "source": [
        "# Qual a porcentagem de alunos que obtiveram aquela nota?\n",
        "freq_rel = df['nota'].value_counts(normalize=True).sort_index()\n",
        "freq_rel\n",
        "\n",
        "# .value_counts(normalize=True) -> Faz o mesmo que .value_counts(), mas divide cada contagem pelo total de elementos"
      ]
    },
    {
      "cell_type": "code",
      "execution_count": null,
      "id": "e2d23151",
      "metadata": {
        "id": "e2d23151"
      },
      "outputs": [],
      "source": [
        "# Gráfico de barras - Frequência Relativa\n",
        "freq_rel.plot(kind='bar', title='Frequência Relativa das Notas', xlabel='Nota', ylabel='Proporção', color='orange')"
      ]
    },
    {
      "cell_type": "markdown",
      "id": "wHyXHRLYV2Rs",
      "metadata": {
        "id": "wHyXHRLYV2Rs"
      },
      "source": [
        "Frequência Acumulada (*`Fi`*)"
      ]
    },
    {
      "cell_type": "code",
      "execution_count": null,
      "id": "2c9ad14e",
      "metadata": {
        "id": "2c9ad14e"
      },
      "outputs": [],
      "source": [
        "# Quantos alunos tiraram até aquela nota?\n",
        "freq_acum = freq_abs.cumsum()\n",
        "freq_acum"
      ]
    },
    {
      "cell_type": "code",
      "execution_count": null,
      "id": "4feb5dde",
      "metadata": {
        "id": "4feb5dde"
      },
      "outputs": [],
      "source": [
        "# Gráfico de linha - Frequência Acumulada\n",
        "freq_acum.plot(kind='line', marker='o', title='Frequência Acumulada', xlabel='Nota', ylabel='Frequência', color='orange', grid=True)"
      ]
    },
    {
      "cell_type": "markdown",
      "id": "EqEyZReSV48r",
      "metadata": {
        "id": "EqEyZReSV48r"
      },
      "source": [
        "Frequência Relativa Acumulada (*`Fri`*)"
      ]
    },
    {
      "cell_type": "code",
      "execution_count": null,
      "id": "448a7c8d",
      "metadata": {
        "id": "448a7c8d"
      },
      "outputs": [],
      "source": [
        "# Qual a porcentagem de alunos que obtiveram até aquela nota?\n",
        "freq_rel_acum = freq_rel.cumsum()\n",
        "display(freq_rel)\n",
        "display(freq_rel_acum)"
      ]
    },
    {
      "cell_type": "code",
      "execution_count": null,
      "id": "3179ed2b",
      "metadata": {
        "id": "3179ed2b"
      },
      "outputs": [],
      "source": [
        "# Gráfico de linha - Frequência Relativa Acumulada\n",
        "freq_rel_acum.plot(kind='line', marker='o', title='Frequência Relativa Acumulada', xlabel='Nota', ylabel='Proporção Acumulada', color='orange', grid=True)"
      ]
    },
    {
      "cell_type": "code",
      "execution_count": null,
      "id": "db627ca9",
      "metadata": {
        "id": "db627ca9"
      },
      "outputs": [],
      "source": [
        "# Tabela final com todas as colunas\n",
        "freq_table = pd.DataFrame({\n",
        "    'Frequência Absoluta': freq_abs,\n",
        "    'Frequência Relativa': freq_rel.round(4),\n",
        "    'Frequência Acumulada': freq_acum,\n",
        "    'Frequência Relativa Acumulada': freq_rel_acum.round(4)\n",
        "})\n",
        "freq_table"
      ]
    },
    {
      "cell_type": "markdown",
      "id": "7e5551da",
      "metadata": {
        "id": "7e5551da"
      },
      "source": [
        "## 2. Distribuições de Probabilidade (Discretas)\n",
        "\n",
        "Uma distribuição Discreta lista todos os valores possíveis de uma variável e suas probabilidades.\n",
        "\n",
        "A maneira formal de representar essa distribuição é por meio da Função de Massa de Probabilidade (PMF), que atribui uma probabilidade a cada valor discreto da variável.\n",
        "\n",
        " <br>\n",
        "\n",
        "**Função de Massa de Probabilidade (PMF)**\n",
        "\n",
        "A PMF descreve a probabilidade de uma variável aleatória discreta assumir um determinado valor.\n",
        "\n",
        "Para uma variável aleatória $X$, a PMF é definida como:\n",
        "\n",
        "$$\n",
        "P(X = x) = f(x)\n",
        "$$\n",
        "\n",
        "onde:\n",
        "\n",
        "- $x$ representa um valor possível da variável $X$;\n",
        "- $f(x) \\geq 0 $ para todo $x$;\n",
        "- $\\sum_x f(x) = 1$, ou seja, a soma de todas as probabilidades é igual a $1$.\n",
        "\n",
        "<br>\n",
        "\n",
        "A PMF se aplica apenas a variáveis discretas que assumem valores contáveis. Ela atribui uma probabilidade exata a cada valor, o que a diferencia das distribuições contínuas (que usam PDF e lidam com intervalos).\n",
        "\n",
        "<br>\n",
        "\n",
        "Vamos estudar as seguintes distribuições discretas:\n",
        "* Bernoulli;\n",
        "* Binomial;\n",
        "* Poisson.\n",
        "\n"
      ]
    },
    {
      "cell_type": "markdown",
      "id": "63faac88",
      "metadata": {
        "id": "63faac88"
      },
      "source": [
        "### 2.1. Distribuição de Bernoulli\n",
        "\n",
        "A Distribuição de Bernoulli modela um evento com dois possíveis resultados (sucesso ou fracasso).\n",
        "\n",
        "Esta distribuição é adequada para eventos binários como:\n",
        "\n",
        "- Aprovado (1) ou Reprovado (0);\n",
        "- Cara (1) ou Coroa (0);\n",
        "- Presença (1) ou Ausência (0).\n",
        "\n",
        "<br>\n",
        "\n",
        "Definição:\n",
        "\n",
        "Seja $X$ uma variável aleatória com distribuição de Bernoulli, então:\n",
        "\n",
        "$$\n",
        "P(X = 1) = p \\quad \\text{e} \\quad P(X = 0) = 1 - p\n",
        "$$\n",
        "\n",
        "onde:\n",
        "\n",
        "- $p$ é a probabilidade de sucesso ($0 \\leq p \\leq 1$);\n",
        "- $1 - p$ é a probabilidade de fracasso.\n",
        "\n",
        "<br>\n",
        "\n",
        "A Distribuição de Bernoulli possui:\n",
        "\n",
        "- Valor esperado (média):\n",
        "\n",
        "  $$\n",
        "  \\mathbb{E}[X] = p\n",
        "  $$\n",
        "\n",
        "- Variância:\n",
        "\n",
        "  $$\n",
        "  \\text{Var}(X) = p(1 - p)\n",
        "  $$\n",
        "\n",
        "<br>\n",
        "\n",
        "A PMF da Bernoulli é dada por:\n",
        "\n",
        "$$\n",
        "P(X = x) = p^x (1 - p)^{1 - x}, \\quad \\text{para } x \\in \\{0, 1\\}\n",
        "$$\n",
        "\n"
      ]
    },
    {
      "cell_type": "code",
      "execution_count": null,
      "id": "6ef9bc54",
      "metadata": {
        "id": "6ef9bc54"
      },
      "outputs": [],
      "source": [
        "# O aluno foi aprovado (nota ≥ 7) ou reprovado (nota < 7)?\n",
        "df['aprovado'] = (df['nota'] >= 7).astype(int)\n",
        "p = df['aprovado'].mean()\n",
        "print(f\"Probabilidade de sucesso (p): {p:.2f}\")"
      ]
    },
    {
      "cell_type": "code",
      "execution_count": null,
      "id": "56bb9881",
      "metadata": {
        "id": "56bb9881"
      },
      "outputs": [],
      "source": [
        "# Podemos simular vários alunos seguindo essa probabilidade\n",
        "n = 1000\n",
        "sim_bern = np.random.binomial(1, p, n) # Simula n eventos de Bernoulli com probabilidade p\n",
        "pd.Series(sim_bern).value_counts(normalize=True)"
      ]
    },
    {
      "cell_type": "code",
      "execution_count": null,
      "id": "ec01c55b",
      "metadata": {
        "id": "ec01c55b"
      },
      "outputs": [],
      "source": [
        "x = [0, 1] # Valores da variável: 0 = Reprovado, 1 = Aprovado\n",
        "probs = [1 - p, p] # Probabilidades para os valores [0 = fracasso, 1 = sucesso]\n",
        "\n",
        "# Gráfico da distribuição de Bernoulli\n",
        "plt.figure(figsize=(6,4))\n",
        "plt.bar(x, probs, color='orange', alpha=0.9, width=0.4)\n",
        "plt.xticks(x, ['0 = Reprovado', '1 = Aprovado'])\n",
        "plt.ylim(0, 1)\n",
        "plt.title(f'Distribuição de Bernoulli — p = {p:.2f}')\n",
        "plt.ylabel('Probabilidade')\n",
        "plt.grid(axis='y', alpha=0.3)\n",
        "plt.show()"
      ]
    },
    {
      "cell_type": "markdown",
      "id": "de3d7e13",
      "metadata": {
        "id": "de3d7e13"
      },
      "source": [
        "Interpretação do gráfico\n",
        "\n",
        "- Cada \"lançamento\" representa um aluno (sucesso = aprovado, fracasso = reprovado);\n",
        "\n",
        "- A média dos 0's e 1's se aproxima de `p` (a probabilidade de aprovação)."
      ]
    },
    {
      "cell_type": "markdown",
      "id": "e961f236",
      "metadata": {
        "id": "e961f236"
      },
      "source": [
        "### 2.2. Distribuição Binomial\n",
        "\n",
        "A Distribuição Binomial modela o número de sucessos em $n$ tentativas independentes, cada uma com probabilidade $p$ de sucesso. Ela é uma generalização da distribuição de Bernoulli, que considera apenas uma única tentativa.  \n",
        "\n",
        "Na Binomial, estamos interessados em quantos sucessos ocorrem em um conjunto de $n$ experimentos repetidos sob as mesmas condições. Ou seja, ela é usada quando repetimos o mesmo experimento várias vezes, de forma **independente** e com a **mesma probabilidade de sucesso em cada uma das tentativas.\n",
        "\n",
        "Exemplos de aplicações incluem:\n",
        "\n",
        "- Número de alunos aprovados em uma turma com 10 alunos;\n",
        "- Número de caras ao lançar uma moeda várias vezes;\n",
        "- Número de peças com defeito em um lote de produção.\n",
        "\n",
        "<br>\n",
        "\n",
        "Definição:\n",
        "\n",
        "Seja $X$ uma variável aleatória com Distribuição Binomial, então:\n",
        "\n",
        "$$\n",
        "X \\sim \\text{Bin}(n, p)\n",
        "$$\n",
        "\n",
        "onde:\n",
        "\n",
        "- $n$ = número de tentativas;\n",
        "- $p$ = probabilidade de sucesso em cada tentativa.\n",
        "\n",
        "<br>\n",
        "\n",
        "A Distribuição Binomial possui:\n",
        "\n",
        "- Valor esperado (média):\n",
        "\n",
        "  $$\n",
        "  \\mathbb{E}[X] = np\n",
        "  $$\n",
        "\n",
        "- Variância:\n",
        "\n",
        "  $$\n",
        "  \\text{Var}(X) = np(1 - p)\n",
        "  $$\n",
        "\n",
        "<br>\n",
        "\n",
        "A PMF da Binomial é:\n",
        "\n",
        "$$\n",
        "P(X = k) = \\binom{n}{k} p^k (1 - p)^{n - k}, \\quad \\text{para } k = 0, 1, \\ldots, n\n",
        "$$  \n",
        "\n",
        "O termo $\\binom{n}{k}$ é chamado de coeficiente binomial: $\\binom{n}{k} = \\frac{n!}{k!(n - k)!}$\n",
        "\n",
        "Esse valor indica quantas formas diferentes existem de obter exatamente $k$ sucessos em $n$ tentativas."
      ]
    },
    {
      "cell_type": "code",
      "execution_count": null,
      "id": "15ead816",
      "metadata": {
        "id": "15ead816"
      },
      "outputs": [],
      "source": [
        "# Em uma turma de 10 alunos, quantos serão aprovados?\n",
        "n_alunos = 10\n",
        "p = df['aprovado'].mean() # Estima a probabilidade de aprovação com base na média\n",
        "\n",
        "sim_binom = np.random.binomial(n=n_alunos, p=p, size=1000) # Simula a distribuição binomial: número de aprovados em 1000 turmas com n_alunos\n",
        "\n",
        "pd.Series(sim_binom).value_counts(normalize=True).sort_index().plot(kind='bar', color='orange')\n",
        "plt.title('Distribuição Binomial — Aprovados em uma turma de 10 alunos')\n",
        "plt.xlabel('Número de alunos aprovados')\n",
        "plt.ylabel('Probabilidade')\n",
        "plt.grid(True, alpha=0.3)\n",
        "plt.show()"
      ]
    },
    {
      "cell_type": "markdown",
      "id": "96f9d281",
      "metadata": {
        "id": "96f9d281"
      },
      "source": [
        "Interpretação do gráfico\n",
        "\n",
        "- O eixo X mostra quantos alunos (de um total de 10) foram aprovados.\n",
        "\n",
        "- O formato se aproxima de uma curva simétrica, com maior probabilidade perto do valor esperado `n * p`.\n",
        "\n",
        "- \"Se montarmos várias turmas de 10 alunos com a mesma taxa de aprovação, normalmente teremos 6 ou 7 alunos aprovados por turma. Turmas com todos aprovados (10) ou todos reprovados (0) são raras.\""
      ]
    },
    {
      "cell_type": "markdown",
      "id": "d04dff2b",
      "metadata": {
        "id": "d04dff2b"
      },
      "source": [
        "### 2.3. Distribuição de Poisson\n",
        "\n",
        "A Distribuição de Poisson modela o número de vezes que um evento ocorre dentro de um intervalo fixo de tempo, espaço, área ou volume, quando esses eventos:\n",
        "\n",
        "- Acontecem de forma independente;\n",
        "- Ocorrem a uma taxa média constante;\n",
        "- São raros em relação ao número total de oportunidades.\n",
        "\n",
        "É amplamente usada para modelar contagens de eventos raros ou aleatórios que ocorrem continuamente ao longo do tempo ou do espaço.\n",
        "\n",
        "Exemplos de aplicações:\n",
        "\n",
        "- Número de chamadas recebidas por um call center em 1 hora;\n",
        "- Número de acidentes em um cruzamento por dia;\n",
        "- Número de clientes que chegam em uma loja por minuto.\n",
        "\n",
        "<br>\n",
        "\n",
        "Definição:\n",
        "\n",
        "Seja $X$ uma variável aleatória com distribuição de Poisson, então:\n",
        "\n",
        "$$\n",
        "X \\sim \\text{Poisson}(\\lambda)\n",
        "$$\n",
        "\n",
        "onde:\n",
        "\n",
        "- $\\lambda > 0$ é a taxa média de ocorrência dos eventos;\n",
        "- $X$ representa o número de eventos que ocorrem em um intervalo fixo.\n",
        "\n",
        "<br>\n",
        "\n",
        "A distribuição de Poisson tem a média igual à variância.\n",
        "\n",
        "- Valor esperado (média):\n",
        "\n",
        "  $$\n",
        "  \\mathbb{E}[X] = \\lambda\n",
        "  $$\n",
        "\n",
        "- Variância:\n",
        "\n",
        "  $$\n",
        "  \\text{Var}(X) = \\lambda\n",
        "  $$\n",
        "\n",
        "<br>\n",
        "\n",
        "A PMF da Poisson é dada por:\n",
        "\n",
        "$$\n",
        "P(X = k) = \\frac{e^{-\\lambda} \\lambda^k}{k!}, \\quad \\text{para } k = 0, 1, 2, \\ldots\n",
        "$$"
      ]
    },
    {
      "cell_type": "code",
      "execution_count": null,
      "id": "441ed4d8",
      "metadata": {
        "id": "441ed4d8"
      },
      "outputs": [],
      "source": [
        "# \"Quantos alunos tiram exatamente 10 em uma turma?\"\n",
        "\n",
        "λ = (df['nota'] == 10).sum() / len(df) * 10  # Média esperada de notas 10 por turma de 10 alunos\n",
        "print(f\"Média esperada de notas 10 por turma: {λ:.2f}\\n\")\n",
        "\n",
        "sim_poisson = np.random.poisson(lam=λ, size=1000) # Simula 1000 contagens de eventos com média λ (distribuição de Poisson)\n",
        "\n",
        "pd.Series(sim_poisson).value_counts(normalize=True).sort_index().plot(kind='bar', color='orange')\n",
        "plt.title('Distribuição de Poisson — Alunos com nota 10 por turma')\n",
        "plt.xlabel('Número de alunos com nota 10')\n",
        "plt.ylabel('Probabilidade')\n",
        "plt.grid(True, alpha=0.3)\n",
        "plt.show()\n"
      ]
    },
    {
      "cell_type": "markdown",
      "id": "472e4d6d",
      "metadata": {
        "id": "472e4d6d"
      },
      "source": [
        "Interpretação do gráfico\n",
        "\n",
        "- Mostra a probabilidade de 0, 1, 2, ... alunos tirarem 10 numa turma de mesmo tamanho.\n",
        "\n",
        "- Útil para eventos raros e independentes (como tirar nota máxima)."
      ]
    },
    {
      "cell_type": "markdown",
      "id": "df9cbe19",
      "metadata": {
        "id": "df9cbe19"
      },
      "source": [
        "## 3. Distribuições de Probabilidade (Contínuas)\n",
        "\n",
        "Uma distribuição Contínua representa variáveis que podem assumir qualquer valor em um intervalo. Nestes casos, não falamos em probabilidade de valores exatos, mas sim de intervalos, calculados por meio da Função Densidade de Probabilidade (PDF).\n",
        "\n",
        "<br>\n",
        "\n",
        "Função Densidade de Probabilidade (PDF)**\n",
        "\n",
        "A PDF descreve o comportamento de variáveis aleatórias contínuas.  \n",
        "Diferente da PMF, que atribui uma probabilidade a valores exatos, a PDF não fornece diretamente probabilidades pontuais. Isso porque, em variáveis contínuas, a probabilidade de assumir um valor exato é sempre zero:\n",
        "\n",
        "$$\n",
        "P(X = x) = 0\n",
        "$$\n",
        "\n",
        "Em vez disso, a PDF permite calcular a probabilidade de que a variável esteja dentro de um intervalo.\n",
        "\n",
        "Por exemplo, para uma variável contínua $X$ com PDF $f(x)$, a probabilidade de $X$ cair entre dois valores $a$ e $b$ é dada por:\n",
        "\n",
        "$$\n",
        "P(a \\leq X \\leq b) = \\int_a^b f(x) \\, dx\n",
        "$$\n",
        "\n",
        "Ou seja, a probabilidade é a área sob a curva da PDF entre os pontos $a$ e $b$.\n",
        "\n",
        "Para que uma função seja válida como PDF, ela deve satisfazer duas condições:\n",
        "\n",
        "- $f(x) \\geq 0$ para todo $x$;\n",
        "- A área total sob a curva deve ser igual a 1:\n",
        "\n",
        "$$\n",
        "\\int_{-\\infty}^{\\infty} f(x) \\, dx = 1\n",
        "$$"
      ]
    },
    {
      "cell_type": "markdown",
      "id": "d7de6d14",
      "metadata": {
        "id": "d7de6d14"
      },
      "source": [
        "### 3.1. Distribuição Normal\n",
        "\n",
        "A Distribuição Normal (ou distribuição Gaussiana) é usada para modelar fenômenos naturais e comportamentos de variáveis contínuas que tendem a se concentrar em torno da média.\n",
        "\n",
        "A curva é simétrica em torno da média ($\\mu$) e tem formato de sino.\n",
        "\n",
        "Propriedades da Normal:\n",
        "\n",
        "- Simétrica em torno da média ($\\mu = 0$);\n",
        "- A maior parte dos valores está próxima da média;\n",
        "- As caudas da curva se estendem ao infinito, mas a densidade tende a zero;\n",
        "- **68%** dos valores estão entre $-1\\sigma$ e $+1\\sigma$;\n",
        "- **95%** entre $-2\\sigma$ e $+2\\sigma$;\n",
        "- **99.7%** entre $-3\\sigma$ e $+3\\sigma$.\n",
        "\n",
        "Exemplos de fenômenos que seguem a Distribuição Normal:\n",
        "\n",
        "- Alturas de pessoas;\n",
        "- Peso corporal;\n",
        "- Tempo de reação.\n",
        "\n",
        "<br>\n",
        "\n",
        "Definição:\n",
        "\n",
        "Se $X$ é uma variável com Distribuição Normal, escrevemos:\n",
        "\n",
        "$$\n",
        "X \\sim \\mathcal{N}(\\mu, \\sigma^2)\n",
        "$$\n",
        "\n",
        "<br>\n",
        "\n",
        "A Distribuição Normal possui:\n",
        "\n",
        "- Valor esperado (média):\n",
        "\n",
        "  $$\n",
        "  \\mathbb{E}[X] = \\mu\n",
        "  $$\n",
        "\n",
        "- Variância:\n",
        "\n",
        "  $$\n",
        "  \\text{Var}(X) = \\sigma^2\n",
        "  $$\n",
        "\n",
        "<br>\n",
        "\n",
        "A PDF da Normal é dada por:\n",
        "\n",
        "$$\n",
        "f(x) = \\frac{1}{\\sqrt{2\\pi \\sigma^2}} \\cdot e^{ -\\frac{(x - \\mu)^2}{2\\sigma^2} }\n",
        "$$\n"
      ]
    },
    {
      "cell_type": "code",
      "execution_count": null,
      "id": "8803c1aa",
      "metadata": {
        "id": "8803c1aa"
      },
      "outputs": [],
      "source": [
        "# Geração de um dataset fictício com alturas de 450 jogadores da NBA (seguindo uma distribuição normal)\n",
        "alturas_m = np.random.normal(loc=2.00, scale=0.10, size=450)  # Alturas simuladas com média de 2,00 m e desvio padrão de 0,10 m\n",
        "alturas_m = np.clip(alturas_m, 1.75, 2.25)  # Limita os valores entre 1,75 m e 2,25 m para evitar extremos irreais\n",
        "df_nba = pd.DataFrame({'altura_m': alturas_m}) # Cria o dataframe\n",
        "#df_nba.head()"
      ]
    },
    {
      "cell_type": "code",
      "execution_count": null,
      "id": "ac7df5cc",
      "metadata": {
        "id": "ac7df5cc"
      },
      "outputs": [],
      "source": [
        "# Histograma + curva teórica da Normal\n",
        "plt.figure(figsize=(6,4))\n",
        "plt.hist(df_nba['altura_m'], bins=20, density=True, color='orange', label='PDF empírica') # Dados observados\n",
        "\n",
        "# Curva teórica da Normal\n",
        "x = np.linspace(1.75, 2.25, 200) # Cria 200 pontos igualmente espaçados entre 1,75m e 2,25m / Serve como eixo contínuo para calcular e plotar a curva teórica da distribuição normal sobre o histograma\n",
        "media = df_nba['altura_m'].mean() # Média\n",
        "desvio = df_nba['altura_m'].std() # Desvio padrão\n",
        "y = (1 / (desvio * np.sqrt(2 * np.pi))) * np.exp(-0.5 * ((x - media) / desvio)**2) # PDF teórica\n",
        "\n",
        "# De forma mais simples podemos usar o Scipy para calcular a PDF f(x)\n",
        "#y = st.norm.pdf(x, loc=media, scale=desvio) # PDF teórica (scipy)\n",
        "\n",
        "plt.plot(x, y, color='black', lw=2, label='Curva teórica da Normal')\n",
        "plt.title('Distribuição Normal — Altura de Jogadores da NBA')\n",
        "plt.xlabel('Altura (m)')\n",
        "plt.ylabel('Densidade de probabilidade')\n",
        "plt.legend()\n",
        "plt.grid(True, alpha=0.3)\n",
        "plt.show()"
      ]
    },
    {
      "cell_type": "markdown",
      "id": "7b95c40b",
      "metadata": {
        "id": "7b95c40b"
      },
      "source": [
        "## 3.2. Distribuição Exponencial\n",
        "\n",
        "A Distribuição Exponencial modela o tempo até a ocorrência de um evento,  como o tempo de espera em filas ou o tempo entre falhas.\n",
        "\n",
        "Esta distribuição assume que os eventos ocorrem de forma contínua, independente e a uma taxa constante.\n",
        "\n",
        "Definição:\n",
        "\n",
        "Seja $X$ uma variável aleatória contínua que segue uma distribuição exponencial com parâmetro $\\lambda > 0$, então:\n",
        "\n",
        "$$\n",
        "X \\sim \\text{Exp}(\\lambda)\n",
        "$$\n",
        "\n",
        "onde:\n",
        "\n",
        "- $\\lambda$ é a taxa média de ocorrência dos eventos (por unidade de tempo);\n",
        "- $X$ representa o tempo até o próximo evento.\n",
        "\n",
        "<br>\n",
        "\n",
        "A distribuição exponencial possui as seguintes propriedades:\n",
        "\n",
        "- Valor esperado (média):\n",
        "\n",
        "  $$\n",
        "  \\mathbb{E}[X] = \\frac{1}{\\lambda}\n",
        "  $$\n",
        "\n",
        "- Variância:\n",
        "\n",
        "  $$\n",
        "  \\text{Var}(X) = \\frac{1}{\\lambda^2}\n",
        "  $$\n",
        "\n",
        "\n",
        "<br>\n",
        "\n",
        "A PDF da Exponencial é dada por:\n",
        "\n",
        "$$\n",
        "f(x) = \\lambda e^{-\\lambda x}, \\quad \\text{para } x \\geq 0\n",
        "$$\n",
        "\n",
        "- $f(x)$ indica a densidade de probabilidade para o tempo $x$;\n",
        "- A PDF decresce exponencialmente — ou seja, quanto maior o tempo, menor a chance de ele ocorrer.\n",
        "\n",
        "<br>\n",
        "\n",
        "O gráfico da PDF da distribuição exponencial é assimétrico e decrescente, com valor máximo em $x = 0$ e decaimento exponencial à medida que $x$ aumenta.\n",
        "\n",
        "- Quando $\\lambda$ é alto: a curva decai rapidamente (eventos ocorrem rapidamente);\n",
        "- Quando $\\lambda$ é baixo: a curva decai lentamente (eventos mais espaçados).\n",
        "\n",
        "A área sob a curva entre dois valores representa a probabilidade do evento ocorrer naquele intervalo de tempo.\n",
        "\n"
      ]
    },
    {
      "cell_type": "code",
      "execution_count": null,
      "id": "m2lwRE2Q_8Vc",
      "metadata": {
        "id": "m2lwRE2Q_8Vc"
      },
      "outputs": [],
      "source": [
        "# Simula o tempo (em minutos) até a chegada de 450 clientes em uma loja (seguindo uma distribuição exponencial)\n",
        "tempos_espera = np.random.exponential(scale=2.0, size=450)  # média = 2 minutos\n",
        "tempos_espera = np.clip(tempos_espera, 0, 10)  # remove valores extremos para visualização\n",
        "df_exp = pd.DataFrame({'tempo_min': tempos_espera})"
      ]
    },
    {
      "cell_type": "code",
      "execution_count": null,
      "id": "6d610d1f",
      "metadata": {
        "id": "6d610d1f"
      },
      "outputs": [],
      "source": [
        "# Histograma (PDF empírica)\n",
        "plt.figure(figsize=(6,4))\n",
        "plt.hist(df_exp['tempo_min'], bins=20, density=True, color='orange', label='PDF empírica')\n",
        "\n",
        "# Curva teórica da distribuição exponencial\n",
        "x = np.linspace(0, 10, 200)\n",
        "λ = 1 / 2.0  # lambda = 1 / média\n",
        "y = λ * np.exp(-λ * x)\n",
        "\n",
        "# De forma mais simples podemos usar o Scipy para calcular a PDF f(x)\n",
        "#y = st.expon.pdf(x, loc=0, scale=1/λ) # PDF com SciPy\n",
        "\n",
        "plt.plot(x, y, color='black', lw=2, label='Curva Exponencial teórica')\n",
        "plt.title('Distribuição Exponencial — Tempo até chegada de clientes')\n",
        "plt.xlabel('Tempo de espera (minutos)')\n",
        "plt.ylabel('Densidade de probabilidade')\n",
        "plt.legend()\n",
        "plt.grid(True, alpha=0.3)\n",
        "plt.show()"
      ]
    },
    {
      "cell_type": "markdown",
      "id": "61fe4905",
      "metadata": {
        "id": "61fe4905"
      },
      "source": [
        "### 3.3. Distribuição Uniforme\n",
        "\n",
        "A Distribuição Uniforme é usada para modelar situações onde todos os valores dentro de um intervalo são igualmente prováveis.\n",
        "\n",
        "Exemplos de fenômenos que podem ser modelados com uma distribuição uniforme:\n",
        "\n",
        "- Geração de números aleatórios entre dois valores;\n",
        "- Sorteio de horários dentro de um período fixo.\n",
        "\n",
        "<br>\n",
        "\n",
        "Definição:\n",
        "\n",
        "Seja $X$ uma variável aleatória contínua com distribuição uniforme no intervalo $[a, b]$, então:\n",
        "\n",
        "$$\n",
        "X \\sim \\text{Uniform}(a, b)\n",
        "$$\n",
        "\n",
        "onde:\n",
        "\n",
        "- $a$ é o valor mínimo;\n",
        "- $b$ é o valor máximo;\n",
        "- A densidade de probabilidade é constante em todo o intervalo.\n",
        "\n",
        "<br>\n",
        "\n",
        "A distribuição uniforme possui as seguintes propriedades:\n",
        "\n",
        "- Valor esperado (média):\n",
        "\n",
        "  $$\n",
        "  \\mathbb{E}[X] = \\frac{a + b}{2}\n",
        "  $$\n",
        "\n",
        "- Variância:\n",
        "\n",
        "  $$\n",
        "  \\text{Var}(X) = \\frac{(b - a)^2}{12}\n",
        "  $$\n",
        "\n",
        "<br>\n",
        "\n",
        "A PDF da distribuição uniforme é dada por:\n",
        "\n",
        "$$\n",
        "f(x) =\n",
        "\\begin{cases}\n",
        "\\dfrac{1}{b - a}, & \\text{se } a \\leq x \\leq b \\\\\n",
        "0, & \\text{caso contrário}\n",
        "\\end{cases}\n",
        "$$\n",
        "\n",
        "- A densidade é constante no intervalo $[a, b]$;\n",
        "- A área total sob a curva ainda é igual a 1.\n",
        "\n",
        "<br>\n",
        "\n",
        "O gráfico da PDF da distribuição uniforme contínua é um retângulo:\n",
        "\n",
        "- A altura da curva é constante e igual a $1 / (b - a)$;\n",
        "- A área sob a curva entre dois valores representa a probabilidade de cair nesse intervalo."
      ]
    },
    {
      "cell_type": "code",
      "execution_count": null,
      "id": "Zt0ou6NS_L4z",
      "metadata": {
        "id": "Zt0ou6NS_L4z"
      },
      "outputs": [],
      "source": [
        "# Simula horários de chegada entre 8h e 10h (seguindo uma distribuição uniforme)\n",
        "chegadas = np.random.uniform(low=8.0, high=10.0, size=450)\n",
        "df_uni = pd.DataFrame({'hora_chegada': chegadas})"
      ]
    },
    {
      "cell_type": "code",
      "execution_count": null,
      "id": "d9141cfd",
      "metadata": {
        "id": "d9141cfd"
      },
      "outputs": [],
      "source": [
        "# Histograma (PDF empírica)\n",
        "plt.figure(figsize=(6,4))\n",
        "plt.hist(df_uni['hora_chegada'], bins=20, density=True, color='orange', label='PDF empírica')\n",
        "\n",
        "# Curva teórica Uniforme\n",
        "a, b = 8.0, 10.0\n",
        "x = np.linspace(a, b, 200)\n",
        "y = np.ones_like(x) * (1 / (b - a))  # Densidade constante\n",
        "\n",
        "# De forma mais simples podemos usar o Scipy para calcular a PDF f(x)\n",
        "#y = st.uniform.pdf(x, loc=a, scale=(b - a))\n",
        "\n",
        "plt.plot(x, y, color='black', lw=2, label='Curva Uniforme teórica')\n",
        "plt.title('Distribuição Uniforme — Horário de Chegada de Clientes')\n",
        "plt.xlabel('Hora do dia')\n",
        "plt.ylabel('Densidade de probabilidade')\n",
        "plt.legend()\n",
        "plt.grid(True, alpha=0.3)\n",
        "plt.show()"
      ]
    },
    {
      "cell_type": "markdown",
      "id": "ADw7755f7VvU",
      "metadata": {
        "id": "ADw7755f7VvU"
      },
      "source": [
        "Interpretação do gráfico:\n",
        "\n",
        "- Os dados simulados seguem uma distribuição uniforme no intervalo $[8,\\ 10]$, como indicado pela correspondência entre a PDF empírica e a teórica, ou seja, todos os valores nesse intervalo possuem igual probabilidade de ocorrer;\n",
        "- A linha preta está posicionada em $f(x) = 0{,}5$, indicando a PDF teórica da distribuição uniforme;\n",
        "- As barras do histograma mostram a densidade observada nos dados simulados;\n",
        "- Há variações naturais entre as barras, pois os dados são gerados aleatoriamente. No entanto, essas flutuações estão em torno do valor esperado $(0{,}5)$.\n"
      ]
    },
    {
      "cell_type": "markdown",
      "id": "dI_7RM32CNkc",
      "metadata": {
        "id": "dI_7RM32CNkc"
      },
      "source": [
        "## 4. Função de Distribuição Acumulada (CDF)\n",
        "\n",
        "A Função de Distribuição Acumulada (CDF) representa a probabilidade acumulada até um determinado valor.\n",
        "\n",
        "Serve para responder a:  \n",
        "> \"Qual a chance de a variável ser menor ou igual a certo valor $x$?\"\n",
        "\n",
        "Exemplo:\n",
        "\n",
        "Considere uma variável aleatória representando a nota de um aluno.  \n",
        "A CDF responde perguntas como:\n",
        "- Qual a chance de um aluno tirar nota até 7?\n",
        "- Ou: qual a proporção de dados abaixo de um certo valor?\n",
        "\n",
        "A CDF é definida para qualquer tipo de distribuição seja **discreta** ou **contínua**.\n",
        "\n",
        "\n",
        "### Discretas:\n",
        "\n",
        "Para variáveis como Bernoulli, Binomial ou Poisson, a CDF é a soma das probabilidades até um determinado valor:\n",
        "\n",
        "$$\n",
        "F(x) = \\sum_{k=0}^{x} P(X = k)\n",
        "$$\n",
        "\n",
        "### Contínuas:\n",
        "\n",
        "Para variáveis como Normal, Exponencial ou Uniforme, a CDF representa a probabilidade acumulada até $x$:\n",
        "\n",
        "$$\n",
        "F(x) = P(X \\leq x)\n",
        "$$\n",
        "\n",
        "Ou seja, a CDF indica a área sob a curva da PDF até o ponto $x$.\n",
        "\n",
        "### Propriedades da CDF:\n",
        "\n",
        "- Sempre crescente (nunca diminui);\n",
        "- Os valores de $F(x)$ estão no intervalo $[0,\\ 1]$;\n",
        "- Útil para:\n",
        "  - Calcular probabilidades em intervalos:  \n",
        "    $P(a \\leq X \\leq b) = F(b) - F(a)$\n",
        "  - Determinar quantis, percentis e mediana."
      ]
    },
    {
      "cell_type": "code",
      "execution_count": null,
      "id": "nYxSyP3mLhLN",
      "metadata": {
        "id": "nYxSyP3mLhLN"
      },
      "outputs": [],
      "source": [
        "# CDF da Bernoulli\n",
        "x_vals = np.linspace(-0.5, 1.5, 100)\n",
        "cdf_vals = st.bernoulli.cdf(x_vals, p)\n",
        "\n",
        "plt.figure(figsize=(6, 4))\n",
        "plt.step(x_vals, cdf_vals, where='mid', color='orange', label='CDF')\n",
        "plt.xticks([0, 1], ['0 = Reprovado', '1 = Aprovado'])\n",
        "plt.ylim(0, 1.05)\n",
        "plt.title('CDF — Distribuição de Bernoulli')\n",
        "plt.xlabel('Resultado')\n",
        "plt.ylabel('F(x)')\n",
        "plt.grid(True, alpha=0.3)\n",
        "plt.legend()\n",
        "plt.show()\n"
      ]
    },
    {
      "cell_type": "markdown",
      "id": "l57tun0nUI9i",
      "metadata": {
        "id": "l57tun0nUI9i"
      },
      "source": [
        "Interpretação do gráfico\n",
        "\n",
        "- F(0) ≈ 0.34  \n",
        "  Cerca de 34% dos alunos foram reprovados (resultado 0).\n",
        "\n",
        "- F(1) = 1.00  \n",
        "  Todos os alunos estão entre 0 e 1, ou seja, 100% têm resultado menor ou igual a 1.\n",
        "\n",
        "A curva tem dois degraus:\n",
        "\n",
        "- Antes de x = 0, F(x) = 0;\n",
        "- No ponto x = 0, a CDF salta para a probabilidade de reprovação (P(X = 0));  \n",
        "- No ponto x = 1, a CDF atinge 1, acumulando toda a probabilidade."
      ]
    },
    {
      "cell_type": "code",
      "execution_count": null,
      "id": "J3qxJpBdLsyk",
      "metadata": {
        "id": "J3qxJpBdLsyk"
      },
      "outputs": [],
      "source": [
        "# CDF da Binomial\n",
        "x_vals = np.arange(0, n_alunos + 1)\n",
        "cdf_vals = st.binom.cdf(x_vals, n=n_alunos, p=p)\n",
        "\n",
        "plt.figure(figsize=(6, 4))\n",
        "plt.step(x_vals, cdf_vals, where='post', color='orange', label='CDF')\n",
        "plt.title('CDF — Distribuição Binomial')\n",
        "plt.xlabel('Número de alunos aprovados')\n",
        "plt.ylabel('F(x)')\n",
        "plt.grid(True, alpha=0.3)\n",
        "plt.legend()\n",
        "plt.show()\n"
      ]
    },
    {
      "cell_type": "markdown",
      "id": "AU4J_aInUMOV",
      "metadata": {
        "id": "AU4J_aInUMOV"
      },
      "source": [
        "Interpretação do gráfico\n",
        "\n",
        "Cada degrau da curva representa a chance acumulada de até k alunos serem aprovados:\n",
        "\n",
        "- F(4) ≈ 0.08  \n",
        "  Apenas 8% das turmas têm até 4 alunos aprovados.\n",
        "\n",
        "- F(6) ≈ 0.45  \n",
        "  Cerca de 45% das turmas têm no máximo 6 aprovações.\n",
        "\n",
        "- F(8) ≈ 0.88  \n",
        "  Aproximadamente 88% das turmas têm até 8 alunos aprovados.\n",
        "\n",
        "- F(10) = 1.00  \n",
        "  Toda a distribuição está contida até o valor máximo possível de 10 alunos aprovados.\n",
        "\n",
        "A curva é composta por degraus que crescem gradualmente, refletindo a soma das probabilidades P(X = k) para cada valor de k.\n"
      ]
    },
    {
      "cell_type": "code",
      "execution_count": null,
      "id": "6nA5i3VtLvmG",
      "metadata": {
        "id": "6nA5i3VtLvmG"
      },
      "outputs": [],
      "source": [
        "# CDF da Poisson\n",
        "x_vals = np.arange(0, sim_poisson.max() + 1)\n",
        "cdf_vals = st.poisson.cdf(x_vals, mu=λ)\n",
        "\n",
        "plt.figure(figsize=(6, 4))\n",
        "plt.step(x_vals, cdf_vals, where='post', color='orange', label='CDF')\n",
        "plt.title('CDF — Distribuição de Poisson')\n",
        "plt.xlabel('Alunos com nota 10')\n",
        "plt.ylabel('F(x)')\n",
        "plt.grid(True, alpha=0.3)\n",
        "plt.legend()\n",
        "plt.show()\n"
      ]
    },
    {
      "cell_type": "markdown",
      "id": "dzi1b6ZZQhca",
      "metadata": {
        "id": "dzi1b6ZZQhca"
      },
      "source": [
        "Interpretação do gráfico\n",
        "\n",
        "Cada ponto da curva indica a probabilidade acumulada de que uma turma tenha até certo número de alunos com nota 10:\n",
        "\n",
        "- F(0) ≈ 0,60  \n",
        "  Cerca de 60% das turmas não têm nenhum aluno com nota 10.\n",
        "\n",
        "- F(1) ≈ 0,91  \n",
        "  Aproximadamente 91% das turmas têm no máximo 1 aluno com nota 10.<br>\n",
        ".  \n",
        ".  \n",
        ".  \n",
        "- F(4) = 1,00  \n",
        "  100% das turmas têm até 4 alunos com nota 10.\n",
        "\n",
        "Conclusão:\n",
        "\n",
        "Notas 10 são raras. A grande maioria das turmas tem entre 0 e 2 alunos com nota máxima. Eventos com 3 ou mais são pouco prováveis."
      ]
    },
    {
      "cell_type": "code",
      "execution_count": null,
      "id": "Ql477ESLLzAE",
      "metadata": {
        "id": "Ql477ESLLzAE"
      },
      "outputs": [],
      "source": [
        "# CDF da Normal\n",
        "x = np.linspace(1.75, 2.25, 200)\n",
        "media = df_nba['altura_m'].mean()\n",
        "desvio = df_nba['altura_m'].std()\n",
        "cdf_vals = st.norm.cdf(x, loc=media, scale=desvio)\n",
        "\n",
        "plt.figure(figsize=(6, 4))\n",
        "plt.plot(x, cdf_vals, color='orange', label='CDF')\n",
        "plt.title('CDF — Distribuição Normal')\n",
        "plt.xlabel('Altura (m)')\n",
        "plt.ylabel('F(x)')\n",
        "plt.grid(True, alpha=0.3)\n",
        "plt.legend()\n",
        "plt.show()\n"
      ]
    },
    {
      "cell_type": "markdown",
      "id": "IV6l1lxHRUxx",
      "metadata": {
        "id": "IV6l1lxHRUxx"
      },
      "source": [
        "Interpretação do gráfico\n",
        "\n",
        "Cada ponto da curva representa a probabilidade acumulada de um jogador ter altura menor ou igual a determinado valor:\n",
        "\n",
        "- F(1,85 m) ≈ 0,10  \n",
        "  Apenas 10% dos jogadores têm até 1,85m de altura.\n",
        "\n",
        "- F(2,00 m) ≈ 0,50  \n",
        "  50% dos jogadores têm até 2,00m de altura.  \n",
        "  \n",
        "- F(2,15 m) ≈ 0,90  \n",
        "  90% dos jogadores têm altura até 2,15m.\n",
        "\n",
        "Conclusão:\n",
        "\n",
        "A curva mostra o padrão esperado de uma distribuição normal:  \n",
        "- Crescimento lento nas extremidades (valores raros);  \n",
        "- Crescimento rápido próximo da média (valores mais comuns);  \n",
        "- A CDF tende para 1 à medida que a altura aumenta."
      ]
    },
    {
      "cell_type": "code",
      "execution_count": null,
      "id": "CBstf4aWL1LS",
      "metadata": {
        "id": "CBstf4aWL1LS"
      },
      "outputs": [],
      "source": [
        "# CDF da Exponencial\n",
        "x = np.linspace(0, 10, 200)\n",
        "λ = 1 / 2.0  # média = 2 minutos\n",
        "cdf_vals = st.expon.cdf(x, loc=0, scale=1/λ)\n",
        "\n",
        "plt.figure(figsize=(6, 4))\n",
        "plt.plot(x, cdf_vals, color='orange', label='CDF')\n",
        "plt.title('CDF — Distribuição Exponencial')\n",
        "plt.xlabel('Tempo de espera (min)')\n",
        "plt.ylabel('F(x)')\n",
        "plt.grid(True, alpha=0.3)\n",
        "plt.legend()\n",
        "plt.show()\n"
      ]
    },
    {
      "cell_type": "markdown",
      "id": "CGgchMUFTb8K",
      "metadata": {
        "id": "CGgchMUFTb8K"
      },
      "source": [
        "Interpretação do gráfico\n",
        "\n",
        "Cada ponto da curva mostra a probabilidade acumulada de um cliente chegar em até certo tempo:\n",
        "\n",
        "- F(1 min) ≈ 0,40  \n",
        "  Cerca de 40% dos clientes chegam até o primeiro minuto.\n",
        "\n",
        "- F(3 min) ≈ 0,78  \n",
        "  Aproximadamente 78% chegam até os 3 minutos de espera.\n",
        "\n",
        "- F(5 min) ≈ 0,92  \n",
        "  Há 92% de chance de o cliente ter chegado até o 5º minuto.\n",
        "\n",
        "- F(10 min) ≈ 1,00  \n",
        "  Praticamente todos os clientes já chegaram até o décimo minuto.\n",
        "\n",
        "Curva típica da exponencial:\n",
        "- Cresce rápido no início (maior parte dos eventos acontece cedo);\n",
        "- Vai se achatando depois (eventos tardios são mais raros)."
      ]
    },
    {
      "cell_type": "code",
      "execution_count": null,
      "id": "eKU98l-RL30p",
      "metadata": {
        "id": "eKU98l-RL30p"
      },
      "outputs": [],
      "source": [
        "# CDF da Uniforme\n",
        "a, b = 8.0, 10.0\n",
        "x = np.linspace(a - 0.5, b + 0.5, 200)\n",
        "cdf_vals = st.uniform.cdf(x, loc=a, scale=(b - a))\n",
        "\n",
        "plt.figure(figsize=(6, 4))\n",
        "plt.plot(x, cdf_vals, color='orange', label='CDF')\n",
        "plt.title('CDF — Distribuição Uniforme')\n",
        "plt.xlabel('Hora do dia')\n",
        "plt.ylabel('F(x)')\n",
        "plt.grid(True, alpha=0.3)\n",
        "plt.legend()\n",
        "plt.show()\n"
      ]
    },
    {
      "cell_type": "markdown",
      "id": "kEG0OrvkTclw",
      "metadata": {
        "id": "kEG0OrvkTclw"
      },
      "source": [
        "Interpretação do gráfico\n",
        "\n",
        "A leitura da curva é direta e proporcional:\n",
        "\n",
        "- F(8.0) = 0  \n",
        "  Ninguém chegou antes das 8h.\n",
        "\n",
        "- F(8.5) = 0.25  \n",
        "  25% dos clientes chegam até 8h30.\n",
        "\n",
        "- F(9.0) = 0.50  \n",
        "  Metade dos clientes chega até 9h.\n",
        "\n",
        "- F(9.5) = 0.75  \n",
        "  75% dos clientes chegam até 9h30.\n",
        "\n",
        "- F(10.0) = 1.00  \n",
        "  Todos os clientes já chegaram até as 10h.\n",
        "\n",
        "A inclinação constante indica que a chance de chegada é a mesma ao longo de todo o intervalo [8, 10]."
      ]
    },
    {
      "cell_type": "markdown",
      "id": "95004635",
      "metadata": {
        "id": "95004635"
      },
      "source": [
        "## Conclusões\n",
        "\n",
        "- Distribuições de Frequência mostram o que foi observado nos dados reais.\n",
        "\n",
        "- Distribuições de Probabilidade descrevem o que esperamos observar.\n",
        "\n",
        "  - A Função de Massa de Probabilidade (PMF) é usada para variáveis discretas;\n",
        "  - A Função de Densidade de Probabilidade (PDF) para varíaveis contínuas;  \n",
        "  - A Função de Distribuição Acumulada (CDF) mostra a acumulação da probabilidade.  \n",
        "\n",
        "Esses conceitos serão a base para testes de hipóteses e inferência estatística.\n"
      ]
    },
    {
      "cell_type": "markdown",
      "id": "c9433c14",
      "metadata": {},
      "source": [
        "## Exercícios"
      ]
    },
    {
      "cell_type": "markdown",
      "id": "b85b081b",
      "metadata": {},
      "source": [
        "### Exercício 1 — Presença em aula\n",
        "\n",
        "Um professor registrou a presença de um aluno em 30 aulas.  \n",
        "O resultado foi 1 para presença e 0 para ausência."
      ]
    },
    {
      "cell_type": "code",
      "execution_count": null,
      "id": "0092b3a8",
      "metadata": {},
      "outputs": [],
      "source": [
        "import numpy as np\n",
        "presencas = np.random.choice([0, 1], size=30, p=[0.2, 0.8])\n",
        "presencas"
      ]
    },
    {
      "cell_type": "markdown",
      "id": "2fcaa5dd",
      "metadata": {},
      "source": [
        "Perguntas:\n",
        "1. A variável é discreta ou contínua?  \n",
        "2. Qual distribuição melhor descreve o fenômeno?  \n",
        "3. Calcule e interprete:\n",
        "   - Probabilidade de presença (p)\n",
        "   - PMF e CDF da distribuição  \n",
        "4. Plote a distribuição e comente o formato.\n"
      ]
    },
    {
      "cell_type": "code",
      "execution_count": null,
      "id": "e8f7d0db",
      "metadata": {},
      "outputs": [],
      "source": [
        "# Responda aqui (programaticamente)"
      ]
    },
    {
      "cell_type": "markdown",
      "id": "1c516adf",
      "metadata": {},
      "source": [
        "### Exercício 2 — Número de peças defeituosas"
      ]
    },
    {
      "cell_type": "code",
      "execution_count": null,
      "id": "9c2ed9d1",
      "metadata": {},
      "outputs": [],
      "source": [
        "defeitos = np.random.poisson(lam=2, size=50)\n",
        "defeitos"
      ]
    },
    {
      "cell_type": "markdown",
      "id": "33cf1bc5",
      "metadata": {},
      "source": [
        "Perguntas:\n",
        "1. A variável é discreta ou contínua?  \n",
        "2. Essa situação é compatível com qual distribuição? Justifique.  \n",
        "3. Estime o parâmetro λ (lambda).  \n",
        "4. Calcule e plote:\n",
        "   - PMF da Poisson;\n",
        "   - CDF acumulada até 5 defeitos.\n",
        "5. Interprete a probabilidade de observar até 3 defeitos em uma hora."
      ]
    },
    {
      "cell_type": "code",
      "execution_count": null,
      "id": "568d4b97",
      "metadata": {},
      "outputs": [],
      "source": [
        "# Responda aqui (programaticamente)"
      ]
    },
    {
      "cell_type": "markdown",
      "id": "0ac81055",
      "metadata": {},
      "source": [
        "### Exercício 3 — Alturas de jogadores"
      ]
    },
    {
      "cell_type": "code",
      "execution_count": null,
      "id": "ee5123b2",
      "metadata": {},
      "outputs": [],
      "source": [
        "alturas = np.random.normal(loc=1.98, scale=0.08, size=300)\n",
        "alturas"
      ]
    },
    {
      "cell_type": "markdown",
      "id": "cbd1ee02",
      "metadata": {},
      "source": [
        "Perguntas:\n",
        "1. O tipo de variável é discreto ou contínuo?  \n",
        "2. Que distribuição melhor descreve este conjunto? Por quê?  \n",
        "3. Estime a média (μ) e o desvio padrão (σ).  \n",
        "4. Plote o histograma (PDF empírica) e sobreponha a PDF teórica.  \n",
        "5. Use a CDF para responder:\n",
        "   - Qual a probabilidade de um jogador ter menos de 1,90m?\n",
        "   - E entre 1,90m e 2,05m?\n"
      ]
    },
    {
      "cell_type": "code",
      "execution_count": null,
      "id": "56c52969",
      "metadata": {},
      "outputs": [],
      "source": [
        "# Responda aqui (programaticamente)"
      ]
    },
    {
      "cell_type": "markdown",
      "id": "b05ac4f5",
      "metadata": {},
      "source": [
        "### Exercício 4 — Tempo até atendimento"
      ]
    },
    {
      "cell_type": "code",
      "execution_count": null,
      "id": "22d1e76a",
      "metadata": {},
      "outputs": [],
      "source": [
        "tempos = np.random.exponential(scale=3, size=200)\n",
        "tempos"
      ]
    },
    {
      "cell_type": "markdown",
      "id": "fa23cf95",
      "metadata": {},
      "source": [
        "Perguntas:\n",
        "1. A variável é discreta ou contínua?  \n",
        "2. Identifique qual distribuição se aplica.  \n",
        "3. Estime o parâmetro λ.  \n",
        "4. Plote a PDF e CDF.  \n",
        "5. Calcule:\n",
        "   - Probabilidade de o atendimento durar menos que 2 minutos;\n",
        "   - Probabilidade de durar entre 2 e 5 minutos.\n"
      ]
    },
    {
      "cell_type": "code",
      "execution_count": null,
      "id": "06c03266",
      "metadata": {},
      "outputs": [],
      "source": [
        "# Responda aqui (programaticamente)"
      ]
    },
    {
      "cell_type": "markdown",
      "id": "4ccb70c3",
      "metadata": {},
      "source": [
        "### Exercício 5 — Horário de chegada ao estacionamento"
      ]
    },
    {
      "cell_type": "code",
      "execution_count": null,
      "id": "e0c374cb",
      "metadata": {},
      "outputs": [],
      "source": [
        "chegadas = np.random.uniform(low=7.0, high=9.0, size=100)\n",
        "chegadas"
      ]
    },
    {
      "cell_type": "markdown",
      "id": "fd2ef1f0",
      "metadata": {},
      "source": [
        "Perguntas:\n",
        "1. Que tipo de variável é essa?  \n",
        "2. Qual distribuição é mais adequada?  \n",
        "3. Plote o histograma (PDF empírica) e a PDF teórica.  \n",
        "4. Calcule:\n",
        "   - Probabilidade de um carro chegar até 8h;\n",
        "   - Probabilidade entre 7h30 e 8h30.\n"
      ]
    },
    {
      "cell_type": "code",
      "execution_count": null,
      "id": "a7143a28",
      "metadata": {},
      "outputs": [],
      "source": [
        "# Responda aqui (programaticamente)"
      ]
    },
    {
      "cell_type": "markdown",
      "id": "e7729d3a",
      "metadata": {},
      "source": [
        "### Exercício 6 — Aprovados em turmas"
      ]
    },
    {
      "cell_type": "code",
      "execution_count": null,
      "id": "ef45c716",
      "metadata": {},
      "outputs": [],
      "source": [
        "aprovados = np.random.binomial(n=10, p=0.7, size=100)\n",
        "aprovados"
      ]
    },
    {
      "cell_type": "markdown",
      "id": "dbb47d08",
      "metadata": {},
      "source": [
        "Perguntas:\n",
        "1. Que tipo de variável é essa?  \n",
        "2. Qual distribuição descreve melhor o cenário?  \n",
        "3. Plote a PMF e a CDF.  \n",
        "4. Qual a probabilidade de exatamente 8 alunos serem aprovados?  \n",
        "5. E de no máximo 6 alunos serem aprovados?"
      ]
    },
    {
      "cell_type": "code",
      "execution_count": null,
      "id": "98c5be45",
      "metadata": {},
      "outputs": [],
      "source": [
        "# Responda aqui (programaticamente)"
      ]
    },
    {
      "cell_type": "markdown",
      "id": "80711932",
      "metadata": {},
      "source": [
        "### Exercício 7 — Atrasos em voos\n",
        "\n",
        "Você recebeu um dataset de dados do Bureau of Transportation Statistics (BTS) sobre desempenho de companhias aéreas nos EUA (mês de julho de 2025). Fonte: https://www.transtats.bts.gov/OT_Delay/\n",
        "\n",
        "O objetivo é analisar o comportamento dos atrasos e propor qual das distribuições estudadas (Bernoulli, Binomial, Poisson, Normal, Exponencial, Uniforme) melhor representa cada variável observada.\n",
        "\n",
        "Cada linha representa voos de uma companhia aérea para um determinado aeroporto, e as colunas descrevem métricas de desempenho relacionadas a atrasos, cancelamentos e causas dos atrasos. A tabela a seguir apresenta a descrição de cada coluna de dados no dataset.\n",
        "\n",
        "| Coluna | Descrição |\n",
        "|-------------|------------------------------|\n",
        "| `year` | Formato de ano (YYYY). |\n",
        "| `month` | Formato de mês (1–12). |\n",
        "| `carrier` | Código de identificação da companhia aérea. |\n",
        "| `carrier_name` | Nome da companhia aérea. |\n",
        "| `airport` | Código alfanumérico do aeroporto. |\n",
        "| `airport_name` | Nome completo e localização do aeroporto. |\n",
        "| `arr_flights` | Total de voos de chegada. |\n",
        "| `arr_del15` | Indicador de atraso na chegada (≥15 minutos). |\n",
        "| `carrier_ct` | Contagem de atrasos por companhia aérea. |\n",
        "| `weather_ct` | Contagem de atrasos por condições meteorológicas. |\n",
        "| `nas_ct` | Contagem de atrasos pelo Sistema Nacional de Aviação (NAS). |\n",
        "| `security_ct` | Contagem de atrasos por incidentes de segurança. |\n",
        "| `late_aircraft_ct` | Contagem de atrasos por aeronave anterior atrasada. |\n",
        "| `arr_cancelled` | Número de voos cancelados. |\n",
        "| `arr_diverted` | Número de voos desviados. |\n",
        "| `arr_delay` | Atraso de chegada (minutos) (valores negativos indicam chegada antecipada). |\n",
        "| `carrier_delay` | Tempo total de atraso por companhia aérea (minutos). |\n",
        "| `weather_delay` | Tempo total de atraso por condições meteorológicas (minutos). |\n",
        "| `nas_delay` | Tempo total de atraso pelo Sistema Nacional de Aviação (minutos). |\n",
        "| `security_delay` | Tempo total de atraso por incidentes de segurança (minutos). |\n",
        "| `late_aircraft_delay` | Tempo total de atraso por aeronave anterior atrasada (minutos). |\n",
        "\n",
        "<br>\n",
        "\n",
        "Lembrete:\n",
        "- Bernoulli: evento com dois resultados possíveis (atrasado ou não).\n",
        "- Binomial: número de sucessos (atrasos) em um conjunto de voos.\n",
        "- Poisson: contagem de eventos em um intervalo fixo.\n",
        "- Normal: valores concentrados ao redor de uma média.\n",
        "- Exponencial: muitos valores pequenos e poucos grandes.\n",
        "- Uniforme: todos os valores igualmente prováveis.\n",
        "\n",
        "<br>\n",
        "O exercício é dividido em três partes:\n",
        "\n",
        "#### Parte 1 — Modelagem dos atrasos totais (`arr_delay`)\n",
        "\n",
        "**Como se distribuem os totais de atraso entre os diferentes aeroportos?**\n",
        "\n",
        "Esses valores representam o total de minutos de atraso de todos os voos que chegaram a cada aeroporto.\n",
        "\n",
        "Tarefas:\n",
        "- Visualize a distribuição (histograma);\n",
        "- Observe se há assimetria;\n",
        "- Determine se é discreta ou contínua;\n",
        "- Escolha entre Normal, Exponencial ou Uniforme qual distribuição melhor representa os atrasos totais.\n",
        "\n",
        "Perguntas: (ao responder as perguntas, justifique indicando qual distribuição tem esse comportamento)\n",
        "- A maioria dos atrasos é pequena, e poucos são muito grandes?\n",
        "- Os atrasos se concentram em torno de uma média (sem assimetria)?\n",
        "- Todos os valores parecem igualmente prováveis?\n",
        "\n",
        "<br>\n",
        "\n",
        "#### Parte 2 — Número de voos atrasados (`arr_del15`)\n",
        "\n",
        "**Qual distribuição melhor descreve o número de voos atrasados?**\n",
        "\n",
        "Cada linha contém a contagem de voos atrasados (≥15 min) por aeroporto.\n",
        "\n",
        "Tarefas:\n",
        "- Visualize um histograma da variável `arr_del15`.\n",
        "- Verifique se os dados são contagens (inteiros positivos).\n",
        "\n",
        "Perguntas: (ao responder as perguntas, justifique indicando qual distribuição tem esse comportamento)\n",
        "- Essa variável representa o número de eventos ocorrendo em um intervalo fixo (ex: dia ou aeroporto)?\n",
        "- Se você considerar o total de voos (`arr_flights`) como o número de tentativas, e `arr_del15` como o número de sucessos (atrasos), isso se aproxima de qual distribuição?\n",
        "\n",
        "<br>\n",
        "\n",
        "#### Parte 3 — Proporção de voos atrasados (`arr_del15 / arr_flights`)\n",
        "\n",
        "**Como se distribui a proporção de voos atrasados entre os aeroportos?**\n",
        "\n",
        "Tarefas:\n",
        "- Calcule `delay_ratio = arr_del15 / arr_flights`;\n",
        "- Visualize a distribuição (histograma);\n",
        "- Compare visualmente com o comportamento esperado de uma Uniforme (todos igualmente prováveis) ou Normal (valores concentrados).\n",
        "\n",
        "Perguntas: (ao responder as perguntas, justifique indicando qual distribuição tem esse comportamento)\n",
        "- Há concentração de valores médios (ex: 0.2–0.3)?\n",
        "- Os valores parecem distribuídos de forma aleatória entre 0 e 1?"
      ]
    },
    {
      "cell_type": "code",
      "execution_count": null,
      "id": "4150b225",
      "metadata": {},
      "outputs": [],
      "source": [
        "# Responda aqui (programaticamente)"
      ]
    }
  ],
  "metadata": {
    "colab": {
      "provenance": []
    },
    "kernelspec": {
      "display_name": "Python 3",
      "name": "python3"
    },
    "language_info": {
      "name": "python"
    }
  },
  "nbformat": 4,
  "nbformat_minor": 5
}
