{
 "cells": [
  {
   "cell_type": "markdown",
   "id": "a146caa8",
   "metadata": {},
   "source": [
    "# **CIÊNCIA DE DADOS** - DCA3501\n",
    "\n",
    "UNIVERSIDADE FEDERAL DO RIO GRANDE DO NORTE, NATAL/RN\n",
    "\n",
    "DEPARTAMENTO DE ENGENHARIA DE COMPUTAÇÃO E AUTOMAÇÃO\n",
    "\n",
    "(C) 2025-2026 CARLOS M D VIEGAS\n",
    "\n",
    "https://github.com/cmdviegas"
   ]
  },
  {
   "cell_type": "markdown",
   "metadata": {},
   "source": [
    "# Estatística Descritiva\n",
    "\n",
    "Este notebook apresenta os principais comandos do `pandas` para calcular medidas de tendência central, dispersão e posição, bem como relações entre variáveis."
   ]
  },
  {
   "cell_type": "markdown",
   "id": "7cc6019a",
   "metadata": {},
   "source": [
    "### Tabela: Comandos do `pandas` para Estatística Descritiva\n",
    "\n",
    "| Categoria              | Medida              | Comando                                                        |\n",
    "|------------------------|---------------------|-----------------------------------------------------------------------|\n",
    "| **Tendência Central**  | Média               | `df['coluna'].mean()`                                                |\n",
    "|                        | Mediana             | `df['coluna'].median()`                                              |\n",
    "|                        | Moda                | `df['coluna'].mode()`                                                |\n",
    "|                        | Média Ponderada     | `np.average(df['coluna'], weights=pesos)`                            |\n",
    "| **Dispersão**          | Variância           | `df['coluna'].var()`                                                 |\n",
    "|                        | Desvio Padrão       | `df['coluna'].std()`                                                 |\n",
    "|                        | Amplitude           | `df['coluna'].max() - df['coluna'].min()`                            |\n",
    "|                        | Coef. de Variação   | `(df['coluna'].std() / df['coluna'].mean()) * 100`                   |\n",
    "| **Posição**            | Quartil (genérico)  | `df['coluna'].quantile(q)`                                           |\n",
    "|                        | Q1, Q2, Q3          | `df['coluna'].quantile([0.25, 0.5, 0.75])`                            |\n",
    "|                        | Estatísticas resumo | `df['coluna'].describe()`                                            |\n",
    "|                        | Percentil           | `df['coluna'].quantile(x/100)`                                       |\n",
    "|                        | Z-score             | `(df['coluna'] - df['coluna'].mean()) / df['coluna'].std()`          |\n",
    "|                        | IQR (Q3-Q1)  | `df['coluna'].quantile(0.75) - df['coluna'].quantile(0.25)`          |\n",
    "| **Relação entre variáveis**            | Covariância | `df.cov()`                                           |\n",
    "|              | Correlação de Pearson (padrão)  | `df.corr()` ou `df.corr(method=pearson)`                                            |\n",
    "|                           | Correlação de Spearman   | `df.corr(method=spearman)`                                           |"
   ]
  },
  {
   "cell_type": "code",
   "execution_count": null,
   "id": "764a8282",
   "metadata": {},
   "outputs": [],
   "source": [
    "# Importação das bibliotecas\n",
    "import pandas as pd\n",
    "import numpy as np\n",
    "\n",
    "# Leitura do dataset\n",
    "df = pd.read_csv(\"https://dados.ufrn.br/dataset/d5723d75-7e6e-4264-82aa-b96909b69f63/resource/7accd1d2-2793-460e-b98d-87a0679b9155/download/avaliacaodocencia.csv\", sep=';')\n",
    "\n",
    "df"
   ]
  },
  {
   "cell_type": "code",
   "execution_count": null,
   "id": "d5e54b95",
   "metadata": {},
   "outputs": [],
   "source": [
    "dados = df.loc[df['nome_docente'] == 'NOME_DO_PROFESSOR', 'atuacao_profissional_media']\n",
    "\n",
    "dados"
   ]
  },
  {
   "cell_type": "markdown",
   "id": "c9b1befc",
   "metadata": {},
   "source": [
    "# Exercícios práticos"
   ]
  },
  {
   "cell_type": "markdown",
   "id": "130f2250",
   "metadata": {},
   "source": [
    "### Exercício 1 - Quais são as médias gerais das avaliações dos docentes?\n",
    "\n",
    "Calcular a **média, mediana e moda** das seguintes variáveis:\n",
    "\n",
    "- `postura_profissional_media`\n",
    "\n",
    "- `atuacao_profissional_media`\n",
    "\n",
    "- `autoavaliacao_aluno_media`\n",
    "\n",
    "Interpretar: os docentes tendem a ser bem avaliados? As notas se concentram próximas do topo?"
   ]
  },
  {
   "cell_type": "markdown",
   "id": "32f15c34",
   "metadata": {},
   "source": [
    "### Exercício 2 - As avaliações são consistentes ou variam muito?\n",
    "\n",
    "Calcular:\n",
    "\n",
    "- `Desvio padrão`\n",
    "\n",
    "- `Amplitude` \n",
    "\n",
    "- `Coeficiente de variação`\n",
    "\n",
    "Analisar:\n",
    "\n",
    "- Em qual dimensão há maior variação entre turmas?\n",
    "\n",
    "- O que isso pode indicar sobre o critério de avaliação dos alunos?"
   ]
  },
  {
   "cell_type": "markdown",
   "id": "d1264177",
   "metadata": {},
   "source": [
    "### Exercício 3 - Como estão distribuídas as avaliações dos docentes?\n",
    "\n",
    "Calcular:\n",
    "\n",
    "- Quartis (Q1, Q2, Q3)\n",
    "\n",
    "- Percentis (10, 25, 75, 90)\n",
    "\n",
    "- Mediana\n",
    "\n",
    "Perguntas:\n",
    "\n",
    "- Qual é a nota mínima entre os 25% mais mal avaliados?\n",
    "\n",
    "- As notas estão concentradas no topo? (ex: Q3 próximo de 10)\n",
    "\n",
    "- Existe assimetria? A mediana está próxima da média?"
   ]
  },
  {
   "cell_type": "markdown",
   "id": "16ab5fc5",
   "metadata": {},
   "source": [
    "### Exercício 4 - Qual é a nota mais comum dada pelos alunos para cada dimensão?\n",
    "\n",
    "Calcular:\n",
    "\n",
    "- Moda"
   ]
  },
  {
   "cell_type": "markdown",
   "id": "d0150383",
   "metadata": {},
   "source": [
    "### Exercício 5 - Quais docentes tiveram avaliações muito acima ou abaixo da média geral?\n",
    "\n",
    "Calcular:\n",
    "\n",
    "- Z-score para a média de postura profissional"
   ]
  },
  {
   "cell_type": "markdown",
   "id": "28398510",
   "metadata": {},
   "source": [
    "### Exercício 6 - As avaliações de postura profissional, atuação profissional e autoavaliação dos alunos se movem juntas?\n",
    "\n",
    "Calcular correlação de Pearson e Spearman entre:\n",
    "\n",
    "- `postura_profissional_media`\n",
    "\n",
    "- `atuacao_profissional_media`\n",
    "\n",
    "- `autoavaliacao_aluno_media`\n",
    "\n",
    "O que essas correlações indicam? As três dimensões de avaliação dos docentes — postura profissional, atuação profissional e autoavaliação pelos alunos — tendem a crescer ou diminuir juntas?"
   ]
  },
  {
   "cell_type": "markdown",
   "id": "4e6fdd4e",
   "metadata": {},
   "source": [
    "### Exercício 7 - O número de alunos avaliando influencia a dispersão (DP) das notas?\n",
    "\n",
    "Verificar a correlação entre:\n",
    "\n",
    "`qtd_discentes` e `postura_profissional_DP`\n",
    "\n",
    "`qtd_discentes` e `atuacao_profissional_DP`\n",
    "\n",
    "`qtd_discentes` e `autoavaliacao_aluno_DP`\n",
    "\n",
    "Há evidências de que turmas maiores produzem avaliações mais estáveis (menor DP)?"
   ]
  },
  {
   "cell_type": "markdown",
   "id": "4fb45656",
   "metadata": {},
   "source": [
    "### Exercício 8 - Como essas variáveis se comportam ao longo dos anos?\n",
    "\n",
    "Agrupar por ano e calcular correlação média das dimensões de avaliação para observar tendências.\n",
    "\n",
    "Há mudanças no comportamento dos alunos ou na percepção sobre os docentes ao longo dos anos?\n",
    "\n",
    "Escolha dois docentes, preferencialmente com maior quantidade de amostras, para poder analisar essa tendência."
   ]
  }
 ],
 "metadata": {
  "kernelspec": {
   "display_name": "Python 3",
   "language": "python",
   "name": "python3"
  },
  "language_info": {
   "name": "python",
   "version": "3.13.7"
  }
 },
 "nbformat": 4,
 "nbformat_minor": 5
}
