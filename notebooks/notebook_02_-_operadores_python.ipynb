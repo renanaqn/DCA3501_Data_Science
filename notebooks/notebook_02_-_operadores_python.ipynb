{
 "cells": [
  {
   "cell_type": "markdown",
   "id": "a4d03fb0",
   "metadata": {},
   "source": [
    "# **CIÊNCIA DE DADOS** - DCA3501\n",
    "\n",
    "UNIVERSIDADE FEDERAL DO RIO GRANDE DO NORTE, NATAL/RN\n",
    "\n",
    "DEPARTAMENTO DE ENGENHARIA DE COMPUTAÇÃO E AUTOMAÇÃO\n",
    "\n",
    "(C) 2025-2026 CARLOS M D VIEGAS\n",
    "\n",
    "https://github.com/cmdviegas"
   ]
  },
  {
   "cell_type": "markdown",
   "id": "2e0a3f1c",
   "metadata": {},
   "source": [
    "# II. Operadores Básicos, Laços e Estruturas de Dados em Python\n",
    "\n",
    "Este notebook aborda laços, condicionais, operadores lógicos, dicionários, e construção de tabelas de frequência.\n",
    "> **Como usar:** Execute célula por célula (Shift+Enter). Se algo falhar, releia a explicação e ajuste o código."
   ]
  },
  {
   "cell_type": "markdown",
   "id": "157b0f7b",
   "metadata": {},
   "source": [
    "\n",
    "## Sumário\n",
    "1. [Laços `for`](#for)\n",
    "2. [Condicionais: `if`/`elif`/`else`](#cond)\n",
    "3. [Múltiplas condições (`and`, `or`, `not`)](#multi)\n",
    "4. [Dicionários (`dict`)](#dict)\n",
    "5. [Tabelas de frequência com dicionários](#freq)\n",
    "6. [Trazendo tudo junto: mini-projeto](#mini)\n",
    "7. [Dicas e Boas Práticas](#dicas)\n"
   ]
  },
  {
   "cell_type": "markdown",
   "id": "d515c7d5",
   "metadata": {},
   "source": [
    "\n",
    "## 1. Laços `for` <a id=\"for\"></a>\n",
    "\n",
    "Laços `for` percorrem **sequências** (listas, strings, ranges) e executam um bloco de código para cada item. A **indentação** define o corpo do laço.\n"
   ]
  },
  {
   "cell_type": "code",
   "execution_count": 1,
   "id": "797341fa",
   "metadata": {},
   "outputs": [
    {
     "name": "stdout",
     "output_type": "stream",
     "text": [
      "Olá, Ana\n",
      "Olá, Bruno\n",
      "Olá, Carla\n"
     ]
    }
   ],
   "source": [
    "# Exemplo básico\n",
    "nomes = [\"Ana\", \"Bruno\", \"Carla\"]\n",
    "for n in nomes:\n",
    "    print(\"Olá,\", n)"
   ]
  },
  {
   "cell_type": "code",
   "execution_count": 2,
   "id": "632c24e0",
   "metadata": {},
   "outputs": [
    {
     "name": "stdout",
     "output_type": "stream",
     "text": [
      "d\n",
      "a\n",
      "d\n",
      "o\n",
      "s\n"
     ]
    }
   ],
   "source": [
    "# Iterando sobre string\n",
    "palavra = \"dados\"\n",
    "for ch in palavra:\n",
    "    print(ch)"
   ]
  },
  {
   "cell_type": "code",
   "execution_count": 1,
   "id": "bb03c196",
   "metadata": {},
   "outputs": [
    {
     "name": "stdout",
     "output_type": "stream",
     "text": [
      "índice=0, valor=10\n",
      "índice=1, valor=5\n",
      "índice=2, valor=7\n",
      "índice=3, valor=3\n",
      "soma = 25\n"
     ]
    }
   ],
   "source": [
    "# Usando range e enumerate\n",
    "total = 0\n",
    "valores = [10, 5, 7, 3]\n",
    "for i, v in enumerate(valores):\n",
    "    print(f\"índice={i}, valor={v}\")\n",
    "    total += v\n",
    "print(\"soma =\", total)"
   ]
  },
  {
   "cell_type": "markdown",
   "id": "3b319979",
   "metadata": {},
   "source": [
    "\n",
    "**Boas práticas:**\n",
    "- Use nomes de variáveis descritivos.\n",
    "- Prefira `enumerate()` quando precisar do índice **e** do valor.\n",
    "- Evite loops desnecessariamente aninhados (quando possível, use compreensões ou funções).\n"
   ]
  },
  {
   "cell_type": "markdown",
   "id": "d003fa5c",
   "metadata": {},
   "source": [
    "\n",
    "**Exercícios — Laços `for`**  \n",
    "1. Dada a lista `idades = [12, 17, 18, 21, 15]`, imprima apenas as idades **maiores ou iguais** a 18.  \n",
    "2. Imprima os caracteres de `\"ciência\"` em linhas separadas, precedidos de seu índice (0-based).  \n",
    "3. Calcule a soma de `1` a `50` usando um `for`.\n"
   ]
  },
  {
   "cell_type": "code",
   "execution_count": 8,
   "id": "a60901ea",
   "metadata": {},
   "outputs": [
    {
     "name": "stdout",
     "output_type": "stream",
     "text": [
      "Maior idade\n",
      "18\n",
      "21\n",
      "Imprimir separado\n",
      "Indice: = 0, Caaractere = c\n",
      "Indice: = 1, Caaractere = i\n",
      "Indice: = 2, Caaractere = ê\n",
      "Indice: = 3, Caaractere = n\n",
      "Indice: = 4, Caaractere = c\n",
      "Indice: = 5, Caaractere = i\n",
      "Indice: = 6, Caaractere = a\n"
     ]
    }
   ],
   "source": [
    "# Espaço para respostas dos Exercícios propostos:\n",
    "\n",
    "#Parte 1\n",
    "print(\"Maior idade\")\n",
    "idades = [12, 17, 18, 21, 15]\n",
    "for i in idades:\n",
    "    if i >=18:\n",
    "        print(i)\n",
    "\n",
    "#Parte 2\n",
    "print(\"Imprimir separado\")\n",
    "palavra = \"ciência\"\n",
    "for i, ch in enumerate(palavra):\n",
    "    print(f\"Indice: = {i}, Caaractere = {ch}\")"
   ]
  },
  {
   "cell_type": "markdown",
   "id": "eddc801e",
   "metadata": {},
   "source": [
    "\n",
    "<details>\n",
    "<summary><strong>Gabarito sugerido</strong></summary>\n",
    "\n",
    "```python\n",
    "idades = [12, 17, 18, 21, 15]\n",
    "for x in idades:\n",
    "    if x >= 18:\n",
    "        print(x)\n",
    "\n",
    "s = \"ciência\"\n",
    "for i, ch in enumerate(s):\n",
    "    print(i, ch)\n",
    "\n",
    "soma = 0\n",
    "for n in range(1, 51):\n",
    "    soma += n\n",
    "print(soma)\n",
    "```\n",
    "</details>\n"
   ]
  },
  {
   "cell_type": "markdown",
   "id": "275de22d",
   "metadata": {},
   "source": [
    "\n",
    "## 2. Condicionais: `if` / `elif` / `else` <a id=\"cond\"></a>\n",
    "\n",
    "Condicionais permitem **tomada de decisão** em código. A expressão testada deve resultar em `True` ou `False`.\n"
   ]
  },
  {
   "cell_type": "code",
   "execution_count": null,
   "id": "050a68fd",
   "metadata": {},
   "outputs": [],
   "source": [
    "# Comparações e blocos condicionais\n",
    "nota = 8.3\n",
    "if nota >= 9:\n",
    "    conceito = \"A\"\n",
    "elif nota >= 7:\n",
    "    conceito = \"B\"\n",
    "elif nota >= 5:\n",
    "    conceito = \"C\"\n",
    "else:\n",
    "    conceito = \"D\"\n",
    "conceito"
   ]
  },
  {
   "cell_type": "code",
   "execution_count": null,
   "id": "500384eb",
   "metadata": {},
   "outputs": [],
   "source": [
    "# Cuidado com números de ponto flutuante\n",
    "x = 0.1 + 0.2  # pode não ser exatamente 0.3\n",
    "print(x, x == 0.3)\n",
    "\n",
    "# Em vez de igualdade exata, use tolerância quando fizer sentido:\n",
    "abs(x - 0.3) < 1e-9"
   ]
  },
  {
   "cell_type": "markdown",
   "id": "f24094a5",
   "metadata": {},
   "source": [
    "\n",
    "**Exercícios — Condicionais**  \n",
    "1. Dada `temp_c = 31`, imprima `\"Quente\"` se `>= 30`, `\"Agradável\"` se `>= 20`, caso contrário `\"Frio\"`.  \n",
    "2. Classifique uma variável `saldo` em `\"positivo\"`, `\"neutro\"` (== 0) ou `\"negativo\"`.\n"
   ]
  },
  {
   "cell_type": "code",
   "execution_count": 13,
   "id": "f695a065",
   "metadata": {},
   "outputs": [
    {
     "name": "stdout",
     "output_type": "stream",
     "text": [
      "Verificação de temp\n",
      "Quente\n",
      "Análise de Saldo\n",
      "Saldo negativo\n"
     ]
    }
   ],
   "source": [
    "# Espaço para respostas dos Exercícios propostos:\n",
    "#Parte 1\n",
    "print(\"Verificação de temp\")\n",
    "temp_c = 31\n",
    "if temp_c >= 30:\n",
    "    print(\"Quente\")\n",
    "elif temp_c >=20:\n",
    "    print(\"Agradável\")\n",
    "else: \n",
    "    print(\"Frio\")\n",
    "\n",
    "#Parte 2\n",
    "print(\"Análise de Saldo\")\n",
    "saldo = -30\n",
    "if saldo>0:\n",
    "    print(\"Saldo positivo\")\n",
    "elif saldo == 0:\n",
    "    print(\"Saldo neutro\")\n",
    "else: \n",
    "    print(\"Saldo negativo\")"
   ]
  },
  {
   "cell_type": "markdown",
   "id": "f94da7ef",
   "metadata": {},
   "source": [
    "\n",
    "<details>\n",
    "<summary><strong>Gabarito sugerido</strong></summary>\n",
    "\n",
    "```python\n",
    "temp_c = 31\n",
    "if temp_c >= 30:\n",
    "    print(\"Quente\")\n",
    "elif temp_c >= 20:\n",
    "    print(\"Agradável\")\n",
    "else:\n",
    "    print(\"Frio\")\n",
    "\n",
    "saldo = -12\n",
    "if saldo > 0:\n",
    "    print(\"positivo\")\n",
    "elif saldo == 0:\n",
    "    print(\"neutro\")\n",
    "else:\n",
    "    print(\"negativo\")\n",
    "```\n",
    "</details>\n"
   ]
  },
  {
   "cell_type": "markdown",
   "id": "8a4775ba",
   "metadata": {},
   "source": [
    "\n",
    "## 3. Múltiplas condições (`and`, `or`, `not`) <a id=\"multi\"></a>\n",
    "\n",
    "Combine expressões lógicas para cenários mais ricos.  \n",
    "- `and`: verdadeiro se **ambas** forem verdadeiras.  \n",
    "- `or`: verdadeiro se **ao menos uma** for verdadeira.  \n",
    "- `not`: **inverte** o valor lógico.\n"
   ]
  },
  {
   "cell_type": "code",
   "execution_count": null,
   "id": "dc57f300",
   "metadata": {},
   "outputs": [],
   "source": [
    "# Exemplo prático: categorizando preços\n",
    "precos = [0.0, 3.99, 19.9, 29.9, 55.0]\n",
    "categorias = []\n",
    "for p in precos:\n",
    "    if p == 0.0:\n",
    "        categorias.append(\"grátis\")\n",
    "    elif (p > 0.0 and p < 20):\n",
    "        categorias.append(\"acessível\")\n",
    "    elif (p >= 20 and p < 50):\n",
    "        categorias.append(\"caro\")\n",
    "    elif p >= 50:\n",
    "        categorias.append(\"muito caro\")\n",
    "categorias"
   ]
  },
  {
   "cell_type": "code",
   "execution_count": null,
   "id": "c2425fa3",
   "metadata": {},
   "outputs": [],
   "source": [
    "# Short-circuit e parentesização para clareza\n",
    "idade = 20\n",
    "tem_rg = True\n",
    "tem_cpf = False\n",
    "\n",
    "# Autorizado se for maior de idade E (tem RG ou tem CPF)\n",
    "autorizado = (idade >= 18) and (tem_rg or tem_cpf)\n",
    "autorizado"
   ]
  },
  {
   "cell_type": "markdown",
   "id": "844d87ae",
   "metadata": {},
   "source": [
    "\n",
    "**Exercícios — Múltiplas condições**  \n",
    "1. Dado `nota = 8.5` e `frequencia = 0.72` (72%), **aprovado** se `nota >= 7` **e** `frequencia >= 0.75`. Caso contrário, reprovado.  \n",
    "2. Crie uma lógica que devolva `\"prioridade\"` se `idade >= 60` **ou** `gestante == True`; do contrário `\"regular\"`.\n"
   ]
  },
  {
   "cell_type": "code",
   "execution_count": 14,
   "id": "e1a9ec44",
   "metadata": {},
   "outputs": [
    {
     "name": "stdout",
     "output_type": "stream",
     "text": [
      "Nota\n",
      "Reprovado\n",
      "Análise de Pioridade\n",
      "Prioridade\n"
     ]
    }
   ],
   "source": [
    "# Espaço para respostas dos Exercícios propostos:\n",
    "#Parte 1\n",
    "print(\"Nota\")\n",
    "nota = 8.5\n",
    "freq = 0.72\n",
    "\n",
    "if (nota >=7) and (freq >=0.75):\n",
    "    print(\"Aprovado\")\n",
    "else:\n",
    "    print(\"Reprovado\")\n",
    "\n",
    "#Parte 2\n",
    "print(\"Análise de Pioridade\")\n",
    "idade = 50\n",
    "gestante = True\n",
    "\n",
    "if (idade>=60) or (gestante==True):\n",
    "    print(\"Prioridade\")\n",
    "else:\n",
    "    print(\"Regular\")"
   ]
  },
  {
   "cell_type": "markdown",
   "id": "16762459",
   "metadata": {},
   "source": [
    "\n",
    "<details>\n",
    "<summary><strong>Gabarito sugerido</strong></summary>\n",
    "\n",
    "```python\n",
    "nota = 8.5\n",
    "frequencia = 0.72\n",
    "print(\"aprovado\" if (nota >= 7 and frequencia >= 0.75) else \"reprovado\")\n",
    "\n",
    "idade = 55\n",
    "gestante = False\n",
    "status = \"prioridade\" if (idade >= 60 or gestante) else \"regular\"\n",
    "print(status)\n",
    "```\n",
    "</details>\n"
   ]
  },
  {
   "cell_type": "markdown",
   "id": "290d216b",
   "metadata": {},
   "source": [
    "\n",
    "## 4. Dicionários (`dict`) <a id=\"dict\"></a>\n",
    "\n",
    "Dicionários armazenam **pares chave→valor**. Acesso é feito via `meu_dict[chave]`. Úteis para mapear rótulos a contagens, códigos a descrições, etc.\n"
   ]
  },
  {
   "cell_type": "code",
   "execution_count": 21,
   "id": "2b780131",
   "metadata": {},
   "outputs": [
    {
     "name": "stdout",
     "output_type": "stream",
     "text": [
      "Introdução a Python\n"
     ]
    },
    {
     "data": {
      "text/plain": [
       "{'nome': 'Introdução a Python', 'carga_horaria': 16, 'online': True}"
      ]
     },
     "execution_count": 21,
     "metadata": {},
     "output_type": "execute_result"
    }
   ],
   "source": [
    "# Criação e acesso\n",
    "curso = {\n",
    "    \"nome\": \"Introdução a Python\",\n",
    "    \"carga_horaria\": 12,\n",
    "    \"online\": True\n",
    "}\n",
    "print(curso[\"nome\"])\n",
    "curso[\"carga_horaria\"] = 16  # atualizar valor\n",
    "curso"
   ]
  },
  {
   "cell_type": "code",
   "execution_count": 22,
   "id": "0c5e3013",
   "metadata": {},
   "outputs": [
    {
     "name": "stdout",
     "output_type": "stream",
     "text": [
      "chaves: ['A', 'B']\n",
      "valores: [3, 1]\n",
      "itens: [('A', 3), ('B', 1)]\n",
      "0\n"
     ]
    },
    {
     "data": {
      "text/plain": [
       "{'A': 3, 'B': 1, 'C': 5}"
      ]
     },
     "execution_count": 22,
     "metadata": {},
     "output_type": "execute_result"
    }
   ],
   "source": [
    "# Métodos úteis\n",
    "d = {\"A\": 3, \"B\": 1}\n",
    "print(\"chaves:\", list(d.keys()))\n",
    "print(\"valores:\", list(d.values()))\n",
    "print(\"itens:\", list(d.items()))\n",
    "\n",
    "# get evita KeyError e permite default\n",
    "print(d.get(\"C\", 0))\n",
    "\n",
    "# setdefault: obtém ou cria com valor padrão\n",
    "d.setdefault(\"C\", 0)\n",
    "d[\"C\"] += 5\n",
    "d"
   ]
  },
  {
   "cell_type": "code",
   "execution_count": 23,
   "id": "b36541ea",
   "metadata": {},
   "outputs": [
    {
     "name": "stdout",
     "output_type": "stream",
     "text": [
      "A -> 3\n",
      "B -> 1\n",
      "C -> 5\n"
     ]
    }
   ],
   "source": [
    "# Percorrendo dicionários\n",
    "for k, v in d.items():\n",
    "    print(f\"{k} -> {v}\")"
   ]
  },
  {
   "cell_type": "code",
   "execution_count": 24,
   "id": "f8dba5e8",
   "metadata": {},
   "outputs": [
    {
     "data": {
      "text/plain": [
       "{'ana': 3, 'bruno': 5, 'carla': 5}"
      ]
     },
     "execution_count": 24,
     "metadata": {},
     "output_type": "execute_result"
    }
   ],
   "source": [
    "# Compreensão de dicionários\n",
    "nomes = [\"ana\", \"bruno\", \"carla\"]\n",
    "tam_por_nome = {n: len(n) for n in nomes}\n",
    "tam_por_nome"
   ]
  },
  {
   "cell_type": "markdown",
   "id": "e439aab9",
   "metadata": {},
   "source": [
    "\n",
    "**Exercícios — Dicionários**  \n",
    "1. Construa um dicionário `precos` com três itens (por exemplo, `\"maçã\": 4.5`, etc.). Atualize o preço de um item e adicione outro.  \n",
    "2. Dado `nota_por_aluno = {\"João\": 6.5, \"Maria\": 8.7, \"Lia\": 9.2}`, imprima `\"aprovado\"` para quem tem nota `>= 7` e `\"reprovado\"` caso contrário.  \n",
    "3. Crie um `dict` por compreensão que mapeie números de `1` a `5` para seus **quadrados**.\n"
   ]
  },
  {
   "cell_type": "code",
   "execution_count": 2,
   "id": "2c174dc7",
   "metadata": {},
   "outputs": [
    {
     "name": "stdout",
     "output_type": "stream",
     "text": [
      "Lista de frutas\n",
      "{'maça': 5, 'banana': 3, 'melancia': 10, 'uva': 2}\n",
      "\n",
      "Nota\n",
      "João Reprovado(a)\n",
      "Maria Aprovado(a)\n",
      "Lia Aprovado(a)\n",
      "\n",
      "Compreensão de Dict\n",
      "{1: 1, 2: 4, 3: 9, 4: 16, 5: 25}\n"
     ]
    }
   ],
   "source": [
    "# Espaço para respostas dos Exercícios propostos:\n",
    "\n",
    "#Parte 1\n",
    "print(\"Lista de frutas\")\n",
    "precos = {\n",
    "    \"maça\":4.5,\n",
    "    \"banana\":3,\n",
    "    \"melancia\":10\n",
    "}\n",
    "\n",
    "precos[\"maça\"] = 5\n",
    "precos[\"uva\"] = 2\n",
    "print(precos)\n",
    "\n",
    "#Parte 2\n",
    "print(\"\")\n",
    "print(\"Nota\")\n",
    "nota_por_aluno = {\"João\": 6.5, \"Maria\": 8.7, \"Lia\": 9.2}\n",
    "\n",
    "for k,v in nota_por_aluno.items():\n",
    "    if (v>=7):\n",
    "        print(f\"{k} Aprovado(a)\")\n",
    "    else:\n",
    "        print(f\"{k} Reprovado(a)\")\n",
    "\n",
    "#Parte 3\n",
    "print(\"\")\n",
    "print(\"Compreensão de Dict\")\n",
    "lista = [1,2,3,4,5]\n",
    "lista_quad = {n: n**2 for n in lista}\n",
    "print(lista_quad)\n"
   ]
  },
  {
   "cell_type": "markdown",
   "id": "43f7362f",
   "metadata": {},
   "source": [
    "\n",
    "<details>\n",
    "<summary><strong>Gabarito sugerido</strong></summary>\n",
    "\n",
    "```python\n",
    "precos = {\"maçã\": 4.5, \"banana\": 3.2, \"uva\": 9.9}\n",
    "precos[\"banana\"] = 3.5\n",
    "precos[\"pera\"] = 6.1\n",
    "print(precos)\n",
    "\n",
    "nota_por_aluno = {\"João\": 6.5, \"Maria\": 8.7, \"Lia\": 9.2}\n",
    "for aluno, nota in nota_por_aluno.items():\n",
    "    print(aluno, \"aprovado\" if nota >= 7 else \"reprovado\")\n",
    "\n",
    "quadrados = {n: n**2 for n in range(1, 6)}\n",
    "print(quadrados)\n",
    "```\n",
    "</details>\n"
   ]
  },
  {
   "cell_type": "markdown",
   "id": "74181db2",
   "metadata": {},
   "source": [
    "\n",
    "## 5. Tabelas de frequência com dicionários <a id=\"freq\"></a>\n",
    "\n",
    "Uma **tabela de frequência** conta quantas vezes cada categoria aparece. É comum em análise exploratória.\n"
   ]
  },
  {
   "cell_type": "code",
   "execution_count": 38,
   "id": "88e7c933",
   "metadata": {},
   "outputs": [
    {
     "data": {
      "text/plain": [
       "{'L': 4, '10+': 2, '12+': 3, '16+': 1}"
      ]
     },
     "execution_count": 38,
     "metadata": {},
     "output_type": "execute_result"
    }
   ],
   "source": [
    "# Exemplo: contagem de avaliações etárias de apps (rótulos fictícios)\n",
    "rotulos = [\"L\", \"L\", \"10+\", \"12+\", \"L\", \"16+\", \"12+\", \"12+\", \"10+\", \"L\"]\n",
    "\n",
    "freq = {}\n",
    "for r in rotulos:\n",
    "    if r in freq:\n",
    "        freq[r] += 1\n",
    "    else:\n",
    "        freq[r] = 1\n",
    "\n",
    "freq"
   ]
  },
  {
   "cell_type": "code",
   "execution_count": 39,
   "id": "3d76f4ef",
   "metadata": {},
   "outputs": [
    {
     "data": {
      "text/plain": [
       "({'L': 0.4, '10+': 0.2, '12+': 0.3, '16+': 0.1},\n",
       " {'L': 40.0, '10+': 20.0, '12+': 30.0, '16+': 10.0})"
      ]
     },
     "execution_count": 39,
     "metadata": {},
     "output_type": "execute_result"
    }
   ],
   "source": [
    "# Convertendo para proporções e porcentagens\n",
    "total = sum(freq.values())\n",
    "proporcoes = {}\n",
    "porcentagens = {}\n",
    "\n",
    "for k, v in freq.items():\n",
    "    proporcoes[k] = v / total\n",
    "    porcentagens[k] = proporcoes[k] * 100\n",
    "\n",
    "proporcoes, porcentagens"
   ]
  },
  {
   "cell_type": "markdown",
   "id": "f911ddb7",
   "metadata": {},
   "source": [
    "\n",
    "**Exercícios — Tabelas de frequência**  \n",
    "1. Dada `marcas = [\"A\", \"B\", \"A\", \"C\", \"B\", \"B\", \"D\"]`, construa `freq_marcas`.  \n",
    "2. Gere `freq_normalizada` com proporções e um dicionário `em_pct` com porcentagens.\n"
   ]
  },
  {
   "cell_type": "code",
   "execution_count": 3,
   "id": "fa4ce1b8",
   "metadata": {},
   "outputs": [
    {
     "name": "stdout",
     "output_type": "stream",
     "text": [
      "Contagem de letras\n",
      "{'A': 2, 'B': 3, 'C': 1, 'D': 1}\n",
      "Freq. normalizada\n",
      "{'A': 0.2857142857142857, 'B': 0.42857142857142855, 'C': 0.14285714285714285, 'D': 0.14285714285714285}\n",
      "{'A': 28.57142857142857, 'B': 42.857142857142854, 'C': 14.285714285714285, 'D': 14.285714285714285}\n"
     ]
    }
   ],
   "source": [
    "# Espaço para respostas dos Exercícios propostos:\n",
    "\n",
    "#Parte 1\n",
    "print(\"Contagem de letras\")\n",
    "marcas = [\"A\", \"B\", \"A\", \"C\", \"B\", \"B\", \"D\"]\n",
    "freq = {}\n",
    "for m in marcas:\n",
    "    if m in freq:\n",
    "        freq[m] += 1\n",
    "    else:\n",
    "        freq[m] = 1\n",
    "print(freq)\n",
    "\n",
    "#Parte 2\n",
    "print(\"Freq. normalizada\")\n",
    "total = sum(freq.values())\n",
    "prop = {}\n",
    "em_pct = {}\n",
    "\n",
    "for k, v in freq.items():\n",
    "    prop[k] = v/total\n",
    "    em_pct[k] = prop[k] * 100\n",
    "print(prop)\n",
    "print(em_pct)"
   ]
  },
  {
   "cell_type": "markdown",
   "id": "ded7c9d2",
   "metadata": {},
   "source": [
    "\n",
    "<details>\n",
    "<summary><strong>Gabarito sugerido</strong></summary>\n",
    "\n",
    "```python\n",
    "marcas = [\"A\", \"B\", \"A\", \"C\", \"B\", \"B\", \"D\"]\n",
    "freq_marcas = {}\n",
    "for m in marcas:\n",
    "    freq_marcas[m] = freq_marcas.get(m, 0) + 1\n",
    "print(freq_marcas)\n",
    "\n",
    "total = sum(freq_marcas.values())\n",
    "freq_normalizada = {k: v/total for k, v in freq_marcas.items()}\n",
    "em_pct = {k: v*100 for k, v in freq_normalizada.items()}\n",
    "print(freq_normalizada)\n",
    "print(em_pct)\n",
    "```\n",
    "</details>\n"
   ]
  },
  {
   "cell_type": "markdown",
   "id": "5cd78528",
   "metadata": {},
   "source": [
    "\n",
    "## 6. Trazendo tudo junto: mini-projeto <a id=\"mini\"></a>\n",
    "\n",
    "Vamos analisar uma pequena amostra de apps (fictícia). Objetivos:\n",
    "1. Criar uma **tabela de frequência** das categorias.\n",
    "2. Calcular a **média de avaliação** por categoria.\n",
    "3. Marcar cada app como `\"barato\"`, `\"regular\"` ou `\"caro\"` com base no preço.\n"
   ]
  },
  {
   "cell_type": "code",
   "execution_count": 1,
   "id": "5a63560a",
   "metadata": {},
   "outputs": [
    {
     "name": "stdout",
     "output_type": "stream",
     "text": [
      "Frequência por categoria: {'produtividade': 3, 'foto': 2, 'jogos': 1, 'saúde': 1}\n",
      "\n",
      "Média de avaliação por categoria: {'produtividade': 3.766666666666667, 'foto': 4.35, 'jogos': 4.1, 'saúde': 3.9}\n",
      "\n",
      "Faixa de preço por app: [('Calc Pro', 'barato'), ('FotoMax', 'regular'), ('JogoZ', 'caro'), ('Notas+', 'regular'), ('RadarFit', 'caro'), ('PixelArt', 'barato'), ('WordPro', 'caro')]\n",
      "\n",
      "Recomendação combinada de preço e avaliação:\n"
     ]
    },
    {
     "data": {
      "text/plain": [
       "[('Calc Pro', 'Bastante recomendado'),\n",
       " ('FotoMax', 'Recomendado'),\n",
       " ('JogoZ', 'Recomendado'),\n",
       " ('Notas+', 'Bastante recomendado'),\n",
       " ('RadarFit', 'Pode ser considerado'),\n",
       " ('PixelArt', 'Bastante recomendado'),\n",
       " ('WordPro', 'Evitar')]"
      ]
     },
     "execution_count": 1,
     "metadata": {},
     "output_type": "execute_result"
    }
   ],
   "source": [
    "# Dataset fictício: [nome, categoria, preço, avaliação]\n",
    "apps = [\n",
    "    [\"Calc Pro\", \"produtividade\", 0.0, 4.3],\n",
    "    [\"FotoMax\", \"foto\", 5.9, 4.7],\n",
    "    [\"JogoZ\", \"jogos\", 19.9, 4.1],\n",
    "    [\"Notas+\", \"produtividade\", 2.5, 4.5],\n",
    "    [\"RadarFit\", \"saúde\", 12.0, 3.9],\n",
    "    [\"PixelArt\", \"foto\", 0.0, 4.0],\n",
    "    [\"WordPro\", \"produtividade\", 30.0, 2.5],\n",
    "]\n",
    "\n",
    "# 1) Frequência de categorias\n",
    "freq_cat = {}\n",
    "for _, cat, _, _ in apps:\n",
    "    freq_cat[cat] = freq_cat.get(cat, 0) + 1\n",
    "\n",
    "# 2) Média de avaliação por categoria\n",
    "soma_por_cat = {}\n",
    "cont_por_cat = {}\n",
    "for _, cat, _, aval in apps:\n",
    "    soma_por_cat[cat] = soma_por_cat.get(cat, 0.0) + aval\n",
    "    cont_por_cat[cat] = cont_por_cat.get(cat, 0) + 1\n",
    "media_por_cat = {cat: soma_por_cat[cat] / cont_por_cat[cat] for cat in soma_por_cat}\n",
    "\n",
    "# 3) Faixa de preço por regra simples\n",
    "faixas = []\n",
    "for nome, _, preco, _ in apps:\n",
    "    if preco == 0.0:\n",
    "        rot = \"barato\"\n",
    "    elif preco < 10:\n",
    "        rot = \"regular\"\n",
    "    else:\n",
    "        rot = \"caro\"\n",
    "    faixas.append((nome, rot))\n",
    "\n",
    "# 4) Recomendação usando preço e avaliação combinados\n",
    "faixas2 = []\n",
    "for nome, _, preco, avaliacao in apps:\n",
    "    if (preco <= 5) and (avaliacao >= 4):\n",
    "        rot2 = \"Bastante recomendado\"\n",
    "    elif (5 < preco < 10) and (avaliacao >= 4):\n",
    "        rot2 = \"Recomendado\"\n",
    "    elif (10 <= preco < 15) and (avaliacao >= 3):\n",
    "        rot2 = \"Pode ser considerado\"\n",
    "    elif (preco >= 15) and (avaliacao < 3):\n",
    "        rot2 = \"Evitar\"\n",
    "    faixas2.append((nome, rot2))\n",
    "\n",
    "print(\"Frequência por categoria:\", freq_cat)\n",
    "print(\"\")\n",
    "print(\"Média de avaliação por categoria:\", media_por_cat)\n",
    "print(\"\")\n",
    "print(\"Faixa de preço por app:\", faixas)\n",
    "print(\"\")\n",
    "print(\"Recomendação combinada de preço e avaliação:\")\n",
    "faixas2\n"
   ]
  },
  {
   "cell_type": "markdown",
   "id": "12c78b27",
   "metadata": {},
   "source": [
    "\n",
    "**Desafio extra:** Refaça o item (3) usando **condição composta** para três faixas à sua escolha e documente a regra em comentários.\n"
   ]
  },
  {
   "cell_type": "markdown",
   "id": "acca7832",
   "metadata": {},
   "source": [
    "## Dicas e Boas Práticas <a id=\"dicas\"></a>\n",
    "\n",
    "**Como evitar erros comuns com `for`?**  \n",
    "- Cuidado com a **indentação**. Tudo que pertence ao laço deve estar recuado igualmente.\n",
    "- Use `enumerate()` quando precisar de índice.\n",
    "- Prefira nomes descritivos para variáveis.\n",
    "\n",
    "**`==` vs `is`**  \n",
    "- `==` compara **valor**; `is` compara **identidade do objeto** (mesmo endereço na memória). Use `==` para valores e `is` apenas para checar `None` ou identidade.\n",
    "\n",
    "**Quando usar dicionários?**  \n",
    "- Quando você precisa mapear **rótulos** (chaves) a **valores**, recuperar contagens rapidamente, ou agregar métricas por categorias.\n",
    "\n",
    "**Dica geral:** comece com soluções simples e claras; otimize apenas se houver necessidade comprovada.\n"
   ]
  }
 ],
 "metadata": {
  "kernelspec": {
   "display_name": "Python 3",
   "language": "python",
   "name": "python3"
  },
  "language_info": {
   "codemirror_mode": {
    "name": "ipython",
    "version": 3
   },
   "file_extension": ".py",
   "mimetype": "text/x-python",
   "name": "python",
   "nbconvert_exporter": "python",
   "pygments_lexer": "ipython3",
   "version": "3.13.7"
  }
 },
 "nbformat": 4,
 "nbformat_minor": 5
}
