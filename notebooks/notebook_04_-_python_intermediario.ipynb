{
 "cells": [
  {
   "cell_type": "markdown",
   "id": "1bd33de2",
   "metadata": {},
   "source": [
    "# **CIÊNCIA DE DADOS** - DCA3501\n",
    "\n",
    "UNIVERSIDADE FEDERAL DO RIO GRANDE DO NORTE, NATAL/RN\n",
    "\n",
    "DEPARTAMENTO DE ENGENHARIA DE COMPUTAÇÃO E AUTOMAÇÃO\n",
    "\n",
    "(C) 2025-2026 CARLOS M D VIEGAS\n",
    "\n",
    "https://github.com/cmdviegas"
   ]
  },
  {
   "cell_type": "markdown",
   "id": "9c6738ad",
   "metadata": {},
   "source": [
    "\n",
    "# IV. Python Intermediário para Ciência de Dados\n",
    "\n",
    "Este notebook apresenta algumas operações aplicadas à Ciência de Dados, tais como slicing de sequências, tuplas, conjuntos e operações, funções de ordem, erros e exceções, manipulação de arquivos e datas.\n",
    "> **Como usar:** Execute célula por célula (Shift+Enter). Se algo falhar, releia a explicação e ajuste o código."
   ]
  },
  {
   "cell_type": "markdown",
   "id": "e9c01839",
   "metadata": {},
   "source": [
    "\n",
    "## Pré-requisitos\n",
    "- Você deve saber executar células em Jupyter;  \n",
    "- Conhecer tipos básicos (`int`, `float`, `str`) e estruturas (`list`, `dict`);  \n",
    "- Estar confortável com `for` e condicionais.\n"
   ]
  },
  {
   "cell_type": "markdown",
   "id": "16a3885d",
   "metadata": {},
   "source": [
    "\n",
    "## Sumário\n",
    "1. [Slicing avançado em sequências](#sec1)\n",
    "2. [Tuplas e desempacotamento](#sec2)\n",
    "3. [Conjuntos](#sec3)\n",
    "4. [Comprehensions e condições](#sec4)\n",
    "5. [Funções de ordem superior e utilitários úteis](#sec5)\n",
    "6. [Erros e exceções](#sec6)\n",
    "7. [Arquivos e CSV (sem pandas)](#sec7)\n",
    "8. [Datas e horas com `datetime`](#sec8)\n",
    "9. [Expressões regulares com `re`](#sec9)\n",
    "10. [Mini-projeto: análise de vendas em CSV (Python puro)](#sec10)"
   ]
  },
  {
   "cell_type": "markdown",
   "id": "c6f579fe",
   "metadata": {},
   "source": [
    "## 1. Slicing avançado em sequências <a id=\"sec1\"></a>\n",
    "\n",
    "O slicing permite pegar **fatias** de sequências (`list`, `str`, etc.). Sintaxe geral: `seq[inicio:fim:passo]`.\n"
   ]
  },
  {
   "cell_type": "code",
   "execution_count": null,
   "id": "9bbeac08",
   "metadata": {},
   "outputs": [],
   "source": [
    "s = list(range(10))  # 0..9\n",
    "print(s[:])        # cópia superficial\n",
    "print(s[2:7])      # índices 2..6\n",
    "print(s[::2])      # de 2 em 2\n",
    "print(s[1:8:3])    # do 1 ao 7 pulando 3\n",
    "print(s[::-1])     # invertido"
   ]
  },
  {
   "cell_type": "markdown",
   "id": "e1269bb1",
   "metadata": {},
   "source": [
    "\n",
    "**Exercícios — Slicing**  \n",
    "1. Dada `t = \"ciência-de-dados\"`, obtenha: (a) os 7 primeiros caracteres; (b) os 5 últimos; (c) a string invertida.  \n",
    "2. Em `nums = list(range(1, 21))`, selecione apenas os múltiplos de 3 com slicing e *comprehension*.\n"
   ]
  },
  {
   "cell_type": "code",
   "execution_count": 15,
   "id": "dfff90cf",
   "metadata": {},
   "outputs": [
    {
     "name": "stdout",
     "output_type": "stream",
     "text": [
      "ciência\n",
      "dados\n",
      "sodad-ed-aicnêic\n",
      "Múltiplos de 3 (com slicing): [3, 6, 9, 12, 15, 18]\n",
      "Múltiplos de 3 (com comprehension): [3, 6, 9, 12, 15, 18]\n"
     ]
    }
   ],
   "source": [
    "# Espaço para respostas dos Exercícios propostos:\n",
    "# Parte 1\n",
    "t = \"ciência-de-dados\"\n",
    "print(t[:7]) \n",
    "print(t[-5:])\n",
    "print(t[::-1])\n",
    "\n",
    "#Parte 2\n",
    "nums = list(range(1, 21))\n",
    "\n",
    "# com slicing\n",
    "multiplos_com_slicing = nums[2::3]\n",
    "print(f\"Múltiplos de 3 (com slicing): {multiplos_com_slicing}\")\n",
    "\n",
    "# com comprehension\n",
    "multiplos_com_comprehension = [num for num in nums if num % 3 == 0]\n",
    "print(f\"Múltiplos de 3 (com comprehension): {multiplos_com_comprehension}\")"
   ]
  },
  {
   "cell_type": "markdown",
   "id": "6017540c",
   "metadata": {},
   "source": [
    "\n",
    "<details>\n",
    "<summary><strong>Gabarito sugerido</strong></summary>\n",
    "\n",
    "```python\n",
    "t = \"ciência-de-dados\"\n",
    "t[:7], t[-5:], t[::-1]\n",
    "\n",
    "nums = list(range(1, 21))\n",
    "[n for n in nums if n % 3 == 0]\n",
    "```\n",
    "</details>\n"
   ]
  },
  {
   "cell_type": "markdown",
   "id": "7f46bf52",
   "metadata": {},
   "source": [
    "\n",
    "## 2. Tuplas e desempacotamento <a id=\"sec2\"></a>\n",
    "\n",
    "Tuplas são **imutáveis** e úteis para agrupar valores. O desempacotamento facilita atribuir múltiplas variáveis de uma vez.\n"
   ]
  },
  {
   "cell_type": "code",
   "execution_count": 16,
   "id": "0528c915",
   "metadata": {},
   "outputs": [
    {
     "name": "stdout",
     "output_type": "stream",
     "text": [
      "3 4\n"
     ]
    },
    {
     "data": {
      "text/plain": [
       "(20, 10)"
      ]
     },
     "execution_count": 16,
     "metadata": {},
     "output_type": "execute_result"
    }
   ],
   "source": [
    "ponto = (3, 4)\n",
    "x, y = ponto\n",
    "print(x, y)\n",
    "\n",
    "# troca de valores\n",
    "a, b = 10, 20\n",
    "a, b = b, a\n",
    "a, b"
   ]
  },
  {
   "cell_type": "code",
   "execution_count": 17,
   "id": "c8aebbd8",
   "metadata": {},
   "outputs": [
    {
     "data": {
      "text/plain": [
       "(1, [2, 3, 4], 5)"
      ]
     },
     "execution_count": 17,
     "metadata": {},
     "output_type": "execute_result"
    }
   ],
   "source": [
    "# Desempacotamento com 'starred'\n",
    "a, *meio, z = [1, 2, 3, 4, 5]\n",
    "a, meio, z"
   ]
  },
  {
   "cell_type": "markdown",
   "id": "680bfca7",
   "metadata": {},
   "source": [
    "\n",
    "**Exercício — Tuplas**  \n",
    "Receba uma lista de pares `(nome, nota)` e crie duas listas: `nomes` e `notas` usando desempacotamento e *comprehension*.\n"
   ]
  },
  {
   "cell_type": "code",
   "execution_count": 20,
   "id": "a964c3cf",
   "metadata": {},
   "outputs": [
    {
     "name": "stdout",
     "output_type": "stream",
     "text": [
      "Nomes: ['Ana', 'Bruno', 'Carlos', 'Diana']\n",
      "Notas: [8.5, 7.0, 9.0, 6.5]\n"
     ]
    }
   ],
   "source": [
    "# Espaço para respostas dos Exercícios propostos:\n",
    "dados = [(\"Ana\", 8.5), (\"Bruno\", 7.0), (\"Carlos\", 9.0), (\"Diana\", 6.5)]\n",
    "\n",
    "nomes = [nome for nome, _ in dados]\n",
    "notas = [nota for _, nota in dados]\n",
    "print(\"Nomes:\", nomes)\n",
    "print(\"Notas:\", notas)"
   ]
  },
  {
   "cell_type": "markdown",
   "id": "8a7088d8",
   "metadata": {},
   "source": [
    "\n",
    "<details>\n",
    "<summary><strong>Gabarito sugerido</strong></summary>\n",
    "\n",
    "```python\n",
    "dados = [(\"Ana\", 8.5), (\"Lia\", 7.2), (\"Bruno\", 9.1)]\n",
    "nomes = [n for (n, _) in dados]\n",
    "notas = [x for (_, x) in dados]\n",
    "nomes, notas\n",
    "```\n",
    "</details>\n"
   ]
  },
  {
   "cell_type": "markdown",
   "id": "2a7c321a",
   "metadata": {},
   "source": [
    "\n",
    "## 3. Conjuntos (*sets*) <a id=\"sec3\"></a>\n",
    "\n",
    "`set` armazena elementos **únicos** e suporta operações de conjunto.\n"
   ]
  },
  {
   "cell_type": "code",
   "execution_count": null,
   "id": "a2b12851",
   "metadata": {},
   "outputs": [],
   "source": [
    "a = {1, 2, 3, 3, 2}\n",
    "b = {3, 4, 5}\n",
    "print(a)                 # {1,2,3}\n",
    "print(a | b)             # união\n",
    "print(a & b)             # interseção\n",
    "print(a - b)             # diferença\n",
    "print(a ^ b)             # diferença simétrica"
   ]
  },
  {
   "cell_type": "markdown",
   "id": "75c60366",
   "metadata": {},
   "source": [
    "\n",
    "**Exercício — Sets**  \n",
    "Dada a lista `valores = [1,2,2,3,4,4,5]`, remova duplicatas e conte quantos únicos existem.\n"
   ]
  },
  {
   "cell_type": "code",
   "execution_count": 21,
   "id": "229a9c2f",
   "metadata": {},
   "outputs": [
    {
     "name": "stdout",
     "output_type": "stream",
     "text": [
      "Valores únicos: {1, 2, 3, 4, 5}\n"
     ]
    }
   ],
   "source": [
    "# Espaço para respostas dos Exercícios propostos:\n",
    "valores = [1,2,2,3,4,4,5]\n",
    "\n",
    "valores_unicos = set(valores)\n",
    "print(\"Valores únicos:\", valores_unicos)"
   ]
  },
  {
   "cell_type": "markdown",
   "id": "150e3bda",
   "metadata": {},
   "source": [
    "\n",
    "<details>\n",
    "<summary><strong>Gabarito sugerido</strong></summary>\n",
    "\n",
    "```python\n",
    "valores = [1,2,2,3,4,4,5]\n",
    "unicos = set(valores)\n",
    "len(unicos), unicos\n",
    "```\n",
    "</details>\n"
   ]
  },
  {
   "cell_type": "markdown",
   "id": "774822b9",
   "metadata": {},
   "source": [
    "\n",
    "## 4. Comprehensions (lista, dicionário, conjunto) e condições <a id=\"sec4\"></a>\n",
    "\n",
    "Comprehensions tornam o código conciso e expressivo.\n"
   ]
  },
  {
   "cell_type": "code",
   "execution_count": 22,
   "id": "9bb13fcd",
   "metadata": {},
   "outputs": [
    {
     "data": {
      "text/plain": [
       "[0, 4, 16, 36, 64, 100]"
      ]
     },
     "execution_count": 22,
     "metadata": {},
     "output_type": "execute_result"
    }
   ],
   "source": [
    "# Lista: quadrados pares de 0..10\n",
    "quadrados_pares = [n*n for n in range(11) if n % 2 == 0]\n",
    "quadrados_pares"
   ]
  },
  {
   "cell_type": "code",
   "execution_count": 23,
   "id": "f68f798a",
   "metadata": {},
   "outputs": [
    {
     "data": {
      "text/plain": [
       "{'dados': 5, 'python': 6, 'ciência': 7}"
      ]
     },
     "execution_count": 23,
     "metadata": {},
     "output_type": "execute_result"
    }
   ],
   "source": [
    "# Dicionário: palavra -> tamanho\n",
    "palavras = [\"dados\", \"python\", \"ciência\"]\n",
    "tam = {p: len(p) for p in palavras}\n",
    "tam"
   ]
  },
  {
   "cell_type": "code",
   "execution_count": 24,
   "id": "409b4d0b",
   "metadata": {},
   "outputs": [
    {
     "data": {
      "text/plain": [
       "{'a', 'd', 'e', 'n', 'o', 'ã', 'é'}"
      ]
     },
     "execution_count": 24,
     "metadata": {},
     "output_type": "execute_result"
    }
   ],
   "source": [
    "# Conjunto: letras únicas (ignorando espaços)\n",
    "frase = \"dado e dado não é dado\"  # contém 'não é'\n",
    "letras = {ch for ch in frase if ch != \" \"}\n",
    "letras"
   ]
  },
  {
   "cell_type": "markdown",
   "id": "1cd8329a",
   "metadata": {},
   "source": [
    "\n",
    "**Exercício — Comprehensions**  \n",
    "Crie uma lista com os **cubes** de 1..20 apenas para números múltiplos de 4 e um dicionário `{n: n%3}` para `n` em 0..9.\n"
   ]
  },
  {
   "cell_type": "code",
   "execution_count": 30,
   "id": "8b908ae9",
   "metadata": {},
   "outputs": [
    {
     "name": "stdout",
     "output_type": "stream",
     "text": [
      "Cubos de números múltiplos de 4: [0, 64, 512, 1728, 4096]\n",
      "Dicionário: {0: 0, 1: 1, 2: 2, 3: 0, 4: 1, 5: 2, 6: 0, 7: 1, 8: 2}\n"
     ]
    }
   ],
   "source": [
    "# Espaço para respostas dos Exercícios propostos:\n",
    "# Parte 1\n",
    "cubos = [n**3 for n in range(20) if n%4==0]\n",
    "print(\"Cubos de números múltiplos de 4:\", cubos)\n",
    "\n",
    "# Parte 2\n",
    "dicionario = {n: n%3 for n in range(9)}\n",
    "print(\"Dicionário:\", dicionario)"
   ]
  },
  {
   "cell_type": "markdown",
   "id": "97fcddb0",
   "metadata": {},
   "source": [
    "\n",
    "<details>\n",
    "<summary><strong>Gabarito sugerido</strong></summary>\n",
    "\n",
    "```python\n",
    "cubes = [n**3 for n in range(1, 21) if n % 4 == 0]\n",
    "restos = {n: n % 3 for n in range(10)}\n",
    "cubes, restos\n",
    "```\n",
    "</details>\n"
   ]
  },
  {
   "cell_type": "markdown",
   "id": "63aa7c5e",
   "metadata": {},
   "source": [
    "\n",
    "## 5. Funções de ordem superior e utilitários úteis <a id=\"sec5\"></a>\n",
    "\n",
    "- `map(func, iter)`: aplica `func` a cada item;\n",
    "- `filter(func, iter)`: seleciona itens onde `func(item)` é verdadeiro;\n",
    "- `sorted(iter, key=...)`: ordena com função-chave;\n",
    "- `zip`, `enumerate`: iteração conveniente;\n",
    "- `any`, `all`: reduções booleanas;\n",
    "- **Geradores**: memória eficiente.\n"
   ]
  },
  {
   "cell_type": "code",
   "execution_count": 31,
   "id": "e60f5717",
   "metadata": {},
   "outputs": [
    {
     "data": {
      "text/plain": [
       "([10, 4, 14, 2, 0, -6], [5, 2, 7, 1], [0, 1, 2, -3, 5, 7])"
      ]
     },
     "execution_count": 31,
     "metadata": {},
     "output_type": "execute_result"
    }
   ],
   "source": [
    "# map, filter, sorted\n",
    "nums = [5, 2, 7, 1, 0, -3]\n",
    "dobrados = list(map(lambda x: x*2, nums))\n",
    "positivos = list(filter(lambda x: x > 0, nums))\n",
    "ordenados_por_abs = sorted(nums, key=abs)\n",
    "dobrados, positivos, ordenados_por_abs"
   ]
  },
  {
   "cell_type": "code",
   "execution_count": 32,
   "id": "9b3ea68d",
   "metadata": {},
   "outputs": [
    {
     "name": "stdout",
     "output_type": "stream",
     "text": [
      "1 Ana 8.7\n",
      "2 Bruno 6.5\n",
      "3 Lia 9.0\n"
     ]
    }
   ],
   "source": [
    "# zip e enumerate\n",
    "alunos = [\"Ana\", \"Bruno\", \"Lia\"]\n",
    "notas = [8.7, 6.5, 9.0]\n",
    "for i, (nome, nota) in enumerate(zip(alunos, notas), start=1):\n",
    "    print(i, nome, nota)"
   ]
  },
  {
   "cell_type": "code",
   "execution_count": 33,
   "id": "92575a8c",
   "metadata": {},
   "outputs": [
    {
     "data": {
      "text/plain": [
       "(True, True)"
      ]
     },
     "execution_count": 33,
     "metadata": {},
     "output_type": "execute_result"
    }
   ],
   "source": [
    "# any / all, geradores\n",
    "tem_negativo = any(x < 0 for x in nums)\n",
    "todos_inteiros = all(isinstance(x, int) for x in nums)\n",
    "tem_negativo, todos_inteiros"
   ]
  },
  {
   "cell_type": "markdown",
   "id": "2881d2b6",
   "metadata": {},
   "source": [
    "\n",
    "**Exercícios — Ordem superior**  \n",
    "1. Ordene `palavras = [\"maçã\", \"banana\", \"abacaxi\", \"uva\"]` por **tamanho** (crescente).  \n",
    "2. Use `filter` para pegar apenas itens com 4 letras ou mais.  \n",
    "3. Verifique com `all` se todos os preços em `[9.9, 0, 3.5]` são **não negativos**.\n"
   ]
  },
  {
   "cell_type": "code",
   "execution_count": 42,
   "id": "59746a15",
   "metadata": {},
   "outputs": [
    {
     "name": "stdout",
     "output_type": "stream",
     "text": [
      "Palavras Ordenadas:  ['uva', 'maçã', 'banana', 'abacaxi']\n",
      "Palavras Filtradas:  ['maçã', 'banana', 'abacaxi']\n",
      "Todos são positivos?  False\n"
     ]
    }
   ],
   "source": [
    "# Espaço para respostas dos Exercícios propostos:\n",
    "palavras = [\"maçã\", \"banana\", \"abacaxi\", \"uva\"]\n",
    "# Parte 1\n",
    "palavras_ordenadas = sorted(palavras, reverse=True)\n",
    "print(\"Palavras Ordenadas: \", palavras_ordenadas)\n",
    "\n",
    "# Parte 2\n",
    "palavras_filtradas = list(filter(lambda p:len(p)>3, palavras))\n",
    "print(\"Palavras Filtradas: \", palavras_filtradas)\n",
    "\n",
    "# Parte 3\n",
    "nums = [9.9, 0, 3.5]\n",
    "todos_pos = all(n > 0 for n in nums)\n",
    "print(\"Todos são positivos? \", todos_pos)"
   ]
  },
  {
   "cell_type": "markdown",
   "id": "b257935b",
   "metadata": {},
   "source": [
    "\n",
    "<details>\n",
    "<summary><strong>Gabarito sugerido</strong></summary>\n",
    "\n",
    "```python\n",
    "palavras = [\"maçã\", \"banana\", \"abacaxi\", \"uva\"]\n",
    "ordenadas = sorted(palavras, key=len)\n",
    "filtradas = list(filter(lambda p: len(p) >= 4, palavras))\n",
    "precos = [9.9, 0, 3.5]\n",
    "todos_ok = all(p >= 0 for p in precos)\n",
    "ordenadas, filtradas, todos_ok\n",
    "```\n",
    "</details>\n"
   ]
  },
  {
   "cell_type": "markdown",
   "id": "6c2e178c",
   "metadata": {},
   "source": [
    "\n",
    "## 6. Erros e exceções <a id=\"sec6\"></a>\n",
    "\n",
    "Use `try`/`except` para tratar erros previstos. `else` roda se **não** ocorreu exceção; `finally` roda sempre.\n"
   ]
  },
  {
   "cell_type": "code",
   "execution_count": 43,
   "id": "3c67e0b0",
   "metadata": {},
   "outputs": [
    {
     "data": {
      "text/plain": [
       "(4.0, inf)"
      ]
     },
     "execution_count": 43,
     "metadata": {},
     "output_type": "execute_result"
    }
   ],
   "source": [
    "def divide(a, b):\n",
    "    try:\n",
    "        r = a / b\n",
    "    except ZeroDivisionError:\n",
    "        return float(\"inf\")\n",
    "    else:\n",
    "        return r\n",
    "    finally:\n",
    "        pass  # útil para fechar recursos\n",
    "divide(8, 2), divide(5, 0)"
   ]
  },
  {
   "cell_type": "code",
   "execution_count": 45,
   "id": "16dd1d6d",
   "metadata": {},
   "outputs": [
    {
     "name": "stdout",
     "output_type": "stream",
     "text": [
      "Erro: Parâmetros inválidos.\n"
     ]
    }
   ],
   "source": [
    "# Lançando exceções e criando uma personalizada\n",
    "class PrecoInvalidoError(Exception):\n",
    "    pass\n",
    "\n",
    "def aplicar_desconto(preco, taxa):\n",
    "    if preco < 0 or not (0 <= taxa <= 1):\n",
    "        raise PrecoInvalidoError(\"Parâmetros inválidos.\")\n",
    "    return preco * (1 - taxa)\n",
    "\n",
    "try:\n",
    "    aplicar_desconto(-10, 0.1)\n",
    "except PrecoInvalidoError as e:\n",
    "    print(\"Erro:\", e)"
   ]
  },
  {
   "cell_type": "markdown",
   "id": "5b19aa2f",
   "metadata": {},
   "source": [
    "\n",
    "**Exercício — Exceções**  \n",
    "Implemente `to_float(s)` que retorna `float(s)` e, se falhar, retorna `None` **sem** interromper o programa.\n"
   ]
  },
  {
   "cell_type": "code",
   "execution_count": 46,
   "id": "1865a331",
   "metadata": {},
   "outputs": [
    {
     "data": {
      "text/plain": [
       "(3.14, None, 0.1)"
      ]
     },
     "execution_count": 46,
     "metadata": {},
     "output_type": "execute_result"
    }
   ],
   "source": [
    "# Espaço para respostas dos Exercícios propostos:\n",
    "def to_float(s):\n",
    "    try:\n",
    "        return float(s)\n",
    "    except ValueError:\n",
    "        return None\n",
    "to_float(\"3.14\"), to_float(\"abc\"), to_float(\"10e-2\")"
   ]
  },
  {
   "cell_type": "markdown",
   "id": "63ed8618",
   "metadata": {},
   "source": [
    "\n",
    "<details>\n",
    "<summary><strong>Gabarito sugerido</strong></summary>\n",
    "\n",
    "```python\n",
    "def to_float(s):\n",
    "    try:\n",
    "        return float(s)\n",
    "    except (TypeError, ValueError):\n",
    "        return None\n",
    "```\n",
    "</details>\n"
   ]
  },
  {
   "cell_type": "markdown",
   "id": "a4d952b2",
   "metadata": {},
   "source": [
    "\n",
    "## 7. Arquivos e CSV (sem pandas) <a id=\"sec7\"></a>\n",
    "\n",
    "Use o gerenciador de contexto `with` para abrir/fechar arquivos automaticamente. Para CSV, use o módulo padrão `csv`.\n"
   ]
  },
  {
   "cell_type": "code",
   "execution_count": null,
   "id": "18136eb9",
   "metadata": {},
   "outputs": [],
   "source": [
    "# Gravando um CSV de exemplo\n",
    "import csv, os\n",
    "caminho = \"/mnt/data/vendas_exemplo.csv\"\n",
    "linhas = [\n",
    "    [\"produto\", \"categoria\", \"preco\"],\n",
    "    [\"Caderno\", \"papelaria\", \"19.90\"],\n",
    "    [\"Caneta\", \"papelaria\", \"3.20\"],\n",
    "    [\"Café\", \"alimentos\", \"7.00\"],\n",
    "    [\"Refri\", \"alimentos\", \"5.50\"],\n",
    "]\n",
    "with open(caminho, \"w\", newline=\"\", encoding=\"utf-8\") as f:\n",
    "    writer = csv.writer(f)\n",
    "    writer.writerows(linhas)\n",
    "os.path.exists(caminho)"
   ]
  },
  {
   "cell_type": "code",
   "execution_count": null,
   "id": "9f7175bf",
   "metadata": {},
   "outputs": [],
   "source": [
    "# Lendo e sumarizando\n",
    "import csv\n",
    "totais = {}\n",
    "with open(caminho, newline=\"\", encoding=\"utf-8\") as f:\n",
    "    reader = csv.DictReader(f)\n",
    "    for row in reader:\n",
    "        cat = row[\"categoria\"].lower()\n",
    "        preco = float(row[\"preco\"])\n",
    "        totais[cat] = totais.get(cat, 0.0) + preco\n",
    "totais"
   ]
  },
  {
   "cell_type": "markdown",
   "id": "d898ebd6",
   "metadata": {},
   "source": [
    "\n",
    "**Exercícios — Arquivos**  \n",
    "1. Crie um CSV com colunas `data, valor` e leia somando `valor` apenas quando `data` começar por `\"2025-\"`.  \n",
    "2. Gere um novo arquivo com os totais por categoria (uma linha por categoria).\n"
   ]
  },
  {
   "cell_type": "code",
   "execution_count": null,
   "id": "929be5ec",
   "metadata": {},
   "outputs": [],
   "source": [
    "# Espaço para respostas dos Exercícios propostos:\n"
   ]
  },
  {
   "cell_type": "markdown",
   "id": "7e74dbcb",
   "metadata": {},
   "source": [
    "\n",
    "<details>\n",
    "<summary><strong>Dica</strong></summary>\n",
    "\n",
    "Use `str.startswith(\"2025-\")` no filtro de data e `csv.DictWriter` para gravar o resultado agregado.\n",
    "</details>\n"
   ]
  },
  {
   "cell_type": "markdown",
   "id": "de0e37db",
   "metadata": {},
   "source": [
    "\n",
    "## 8. Datas e horas com `datetime` <a id=\"sec8\"></a>\n",
    "\n",
    "Conversões comuns: `strptime` (string → data) e `strftime` (data → string). Trabalhe com deltas de tempo usando `timedelta`.\n"
   ]
  },
  {
   "cell_type": "code",
   "execution_count": 50,
   "id": "2744df67",
   "metadata": {},
   "outputs": [
    {
     "data": {
      "text/plain": [
       "('2025-09-01 18:04:54', '2025-08-31 18:04:54')"
      ]
     },
     "execution_count": 50,
     "metadata": {},
     "output_type": "execute_result"
    }
   ],
   "source": [
    "from datetime import datetime, timedelta\n",
    "\n",
    "agora = datetime.now()\n",
    "ontem = agora - timedelta(days=1)\n",
    "fmt = \"%Y-%m-%d %H:%M:%S\"\n",
    "agora.strftime(fmt), ontem.strftime(fmt)"
   ]
  },
  {
   "cell_type": "code",
   "execution_count": 51,
   "id": "f1bdc4ed",
   "metadata": {},
   "outputs": [
    {
     "data": {
      "text/plain": [
       "(datetime.datetime(2025, 8, 19, 9, 30), '19/08/2025 09:30')"
      ]
     },
     "execution_count": 51,
     "metadata": {},
     "output_type": "execute_result"
    }
   ],
   "source": [
    "# Parse e formatação\n",
    "s = \"2025-08-19 09:30:00\"\n",
    "dt = datetime.strptime(s, \"%Y-%m-%d %H:%M:%S\")\n",
    "dt, dt.strftime(\"%d/%m/%Y %H:%M\")"
   ]
  },
  {
   "cell_type": "markdown",
   "id": "f793bbf2",
   "metadata": {},
   "source": [
    "\n",
    "**Exercício — Datetime**  \n",
    "Dada uma lista de strings `[\"2025-08-19\", \"2025-08-01\", \"2025-07-31\"]`, converta para `datetime` e ordene da mais antiga para a mais recente.\n"
   ]
  },
  {
   "cell_type": "code",
   "execution_count": null,
   "id": "a676bbc6",
   "metadata": {},
   "outputs": [
    {
     "name": "stdout",
     "output_type": "stream",
     "text": [
      "Lista ordenada:  ['2025-07-31', '2025-08-01', '2025-08-19']\n"
     ]
    }
   ],
   "source": [
    "datas = [\"2025-08-19\", \"2025-08-01\", \"2025-07-31\"]\n",
    "\n",
    "datas_dt = [datetime.strptime(data, \"%Y-%m-%d\") for data in datas]\n",
    "datas_ordenadas = sorted(datas_dt)\n",
    "\n",
    "# Formatando a lista ordenada de volta para strings para uma exibição mais bonita\n",
    "datas_ordenadas_str = [data.strftime(\"%Y-%m-%d\") for data in datas_ordenadas]\n",
    "\n",
    "print(\"Lista ordenada: \", datas_ordenadas_str)"
   ]
  },
  {
   "cell_type": "markdown",
   "id": "2d91fd9d",
   "metadata": {},
   "source": [
    "\n",
    "<details>\n",
    "<summary><strong>Gabarito sugerido</strong></summary>\n",
    "\n",
    "```python\n",
    "datas = [\"2025-08-19\", \"2025-08-01\", \"2025-07-31\"]\n",
    "dts = [datetime.strptime(d, \"%Y-%m-%d\") for d in datas]\n",
    "sorted(dts)\n",
    "```\n",
    "</details>\n"
   ]
  },
  {
   "cell_type": "markdown",
   "id": "431f30f6",
   "metadata": {},
   "source": [
    "\n",
    "## 9. Expressões regulares com `re` <a id=\"sec9\"></a>\n",
    "\n",
    "Úteis para validar/parsear strings. Ex.: extrair números, validar e-mails.\n",
    "\n",
    "Sintaxe essencial (mini-guia):\n",
    "- Classes: \\d (dígito), \\w (caractere de palavra, inclui acentos), \\s (espaço).\n",
    "- Quantificadores: * (0+), + (1+), ? (0 ou 1), {m,n} (faixa).\n",
    "- Âncoras: ^ (início), $ (fim), \\b (fronteira de palavra).\n",
    "- Grupos: (...) captura; (?:...) não captura; (?P<nome>...) nomeia.\n",
    "- Alternância: A|B (ou).\n",
    "- Ganância: .* pega \"o máximo\"; .*? é preguiçoso (o mínimo)."
   ]
  },
  {
   "cell_type": "code",
   "execution_count": 67,
   "id": "358d36a2",
   "metadata": {},
   "outputs": [
    {
     "name": "stdout",
     "output_type": "stream",
     "text": [
      "['123', '19', '08', '2025', '42']\n",
      "['19/08/2025']\n",
      "AB-42\n"
     ]
    }
   ],
   "source": [
    "import re\n",
    "\n",
    "texto = \"Pedido #123 entregue em 19/08/2025. Código: AB-42.\"\n",
    "nums = re.findall(r\"\\d+\", texto) # retorna todas as sequências numéricas que encontrar como lista de strings\n",
    "datas = re.findall(r\"\\d{2}/\\d{2}/\\d{4}\", texto) # retorna uma lista com cada data encontrada \"(dois dígitos, barra, dois dígitos, barra, quatro dígitos)\"\n",
    "codigo = re.search(r\"[A-Z]{2}-\\d{2}\", texto) # procura a primeira ocorrência do padrão \"duas letras maiúsculas, hífen, dois dígitos\"\n",
    "print(nums)\n",
    "print(datas)\n",
    "print(codigo.group(0))"
   ]
  },
  {
   "cell_type": "markdown",
   "id": "45882aba",
   "metadata": {},
   "source": [
    "\n",
    "**Exercício — Regex**  \n",
    "Dada a string `\"contato: fulano@example.com, suporte: help@empresa.com.br\"`, capture todos os e-mails.\n"
   ]
  },
  {
   "cell_type": "code",
   "execution_count": 72,
   "id": "7e80b00e",
   "metadata": {},
   "outputs": [
    {
     "data": {
      "text/plain": [
       "['fulano@example.com', 'help@empresa.com.br']"
      ]
     },
     "execution_count": 72,
     "metadata": {},
     "output_type": "execute_result"
    }
   ],
   "source": [
    "# Espaço para respostas dos Exercícios propostos:\n",
    "texto = \"contato: fulano@example.com, suporte: help@empresa.com.br\"\n",
    "\n",
    "emails = re.findall(r\"[a-zA-Z0-9._]+@[a-zA-Z0-9._]+\\.[a-zA-Z]{2,}\", texto)\n",
    "emails"
   ]
  },
  {
   "cell_type": "markdown",
   "id": "4c77beeb",
   "metadata": {},
   "source": [
    "\n",
    "<details>\n",
    "<summary><strong>Gabarito sugerido</strong></summary>\n",
    "\n",
    "```python\n",
    "s = \"contato: fulano@example.com, suporte: help@empresa.com.br\"\n",
    "re.findall(r\"[\\w\\.-]+@[\\w\\.-]+\", s)\n",
    "```\n",
    "</details>\n"
   ]
  },
  {
   "cell_type": "markdown",
   "id": "289a76d9",
   "metadata": {},
   "source": [
    "\n",
    "## 10. Mini-projeto: análise de vendas em CSV (Python puro) <a id=\"sec10\"></a>\n",
    "\n",
    "**Objetivo:** Ler um CSV de vendas, **validar** registros, agregar métricas e **classificar** itens por regras simples, sem usar pandas.\n",
    "\n",
    "**Tarefas:**\n",
    "1. Ler CSV com colunas: `data`, `produto`, `categoria`, `preco`.\n",
    "2. **Validar**: descartar preços negativos e datas inválidas.\n",
    "3. Agregar **total por categoria** e **ticket médio** por categoria.\n",
    "4. Listar **top 3** produtos por **preço**.\n",
    "\n",
    "**Desafio extra:** Grave um novo CSV `resumo.csv` com colunas `categoria,total,ticket_medio` e depois leia e imprima ordenado do maior para o menor `total`."
   ]
  },
  {
   "cell_type": "code",
   "execution_count": 18,
   "id": "c361c40e",
   "metadata": {},
   "outputs": [
    {
     "name": "stdout",
     "output_type": "stream",
     "text": [
      "--- Vendas Válidas ---\n",
      "{'data': '2025-08-01', 'produto': 'Caderno', 'categoria': 'papelaria', 'preco': 19.9}\n",
      "{'data': '2025-08-02', 'produto': 'Caneta', 'categoria': 'papelaria', 'preco': 3.2}\n",
      "{'data': '2025-08-03', 'produto': 'Café Expresso', 'categoria': 'alimentos', 'preco': 7.0}\n",
      "{'data': '2025-08-03', 'produto': 'Refri Lata', 'categoria': 'alimentos', 'preco': 5.5}\n",
      "{'data': '2025-08-05', 'produto': 'Mouse', 'categoria': 'eletronicos', 'preco': 79.9}\n",
      "{'data': '2025-08-07', 'produto': 'Teclado', 'categoria': 'eletronicos', 'preco': 119.9}\n",
      "====================\n",
      "\n",
      "--- Resumo por Categoria ---\n",
      "Categoria: papelaria\n",
      "Total Vendido: R$ 23.10\n",
      "Ticket Médio: R$ 11.55\n",
      "\n",
      "Categoria: alimentos\n",
      "Total Vendido: R$ 12.50\n",
      "Ticket Médio: R$ 6.25\n",
      "\n",
      "Categoria: eletronicos\n",
      "Total Vendido: R$ 199.80\n",
      "Ticket Médio: R$ 99.90\n",
      "\n",
      "====================\n",
      "\n",
      "--- Top 3 Produtos Mais Caros ---\n",
      "1. Teclado - R$ 119.90\n",
      "2. Mouse - R$ 79.90\n",
      "3. Caderno - R$ 19.90\n",
      "====================\n",
      "\n",
      "--- resumo.csv ordenado por total ---\n",
      "Categoria, Total, Ticket Médio\n",
      "eletronicos, 199.80, 99.90\n",
      "papelaria, 23.10, 11.55\n",
      "alimentos, 12.50, 6.25\n"
     ]
    }
   ],
   "source": [
    "import csv\n",
    "from datetime import datetime\n",
    "\n",
    "# Cria um CSV de exemplo\n",
    "caminho2 = \"vendas_full.csv\"\n",
    "rows = [\n",
    "    [\"data\",\"produto\",\"categoria\",\"preco\"],\n",
    "    [\"2025-08-01\",\"Caderno\",\"papelaria\",\"19.90\"],\n",
    "    [\"2025-08-02\",\"Caneta\",\"papelaria\",\"3.20\"],\n",
    "    [\"2025-08-03\",\"Café Expresso\",\"alimentos\",\"7.00\"],\n",
    "    [\"2025-08-03\",\"Refri Lata\",\"alimentos\",\"5.50\"],\n",
    "    [\"2025-08-05\",\"Mouse\",\"eletronicos\",\"79.90\"],\n",
    "    [\"2025-08-06\",\"Cabo USB\",\"eletronicos\",\"-1.00\"],   # inválido\n",
    "    [\"2025-13-40\",\"Algo\",\"bug\",\"10.00\"],               # data inválida\n",
    "    [\"2025-08-07\",\"Teclado\",\"eletronicos\",\"119.90\"],\n",
    "]\n",
    "\n",
    "with open(caminho2, \"w\", newline=\"\", encoding=\"utf-8\") as f:\n",
    "    csv.writer(f).writerows(rows)\n",
    "\n",
    "# Complete as funções abaixo conforme os exercícios propostos\n",
    "def ler_validar_vendas(caminho_arquivo):\n",
    "    vendas_validas = []\n",
    "    with open (caminho_arquivo, mode='r', encoding='utf-8') as f:\n",
    "        leitor = csv.reader(f)\n",
    "        next(leitor) # pular o cabeçalho\n",
    "        for linha in leitor:\n",
    "            try:\n",
    "                data_str, produto, categoria, preco_str = linha\n",
    "                preco = float(preco_str)\n",
    "                if preco <=0:\n",
    "                    continue\n",
    "                datetime.strptime(data_str, '%Y-%m-%d')\n",
    "\n",
    "                vendas_validas.append({\n",
    "                    'data': data_str,\n",
    "                    'produto': produto,\n",
    "                    'categoria': categoria,\n",
    "                    'preco': preco\n",
    "                })\n",
    "            except (ValueError, IndexError):\n",
    "                # ignora as linhas que tem o formato incorreto, como data e preço\n",
    "                continue\n",
    "    return vendas_validas\n",
    "\n",
    "def agregar_por_categoria(vendas):\n",
    "    agregado = {}\n",
    "    for venda in vendas:\n",
    "        cat = venda['categoria']\n",
    "        preco = venda['preco']\n",
    "        if cat not in agregado:\n",
    "            agregado[cat] = {'total': 0, 'contador': 0}\n",
    "        agregado[cat]['total'] += preco\n",
    "        agregado[cat]['contador'] += 1\n",
    "\n",
    "    for cat, dados in agregado.items():\n",
    "        agregado[cat]['ticket_medio'] = dados['total'] / dados['contador']\n",
    "    \n",
    "    return agregado\n",
    "\n",
    "\n",
    "def produtos_por_preco(vendas, n=3): \n",
    "    vendas_ordenadas = sorted(vendas, key=lambda venda: venda['preco'], reverse=True)\n",
    "    return vendas_ordenadas[:n]\n",
    "\n",
    "\n",
    "# Leitura e validação dos dados do CSV\n",
    "vendas_validas = ler_validar_vendas(caminho2)\n",
    "print(\"--- Vendas Válidas ---\")\n",
    "for venda in vendas_validas:\n",
    "    print(venda)\n",
    "print(\"====================\\n\")\n",
    "\n",
    "# Agregado total e ticket médio\n",
    "resumo_categoria = agregar_por_categoria(vendas_validas)\n",
    "print(\"--- Resumo por Categoria ---\")\n",
    "for categoria, dados in resumo_categoria.items():\n",
    "    print(f\"Categoria: {categoria}\")\n",
    "    print(f\"Total Vendido: R$ {dados['total']:.2f}\")\n",
    "    print(f\"Ticket Médio: R$ {dados['ticket_medio']:.2f}\\n\")\n",
    "print(\"====================\\n\")\n",
    "\n",
    "\n",
    "# Top 3 produtos por preço\n",
    "top_3_produtos = produtos_por_preco(vendas_validas)\n",
    "print(\"--- Top 3 Produtos Mais Caros ---\")\n",
    "for i, produto in enumerate(top_3_produtos, 1):\n",
    "    print(f\"{i}. {produto['produto']} - R$ {produto['preco']:.2f}\")\n",
    "print(\"====================\\n\")\n",
    "\n",
    "# Parte adicional: gravar o resumo em um novo CSV\n",
    "caminho_resumo = \"resumo.csv\"\n",
    "with open(caminho_resumo, \"w\", newline=\"\", encoding=\"utf-8\") as f:\n",
    "    escritor = csv.writer(f)\n",
    "    escritor.writerow([\"categoria\", \"total\", \"ticket_medio\"])\n",
    "    for categoria, dados in resumo_categoria.items():\n",
    "        escritor.writerow([categoria, f\"{dados['total']:.2f}\", f\"{dados['ticket_medio']:.2f}\"])\n",
    "\n",
    "# Mostrando o resumo ordenado no novo arquivo\n",
    "resumo_lido = []\n",
    "with open(caminho_resumo, \"r\", encoding=\"utf-8\") as f:\n",
    "    leitor = csv.reader(f)\n",
    "    next(leitor) # pular cabeçalho\n",
    "    for linha in leitor:\n",
    "        resumo_lido.append(linha)\n",
    "\n",
    "resumo_ordenado = sorted(resumo_lido, key=lambda item: float(item[1]), reverse=True)\n",
    "\n",
    "print(\"--- resumo.csv ordenado por total ---\")\n",
    "print(\"Categoria, Total, Ticket Médio\")\n",
    "for item in resumo_ordenado:\n",
    "    print(\", \".join(item))\n",
    "\n"
   ]
  }
 ],
 "metadata": {
  "kernelspec": {
   "display_name": "Python 3",
   "language": "python",
   "name": "python3"
  },
  "language_info": {
   "codemirror_mode": {
    "name": "ipython",
    "version": 3
   },
   "file_extension": ".py",
   "mimetype": "text/x-python",
   "name": "python",
   "nbconvert_exporter": "python",
   "pygments_lexer": "ipython3",
   "version": "3.13.7"
  }
 },
 "nbformat": 4,
 "nbformat_minor": 5
}
